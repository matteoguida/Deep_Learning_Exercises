{
 "cells": [
  {
   "cell_type": "markdown",
   "metadata": {},
   "source": [
    "#### NEURAL NETWORKS AND DEEP LEARNING <br> PHYSICS OF DATA - Department of Physics and Astronomy A.A. 2019/20 (6 CFU) <br> Student: Matteo Guida\n"
   ]
  },
  {
   "cell_type": "code",
   "execution_count": 1,
   "metadata": {
    "ExecuteTime": {
     "end_time": "2020-12-17T01:28:57.041900Z",
     "start_time": "2020-12-17T01:28:56.773491Z"
    }
   },
   "outputs": [],
   "source": [
    "from FFNN import Network\n",
    "import numpy as np\n",
    "import pickle\n",
    "import matplotlib.pyplot as plt\n",
    "# Import data from .txt files.\n",
    "train_data = np.genfromtxt('training_set.txt', delimiter=',')\n",
    "test_data = np.genfromtxt('test_set.txt', delimiter=',')\n",
    "\n",
    "# Split data in x and y\n",
    "x_train = train_data[:,0]\n",
    "y_train = train_data[:,1]\n",
    "x_test = test_data[:,0]\n",
    "y_test = test_data[:,1]"
   ]
  },
  {
   "cell_type": "code",
   "execution_count": 2,
   "metadata": {
    "ExecuteTime": {
     "end_time": "2020-12-17T01:28:57.307874Z",
     "start_time": "2020-12-17T01:28:57.042897Z"
    }
   },
   "outputs": [
    {
     "data": {
      "image/png": "[encoded data removed]",
      "text/plain": [
       "<Figure size 576x432 with 1 Axes>"
      ]
     },
     "metadata": {
      "needs_background": "light"
     },
     "output_type": "display_data"
    }
   ],
   "source": [
    "fig = plt.figure()\n",
    "plt.plot(x_train, y_train, color='r', ls='', marker='.', label='Train data points')\n",
    "plt.plot(x_test, y_test, color='b', ls='', marker='.', label='Test data points')\n",
    "plt.title('Dataset Visualization',fontsize=20)\n",
    "plt.xlabel(\"x [a.u.]\",fontsize=20)\n",
    "plt.ylabel(\"y [a.u.]\",fontsize=20)\n",
    "plt.tick_params(labelsize=14)\n",
    "fig.set_size_inches(8, 6)\n",
    "plt.legend(fontsize=18)\n",
    "plt.grid(alpha=0.2)\n",
    "plt.tight_layout()\n",
    "plt.savefig('dataset_visualization.png',bbox_inches=\"tight\")\n",
    "plt.show()"
   ]
  },
  {
   "cell_type": "code",
   "execution_count": 3,
   "metadata": {
    "ExecuteTime": {
     "end_time": "2020-12-17T04:39:13.178082Z",
     "start_time": "2020-12-17T01:28:57.308871Z"
    }
   },
   "outputs": [
    {
     "name": "stderr",
     "output_type": "stream",
     "text": [
      "\r",
      "  0%|                                                                                          | 0/320 [00:00<?, ?it/s]"
     ]
    },
    {
     "name": "stdout",
     "output_type": "stream",
     "text": [
      "\n",
      "Performing training 0 out of 320\n",
      "[[ 1 10 10  1]]\n",
      "\n",
      "Configuration: {'neurons_architecture': matrix([[ 1, 10, 10,  1]]), 'activation': 'relu', 'n_epochs': 2000.0, 'lr': 0.01, 'en_decay': True, 'lr_final': 0.001, 'lr_decay': True, 'regularization': 'L1', 'penalty': 0.001, 'grad_clipping': True, 'clip_norm': 20}\n"
     ]
    },
    {
     "name": "stderr",
     "output_type": "stream",
     "text": [
      "C:\\Users\\HP\\anaconda3\\lib\\site-packages\\numpy\\core\\fromnumeric.py:3334: RuntimeWarning: Mean of empty slice.\n",
      "  return _methods._mean(a, axis=axis, dtype=dtype,\n",
      "C:\\Users\\HP\\anaconda3\\lib\\site-packages\\numpy\\core\\_methods.py:161: RuntimeWarning: invalid value encountered in double_scalars\n",
      "  ret = ret.dtype.type(ret / rcount)\n",
      "  0%|▎                                                                               | 1/320 [00:35<3:11:01, 35.93s/it]"
     ]
    },
    {
     "name": "stdout",
     "output_type": "stream",
     "text": [
      "______________________________________________________\n",
      "AVERAGE VALIDATION ERROR 1.147 ± 0.444\n",
      "______________________________________________________\n",
      "\n",
      "Performing training 1 out of 320\n",
      "[[ 1 10 10  1]]\n",
      "\n",
      "Configuration: {'neurons_architecture': matrix([[ 1, 10, 10,  1]]), 'activation': 'relu', 'n_epochs': 2000.0, 'lr': 0.01, 'en_decay': True, 'lr_final': 0.001, 'lr_decay': True, 'regularization': 'L1', 'penalty': 0.0005, 'grad_clipping': True, 'clip_norm': 20}\n"
     ]
    },
    {
     "name": "stderr",
     "output_type": "stream",
     "text": [
      "\r",
      "  1%|▌                                                                               | 2/320 [01:11<3:09:18, 35.72s/it]"
     ]
    },
    {
     "name": "stdout",
     "output_type": "stream",
     "text": [
      "______________________________________________________\n",
      "AVERAGE VALIDATION ERROR 1.254 ± 0.817\n",
      "______________________________________________________\n",
      "\n",
      "Performing training 2 out of 320\n",
      "[[ 1 10 10  1]]\n",
      "\n",
      "Configuration: {'neurons_architecture': matrix([[ 1, 10, 10,  1]]), 'activation': 'relu', 'n_epochs': 2000.0, 'lr': 0.01, 'en_decay': True, 'lr_final': 0.001, 'lr_decay': True, 'regularization': 'L2', 'penalty': 0.001, 'grad_clipping': True, 'clip_norm': 20}\n"
     ]
    },
    {
     "name": "stderr",
     "output_type": "stream",
     "text": [
      "\r",
      "  1%|▊                                                                               | 3/320 [01:41<3:00:04, 34.08s/it]"
     ]
    },
    {
     "name": "stdout",
     "output_type": "stream",
     "text": [
      "______________________________________________________\n",
      "AVERAGE VALIDATION ERROR 1.146 ± 0.702\n",
      "______________________________________________________\n",
      "\n",
      "Performing training 3 out of 320\n",
      "[[ 1 10 10  1]]\n",
      "\n",
      "Configuration: {'neurons_architecture': matrix([[ 1, 10, 10,  1]]), 'activation': 'relu', 'n_epochs': 2000.0, 'lr': 0.01, 'en_decay': True, 'lr_final': 0.001, 'lr_decay': True, 'regularization': 'L2', 'penalty': 0.0005, 'grad_clipping': True, 'clip_norm': 20}\n"
     ]
    },
    {
     "name": "stderr",
     "output_type": "stream",
     "text": [
      "\r",
      "  1%|█                                                                               | 4/320 [02:15<2:59:09, 34.02s/it]"
     ]
    },
    {
     "name": "stdout",
     "output_type": "stream",
     "text": [
      "______________________________________________________\n",
      "AVERAGE VALIDATION ERROR 1.086 ± 0.581\n",
      "______________________________________________________\n",
      "\n",
      "Performing training 4 out of 320\n",
      "[[ 1 10 10  1]]\n",
      "\n",
      "Configuration: {'neurons_architecture': matrix([[ 1, 10, 10,  1]]), 'activation': 'relu', 'n_epochs': 2000.0, 'lr': 0.01, 'en_decay': True, 'lr_final': 0.0001, 'lr_decay': True, 'regularization': 'L1', 'penalty': 0.001, 'grad_clipping': True, 'clip_norm': 20}\n"
     ]
    },
    {
     "name": "stderr",
     "output_type": "stream",
     "text": [
      "\r",
      "  2%|█▎                                                                              | 5/320 [03:00<3:16:27, 37.42s/it]"
     ]
    },
    {
     "name": "stdout",
     "output_type": "stream",
     "text": [
      "______________________________________________________\n",
      "AVERAGE VALIDATION ERROR 1.271 ± 0.58\n",
      "______________________________________________________\n",
      "\n",
      "Performing training 5 out of 320\n",
      "[[ 1 10 10  1]]\n",
      "\n",
      "Configuration: {'neurons_architecture': matrix([[ 1, 10, 10,  1]]), 'activation': 'relu', 'n_epochs': 2000.0, 'lr': 0.01, 'en_decay': True, 'lr_final': 0.0001, 'lr_decay': True, 'regularization': 'L1', 'penalty': 0.0005, 'grad_clipping': True, 'clip_norm': 20}\n"
     ]
    },
    {
     "name": "stderr",
     "output_type": "stream",
     "text": [
      "\r",
      "  2%|█▌                                                                              | 6/320 [03:47<3:30:04, 40.14s/it]"
     ]
    },
    {
     "name": "stdout",
     "output_type": "stream",
     "text": [
      "______________________________________________________\n",
      "AVERAGE VALIDATION ERROR 0.96 ± 0.327\n",
      "______________________________________________________\n",
      "\n",
      "Performing training 6 out of 320\n",
      "[[ 1 10 10  1]]\n",
      "\n",
      "Configuration: {'neurons_architecture': matrix([[ 1, 10, 10,  1]]), 'activation': 'relu', 'n_epochs': 2000.0, 'lr': 0.01, 'en_decay': True, 'lr_final': 0.0001, 'lr_decay': True, 'regularization': 'L2', 'penalty': 0.001, 'grad_clipping': True, 'clip_norm': 20}\n"
     ]
    },
    {
     "name": "stderr",
     "output_type": "stream",
     "text": [
      "\r",
      "  2%|█▊                                                                              | 7/320 [04:20<3:18:43, 38.10s/it]"
     ]
    },
    {
     "name": "stdout",
     "output_type": "stream",
     "text": [
      "______________________________________________________\n",
      "AVERAGE VALIDATION ERROR 1.003 ± 0.297\n",
      "______________________________________________________\n",
      "\n",
      "Performing training 7 out of 320\n",
      "[[ 1 10 10  1]]\n",
      "\n",
      "Configuration: {'neurons_architecture': matrix([[ 1, 10, 10,  1]]), 'activation': 'relu', 'n_epochs': 2000.0, 'lr': 0.01, 'en_decay': True, 'lr_final': 0.0001, 'lr_decay': True, 'regularization': 'L2', 'penalty': 0.0005, 'grad_clipping': True, 'clip_norm': 20}\n"
     ]
    },
    {
     "name": "stderr",
     "output_type": "stream",
     "text": [
      "\r",
      "  2%|██                                                                              | 8/320 [04:42<2:53:24, 33.35s/it]"
     ]
    },
    {
     "name": "stdout",
     "output_type": "stream",
     "text": [
      "______________________________________________________\n",
      "AVERAGE VALIDATION ERROR 0.997 ± 0.335\n",
      "______________________________________________________\n",
      "\n",
      "Performing training 8 out of 320\n",
      "[[ 1 10 10  1]]\n",
      "\n",
      "Configuration: {'neurons_architecture': matrix([[ 1, 10, 10,  1]]), 'activation': 'leaky_relu', 'n_epochs': 2000.0, 'lr': 0.01, 'en_decay': True, 'lr_final': 0.001, 'lr_decay': True, 'regularization': 'L1', 'penalty': 0.001, 'grad_clipping': True, 'clip_norm': 20}\n"
     ]
    },
    {
     "name": "stderr",
     "output_type": "stream",
     "text": [
      "\r",
      "  3%|██▎                                                                             | 9/320 [05:17<2:54:55, 33.75s/it]"
     ]
    },
    {
     "name": "stdout",
     "output_type": "stream",
     "text": [
      "______________________________________________________\n",
      "AVERAGE VALIDATION ERROR 0.85 ± 0.202\n",
      "______________________________________________________\n",
      "\n",
      "Performing training 9 out of 320\n",
      "[[ 1 10 10  1]]\n",
      "\n",
      "Configuration: {'neurons_architecture': matrix([[ 1, 10, 10,  1]]), 'activation': 'leaky_relu', 'n_epochs': 2000.0, 'lr': 0.01, 'en_decay': True, 'lr_final': 0.001, 'lr_decay': True, 'regularization': 'L1', 'penalty': 0.0005, 'grad_clipping': True, 'clip_norm': 20}\n"
     ]
    },
    {
     "name": "stderr",
     "output_type": "stream",
     "text": [
      "\r",
      "  3%|██▍                                                                            | 10/320 [05:43<2:42:40, 31.48s/it]"
     ]
    },
    {
     "name": "stdout",
     "output_type": "stream",
     "text": [
      "______________________________________________________\n",
      "AVERAGE VALIDATION ERROR 1.036 ± 0.448\n",
      "______________________________________________________\n",
      "\n",
      "Performing training 10 out of 320\n",
      "[[ 1 10 10  1]]\n",
      "\n",
      "Configuration: {'neurons_architecture': matrix([[ 1, 10, 10,  1]]), 'activation': 'leaky_relu', 'n_epochs': 2000.0, 'lr': 0.01, 'en_decay': True, 'lr_final': 0.001, 'lr_decay': True, 'regularization': 'L2', 'penalty': 0.001, 'grad_clipping': True, 'clip_norm': 20}\n"
     ]
    },
    {
     "name": "stderr",
     "output_type": "stream",
     "text": [
      "\r",
      "  3%|██▋                                                                            | 11/320 [06:20<2:50:27, 33.10s/it]"
     ]
    },
    {
     "name": "stdout",
     "output_type": "stream",
     "text": [
      "______________________________________________________\n",
      "AVERAGE VALIDATION ERROR 0.853 ± 0.24\n",
      "______________________________________________________\n",
      "\n",
      "Performing training 11 out of 320\n",
      "[[ 1 10 10  1]]\n",
      "\n",
      "Configuration: {'neurons_architecture': matrix([[ 1, 10, 10,  1]]), 'activation': 'leaky_relu', 'n_epochs': 2000.0, 'lr': 0.01, 'en_decay': True, 'lr_final': 0.001, 'lr_decay': True, 'regularization': 'L2', 'penalty': 0.0005, 'grad_clipping': True, 'clip_norm': 20}\n"
     ]
    },
    {
     "name": "stderr",
     "output_type": "stream",
     "text": [
      "\r",
      "  4%|██▉                                                                            | 12/320 [06:44<2:36:25, 30.47s/it]"
     ]
    },
    {
     "name": "stdout",
     "output_type": "stream",
     "text": [
      "______________________________________________________\n",
      "AVERAGE VALIDATION ERROR 1.331 ± 0.637\n",
      "______________________________________________________\n",
      "\n",
      "Performing training 12 out of 320\n",
      "[[ 1 10 10  1]]\n",
      "\n",
      "Configuration: {'neurons_architecture': matrix([[ 1, 10, 10,  1]]), 'activation': 'leaky_relu', 'n_epochs': 2000.0, 'lr': 0.01, 'en_decay': True, 'lr_final': 0.0001, 'lr_decay': True, 'regularization': 'L1', 'penalty': 0.001, 'grad_clipping': True, 'clip_norm': 20}\n"
     ]
    },
    {
     "name": "stderr",
     "output_type": "stream",
     "text": [
      "\r",
      "  4%|███▏                                                                           | 13/320 [07:31<3:00:38, 35.31s/it]"
     ]
    },
    {
     "name": "stdout",
     "output_type": "stream",
     "text": [
      "______________________________________________________\n",
      "AVERAGE VALIDATION ERROR 1.076 ± 0.433\n",
      "______________________________________________________\n",
      "\n",
      "Performing training 13 out of 320\n",
      "[[ 1 10 10  1]]\n",
      "\n",
      "Configuration: {'neurons_architecture': matrix([[ 1, 10, 10,  1]]), 'activation': 'leaky_relu', 'n_epochs': 2000.0, 'lr': 0.01, 'en_decay': True, 'lr_final': 0.0001, 'lr_decay': True, 'regularization': 'L1', 'penalty': 0.0005, 'grad_clipping': True, 'clip_norm': 20}\n"
     ]
    },
    {
     "name": "stderr",
     "output_type": "stream",
     "text": [
      "\r",
      "  4%|███▍                                                                           | 14/320 [08:20<3:20:36, 39.34s/it]"
     ]
    },
    {
     "name": "stdout",
     "output_type": "stream",
     "text": [
      "______________________________________________________\n",
      "AVERAGE VALIDATION ERROR 1.048 ± 0.206\n",
      "______________________________________________________\n",
      "\n",
      "Performing training 14 out of 320\n",
      "[[ 1 10 10  1]]\n",
      "\n",
      "Configuration: {'neurons_architecture': matrix([[ 1, 10, 10,  1]]), 'activation': 'leaky_relu', 'n_epochs': 2000.0, 'lr': 0.01, 'en_decay': True, 'lr_final': 0.0001, 'lr_decay': True, 'regularization': 'L2', 'penalty': 0.001, 'grad_clipping': True, 'clip_norm': 20}\n"
     ]
    },
    {
     "name": "stderr",
     "output_type": "stream",
     "text": [
      "\r",
      "  5%|███▋                                                                           | 15/320 [08:59<3:19:56, 39.33s/it]"
     ]
    },
    {
     "name": "stdout",
     "output_type": "stream",
     "text": [
      "______________________________________________________\n",
      "AVERAGE VALIDATION ERROR 1.047 ± 0.439\n",
      "______________________________________________________\n",
      "\n",
      "Performing training 15 out of 320\n",
      "[[ 1 10 10  1]]\n",
      "\n",
      "Configuration: {'neurons_architecture': matrix([[ 1, 10, 10,  1]]), 'activation': 'leaky_relu', 'n_epochs': 2000.0, 'lr': 0.01, 'en_decay': True, 'lr_final': 0.0001, 'lr_decay': True, 'regularization': 'L2', 'penalty': 0.0005, 'grad_clipping': True, 'clip_norm': 20}\n"
     ]
    },
    {
     "name": "stderr",
     "output_type": "stream",
     "text": [
      "\r",
      "  5%|███▉                                                                           | 16/320 [09:42<3:24:59, 40.46s/it]"
     ]
    },
    {
     "name": "stdout",
     "output_type": "stream",
     "text": [
      "______________________________________________________\n",
      "AVERAGE VALIDATION ERROR 1.008 ± 0.175\n",
      "______________________________________________________\n",
      "\n",
      "Performing training 16 out of 320\n",
      "[[ 1 10 10  1]]\n",
      "\n",
      "Configuration: {'neurons_architecture': matrix([[ 1, 10, 10,  1]]), 'activation': 'elu', 'n_epochs': 2000.0, 'lr': 0.01, 'en_decay': True, 'lr_final': 0.001, 'lr_decay': True, 'regularization': 'L1', 'penalty': 0.001, 'grad_clipping': True, 'clip_norm': 20}\n"
     ]
    },
    {
     "name": "stderr",
     "output_type": "stream",
     "text": [
      "\r",
      "  5%|████▏                                                                          | 17/320 [10:21<3:21:26, 39.89s/it]"
     ]
    },
    {
     "name": "stdout",
     "output_type": "stream",
     "text": [
      "______________________________________________________\n",
      "AVERAGE VALIDATION ERROR 1.264 ± 0.886\n",
      "______________________________________________________\n",
      "\n",
      "Performing training 17 out of 320\n",
      "[[ 1 10 10  1]]\n",
      "\n",
      "Configuration: {'neurons_architecture': matrix([[ 1, 10, 10,  1]]), 'activation': 'elu', 'n_epochs': 2000.0, 'lr': 0.01, 'en_decay': True, 'lr_final': 0.001, 'lr_decay': True, 'regularization': 'L1', 'penalty': 0.0005, 'grad_clipping': True, 'clip_norm': 20}\n"
     ]
    },
    {
     "name": "stderr",
     "output_type": "stream",
     "text": [
      "\r",
      "  6%|████▍                                                                          | 18/320 [10:54<3:11:05, 37.96s/it]"
     ]
    },
    {
     "name": "stdout",
     "output_type": "stream",
     "text": [
      "______________________________________________________\n",
      "AVERAGE VALIDATION ERROR 2.233 ± 1.43\n",
      "______________________________________________________\n",
      "\n",
      "Performing training 18 out of 320\n",
      "[[ 1 10 10  1]]\n",
      "\n",
      "Configuration: {'neurons_architecture': matrix([[ 1, 10, 10,  1]]), 'activation': 'elu', 'n_epochs': 2000.0, 'lr': 0.01, 'en_decay': True, 'lr_final': 0.001, 'lr_decay': True, 'regularization': 'L2', 'penalty': 0.001, 'grad_clipping': True, 'clip_norm': 20}\n"
     ]
    },
    {
     "name": "stderr",
     "output_type": "stream",
     "text": [
      "\r",
      "  6%|████▋                                                                          | 19/320 [11:28<3:04:44, 36.83s/it]"
     ]
    },
    {
     "name": "stdout",
     "output_type": "stream",
     "text": [
      "______________________________________________________\n",
      "AVERAGE VALIDATION ERROR 0.953 ± 0.258\n",
      "______________________________________________________\n",
      "\n",
      "Performing training 19 out of 320\n",
      "[[ 1 10 10  1]]\n",
      "\n",
      "Configuration: {'neurons_architecture': matrix([[ 1, 10, 10,  1]]), 'activation': 'elu', 'n_epochs': 2000.0, 'lr': 0.01, 'en_decay': True, 'lr_final': 0.001, 'lr_decay': True, 'regularization': 'L2', 'penalty': 0.0005, 'grad_clipping': True, 'clip_norm': 20}\n"
     ]
    },
    {
     "name": "stderr",
     "output_type": "stream",
     "text": [
      "\r",
      "  6%|████▉                                                                          | 20/320 [11:57<2:52:41, 34.54s/it]"
     ]
    },
    {
     "name": "stdout",
     "output_type": "stream",
     "text": [
      "______________________________________________________\n",
      "AVERAGE VALIDATION ERROR 1.84 ± 1.259\n",
      "______________________________________________________\n",
      "\n",
      "Performing training 20 out of 320\n",
      "[[ 1 10 10  1]]\n",
      "\n",
      "Configuration: {'neurons_architecture': matrix([[ 1, 10, 10,  1]]), 'activation': 'elu', 'n_epochs': 2000.0, 'lr': 0.01, 'en_decay': True, 'lr_final': 0.0001, 'lr_decay': True, 'regularization': 'L1', 'penalty': 0.001, 'grad_clipping': True, 'clip_norm': 20}\n"
     ]
    },
    {
     "name": "stderr",
     "output_type": "stream",
     "text": [
      "\r",
      "  7%|█████▏                                                                         | 21/320 [12:44<3:09:44, 38.07s/it]"
     ]
    },
    {
     "name": "stdout",
     "output_type": "stream",
     "text": [
      "______________________________________________________\n",
      "AVERAGE VALIDATION ERROR 3.894 ± 5.514\n",
      "______________________________________________________\n",
      "\n",
      "Performing training 21 out of 320\n",
      "[[ 1 10 10  1]]\n",
      "\n",
      "Configuration: {'neurons_architecture': matrix([[ 1, 10, 10,  1]]), 'activation': 'elu', 'n_epochs': 2000.0, 'lr': 0.01, 'en_decay': True, 'lr_final': 0.0001, 'lr_decay': True, 'regularization': 'L1', 'penalty': 0.0005, 'grad_clipping': True, 'clip_norm': 20}\n"
     ]
    },
    {
     "name": "stderr",
     "output_type": "stream",
     "text": [
      "\r",
      "  7%|█████▍                                                                         | 22/320 [13:18<3:03:36, 36.97s/it]"
     ]
    },
    {
     "name": "stdout",
     "output_type": "stream",
     "text": [
      "______________________________________________________\n",
      "AVERAGE VALIDATION ERROR 2.16 ± 0.956\n",
      "______________________________________________________\n",
      "\n",
      "Performing training 22 out of 320\n",
      "[[ 1 10 10  1]]\n",
      "\n",
      "Configuration: {'neurons_architecture': matrix([[ 1, 10, 10,  1]]), 'activation': 'elu', 'n_epochs': 2000.0, 'lr': 0.01, 'en_decay': True, 'lr_final': 0.0001, 'lr_decay': True, 'regularization': 'L2', 'penalty': 0.001, 'grad_clipping': True, 'clip_norm': 20}\n"
     ]
    },
    {
     "name": "stderr",
     "output_type": "stream",
     "text": [
      "\r",
      "  7%|█████▋                                                                         | 23/320 [13:59<3:09:09, 38.21s/it]"
     ]
    },
    {
     "name": "stdout",
     "output_type": "stream",
     "text": [
      "______________________________________________________\n",
      "AVERAGE VALIDATION ERROR 2.145 ± 2.912\n",
      "______________________________________________________\n",
      "\n",
      "Performing training 23 out of 320\n",
      "[[ 1 10 10  1]]\n",
      "\n",
      "Configuration: {'neurons_architecture': matrix([[ 1, 10, 10,  1]]), 'activation': 'elu', 'n_epochs': 2000.0, 'lr': 0.01, 'en_decay': True, 'lr_final': 0.0001, 'lr_decay': True, 'regularization': 'L2', 'penalty': 0.0005, 'grad_clipping': True, 'clip_norm': 20}\n"
     ]
    },
    {
     "name": "stderr",
     "output_type": "stream",
     "text": [
      "\r",
      "  8%|█████▉                                                                         | 24/320 [14:48<3:23:49, 41.32s/it]"
     ]
    },
    {
     "name": "stdout",
     "output_type": "stream",
     "text": [
      "______________________________________________________\n",
      "AVERAGE VALIDATION ERROR 1.67 ± 1.636\n",
      "______________________________________________________\n",
      "\n",
      "Performing training 24 out of 320\n",
      "[[ 1 10 10  1]]\n",
      "\n",
      "Configuration: {'neurons_architecture': matrix([[ 1, 10, 10,  1]]), 'activation': 'swish', 'n_epochs': 2000.0, 'lr': 0.01, 'en_decay': True, 'lr_final': 0.001, 'lr_decay': True, 'regularization': 'L1', 'penalty': 0.001, 'grad_clipping': True, 'clip_norm': 20}\n"
     ]
    },
    {
     "name": "stderr",
     "output_type": "stream",
     "text": [
      "\r",
      "  8%|██████▏                                                                        | 25/320 [15:17<3:05:13, 37.67s/it]"
     ]
    },
    {
     "name": "stdout",
     "output_type": "stream",
     "text": [
      "______________________________________________________\n",
      "AVERAGE VALIDATION ERROR 1.481 ± 0.462\n",
      "______________________________________________________\n",
      "\n",
      "Performing training 25 out of 320\n",
      "[[ 1 10 10  1]]\n",
      "\n",
      "Configuration: {'neurons_architecture': matrix([[ 1, 10, 10,  1]]), 'activation': 'swish', 'n_epochs': 2000.0, 'lr': 0.01, 'en_decay': True, 'lr_final': 0.001, 'lr_decay': True, 'regularization': 'L1', 'penalty': 0.0005, 'grad_clipping': True, 'clip_norm': 20}\n"
     ]
    },
    {
     "name": "stderr",
     "output_type": "stream",
     "text": [
      "\r",
      "  8%|██████▍                                                                        | 26/320 [15:47<2:53:53, 35.49s/it]"
     ]
    },
    {
     "name": "stdout",
     "output_type": "stream",
     "text": [
      "______________________________________________________\n",
      "AVERAGE VALIDATION ERROR 1.352 ± 0.899\n",
      "______________________________________________________\n",
      "\n",
      "Performing training 26 out of 320\n",
      "[[ 1 10 10  1]]\n",
      "\n",
      "Configuration: {'neurons_architecture': matrix([[ 1, 10, 10,  1]]), 'activation': 'swish', 'n_epochs': 2000.0, 'lr': 0.01, 'en_decay': True, 'lr_final': 0.001, 'lr_decay': True, 'regularization': 'L2', 'penalty': 0.001, 'grad_clipping': True, 'clip_norm': 20}\n"
     ]
    },
    {
     "name": "stderr",
     "output_type": "stream",
     "text": [
      "\r",
      "  8%|██████▋                                                                        | 27/320 [16:19<2:47:33, 34.31s/it]"
     ]
    },
    {
     "name": "stdout",
     "output_type": "stream",
     "text": [
      "______________________________________________________\n",
      "AVERAGE VALIDATION ERROR 5.599 ± 9.754\n",
      "______________________________________________________\n",
      "\n",
      "Performing training 27 out of 320\n",
      "[[ 1 10 10  1]]\n",
      "\n",
      "Configuration: {'neurons_architecture': matrix([[ 1, 10, 10,  1]]), 'activation': 'swish', 'n_epochs': 2000.0, 'lr': 0.01, 'en_decay': True, 'lr_final': 0.001, 'lr_decay': True, 'regularization': 'L2', 'penalty': 0.0005, 'grad_clipping': True, 'clip_norm': 20}\n"
     ]
    },
    {
     "name": "stderr",
     "output_type": "stream",
     "text": [
      "\r",
      "  9%|██████▉                                                                        | 28/320 [16:45<2:35:36, 31.97s/it]"
     ]
    },
    {
     "name": "stdout",
     "output_type": "stream",
     "text": [
      "______________________________________________________\n",
      "AVERAGE VALIDATION ERROR 1.238 ± 0.47\n",
      "______________________________________________________\n",
      "\n",
      "Performing training 28 out of 320\n",
      "[[ 1 10 10  1]]\n",
      "\n",
      "Configuration: {'neurons_architecture': matrix([[ 1, 10, 10,  1]]), 'activation': 'swish', 'n_epochs': 2000.0, 'lr': 0.01, 'en_decay': True, 'lr_final': 0.0001, 'lr_decay': True, 'regularization': 'L1', 'penalty': 0.001, 'grad_clipping': True, 'clip_norm': 20}\n"
     ]
    },
    {
     "name": "stderr",
     "output_type": "stream",
     "text": [
      "\r",
      "  9%|███████▏                                                                       | 29/320 [17:20<2:38:21, 32.65s/it]"
     ]
    },
    {
     "name": "stdout",
     "output_type": "stream",
     "text": [
      "______________________________________________________\n",
      "AVERAGE VALIDATION ERROR 0.931 ± 0.314\n",
      "______________________________________________________\n",
      "\n",
      "Performing training 29 out of 320\n",
      "[[ 1 10 10  1]]\n",
      "\n",
      "Configuration: {'neurons_architecture': matrix([[ 1, 10, 10,  1]]), 'activation': 'swish', 'n_epochs': 2000.0, 'lr': 0.01, 'en_decay': True, 'lr_final': 0.0001, 'lr_decay': True, 'regularization': 'L1', 'penalty': 0.0005, 'grad_clipping': True, 'clip_norm': 20}\n"
     ]
    },
    {
     "name": "stderr",
     "output_type": "stream",
     "text": [
      "\r",
      "  9%|███████▍                                                                       | 30/320 [17:55<2:41:39, 33.45s/it]"
     ]
    },
    {
     "name": "stdout",
     "output_type": "stream",
     "text": [
      "______________________________________________________\n",
      "AVERAGE VALIDATION ERROR 1.578 ± 1.216\n",
      "______________________________________________________\n",
      "\n",
      "Performing training 30 out of 320\n",
      "[[ 1 10 10  1]]\n",
      "\n",
      "Configuration: {'neurons_architecture': matrix([[ 1, 10, 10,  1]]), 'activation': 'swish', 'n_epochs': 2000.0, 'lr': 0.01, 'en_decay': True, 'lr_final': 0.0001, 'lr_decay': True, 'regularization': 'L2', 'penalty': 0.001, 'grad_clipping': True, 'clip_norm': 20}\n"
     ]
    },
    {
     "name": "stderr",
     "output_type": "stream",
     "text": [
      "\r",
      " 10%|███████▋                                                                       | 31/320 [18:23<2:33:52, 31.95s/it]"
     ]
    },
    {
     "name": "stdout",
     "output_type": "stream",
     "text": [
      "______________________________________________________\n",
      "AVERAGE VALIDATION ERROR 1.223 ± 0.344\n",
      "______________________________________________________\n",
      "\n",
      "Performing training 31 out of 320\n",
      "[[ 1 10 10  1]]\n",
      "\n",
      "Configuration: {'neurons_architecture': matrix([[ 1, 10, 10,  1]]), 'activation': 'swish', 'n_epochs': 2000.0, 'lr': 0.01, 'en_decay': True, 'lr_final': 0.0001, 'lr_decay': True, 'regularization': 'L2', 'penalty': 0.0005, 'grad_clipping': True, 'clip_norm': 20}\n"
     ]
    },
    {
     "name": "stderr",
     "output_type": "stream",
     "text": [
      "\r",
      " 10%|███████▉                                                                       | 32/320 [19:09<2:52:39, 35.97s/it]"
     ]
    },
    {
     "name": "stdout",
     "output_type": "stream",
     "text": [
      "______________________________________________________\n",
      "AVERAGE VALIDATION ERROR 1.041 ± 0.247\n",
      "______________________________________________________\n",
      "\n",
      "Performing training 32 out of 320\n",
      "[[ 1 15 10  1]]\n",
      "\n",
      "Configuration: {'neurons_architecture': matrix([[ 1, 15, 10,  1]]), 'activation': 'relu', 'n_epochs': 2000.0, 'lr': 0.01, 'en_decay': True, 'lr_final': 0.001, 'lr_decay': True, 'regularization': 'L1', 'penalty': 0.001, 'grad_clipping': True, 'clip_norm': 20}\n"
     ]
    },
    {
     "name": "stderr",
     "output_type": "stream",
     "text": [
      "\r",
      " 10%|████████▏                                                                      | 33/320 [19:28<2:27:53, 30.92s/it]"
     ]
    },
    {
     "name": "stdout",
     "output_type": "stream",
     "text": [
      "______________________________________________________\n",
      "AVERAGE VALIDATION ERROR 1.868 ± 0.484\n",
      "______________________________________________________\n",
      "\n",
      "Performing training 33 out of 320\n",
      "[[ 1 15 10  1]]\n",
      "\n",
      "Configuration: {'neurons_architecture': matrix([[ 1, 15, 10,  1]]), 'activation': 'relu', 'n_epochs': 2000.0, 'lr': 0.01, 'en_decay': True, 'lr_final': 0.001, 'lr_decay': True, 'regularization': 'L1', 'penalty': 0.0005, 'grad_clipping': True, 'clip_norm': 20}\n"
     ]
    },
    {
     "name": "stderr",
     "output_type": "stream",
     "text": [
      "\r",
      " 11%|████████▍                                                                      | 34/320 [19:50<2:14:18, 28.18s/it]"
     ]
    },
    {
     "name": "stdout",
     "output_type": "stream",
     "text": [
      "______________________________________________________\n",
      "AVERAGE VALIDATION ERROR 1.108 ± 0.249\n",
      "______________________________________________________\n",
      "\n",
      "Performing training 34 out of 320\n",
      "[[ 1 15 10  1]]\n",
      "\n",
      "Configuration: {'neurons_architecture': matrix([[ 1, 15, 10,  1]]), 'activation': 'relu', 'n_epochs': 2000.0, 'lr': 0.01, 'en_decay': True, 'lr_final': 0.001, 'lr_decay': True, 'regularization': 'L2', 'penalty': 0.001, 'grad_clipping': True, 'clip_norm': 20}\n"
     ]
    },
    {
     "name": "stderr",
     "output_type": "stream",
     "text": [
      "\r",
      " 11%|████████▋                                                                      | 35/320 [20:09<2:01:14, 25.53s/it]"
     ]
    },
    {
     "name": "stdout",
     "output_type": "stream",
     "text": [
      "______________________________________________________\n",
      "AVERAGE VALIDATION ERROR 1.097 ± 0.278\n",
      "______________________________________________________\n",
      "\n",
      "Performing training 35 out of 320\n",
      "[[ 1 15 10  1]]\n",
      "\n",
      "Configuration: {'neurons_architecture': matrix([[ 1, 15, 10,  1]]), 'activation': 'relu', 'n_epochs': 2000.0, 'lr': 0.01, 'en_decay': True, 'lr_final': 0.001, 'lr_decay': True, 'regularization': 'L2', 'penalty': 0.0005, 'grad_clipping': True, 'clip_norm': 20}\n"
     ]
    },
    {
     "name": "stderr",
     "output_type": "stream",
     "text": [
      "\r",
      " 11%|████████▉                                                                      | 36/320 [20:32<1:56:34, 24.63s/it]"
     ]
    },
    {
     "name": "stdout",
     "output_type": "stream",
     "text": [
      "______________________________________________________\n",
      "AVERAGE VALIDATION ERROR 1.004 ± 0.538\n",
      "______________________________________________________\n",
      "\n",
      "Performing training 36 out of 320\n",
      "[[ 1 15 10  1]]\n",
      "\n",
      "Configuration: {'neurons_architecture': matrix([[ 1, 15, 10,  1]]), 'activation': 'relu', 'n_epochs': 2000.0, 'lr': 0.01, 'en_decay': True, 'lr_final': 0.0001, 'lr_decay': True, 'regularization': 'L1', 'penalty': 0.001, 'grad_clipping': True, 'clip_norm': 20}\n"
     ]
    },
    {
     "name": "stderr",
     "output_type": "stream",
     "text": [
      "\r",
      " 12%|█████████▏                                                                     | 37/320 [21:00<2:01:22, 25.73s/it]"
     ]
    },
    {
     "name": "stdout",
     "output_type": "stream",
     "text": [
      "______________________________________________________\n",
      "AVERAGE VALIDATION ERROR 1.454 ± 0.304\n",
      "______________________________________________________\n",
      "\n",
      "Performing training 37 out of 320\n",
      "[[ 1 15 10  1]]\n",
      "\n",
      "Configuration: {'neurons_architecture': matrix([[ 1, 15, 10,  1]]), 'activation': 'relu', 'n_epochs': 2000.0, 'lr': 0.01, 'en_decay': True, 'lr_final': 0.0001, 'lr_decay': True, 'regularization': 'L1', 'penalty': 0.0005, 'grad_clipping': True, 'clip_norm': 20}\n"
     ]
    },
    {
     "name": "stderr",
     "output_type": "stream",
     "text": [
      "\r",
      " 12%|█████████▍                                                                     | 38/320 [21:27<2:03:00, 26.17s/it]"
     ]
    },
    {
     "name": "stdout",
     "output_type": "stream",
     "text": [
      "______________________________________________________\n",
      "AVERAGE VALIDATION ERROR 1.088 ± 0.293\n",
      "______________________________________________________\n",
      "\n",
      "Performing training 38 out of 320\n",
      "[[ 1 15 10  1]]\n",
      "\n",
      "Configuration: {'neurons_architecture': matrix([[ 1, 15, 10,  1]]), 'activation': 'relu', 'n_epochs': 2000.0, 'lr': 0.01, 'en_decay': True, 'lr_final': 0.0001, 'lr_decay': True, 'regularization': 'L2', 'penalty': 0.001, 'grad_clipping': True, 'clip_norm': 20}\n"
     ]
    },
    {
     "name": "stderr",
     "output_type": "stream",
     "text": [
      "\r",
      " 12%|█████████▋                                                                     | 39/320 [21:56<2:05:41, 26.84s/it]"
     ]
    },
    {
     "name": "stdout",
     "output_type": "stream",
     "text": [
      "______________________________________________________\n",
      "AVERAGE VALIDATION ERROR 0.853 ± 0.153\n",
      "______________________________________________________\n",
      "\n",
      "Performing training 39 out of 320\n",
      "[[ 1 15 10  1]]\n",
      "\n",
      "Configuration: {'neurons_architecture': matrix([[ 1, 15, 10,  1]]), 'activation': 'relu', 'n_epochs': 2000.0, 'lr': 0.01, 'en_decay': True, 'lr_final': 0.0001, 'lr_decay': True, 'regularization': 'L2', 'penalty': 0.0005, 'grad_clipping': True, 'clip_norm': 20}\n"
     ]
    },
    {
     "name": "stderr",
     "output_type": "stream",
     "text": [
      "\r",
      " 12%|█████████▉                                                                     | 40/320 [22:27<2:11:55, 28.27s/it]"
     ]
    },
    {
     "name": "stdout",
     "output_type": "stream",
     "text": [
      "______________________________________________________\n",
      "AVERAGE VALIDATION ERROR 0.909 ± 0.178\n",
      "______________________________________________________\n",
      "\n",
      "Performing training 40 out of 320\n",
      "[[ 1 15 10  1]]\n",
      "\n",
      "Configuration: {'neurons_architecture': matrix([[ 1, 15, 10,  1]]), 'activation': 'leaky_relu', 'n_epochs': 2000.0, 'lr': 0.01, 'en_decay': True, 'lr_final': 0.001, 'lr_decay': True, 'regularization': 'L1', 'penalty': 0.001, 'grad_clipping': True, 'clip_norm': 20}\n"
     ]
    },
    {
     "name": "stderr",
     "output_type": "stream",
     "text": [
      "\r",
      " 13%|██████████                                                                     | 41/320 [22:56<2:11:46, 28.34s/it]"
     ]
    },
    {
     "name": "stdout",
     "output_type": "stream",
     "text": [
      "______________________________________________________\n",
      "AVERAGE VALIDATION ERROR 1.101 ± 0.54\n",
      "______________________________________________________\n",
      "\n",
      "Performing training 41 out of 320\n",
      "[[ 1 15 10  1]]\n",
      "\n",
      "Configuration: {'neurons_architecture': matrix([[ 1, 15, 10,  1]]), 'activation': 'leaky_relu', 'n_epochs': 2000.0, 'lr': 0.01, 'en_decay': True, 'lr_final': 0.001, 'lr_decay': True, 'regularization': 'L1', 'penalty': 0.0005, 'grad_clipping': True, 'clip_norm': 20}\n"
     ]
    },
    {
     "name": "stderr",
     "output_type": "stream",
     "text": [
      "\r",
      " 13%|██████████▎                                                                    | 42/320 [23:26<2:14:34, 29.04s/it]"
     ]
    },
    {
     "name": "stdout",
     "output_type": "stream",
     "text": [
      "______________________________________________________\n",
      "AVERAGE VALIDATION ERROR 1.038 ± 0.551\n",
      "______________________________________________________\n",
      "\n",
      "Performing training 42 out of 320\n",
      "[[ 1 15 10  1]]\n",
      "\n",
      "Configuration: {'neurons_architecture': matrix([[ 1, 15, 10,  1]]), 'activation': 'leaky_relu', 'n_epochs': 2000.0, 'lr': 0.01, 'en_decay': True, 'lr_final': 0.001, 'lr_decay': True, 'regularization': 'L2', 'penalty': 0.001, 'grad_clipping': True, 'clip_norm': 20}\n"
     ]
    },
    {
     "name": "stderr",
     "output_type": "stream",
     "text": [
      "\r",
      " 13%|██████████▌                                                                    | 43/320 [23:54<2:12:21, 28.67s/it]"
     ]
    },
    {
     "name": "stdout",
     "output_type": "stream",
     "text": [
      "______________________________________________________\n",
      "AVERAGE VALIDATION ERROR 0.933 ± 0.159\n",
      "______________________________________________________\n",
      "\n",
      "Performing training 43 out of 320\n",
      "[[ 1 15 10  1]]\n",
      "\n",
      "Configuration: {'neurons_architecture': matrix([[ 1, 15, 10,  1]]), 'activation': 'leaky_relu', 'n_epochs': 2000.0, 'lr': 0.01, 'en_decay': True, 'lr_final': 0.001, 'lr_decay': True, 'regularization': 'L2', 'penalty': 0.0005, 'grad_clipping': True, 'clip_norm': 20}\n"
     ]
    },
    {
     "name": "stderr",
     "output_type": "stream",
     "text": [
      "\r",
      " 14%|██████████▊                                                                    | 44/320 [24:16<2:02:24, 26.61s/it]"
     ]
    },
    {
     "name": "stdout",
     "output_type": "stream",
     "text": [
      "______________________________________________________\n",
      "AVERAGE VALIDATION ERROR 1.557 ± 0.949\n",
      "______________________________________________________\n",
      "\n",
      "Performing training 44 out of 320\n",
      "[[ 1 15 10  1]]\n",
      "\n",
      "Configuration: {'neurons_architecture': matrix([[ 1, 15, 10,  1]]), 'activation': 'leaky_relu', 'n_epochs': 2000.0, 'lr': 0.01, 'en_decay': True, 'lr_final': 0.0001, 'lr_decay': True, 'regularization': 'L1', 'penalty': 0.001, 'grad_clipping': True, 'clip_norm': 20}\n"
     ]
    },
    {
     "name": "stderr",
     "output_type": "stream",
     "text": [
      "\r",
      " 14%|███████████                                                                    | 45/320 [24:45<2:06:01, 27.49s/it]"
     ]
    },
    {
     "name": "stdout",
     "output_type": "stream",
     "text": [
      "______________________________________________________\n",
      "AVERAGE VALIDATION ERROR 0.958 ± 0.501\n",
      "______________________________________________________\n",
      "\n",
      "Performing training 45 out of 320\n",
      "[[ 1 15 10  1]]\n",
      "\n",
      "Configuration: {'neurons_architecture': matrix([[ 1, 15, 10,  1]]), 'activation': 'leaky_relu', 'n_epochs': 2000.0, 'lr': 0.01, 'en_decay': True, 'lr_final': 0.0001, 'lr_decay': True, 'regularization': 'L1', 'penalty': 0.0005, 'grad_clipping': True, 'clip_norm': 20}\n"
     ]
    },
    {
     "name": "stderr",
     "output_type": "stream",
     "text": [
      "\r",
      " 14%|███████████▎                                                                   | 46/320 [25:22<2:18:30, 30.33s/it]"
     ]
    },
    {
     "name": "stdout",
     "output_type": "stream",
     "text": [
      "______________________________________________________\n",
      "AVERAGE VALIDATION ERROR 1.004 ± 0.215\n",
      "______________________________________________________\n",
      "\n",
      "Performing training 46 out of 320\n",
      "[[ 1 15 10  1]]\n",
      "\n",
      "Configuration: {'neurons_architecture': matrix([[ 1, 15, 10,  1]]), 'activation': 'leaky_relu', 'n_epochs': 2000.0, 'lr': 0.01, 'en_decay': True, 'lr_final': 0.0001, 'lr_decay': True, 'regularization': 'L2', 'penalty': 0.001, 'grad_clipping': True, 'clip_norm': 20}\n"
     ]
    },
    {
     "name": "stderr",
     "output_type": "stream",
     "text": [
      "\r",
      " 15%|███████████▌                                                                   | 47/320 [25:58<2:25:07, 31.90s/it]"
     ]
    },
    {
     "name": "stdout",
     "output_type": "stream",
     "text": [
      "______________________________________________________\n",
      "AVERAGE VALIDATION ERROR 1.018 ± 0.246\n",
      "______________________________________________________\n",
      "\n",
      "Performing training 47 out of 320\n",
      "[[ 1 15 10  1]]\n",
      "\n",
      "Configuration: {'neurons_architecture': matrix([[ 1, 15, 10,  1]]), 'activation': 'leaky_relu', 'n_epochs': 2000.0, 'lr': 0.01, 'en_decay': True, 'lr_final': 0.0001, 'lr_decay': True, 'regularization': 'L2', 'penalty': 0.0005, 'grad_clipping': True, 'clip_norm': 20}\n"
     ]
    },
    {
     "name": "stderr",
     "output_type": "stream",
     "text": [
      "\r",
      " 15%|███████████▊                                                                   | 48/320 [26:37<2:34:17, 34.04s/it]"
     ]
    },
    {
     "name": "stdout",
     "output_type": "stream",
     "text": [
      "______________________________________________________\n",
      "AVERAGE VALIDATION ERROR 0.936 ± 0.395\n",
      "______________________________________________________\n",
      "\n",
      "Performing training 48 out of 320\n",
      "[[ 1 15 10  1]]\n",
      "\n",
      "Configuration: {'neurons_architecture': matrix([[ 1, 15, 10,  1]]), 'activation': 'elu', 'n_epochs': 2000.0, 'lr': 0.01, 'en_decay': True, 'lr_final': 0.001, 'lr_decay': True, 'regularization': 'L1', 'penalty': 0.001, 'grad_clipping': True, 'clip_norm': 20}\n"
     ]
    },
    {
     "name": "stderr",
     "output_type": "stream",
     "text": [
      "\r",
      " 15%|████████████                                                                   | 49/320 [27:09<2:30:46, 33.38s/it]"
     ]
    },
    {
     "name": "stdout",
     "output_type": "stream",
     "text": [
      "______________________________________________________\n",
      "AVERAGE VALIDATION ERROR 2.432 ± 2.598\n",
      "______________________________________________________\n",
      "\n",
      "Performing training 49 out of 320\n",
      "[[ 1 15 10  1]]\n",
      "\n",
      "Configuration: {'neurons_architecture': matrix([[ 1, 15, 10,  1]]), 'activation': 'elu', 'n_epochs': 2000.0, 'lr': 0.01, 'en_decay': True, 'lr_final': 0.001, 'lr_decay': True, 'regularization': 'L1', 'penalty': 0.0005, 'grad_clipping': True, 'clip_norm': 20}\n"
     ]
    },
    {
     "name": "stderr",
     "output_type": "stream",
     "text": [
      "\r",
      " 16%|████████████▎                                                                  | 50/320 [27:40<2:26:57, 32.66s/it]"
     ]
    },
    {
     "name": "stdout",
     "output_type": "stream",
     "text": [
      "______________________________________________________\n",
      "AVERAGE VALIDATION ERROR 1.585 ± 0.719\n",
      "______________________________________________________\n",
      "\n",
      "Performing training 50 out of 320\n",
      "[[ 1 15 10  1]]\n",
      "\n",
      "Configuration: {'neurons_architecture': matrix([[ 1, 15, 10,  1]]), 'activation': 'elu', 'n_epochs': 2000.0, 'lr': 0.01, 'en_decay': True, 'lr_final': 0.001, 'lr_decay': True, 'regularization': 'L2', 'penalty': 0.001, 'grad_clipping': True, 'clip_norm': 20}\n"
     ]
    },
    {
     "name": "stderr",
     "output_type": "stream",
     "text": [
      "\r",
      " 16%|████████████▌                                                                  | 51/320 [28:09<2:21:56, 31.66s/it]"
     ]
    },
    {
     "name": "stdout",
     "output_type": "stream",
     "text": [
      "______________________________________________________\n",
      "AVERAGE VALIDATION ERROR 5.1 ± 2.864\n",
      "______________________________________________________\n",
      "\n",
      "Performing training 51 out of 320\n",
      "[[ 1 15 10  1]]\n",
      "\n",
      "Configuration: {'neurons_architecture': matrix([[ 1, 15, 10,  1]]), 'activation': 'elu', 'n_epochs': 2000.0, 'lr': 0.01, 'en_decay': True, 'lr_final': 0.001, 'lr_decay': True, 'regularization': 'L2', 'penalty': 0.0005, 'grad_clipping': True, 'clip_norm': 20}\n"
     ]
    },
    {
     "name": "stderr",
     "output_type": "stream",
     "text": [
      "\r",
      " 16%|████████████▊                                                                  | 52/320 [28:46<2:28:13, 33.19s/it]"
     ]
    },
    {
     "name": "stdout",
     "output_type": "stream",
     "text": [
      "______________________________________________________\n",
      "AVERAGE VALIDATION ERROR 3.945 ± 4.075\n",
      "______________________________________________________\n",
      "\n",
      "Performing training 52 out of 320\n",
      "[[ 1 15 10  1]]\n",
      "\n",
      "Configuration: {'neurons_architecture': matrix([[ 1, 15, 10,  1]]), 'activation': 'elu', 'n_epochs': 2000.0, 'lr': 0.01, 'en_decay': True, 'lr_final': 0.0001, 'lr_decay': True, 'regularization': 'L1', 'penalty': 0.001, 'grad_clipping': True, 'clip_norm': 20}\n"
     ]
    },
    {
     "name": "stderr",
     "output_type": "stream",
     "text": [
      "\r",
      " 17%|█████████████                                                                  | 53/320 [29:38<2:52:54, 38.86s/it]"
     ]
    },
    {
     "name": "stdout",
     "output_type": "stream",
     "text": [
      "______________________________________________________\n",
      "AVERAGE VALIDATION ERROR 1.085 ± 0.447\n",
      "______________________________________________________\n",
      "\n",
      "Performing training 53 out of 320\n",
      "[[ 1 15 10  1]]\n",
      "\n",
      "Configuration: {'neurons_architecture': matrix([[ 1, 15, 10,  1]]), 'activation': 'elu', 'n_epochs': 2000.0, 'lr': 0.01, 'en_decay': True, 'lr_final': 0.0001, 'lr_decay': True, 'regularization': 'L1', 'penalty': 0.0005, 'grad_clipping': True, 'clip_norm': 20}\n"
     ]
    },
    {
     "name": "stderr",
     "output_type": "stream",
     "text": [
      "\r",
      " 17%|█████████████▎                                                                 | 54/320 [30:37<3:18:42, 44.82s/it]"
     ]
    },
    {
     "name": "stdout",
     "output_type": "stream",
     "text": [
      "______________________________________________________\n",
      "AVERAGE VALIDATION ERROR 0.832 ± 0.375\n",
      "______________________________________________________\n",
      "\n",
      "Performing training 54 out of 320\n",
      "[[ 1 15 10  1]]\n",
      "\n",
      "Configuration: {'neurons_architecture': matrix([[ 1, 15, 10,  1]]), 'activation': 'elu', 'n_epochs': 2000.0, 'lr': 0.01, 'en_decay': True, 'lr_final': 0.0001, 'lr_decay': True, 'regularization': 'L2', 'penalty': 0.001, 'grad_clipping': True, 'clip_norm': 20}\n"
     ]
    },
    {
     "name": "stderr",
     "output_type": "stream",
     "text": [
      "\r",
      " 17%|█████████████▌                                                                 | 55/320 [31:20<3:15:47, 44.33s/it]"
     ]
    },
    {
     "name": "stdout",
     "output_type": "stream",
     "text": [
      "______________________________________________________\n",
      "AVERAGE VALIDATION ERROR 1.677 ± 1.128\n",
      "______________________________________________________\n",
      "\n",
      "Performing training 55 out of 320\n",
      "[[ 1 15 10  1]]\n",
      "\n",
      "Configuration: {'neurons_architecture': matrix([[ 1, 15, 10,  1]]), 'activation': 'elu', 'n_epochs': 2000.0, 'lr': 0.01, 'en_decay': True, 'lr_final': 0.0001, 'lr_decay': True, 'regularization': 'L2', 'penalty': 0.0005, 'grad_clipping': True, 'clip_norm': 20}\n"
     ]
    },
    {
     "name": "stderr",
     "output_type": "stream",
     "text": [
      "\r",
      " 18%|█████████████▊                                                                 | 56/320 [32:14<3:27:18, 47.12s/it]"
     ]
    },
    {
     "name": "stdout",
     "output_type": "stream",
     "text": [
      "______________________________________________________\n",
      "AVERAGE VALIDATION ERROR 1.118 ± 0.473\n",
      "______________________________________________________\n",
      "\n",
      "Performing training 56 out of 320\n",
      "[[ 1 15 10  1]]\n",
      "\n",
      "Configuration: {'neurons_architecture': matrix([[ 1, 15, 10,  1]]), 'activation': 'swish', 'n_epochs': 2000.0, 'lr': 0.01, 'en_decay': True, 'lr_final': 0.001, 'lr_decay': True, 'regularization': 'L1', 'penalty': 0.001, 'grad_clipping': True, 'clip_norm': 20}\n"
     ]
    },
    {
     "name": "stderr",
     "output_type": "stream",
     "text": [
      "\r",
      " 18%|██████████████                                                                 | 57/320 [32:41<3:01:05, 41.31s/it]"
     ]
    },
    {
     "name": "stdout",
     "output_type": "stream",
     "text": [
      "______________________________________________________\n",
      "AVERAGE VALIDATION ERROR 5.207 ± 4.055\n",
      "______________________________________________________\n",
      "\n",
      "Performing training 57 out of 320\n",
      "[[ 1 15 10  1]]\n",
      "\n",
      "Configuration: {'neurons_architecture': matrix([[ 1, 15, 10,  1]]), 'activation': 'swish', 'n_epochs': 2000.0, 'lr': 0.01, 'en_decay': True, 'lr_final': 0.001, 'lr_decay': True, 'regularization': 'L1', 'penalty': 0.0005, 'grad_clipping': True, 'clip_norm': 20}\n"
     ]
    },
    {
     "name": "stderr",
     "output_type": "stream",
     "text": [
      "\r",
      " 18%|██████████████▎                                                                | 58/320 [33:11<2:44:44, 37.73s/it]"
     ]
    },
    {
     "name": "stdout",
     "output_type": "stream",
     "text": [
      "______________________________________________________\n",
      "AVERAGE VALIDATION ERROR 2.391 ± 1.749\n",
      "______________________________________________________\n",
      "\n",
      "Performing training 58 out of 320\n",
      "[[ 1 15 10  1]]\n",
      "\n",
      "Configuration: {'neurons_architecture': matrix([[ 1, 15, 10,  1]]), 'activation': 'swish', 'n_epochs': 2000.0, 'lr': 0.01, 'en_decay': True, 'lr_final': 0.001, 'lr_decay': True, 'regularization': 'L2', 'penalty': 0.001, 'grad_clipping': True, 'clip_norm': 20}\n"
     ]
    },
    {
     "name": "stderr",
     "output_type": "stream",
     "text": [
      "\r",
      " 18%|██████████████▌                                                                | 59/320 [33:39<2:31:30, 34.83s/it]"
     ]
    },
    {
     "name": "stdout",
     "output_type": "stream",
     "text": [
      "______________________________________________________\n",
      "AVERAGE VALIDATION ERROR 1.372 ± 0.704\n",
      "______________________________________________________\n",
      "\n",
      "Performing training 59 out of 320\n",
      "[[ 1 15 10  1]]\n",
      "\n",
      "Configuration: {'neurons_architecture': matrix([[ 1, 15, 10,  1]]), 'activation': 'swish', 'n_epochs': 2000.0, 'lr': 0.01, 'en_decay': True, 'lr_final': 0.001, 'lr_decay': True, 'regularization': 'L2', 'penalty': 0.0005, 'grad_clipping': True, 'clip_norm': 20}\n"
     ]
    },
    {
     "name": "stderr",
     "output_type": "stream",
     "text": [
      "\r",
      " 19%|██████████████▊                                                                | 60/320 [34:04<2:19:07, 32.10s/it]"
     ]
    },
    {
     "name": "stdout",
     "output_type": "stream",
     "text": [
      "______________________________________________________\n",
      "AVERAGE VALIDATION ERROR 3.134 ± 3.044\n",
      "______________________________________________________\n",
      "\n",
      "Performing training 60 out of 320\n",
      "[[ 1 15 10  1]]\n",
      "\n",
      "Configuration: {'neurons_architecture': matrix([[ 1, 15, 10,  1]]), 'activation': 'swish', 'n_epochs': 2000.0, 'lr': 0.01, 'en_decay': True, 'lr_final': 0.0001, 'lr_decay': True, 'regularization': 'L1', 'penalty': 0.001, 'grad_clipping': True, 'clip_norm': 20}\n"
     ]
    },
    {
     "name": "stderr",
     "output_type": "stream",
     "text": [
      "\r",
      " 19%|███████████████                                                                | 61/320 [34:38<2:20:26, 32.54s/it]"
     ]
    },
    {
     "name": "stdout",
     "output_type": "stream",
     "text": [
      "______________________________________________________\n",
      "AVERAGE VALIDATION ERROR 1.38 ± 0.612\n",
      "______________________________________________________\n",
      "\n",
      "Performing training 61 out of 320\n",
      "[[ 1 15 10  1]]\n",
      "\n",
      "Configuration: {'neurons_architecture': matrix([[ 1, 15, 10,  1]]), 'activation': 'swish', 'n_epochs': 2000.0, 'lr': 0.01, 'en_decay': True, 'lr_final': 0.0001, 'lr_decay': True, 'regularization': 'L1', 'penalty': 0.0005, 'grad_clipping': True, 'clip_norm': 20}\n"
     ]
    },
    {
     "name": "stderr",
     "output_type": "stream",
     "text": [
      "\r",
      " 19%|███████████████▎                                                               | 62/320 [35:12<2:22:02, 33.03s/it]"
     ]
    },
    {
     "name": "stdout",
     "output_type": "stream",
     "text": [
      "______________________________________________________\n",
      "AVERAGE VALIDATION ERROR 1.121 ± 0.404\n",
      "______________________________________________________\n",
      "\n",
      "Performing training 62 out of 320\n",
      "[[ 1 15 10  1]]\n",
      "\n",
      "Configuration: {'neurons_architecture': matrix([[ 1, 15, 10,  1]]), 'activation': 'swish', 'n_epochs': 2000.0, 'lr': 0.01, 'en_decay': True, 'lr_final': 0.0001, 'lr_decay': True, 'regularization': 'L2', 'penalty': 0.001, 'grad_clipping': True, 'clip_norm': 20}\n"
     ]
    },
    {
     "name": "stderr",
     "output_type": "stream",
     "text": [
      "\r",
      " 20%|███████████████▌                                                               | 63/320 [35:49<2:26:11, 34.13s/it]"
     ]
    },
    {
     "name": "stdout",
     "output_type": "stream",
     "text": [
      "______________________________________________________\n",
      "AVERAGE VALIDATION ERROR 0.954 ± 0.233\n",
      "______________________________________________________\n",
      "\n",
      "Performing training 63 out of 320\n",
      "[[ 1 15 10  1]]\n",
      "\n",
      "Configuration: {'neurons_architecture': matrix([[ 1, 15, 10,  1]]), 'activation': 'swish', 'n_epochs': 2000.0, 'lr': 0.01, 'en_decay': True, 'lr_final': 0.0001, 'lr_decay': True, 'regularization': 'L2', 'penalty': 0.0005, 'grad_clipping': True, 'clip_norm': 20}\n"
     ]
    },
    {
     "name": "stderr",
     "output_type": "stream",
     "text": [
      "\r",
      " 20%|███████████████▊                                                               | 64/320 [36:29<2:33:24, 35.96s/it]"
     ]
    },
    {
     "name": "stdout",
     "output_type": "stream",
     "text": [
      "______________________________________________________\n",
      "AVERAGE VALIDATION ERROR 0.997 ± 0.216\n",
      "______________________________________________________\n",
      "\n",
      "Performing training 64 out of 320\n",
      "[[ 1 10 15  1]]\n",
      "\n",
      "Configuration: {'neurons_architecture': matrix([[ 1, 10, 15,  1]]), 'activation': 'relu', 'n_epochs': 2000.0, 'lr': 0.01, 'en_decay': True, 'lr_final': 0.001, 'lr_decay': True, 'regularization': 'L1', 'penalty': 0.001, 'grad_clipping': True, 'clip_norm': 20}\n"
     ]
    },
    {
     "name": "stderr",
     "output_type": "stream",
     "text": [
      "\r",
      " 20%|████████████████                                                               | 65/320 [37:04<2:31:18, 35.60s/it]"
     ]
    },
    {
     "name": "stdout",
     "output_type": "stream",
     "text": [
      "______________________________________________________\n",
      "AVERAGE VALIDATION ERROR 0.996 ± 0.579\n",
      "______________________________________________________\n",
      "\n",
      "Performing training 65 out of 320\n",
      "[[ 1 10 15  1]]\n",
      "\n",
      "Configuration: {'neurons_architecture': matrix([[ 1, 10, 15,  1]]), 'activation': 'relu', 'n_epochs': 2000.0, 'lr': 0.01, 'en_decay': True, 'lr_final': 0.001, 'lr_decay': True, 'regularization': 'L1', 'penalty': 0.0005, 'grad_clipping': True, 'clip_norm': 20}\n"
     ]
    },
    {
     "name": "stderr",
     "output_type": "stream",
     "text": [
      "\r",
      " 21%|████████████████▎                                                              | 66/320 [37:28<2:16:04, 32.14s/it]"
     ]
    },
    {
     "name": "stdout",
     "output_type": "stream",
     "text": [
      "______________________________________________________\n",
      "AVERAGE VALIDATION ERROR 1.308 ± 0.371\n",
      "______________________________________________________\n",
      "\n",
      "Performing training 66 out of 320\n",
      "[[ 1 10 15  1]]\n",
      "\n",
      "Configuration: {'neurons_architecture': matrix([[ 1, 10, 15,  1]]), 'activation': 'relu', 'n_epochs': 2000.0, 'lr': 0.01, 'en_decay': True, 'lr_final': 0.001, 'lr_decay': True, 'regularization': 'L2', 'penalty': 0.001, 'grad_clipping': True, 'clip_norm': 20}\n"
     ]
    },
    {
     "name": "stderr",
     "output_type": "stream",
     "text": [
      "\r",
      " 21%|████████████████▌                                                              | 67/320 [37:49<2:02:03, 28.95s/it]"
     ]
    },
    {
     "name": "stdout",
     "output_type": "stream",
     "text": [
      "______________________________________________________\n",
      "AVERAGE VALIDATION ERROR 0.979 ± 0.332\n",
      "______________________________________________________\n",
      "\n",
      "Performing training 67 out of 320\n",
      "[[ 1 10 15  1]]\n",
      "\n",
      "Configuration: {'neurons_architecture': matrix([[ 1, 10, 15,  1]]), 'activation': 'relu', 'n_epochs': 2000.0, 'lr': 0.01, 'en_decay': True, 'lr_final': 0.001, 'lr_decay': True, 'regularization': 'L2', 'penalty': 0.0005, 'grad_clipping': True, 'clip_norm': 20}\n"
     ]
    },
    {
     "name": "stderr",
     "output_type": "stream",
     "text": [
      "\r",
      " 21%|████████████████▊                                                              | 68/320 [38:21<2:05:13, 29.81s/it]"
     ]
    },
    {
     "name": "stdout",
     "output_type": "stream",
     "text": [
      "______________________________________________________\n",
      "AVERAGE VALIDATION ERROR 0.88 ± 0.329\n",
      "______________________________________________________\n",
      "\n",
      "Performing training 68 out of 320\n",
      "[[ 1 10 15  1]]\n",
      "\n",
      "Configuration: {'neurons_architecture': matrix([[ 1, 10, 15,  1]]), 'activation': 'relu', 'n_epochs': 2000.0, 'lr': 0.01, 'en_decay': True, 'lr_final': 0.0001, 'lr_decay': True, 'regularization': 'L1', 'penalty': 0.001, 'grad_clipping': True, 'clip_norm': 20}\n"
     ]
    },
    {
     "name": "stderr",
     "output_type": "stream",
     "text": [
      "\r",
      " 22%|█████████████████                                                              | 69/320 [39:13<2:31:59, 36.33s/it]"
     ]
    },
    {
     "name": "stdout",
     "output_type": "stream",
     "text": [
      "______________________________________________________\n",
      "AVERAGE VALIDATION ERROR 1.025 ± 0.269\n",
      "______________________________________________________\n",
      "\n",
      "Performing training 69 out of 320\n",
      "[[ 1 10 15  1]]\n",
      "\n",
      "Configuration: {'neurons_architecture': matrix([[ 1, 10, 15,  1]]), 'activation': 'relu', 'n_epochs': 2000.0, 'lr': 0.01, 'en_decay': True, 'lr_final': 0.0001, 'lr_decay': True, 'regularization': 'L1', 'penalty': 0.0005, 'grad_clipping': True, 'clip_norm': 20}\n"
     ]
    },
    {
     "name": "stderr",
     "output_type": "stream",
     "text": [
      "\r",
      " 22%|█████████████████▎                                                             | 70/320 [40:05<2:50:51, 41.00s/it]"
     ]
    },
    {
     "name": "stdout",
     "output_type": "stream",
     "text": [
      "______________________________________________________\n",
      "AVERAGE VALIDATION ERROR 1.023 ± 0.342\n",
      "______________________________________________________\n",
      "\n",
      "Performing training 70 out of 320\n",
      "[[ 1 10 15  1]]\n",
      "\n",
      "Configuration: {'neurons_architecture': matrix([[ 1, 10, 15,  1]]), 'activation': 'relu', 'n_epochs': 2000.0, 'lr': 0.01, 'en_decay': True, 'lr_final': 0.0001, 'lr_decay': True, 'regularization': 'L2', 'penalty': 0.001, 'grad_clipping': True, 'clip_norm': 20}\n"
     ]
    },
    {
     "name": "stderr",
     "output_type": "stream",
     "text": [
      "\r",
      " 22%|█████████████████▌                                                             | 71/320 [40:38<2:40:43, 38.73s/it]"
     ]
    },
    {
     "name": "stdout",
     "output_type": "stream",
     "text": [
      "______________________________________________________\n",
      "AVERAGE VALIDATION ERROR 0.907 ± 0.226\n",
      "______________________________________________________\n",
      "\n",
      "Performing training 71 out of 320\n",
      "[[ 1 10 15  1]]\n",
      "\n",
      "Configuration: {'neurons_architecture': matrix([[ 1, 10, 15,  1]]), 'activation': 'relu', 'n_epochs': 2000.0, 'lr': 0.01, 'en_decay': True, 'lr_final': 0.0001, 'lr_decay': True, 'regularization': 'L2', 'penalty': 0.0005, 'grad_clipping': True, 'clip_norm': 20}\n"
     ]
    },
    {
     "name": "stderr",
     "output_type": "stream",
     "text": [
      "\r",
      " 22%|█████████████████▊                                                             | 72/320 [41:11<2:32:26, 36.88s/it]"
     ]
    },
    {
     "name": "stdout",
     "output_type": "stream",
     "text": [
      "______________________________________________________\n",
      "AVERAGE VALIDATION ERROR 0.928 ± 0.263\n",
      "______________________________________________________\n",
      "\n",
      "Performing training 72 out of 320\n",
      "[[ 1 10 15  1]]\n",
      "\n",
      "Configuration: {'neurons_architecture': matrix([[ 1, 10, 15,  1]]), 'activation': 'leaky_relu', 'n_epochs': 2000.0, 'lr': 0.01, 'en_decay': True, 'lr_final': 0.001, 'lr_decay': True, 'regularization': 'L1', 'penalty': 0.001, 'grad_clipping': True, 'clip_norm': 20}\n"
     ]
    },
    {
     "name": "stderr",
     "output_type": "stream",
     "text": [
      "\r",
      " 23%|██████████████████                                                             | 73/320 [41:43<2:25:50, 35.43s/it]"
     ]
    },
    {
     "name": "stdout",
     "output_type": "stream",
     "text": [
      "______________________________________________________\n",
      "AVERAGE VALIDATION ERROR 0.931 ± 0.314\n",
      "______________________________________________________\n",
      "\n",
      "Performing training 73 out of 320\n",
      "[[ 1 10 15  1]]\n",
      "\n",
      "Configuration: {'neurons_architecture': matrix([[ 1, 10, 15,  1]]), 'activation': 'leaky_relu', 'n_epochs': 2000.0, 'lr': 0.01, 'en_decay': True, 'lr_final': 0.001, 'lr_decay': True, 'regularization': 'L1', 'penalty': 0.0005, 'grad_clipping': True, 'clip_norm': 20}\n"
     ]
    },
    {
     "name": "stderr",
     "output_type": "stream",
     "text": [
      "\r",
      " 23%|██████████████████▎                                                            | 74/320 [42:23<2:31:32, 36.96s/it]"
     ]
    },
    {
     "name": "stdout",
     "output_type": "stream",
     "text": [
      "______________________________________________________\n",
      "AVERAGE VALIDATION ERROR 1.615 ± 0.679\n",
      "______________________________________________________\n",
      "\n",
      "Performing training 74 out of 320\n",
      "[[ 1 10 15  1]]\n",
      "\n",
      "Configuration: {'neurons_architecture': matrix([[ 1, 10, 15,  1]]), 'activation': 'leaky_relu', 'n_epochs': 2000.0, 'lr': 0.01, 'en_decay': True, 'lr_final': 0.001, 'lr_decay': True, 'regularization': 'L2', 'penalty': 0.001, 'grad_clipping': True, 'clip_norm': 20}\n"
     ]
    },
    {
     "name": "stderr",
     "output_type": "stream",
     "text": [
      "\r",
      " 23%|██████████████████▌                                                            | 75/320 [42:49<2:16:37, 33.46s/it]"
     ]
    },
    {
     "name": "stdout",
     "output_type": "stream",
     "text": [
      "______________________________________________________\n",
      "AVERAGE VALIDATION ERROR 0.855 ± 0.156\n",
      "______________________________________________________\n",
      "\n",
      "Performing training 75 out of 320\n",
      "[[ 1 10 15  1]]\n",
      "\n",
      "Configuration: {'neurons_architecture': matrix([[ 1, 10, 15,  1]]), 'activation': 'leaky_relu', 'n_epochs': 2000.0, 'lr': 0.01, 'en_decay': True, 'lr_final': 0.001, 'lr_decay': True, 'regularization': 'L2', 'penalty': 0.0005, 'grad_clipping': True, 'clip_norm': 20}\n"
     ]
    },
    {
     "name": "stderr",
     "output_type": "stream",
     "text": [
      "\r",
      " 24%|██████████████████▊                                                            | 76/320 [43:09<1:59:51, 29.47s/it]"
     ]
    },
    {
     "name": "stdout",
     "output_type": "stream",
     "text": [
      "______________________________________________________\n",
      "AVERAGE VALIDATION ERROR 1.574 ± 0.875\n",
      "______________________________________________________\n",
      "\n",
      "Performing training 76 out of 320\n",
      "[[ 1 10 15  1]]\n",
      "\n",
      "Configuration: {'neurons_architecture': matrix([[ 1, 10, 15,  1]]), 'activation': 'leaky_relu', 'n_epochs': 2000.0, 'lr': 0.01, 'en_decay': True, 'lr_final': 0.0001, 'lr_decay': True, 'regularization': 'L1', 'penalty': 0.001, 'grad_clipping': True, 'clip_norm': 20}\n"
     ]
    },
    {
     "name": "stderr",
     "output_type": "stream",
     "text": [
      "\r",
      " 24%|███████████████████                                                            | 77/320 [43:45<2:07:35, 31.51s/it]"
     ]
    },
    {
     "name": "stdout",
     "output_type": "stream",
     "text": [
      "______________________________________________________\n",
      "AVERAGE VALIDATION ERROR 0.833 ± 0.207\n",
      "______________________________________________________\n",
      "\n",
      "Performing training 77 out of 320\n",
      "[[ 1 10 15  1]]\n",
      "\n",
      "Configuration: {'neurons_architecture': matrix([[ 1, 10, 15,  1]]), 'activation': 'leaky_relu', 'n_epochs': 2000.0, 'lr': 0.01, 'en_decay': True, 'lr_final': 0.0001, 'lr_decay': True, 'regularization': 'L1', 'penalty': 0.0005, 'grad_clipping': True, 'clip_norm': 20}\n"
     ]
    },
    {
     "name": "stderr",
     "output_type": "stream",
     "text": [
      "\r",
      " 24%|███████████████████▎                                                           | 78/320 [44:14<2:03:42, 30.67s/it]"
     ]
    },
    {
     "name": "stdout",
     "output_type": "stream",
     "text": [
      "______________________________________________________\n",
      "AVERAGE VALIDATION ERROR 1.258 ± 0.47\n",
      "______________________________________________________\n",
      "\n",
      "Performing training 78 out of 320\n",
      "[[ 1 10 15  1]]\n",
      "\n",
      "Configuration: {'neurons_architecture': matrix([[ 1, 10, 15,  1]]), 'activation': 'leaky_relu', 'n_epochs': 2000.0, 'lr': 0.01, 'en_decay': True, 'lr_final': 0.0001, 'lr_decay': True, 'regularization': 'L2', 'penalty': 0.001, 'grad_clipping': True, 'clip_norm': 20}\n"
     ]
    },
    {
     "name": "stderr",
     "output_type": "stream",
     "text": [
      "\r",
      " 25%|███████████████████▌                                                           | 79/320 [44:49<2:08:59, 32.11s/it]"
     ]
    },
    {
     "name": "stdout",
     "output_type": "stream",
     "text": [
      "______________________________________________________\n",
      "AVERAGE VALIDATION ERROR 0.91 ± 0.399\n",
      "______________________________________________________\n",
      "\n",
      "Performing training 79 out of 320\n",
      "[[ 1 10 15  1]]\n",
      "\n",
      "Configuration: {'neurons_architecture': matrix([[ 1, 10, 15,  1]]), 'activation': 'leaky_relu', 'n_epochs': 2000.0, 'lr': 0.01, 'en_decay': True, 'lr_final': 0.0001, 'lr_decay': True, 'regularization': 'L2', 'penalty': 0.0005, 'grad_clipping': True, 'clip_norm': 20}\n"
     ]
    },
    {
     "name": "stderr",
     "output_type": "stream",
     "text": [
      "\r",
      " 25%|███████████████████▊                                                           | 80/320 [45:25<2:12:21, 33.09s/it]"
     ]
    },
    {
     "name": "stdout",
     "output_type": "stream",
     "text": [
      "______________________________________________________\n",
      "AVERAGE VALIDATION ERROR 0.948 ± 0.244\n",
      "______________________________________________________\n",
      "\n",
      "Performing training 80 out of 320\n",
      "[[ 1 10 15  1]]\n",
      "\n",
      "Configuration: {'neurons_architecture': matrix([[ 1, 10, 15,  1]]), 'activation': 'elu', 'n_epochs': 2000.0, 'lr': 0.01, 'en_decay': True, 'lr_final': 0.001, 'lr_decay': True, 'regularization': 'L1', 'penalty': 0.001, 'grad_clipping': True, 'clip_norm': 20}\n"
     ]
    },
    {
     "name": "stderr",
     "output_type": "stream",
     "text": [
      "\r",
      " 25%|███████████████████▉                                                           | 81/320 [46:05<2:20:38, 35.31s/it]"
     ]
    },
    {
     "name": "stdout",
     "output_type": "stream",
     "text": [
      "______________________________________________________\n",
      "AVERAGE VALIDATION ERROR 2.656 ± 1.601\n",
      "______________________________________________________\n",
      "\n",
      "Performing training 81 out of 320\n",
      "[[ 1 10 15  1]]\n",
      "\n",
      "Configuration: {'neurons_architecture': matrix([[ 1, 10, 15,  1]]), 'activation': 'elu', 'n_epochs': 2000.0, 'lr': 0.01, 'en_decay': True, 'lr_final': 0.001, 'lr_decay': True, 'regularization': 'L1', 'penalty': 0.0005, 'grad_clipping': True, 'clip_norm': 20}\n"
     ]
    },
    {
     "name": "stderr",
     "output_type": "stream",
     "text": [
      "\r",
      " 26%|████████████████████▏                                                          | 82/320 [46:40<2:20:08, 35.33s/it]"
     ]
    },
    {
     "name": "stdout",
     "output_type": "stream",
     "text": [
      "______________________________________________________\n",
      "AVERAGE VALIDATION ERROR 4.36 ± 6.087\n",
      "______________________________________________________\n",
      "\n",
      "Performing training 82 out of 320\n",
      "[[ 1 10 15  1]]\n",
      "\n",
      "Configuration: {'neurons_architecture': matrix([[ 1, 10, 15,  1]]), 'activation': 'elu', 'n_epochs': 2000.0, 'lr': 0.01, 'en_decay': True, 'lr_final': 0.001, 'lr_decay': True, 'regularization': 'L2', 'penalty': 0.001, 'grad_clipping': True, 'clip_norm': 20}\n"
     ]
    },
    {
     "name": "stderr",
     "output_type": "stream",
     "text": [
      "\r",
      " 26%|████████████████████▍                                                          | 83/320 [47:08<2:09:49, 32.87s/it]"
     ]
    },
    {
     "name": "stdout",
     "output_type": "stream",
     "text": [
      "______________________________________________________\n",
      "AVERAGE VALIDATION ERROR 2.166 ± 1.297\n",
      "______________________________________________________\n",
      "\n",
      "Performing training 83 out of 320\n",
      "[[ 1 10 15  1]]\n",
      "\n",
      "Configuration: {'neurons_architecture': matrix([[ 1, 10, 15,  1]]), 'activation': 'elu', 'n_epochs': 2000.0, 'lr': 0.01, 'en_decay': True, 'lr_final': 0.001, 'lr_decay': True, 'regularization': 'L2', 'penalty': 0.0005, 'grad_clipping': True, 'clip_norm': 20}\n"
     ]
    },
    {
     "name": "stderr",
     "output_type": "stream",
     "text": [
      "\r",
      " 26%|████████████████████▋                                                          | 84/320 [47:30<1:56:44, 29.68s/it]"
     ]
    },
    {
     "name": "stdout",
     "output_type": "stream",
     "text": [
      "______________________________________________________\n",
      "AVERAGE VALIDATION ERROR 2.775 ± 3.307\n",
      "______________________________________________________\n",
      "\n",
      "Performing training 84 out of 320\n",
      "[[ 1 10 15  1]]\n",
      "\n",
      "Configuration: {'neurons_architecture': matrix([[ 1, 10, 15,  1]]), 'activation': 'elu', 'n_epochs': 2000.0, 'lr': 0.01, 'en_decay': True, 'lr_final': 0.0001, 'lr_decay': True, 'regularization': 'L1', 'penalty': 0.001, 'grad_clipping': True, 'clip_norm': 20}\n"
     ]
    },
    {
     "name": "stderr",
     "output_type": "stream",
     "text": [
      "\r",
      " 27%|████████████████████▉                                                          | 85/320 [48:32<2:33:51, 39.28s/it]"
     ]
    },
    {
     "name": "stdout",
     "output_type": "stream",
     "text": [
      "______________________________________________________\n",
      "AVERAGE VALIDATION ERROR 1.295 ± 0.66\n",
      "______________________________________________________\n",
      "\n",
      "Performing training 85 out of 320\n",
      "[[ 1 10 15  1]]\n",
      "\n",
      "Configuration: {'neurons_architecture': matrix([[ 1, 10, 15,  1]]), 'activation': 'elu', 'n_epochs': 2000.0, 'lr': 0.01, 'en_decay': True, 'lr_final': 0.0001, 'lr_decay': True, 'regularization': 'L1', 'penalty': 0.0005, 'grad_clipping': True, 'clip_norm': 20}\n"
     ]
    },
    {
     "name": "stderr",
     "output_type": "stream",
     "text": [
      "\r",
      " 27%|█████████████████████▏                                                         | 86/320 [49:11<2:34:01, 39.49s/it]"
     ]
    },
    {
     "name": "stdout",
     "output_type": "stream",
     "text": [
      "______________________________________________________\n",
      "AVERAGE VALIDATION ERROR 1.072 ± 0.411\n",
      "______________________________________________________\n",
      "\n",
      "Performing training 86 out of 320\n",
      "[[ 1 10 15  1]]\n",
      "\n",
      "Configuration: {'neurons_architecture': matrix([[ 1, 10, 15,  1]]), 'activation': 'elu', 'n_epochs': 2000.0, 'lr': 0.01, 'en_decay': True, 'lr_final': 0.0001, 'lr_decay': True, 'regularization': 'L2', 'penalty': 0.001, 'grad_clipping': True, 'clip_norm': 20}\n"
     ]
    },
    {
     "name": "stderr",
     "output_type": "stream",
     "text": [
      "\r",
      " 27%|█████████████████████▍                                                         | 87/320 [49:42<2:23:15, 36.89s/it]"
     ]
    },
    {
     "name": "stdout",
     "output_type": "stream",
     "text": [
      "______________________________________________________\n",
      "AVERAGE VALIDATION ERROR 8.846 ± 11.17\n",
      "______________________________________________________\n",
      "\n",
      "Performing training 87 out of 320\n",
      "[[ 1 10 15  1]]\n",
      "\n",
      "Configuration: {'neurons_architecture': matrix([[ 1, 10, 15,  1]]), 'activation': 'elu', 'n_epochs': 2000.0, 'lr': 0.01, 'en_decay': True, 'lr_final': 0.0001, 'lr_decay': True, 'regularization': 'L2', 'penalty': 0.0005, 'grad_clipping': True, 'clip_norm': 20}\n"
     ]
    },
    {
     "name": "stderr",
     "output_type": "stream",
     "text": [
      "\r",
      " 28%|█████████████████████▋                                                         | 88/320 [50:22<2:25:54, 37.74s/it]"
     ]
    },
    {
     "name": "stdout",
     "output_type": "stream",
     "text": [
      "______________________________________________________\n",
      "AVERAGE VALIDATION ERROR 1.817 ± 1.161\n",
      "______________________________________________________\n",
      "\n",
      "Performing training 88 out of 320\n",
      "[[ 1 10 15  1]]\n",
      "\n",
      "Configuration: {'neurons_architecture': matrix([[ 1, 10, 15,  1]]), 'activation': 'swish', 'n_epochs': 2000.0, 'lr': 0.01, 'en_decay': True, 'lr_final': 0.001, 'lr_decay': True, 'regularization': 'L1', 'penalty': 0.001, 'grad_clipping': True, 'clip_norm': 20}\n"
     ]
    },
    {
     "name": "stderr",
     "output_type": "stream",
     "text": [
      "\r",
      " 28%|█████████████████████▉                                                         | 89/320 [50:50<2:13:48, 34.76s/it]"
     ]
    },
    {
     "name": "stdout",
     "output_type": "stream",
     "text": [
      "______________________________________________________\n",
      "AVERAGE VALIDATION ERROR 1.742 ± 1.09\n",
      "______________________________________________________\n",
      "\n",
      "Performing training 89 out of 320\n",
      "[[ 1 10 15  1]]\n",
      "\n",
      "Configuration: {'neurons_architecture': matrix([[ 1, 10, 15,  1]]), 'activation': 'swish', 'n_epochs': 2000.0, 'lr': 0.01, 'en_decay': True, 'lr_final': 0.001, 'lr_decay': True, 'regularization': 'L1', 'penalty': 0.0005, 'grad_clipping': True, 'clip_norm': 20}\n"
     ]
    },
    {
     "name": "stderr",
     "output_type": "stream",
     "text": [
      "\r",
      " 28%|██████████████████████▏                                                        | 90/320 [51:35<2:25:04, 37.84s/it]"
     ]
    },
    {
     "name": "stdout",
     "output_type": "stream",
     "text": [
      "______________________________________________________\n",
      "AVERAGE VALIDATION ERROR 1.999 ± 1.746\n",
      "______________________________________________________\n",
      "\n",
      "Performing training 90 out of 320\n",
      "[[ 1 10 15  1]]\n",
      "\n",
      "Configuration: {'neurons_architecture': matrix([[ 1, 10, 15,  1]]), 'activation': 'swish', 'n_epochs': 2000.0, 'lr': 0.01, 'en_decay': True, 'lr_final': 0.001, 'lr_decay': True, 'regularization': 'L2', 'penalty': 0.001, 'grad_clipping': True, 'clip_norm': 20}\n"
     ]
    },
    {
     "name": "stderr",
     "output_type": "stream",
     "text": [
      "\r",
      " 28%|██████████████████████▍                                                        | 91/320 [52:01<2:10:51, 34.29s/it]"
     ]
    },
    {
     "name": "stdout",
     "output_type": "stream",
     "text": [
      "______________________________________________________\n",
      "AVERAGE VALIDATION ERROR 1.376 ± 0.282\n",
      "______________________________________________________\n",
      "\n",
      "Performing training 91 out of 320\n",
      "[[ 1 10 15  1]]\n",
      "\n",
      "Configuration: {'neurons_architecture': matrix([[ 1, 10, 15,  1]]), 'activation': 'swish', 'n_epochs': 2000.0, 'lr': 0.01, 'en_decay': True, 'lr_final': 0.001, 'lr_decay': True, 'regularization': 'L2', 'penalty': 0.0005, 'grad_clipping': True, 'clip_norm': 20}\n"
     ]
    },
    {
     "name": "stderr",
     "output_type": "stream",
     "text": [
      "\r",
      " 29%|██████████████████████▋                                                        | 92/320 [52:35<2:09:55, 34.19s/it]"
     ]
    },
    {
     "name": "stdout",
     "output_type": "stream",
     "text": [
      "______________________________________________________\n",
      "AVERAGE VALIDATION ERROR 1.564 ± 0.65\n",
      "______________________________________________________\n",
      "\n",
      "Performing training 92 out of 320\n",
      "[[ 1 10 15  1]]\n",
      "\n",
      "Configuration: {'neurons_architecture': matrix([[ 1, 10, 15,  1]]), 'activation': 'swish', 'n_epochs': 2000.0, 'lr': 0.01, 'en_decay': True, 'lr_final': 0.0001, 'lr_decay': True, 'regularization': 'L1', 'penalty': 0.001, 'grad_clipping': True, 'clip_norm': 20}\n"
     ]
    },
    {
     "name": "stderr",
     "output_type": "stream",
     "text": [
      "\r",
      " 29%|██████████████████████▉                                                        | 93/320 [53:08<2:07:59, 33.83s/it]"
     ]
    },
    {
     "name": "stdout",
     "output_type": "stream",
     "text": [
      "______________________________________________________\n",
      "AVERAGE VALIDATION ERROR 1.063 ± 0.17\n",
      "______________________________________________________\n",
      "\n",
      "Performing training 93 out of 320\n",
      "[[ 1 10 15  1]]\n",
      "\n",
      "Configuration: {'neurons_architecture': matrix([[ 1, 10, 15,  1]]), 'activation': 'swish', 'n_epochs': 2000.0, 'lr': 0.01, 'en_decay': True, 'lr_final': 0.0001, 'lr_decay': True, 'regularization': 'L1', 'penalty': 0.0005, 'grad_clipping': True, 'clip_norm': 20}\n"
     ]
    },
    {
     "name": "stderr",
     "output_type": "stream",
     "text": [
      "\r",
      " 29%|███████████████████████▏                                                       | 94/320 [53:47<2:13:44, 35.51s/it]"
     ]
    },
    {
     "name": "stdout",
     "output_type": "stream",
     "text": [
      "______________________________________________________\n",
      "AVERAGE VALIDATION ERROR 1.086 ± 0.688\n",
      "______________________________________________________\n",
      "\n",
      "Performing training 94 out of 320\n",
      "[[ 1 10 15  1]]\n",
      "\n",
      "Configuration: {'neurons_architecture': matrix([[ 1, 10, 15,  1]]), 'activation': 'swish', 'n_epochs': 2000.0, 'lr': 0.01, 'en_decay': True, 'lr_final': 0.0001, 'lr_decay': True, 'regularization': 'L2', 'penalty': 0.001, 'grad_clipping': True, 'clip_norm': 20}\n"
     ]
    },
    {
     "name": "stderr",
     "output_type": "stream",
     "text": [
      "\r",
      " 30%|███████████████████████▍                                                       | 95/320 [54:30<2:21:11, 37.65s/it]"
     ]
    },
    {
     "name": "stdout",
     "output_type": "stream",
     "text": [
      "______________________________________________________\n",
      "AVERAGE VALIDATION ERROR 1.103 ± 0.537\n",
      "______________________________________________________\n",
      "\n",
      "Performing training 95 out of 320\n",
      "[[ 1 10 15  1]]\n",
      "\n",
      "Configuration: {'neurons_architecture': matrix([[ 1, 10, 15,  1]]), 'activation': 'swish', 'n_epochs': 2000.0, 'lr': 0.01, 'en_decay': True, 'lr_final': 0.0001, 'lr_decay': True, 'regularization': 'L2', 'penalty': 0.0005, 'grad_clipping': True, 'clip_norm': 20}\n"
     ]
    },
    {
     "name": "stderr",
     "output_type": "stream",
     "text": [
      "\r",
      " 30%|███████████████████████▋                                                       | 96/320 [55:12<2:25:02, 38.85s/it]"
     ]
    },
    {
     "name": "stdout",
     "output_type": "stream",
     "text": [
      "______________________________________________________\n",
      "AVERAGE VALIDATION ERROR 1.064 ± 0.537\n",
      "______________________________________________________\n",
      "\n",
      "Performing training 96 out of 320\n",
      "[[ 1 15 15  1]]\n",
      "\n",
      "Configuration: {'neurons_architecture': matrix([[ 1, 15, 15,  1]]), 'activation': 'relu', 'n_epochs': 2000.0, 'lr': 0.01, 'en_decay': True, 'lr_final': 0.001, 'lr_decay': True, 'regularization': 'L1', 'penalty': 0.001, 'grad_clipping': True, 'clip_norm': 20}\n"
     ]
    },
    {
     "name": "stderr",
     "output_type": "stream",
     "text": [
      "\r",
      " 30%|███████████████████████▉                                                       | 97/320 [55:37<2:09:22, 34.81s/it]"
     ]
    },
    {
     "name": "stdout",
     "output_type": "stream",
     "text": [
      "______________________________________________________\n",
      "AVERAGE VALIDATION ERROR 1.096 ± 0.373\n",
      "______________________________________________________\n",
      "\n",
      "Performing training 97 out of 320\n",
      "[[ 1 15 15  1]]\n",
      "\n",
      "Configuration: {'neurons_architecture': matrix([[ 1, 15, 15,  1]]), 'activation': 'relu', 'n_epochs': 2000.0, 'lr': 0.01, 'en_decay': True, 'lr_final': 0.001, 'lr_decay': True, 'regularization': 'L1', 'penalty': 0.0005, 'grad_clipping': True, 'clip_norm': 20}\n"
     ]
    },
    {
     "name": "stderr",
     "output_type": "stream",
     "text": [
      "\r",
      " 31%|████████████████████████▏                                                      | 98/320 [56:06<2:02:55, 33.22s/it]"
     ]
    },
    {
     "name": "stdout",
     "output_type": "stream",
     "text": [
      "______________________________________________________\n",
      "AVERAGE VALIDATION ERROR 0.781 ± 0.216\n",
      "______________________________________________________\n",
      "\n",
      "Performing training 98 out of 320\n",
      "[[ 1 15 15  1]]\n",
      "\n",
      "Configuration: {'neurons_architecture': matrix([[ 1, 15, 15,  1]]), 'activation': 'relu', 'n_epochs': 2000.0, 'lr': 0.01, 'en_decay': True, 'lr_final': 0.001, 'lr_decay': True, 'regularization': 'L2', 'penalty': 0.001, 'grad_clipping': True, 'clip_norm': 20}\n"
     ]
    },
    {
     "name": "stderr",
     "output_type": "stream",
     "text": [
      "\r",
      " 31%|████████████████████████▍                                                      | 99/320 [56:30<1:52:13, 30.47s/it]"
     ]
    },
    {
     "name": "stdout",
     "output_type": "stream",
     "text": [
      "______________________________________________________\n",
      "AVERAGE VALIDATION ERROR 0.96 ± 0.248\n",
      "______________________________________________________\n",
      "\n",
      "Performing training 99 out of 320\n",
      "[[ 1 15 15  1]]\n",
      "\n",
      "Configuration: {'neurons_architecture': matrix([[ 1, 15, 15,  1]]), 'activation': 'relu', 'n_epochs': 2000.0, 'lr': 0.01, 'en_decay': True, 'lr_final': 0.001, 'lr_decay': True, 'regularization': 'L2', 'penalty': 0.0005, 'grad_clipping': True, 'clip_norm': 20}\n"
     ]
    },
    {
     "name": "stderr",
     "output_type": "stream",
     "text": [
      "\r",
      " 31%|████████████████████████▍                                                     | 100/320 [56:54<1:44:34, 28.52s/it]"
     ]
    },
    {
     "name": "stdout",
     "output_type": "stream",
     "text": [
      "______________________________________________________\n",
      "AVERAGE VALIDATION ERROR 0.783 ± 0.306\n",
      "______________________________________________________\n",
      "\n",
      "Performing training 100 out of 320\n",
      "[[ 1 15 15  1]]\n",
      "\n",
      "Configuration: {'neurons_architecture': matrix([[ 1, 15, 15,  1]]), 'activation': 'relu', 'n_epochs': 2000.0, 'lr': 0.01, 'en_decay': True, 'lr_final': 0.0001, 'lr_decay': True, 'regularization': 'L1', 'penalty': 0.001, 'grad_clipping': True, 'clip_norm': 20}\n"
     ]
    },
    {
     "name": "stderr",
     "output_type": "stream",
     "text": [
      "\r",
      " 32%|████████████████████████▌                                                     | 101/320 [57:40<2:02:36, 33.59s/it]"
     ]
    },
    {
     "name": "stdout",
     "output_type": "stream",
     "text": [
      "______________________________________________________\n",
      "AVERAGE VALIDATION ERROR 0.919 ± 0.242\n",
      "______________________________________________________\n",
      "\n",
      "Performing training 101 out of 320\n",
      "[[ 1 15 15  1]]\n",
      "\n",
      "Configuration: {'neurons_architecture': matrix([[ 1, 15, 15,  1]]), 'activation': 'relu', 'n_epochs': 2000.0, 'lr': 0.01, 'en_decay': True, 'lr_final': 0.0001, 'lr_decay': True, 'regularization': 'L1', 'penalty': 0.0005, 'grad_clipping': True, 'clip_norm': 20}\n"
     ]
    },
    {
     "name": "stderr",
     "output_type": "stream",
     "text": [
      "\r",
      " 32%|████████████████████████▊                                                     | 102/320 [58:07<1:54:41, 31.57s/it]"
     ]
    },
    {
     "name": "stdout",
     "output_type": "stream",
     "text": [
      "______________________________________________________\n",
      "AVERAGE VALIDATION ERROR 0.978 ± 0.21\n",
      "______________________________________________________\n",
      "\n",
      "Performing training 102 out of 320\n",
      "[[ 1 15 15  1]]\n",
      "\n",
      "Configuration: {'neurons_architecture': matrix([[ 1, 15, 15,  1]]), 'activation': 'relu', 'n_epochs': 2000.0, 'lr': 0.01, 'en_decay': True, 'lr_final': 0.0001, 'lr_decay': True, 'regularization': 'L2', 'penalty': 0.001, 'grad_clipping': True, 'clip_norm': 20}\n"
     ]
    },
    {
     "name": "stderr",
     "output_type": "stream",
     "text": [
      "\r",
      " 32%|█████████████████████████                                                     | 103/320 [58:37<1:53:11, 31.30s/it]"
     ]
    },
    {
     "name": "stdout",
     "output_type": "stream",
     "text": [
      "______________________________________________________\n",
      "AVERAGE VALIDATION ERROR 0.831 ± 0.08\n",
      "______________________________________________________\n",
      "\n",
      "Performing training 103 out of 320\n",
      "[[ 1 15 15  1]]\n",
      "\n",
      "Configuration: {'neurons_architecture': matrix([[ 1, 15, 15,  1]]), 'activation': 'relu', 'n_epochs': 2000.0, 'lr': 0.01, 'en_decay': True, 'lr_final': 0.0001, 'lr_decay': True, 'regularization': 'L2', 'penalty': 0.0005, 'grad_clipping': True, 'clip_norm': 20}\n"
     ]
    },
    {
     "name": "stderr",
     "output_type": "stream",
     "text": [
      "\r",
      " 32%|█████████████████████████▎                                                    | 104/320 [58:59<1:42:16, 28.41s/it]"
     ]
    },
    {
     "name": "stdout",
     "output_type": "stream",
     "text": [
      "______________________________________________________\n",
      "AVERAGE VALIDATION ERROR 0.954 ± 0.473\n",
      "______________________________________________________\n",
      "\n",
      "Performing training 104 out of 320\n",
      "[[ 1 15 15  1]]\n",
      "\n",
      "Configuration: {'neurons_architecture': matrix([[ 1, 15, 15,  1]]), 'activation': 'leaky_relu', 'n_epochs': 2000.0, 'lr': 0.01, 'en_decay': True, 'lr_final': 0.001, 'lr_decay': True, 'regularization': 'L1', 'penalty': 0.001, 'grad_clipping': True, 'clip_norm': 20}\n"
     ]
    },
    {
     "name": "stderr",
     "output_type": "stream",
     "text": [
      "\r",
      " 33%|█████████████████████████▌                                                    | 105/320 [59:30<1:44:06, 29.05s/it]"
     ]
    },
    {
     "name": "stdout",
     "output_type": "stream",
     "text": [
      "______________________________________________________\n",
      "AVERAGE VALIDATION ERROR 0.953 ± 0.357\n",
      "______________________________________________________\n",
      "\n",
      "Performing training 105 out of 320\n",
      "[[ 1 15 15  1]]\n",
      "\n",
      "Configuration: {'neurons_architecture': matrix([[ 1, 15, 15,  1]]), 'activation': 'leaky_relu', 'n_epochs': 2000.0, 'lr': 0.01, 'en_decay': True, 'lr_final': 0.001, 'lr_decay': True, 'regularization': 'L1', 'penalty': 0.0005, 'grad_clipping': True, 'clip_norm': 20}\n"
     ]
    },
    {
     "name": "stderr",
     "output_type": "stream",
     "text": [
      "\r",
      " 33%|█████████████████████████▊                                                    | 106/320 [59:53<1:37:42, 27.40s/it]"
     ]
    },
    {
     "name": "stdout",
     "output_type": "stream",
     "text": [
      "______________________________________________________\n",
      "AVERAGE VALIDATION ERROR 1.248 ± 0.328\n",
      "______________________________________________________\n",
      "\n",
      "Performing training 106 out of 320\n",
      "[[ 1 15 15  1]]\n",
      "\n",
      "Configuration: {'neurons_architecture': matrix([[ 1, 15, 15,  1]]), 'activation': 'leaky_relu', 'n_epochs': 2000.0, 'lr': 0.01, 'en_decay': True, 'lr_final': 0.001, 'lr_decay': True, 'regularization': 'L2', 'penalty': 0.001, 'grad_clipping': True, 'clip_norm': 20}\n"
     ]
    },
    {
     "name": "stderr",
     "output_type": "stream",
     "text": [
      "\r",
      " 33%|█████████████████████████▍                                                  | 107/320 [1:00:20<1:37:01, 27.33s/it]"
     ]
    },
    {
     "name": "stdout",
     "output_type": "stream",
     "text": [
      "______________________________________________________\n",
      "AVERAGE VALIDATION ERROR 0.793 ± 0.288\n",
      "______________________________________________________\n",
      "\n",
      "Performing training 107 out of 320\n",
      "[[ 1 15 15  1]]\n",
      "\n",
      "Configuration: {'neurons_architecture': matrix([[ 1, 15, 15,  1]]), 'activation': 'leaky_relu', 'n_epochs': 2000.0, 'lr': 0.01, 'en_decay': True, 'lr_final': 0.001, 'lr_decay': True, 'regularization': 'L2', 'penalty': 0.0005, 'grad_clipping': True, 'clip_norm': 20}\n"
     ]
    },
    {
     "name": "stderr",
     "output_type": "stream",
     "text": [
      "\r",
      " 34%|█████████████████████████▋                                                  | 108/320 [1:00:44<1:32:40, 26.23s/it]"
     ]
    },
    {
     "name": "stdout",
     "output_type": "stream",
     "text": [
      "______________________________________________________\n",
      "AVERAGE VALIDATION ERROR 1.216 ± 0.732\n",
      "______________________________________________________\n",
      "\n",
      "Performing training 108 out of 320\n",
      "[[ 1 15 15  1]]\n",
      "\n",
      "Configuration: {'neurons_architecture': matrix([[ 1, 15, 15,  1]]), 'activation': 'leaky_relu', 'n_epochs': 2000.0, 'lr': 0.01, 'en_decay': True, 'lr_final': 0.0001, 'lr_decay': True, 'regularization': 'L1', 'penalty': 0.001, 'grad_clipping': True, 'clip_norm': 20}\n"
     ]
    },
    {
     "name": "stderr",
     "output_type": "stream",
     "text": [
      "\r",
      " 34%|█████████████████████████▉                                                  | 109/320 [1:01:26<1:49:24, 31.11s/it]"
     ]
    },
    {
     "name": "stdout",
     "output_type": "stream",
     "text": [
      "______________________________________________________\n",
      "AVERAGE VALIDATION ERROR 0.945 ± 0.388\n",
      "______________________________________________________\n",
      "\n",
      "Performing training 109 out of 320\n",
      "[[ 1 15 15  1]]\n",
      "\n",
      "Configuration: {'neurons_architecture': matrix([[ 1, 15, 15,  1]]), 'activation': 'leaky_relu', 'n_epochs': 2000.0, 'lr': 0.01, 'en_decay': True, 'lr_final': 0.0001, 'lr_decay': True, 'regularization': 'L1', 'penalty': 0.0005, 'grad_clipping': True, 'clip_norm': 20}\n"
     ]
    },
    {
     "name": "stderr",
     "output_type": "stream",
     "text": [
      "\r",
      " 34%|██████████████████████████▏                                                 | 110/320 [1:02:02<1:53:47, 32.51s/it]"
     ]
    },
    {
     "name": "stdout",
     "output_type": "stream",
     "text": [
      "______________________________________________________\n",
      "AVERAGE VALIDATION ERROR 0.944 ± 0.211\n",
      "______________________________________________________\n",
      "\n",
      "Performing training 110 out of 320\n",
      "[[ 1 15 15  1]]\n",
      "\n",
      "Configuration: {'neurons_architecture': matrix([[ 1, 15, 15,  1]]), 'activation': 'leaky_relu', 'n_epochs': 2000.0, 'lr': 0.01, 'en_decay': True, 'lr_final': 0.0001, 'lr_decay': True, 'regularization': 'L2', 'penalty': 0.001, 'grad_clipping': True, 'clip_norm': 20}\n"
     ]
    },
    {
     "name": "stderr",
     "output_type": "stream",
     "text": [
      "\r",
      " 35%|██████████████████████████▎                                                 | 111/320 [1:02:36<1:54:52, 32.98s/it]"
     ]
    },
    {
     "name": "stdout",
     "output_type": "stream",
     "text": [
      "______________________________________________________\n",
      "AVERAGE VALIDATION ERROR 0.895 ± 0.181\n",
      "______________________________________________________\n",
      "\n",
      "Performing training 111 out of 320\n",
      "[[ 1 15 15  1]]\n",
      "\n",
      "Configuration: {'neurons_architecture': matrix([[ 1, 15, 15,  1]]), 'activation': 'leaky_relu', 'n_epochs': 2000.0, 'lr': 0.01, 'en_decay': True, 'lr_final': 0.0001, 'lr_decay': True, 'regularization': 'L2', 'penalty': 0.0005, 'grad_clipping': True, 'clip_norm': 20}\n"
     ]
    },
    {
     "name": "stderr",
     "output_type": "stream",
     "text": [
      "\r",
      " 35%|██████████████████████████▌                                                 | 112/320 [1:03:12<1:56:43, 33.67s/it]"
     ]
    },
    {
     "name": "stdout",
     "output_type": "stream",
     "text": [
      "______________________________________________________\n",
      "AVERAGE VALIDATION ERROR 0.84 ± 0.438\n",
      "______________________________________________________\n",
      "\n",
      "Performing training 112 out of 320\n",
      "[[ 1 15 15  1]]\n",
      "\n",
      "Configuration: {'neurons_architecture': matrix([[ 1, 15, 15,  1]]), 'activation': 'elu', 'n_epochs': 2000.0, 'lr': 0.01, 'en_decay': True, 'lr_final': 0.001, 'lr_decay': True, 'regularization': 'L1', 'penalty': 0.001, 'grad_clipping': True, 'clip_norm': 20}\n"
     ]
    },
    {
     "name": "stderr",
     "output_type": "stream",
     "text": [
      "\r",
      " 35%|██████████████████████████▊                                                 | 113/320 [1:03:46<1:57:17, 34.00s/it]"
     ]
    },
    {
     "name": "stdout",
     "output_type": "stream",
     "text": [
      "______________________________________________________\n",
      "AVERAGE VALIDATION ERROR 4.381 ± 5.57\n",
      "______________________________________________________\n",
      "\n",
      "Performing training 113 out of 320\n",
      "[[ 1 15 15  1]]\n",
      "\n",
      "Configuration: {'neurons_architecture': matrix([[ 1, 15, 15,  1]]), 'activation': 'elu', 'n_epochs': 2000.0, 'lr': 0.01, 'en_decay': True, 'lr_final': 0.001, 'lr_decay': True, 'regularization': 'L1', 'penalty': 0.0005, 'grad_clipping': True, 'clip_norm': 20}\n"
     ]
    },
    {
     "name": "stderr",
     "output_type": "stream",
     "text": [
      "\r",
      " 36%|███████████████████████████                                                 | 114/320 [1:04:16<1:52:05, 32.65s/it]"
     ]
    },
    {
     "name": "stdout",
     "output_type": "stream",
     "text": [
      "______________________________________________________\n",
      "AVERAGE VALIDATION ERROR 14.549 ± 19.459\n",
      "______________________________________________________\n",
      "\n",
      "Performing training 114 out of 320\n",
      "[[ 1 15 15  1]]\n",
      "\n",
      "Configuration: {'neurons_architecture': matrix([[ 1, 15, 15,  1]]), 'activation': 'elu', 'n_epochs': 2000.0, 'lr': 0.01, 'en_decay': True, 'lr_final': 0.001, 'lr_decay': True, 'regularization': 'L2', 'penalty': 0.001, 'grad_clipping': True, 'clip_norm': 20}\n"
     ]
    },
    {
     "name": "stderr",
     "output_type": "stream",
     "text": [
      "\r",
      " 36%|███████████████████████████▎                                                | 115/320 [1:04:50<1:53:24, 33.19s/it]"
     ]
    },
    {
     "name": "stdout",
     "output_type": "stream",
     "text": [
      "______________________________________________________\n",
      "AVERAGE VALIDATION ERROR 1.273 ± 0.743\n",
      "______________________________________________________\n",
      "\n",
      "Performing training 115 out of 320\n",
      "[[ 1 15 15  1]]\n",
      "\n",
      "Configuration: {'neurons_architecture': matrix([[ 1, 15, 15,  1]]), 'activation': 'elu', 'n_epochs': 2000.0, 'lr': 0.01, 'en_decay': True, 'lr_final': 0.001, 'lr_decay': True, 'regularization': 'L2', 'penalty': 0.0005, 'grad_clipping': True, 'clip_norm': 20}\n"
     ]
    },
    {
     "name": "stderr",
     "output_type": "stream",
     "text": [
      "\r",
      " 36%|███████████████████████████▌                                                | 116/320 [1:05:11<1:39:52, 29.37s/it]"
     ]
    },
    {
     "name": "stdout",
     "output_type": "stream",
     "text": [
      "______________________________________________________\n",
      "AVERAGE VALIDATION ERROR 10.546 ± 9.677\n",
      "______________________________________________________\n",
      "\n",
      "Performing training 116 out of 320\n",
      "[[ 1 15 15  1]]\n",
      "\n",
      "Configuration: {'neurons_architecture': matrix([[ 1, 15, 15,  1]]), 'activation': 'elu', 'n_epochs': 2000.0, 'lr': 0.01, 'en_decay': True, 'lr_final': 0.0001, 'lr_decay': True, 'regularization': 'L1', 'penalty': 0.001, 'grad_clipping': True, 'clip_norm': 20}\n"
     ]
    },
    {
     "name": "stderr",
     "output_type": "stream",
     "text": [
      "\r",
      " 37%|███████████████████████████▊                                                | 117/320 [1:06:02<2:01:43, 35.98s/it]"
     ]
    },
    {
     "name": "stdout",
     "output_type": "stream",
     "text": [
      "______________________________________________________\n",
      "AVERAGE VALIDATION ERROR 1.675 ± 1.881\n",
      "______________________________________________________\n",
      "\n",
      "Performing training 117 out of 320\n",
      "[[ 1 15 15  1]]\n",
      "\n",
      "Configuration: {'neurons_architecture': matrix([[ 1, 15, 15,  1]]), 'activation': 'elu', 'n_epochs': 2000.0, 'lr': 0.01, 'en_decay': True, 'lr_final': 0.0001, 'lr_decay': True, 'regularization': 'L1', 'penalty': 0.0005, 'grad_clipping': True, 'clip_norm': 20}\n"
     ]
    },
    {
     "name": "stderr",
     "output_type": "stream",
     "text": [
      "\r",
      " 37%|████████████████████████████                                                | 118/320 [1:06:50<2:12:56, 39.49s/it]"
     ]
    },
    {
     "name": "stdout",
     "output_type": "stream",
     "text": [
      "______________________________________________________\n",
      "AVERAGE VALIDATION ERROR 1.183 ± 0.452\n",
      "______________________________________________________\n",
      "\n",
      "Performing training 118 out of 320\n",
      "[[ 1 15 15  1]]\n",
      "\n",
      "Configuration: {'neurons_architecture': matrix([[ 1, 15, 15,  1]]), 'activation': 'elu', 'n_epochs': 2000.0, 'lr': 0.01, 'en_decay': True, 'lr_final': 0.0001, 'lr_decay': True, 'regularization': 'L2', 'penalty': 0.001, 'grad_clipping': True, 'clip_norm': 20}\n"
     ]
    },
    {
     "name": "stderr",
     "output_type": "stream",
     "text": [
      "\r",
      " 37%|████████████████████████████▎                                               | 119/320 [1:07:24<2:07:02, 37.92s/it]"
     ]
    },
    {
     "name": "stdout",
     "output_type": "stream",
     "text": [
      "______________________________________________________\n",
      "AVERAGE VALIDATION ERROR 1.274 ± 0.73\n",
      "______________________________________________________\n",
      "\n",
      "Performing training 119 out of 320\n",
      "[[ 1 15 15  1]]\n",
      "\n",
      "Configuration: {'neurons_architecture': matrix([[ 1, 15, 15,  1]]), 'activation': 'elu', 'n_epochs': 2000.0, 'lr': 0.01, 'en_decay': True, 'lr_final': 0.0001, 'lr_decay': True, 'regularization': 'L2', 'penalty': 0.0005, 'grad_clipping': True, 'clip_norm': 20}\n"
     ]
    },
    {
     "name": "stderr",
     "output_type": "stream",
     "text": [
      "\r",
      " 38%|████████████████████████████▌                                               | 120/320 [1:08:02<2:06:31, 37.96s/it]"
     ]
    },
    {
     "name": "stdout",
     "output_type": "stream",
     "text": [
      "______________________________________________________\n",
      "AVERAGE VALIDATION ERROR 1.272 ± 0.732\n",
      "______________________________________________________\n",
      "\n",
      "Performing training 120 out of 320\n",
      "[[ 1 15 15  1]]\n",
      "\n",
      "Configuration: {'neurons_architecture': matrix([[ 1, 15, 15,  1]]), 'activation': 'swish', 'n_epochs': 2000.0, 'lr': 0.01, 'en_decay': True, 'lr_final': 0.001, 'lr_decay': True, 'regularization': 'L1', 'penalty': 0.001, 'grad_clipping': True, 'clip_norm': 20}\n"
     ]
    },
    {
     "name": "stderr",
     "output_type": "stream",
     "text": [
      "\r",
      " 38%|████████████████████████████▋                                               | 121/320 [1:08:35<2:00:20, 36.29s/it]"
     ]
    },
    {
     "name": "stdout",
     "output_type": "stream",
     "text": [
      "______________________________________________________\n",
      "AVERAGE VALIDATION ERROR 1.352 ± 0.683\n",
      "______________________________________________________\n",
      "\n",
      "Performing training 121 out of 320\n",
      "[[ 1 15 15  1]]\n",
      "\n",
      "Configuration: {'neurons_architecture': matrix([[ 1, 15, 15,  1]]), 'activation': 'swish', 'n_epochs': 2000.0, 'lr': 0.01, 'en_decay': True, 'lr_final': 0.001, 'lr_decay': True, 'regularization': 'L1', 'penalty': 0.0005, 'grad_clipping': True, 'clip_norm': 20}\n"
     ]
    },
    {
     "name": "stderr",
     "output_type": "stream",
     "text": [
      "\r",
      " 38%|████████████████████████████▉                                               | 122/320 [1:09:16<2:04:21, 37.69s/it]"
     ]
    },
    {
     "name": "stdout",
     "output_type": "stream",
     "text": [
      "______________________________________________________\n",
      "AVERAGE VALIDATION ERROR 1.565 ± 1.244\n",
      "______________________________________________________\n",
      "\n",
      "Performing training 122 out of 320\n",
      "[[ 1 15 15  1]]\n",
      "\n",
      "Configuration: {'neurons_architecture': matrix([[ 1, 15, 15,  1]]), 'activation': 'swish', 'n_epochs': 2000.0, 'lr': 0.01, 'en_decay': True, 'lr_final': 0.001, 'lr_decay': True, 'regularization': 'L2', 'penalty': 0.001, 'grad_clipping': True, 'clip_norm': 20}\n"
     ]
    },
    {
     "name": "stderr",
     "output_type": "stream",
     "text": [
      "\r",
      " 38%|█████████████████████████████▏                                              | 123/320 [1:09:41<1:51:19, 33.90s/it]"
     ]
    },
    {
     "name": "stdout",
     "output_type": "stream",
     "text": [
      "______________________________________________________\n",
      "AVERAGE VALIDATION ERROR 1.716 ± 0.692\n",
      "______________________________________________________\n",
      "\n",
      "Performing training 123 out of 320\n",
      "[[ 1 15 15  1]]\n",
      "\n",
      "Configuration: {'neurons_architecture': matrix([[ 1, 15, 15,  1]]), 'activation': 'swish', 'n_epochs': 2000.0, 'lr': 0.01, 'en_decay': True, 'lr_final': 0.001, 'lr_decay': True, 'regularization': 'L2', 'penalty': 0.0005, 'grad_clipping': True, 'clip_norm': 20}\n"
     ]
    },
    {
     "name": "stderr",
     "output_type": "stream",
     "text": [
      "\r",
      " 39%|█████████████████████████████▍                                              | 124/320 [1:10:17<1:53:10, 34.65s/it]"
     ]
    },
    {
     "name": "stdout",
     "output_type": "stream",
     "text": [
      "______________________________________________________\n",
      "AVERAGE VALIDATION ERROR 1.108 ± 0.374\n",
      "______________________________________________________\n",
      "\n",
      "Performing training 124 out of 320\n",
      "[[ 1 15 15  1]]\n",
      "\n",
      "Configuration: {'neurons_architecture': matrix([[ 1, 15, 15,  1]]), 'activation': 'swish', 'n_epochs': 2000.0, 'lr': 0.01, 'en_decay': True, 'lr_final': 0.0001, 'lr_decay': True, 'regularization': 'L1', 'penalty': 0.001, 'grad_clipping': True, 'clip_norm': 20}\n"
     ]
    },
    {
     "name": "stderr",
     "output_type": "stream",
     "text": [
      "\r",
      " 39%|█████████████████████████████▋                                              | 125/320 [1:10:46<1:46:42, 32.83s/it]"
     ]
    },
    {
     "name": "stdout",
     "output_type": "stream",
     "text": [
      "______________________________________________________\n",
      "AVERAGE VALIDATION ERROR 2.446 ± 1.513\n",
      "______________________________________________________\n",
      "\n",
      "Performing training 125 out of 320\n",
      "[[ 1 15 15  1]]\n",
      "\n",
      "Configuration: {'neurons_architecture': matrix([[ 1, 15, 15,  1]]), 'activation': 'swish', 'n_epochs': 2000.0, 'lr': 0.01, 'en_decay': True, 'lr_final': 0.0001, 'lr_decay': True, 'regularization': 'L1', 'penalty': 0.0005, 'grad_clipping': True, 'clip_norm': 20}\n"
     ]
    },
    {
     "name": "stderr",
     "output_type": "stream",
     "text": [
      "\r",
      " 39%|█████████████████████████████▉                                              | 126/320 [1:11:15<1:42:31, 31.71s/it]"
     ]
    },
    {
     "name": "stdout",
     "output_type": "stream",
     "text": [
      "______________________________________________________\n",
      "AVERAGE VALIDATION ERROR 1.281 ± 0.345\n",
      "______________________________________________________\n",
      "\n",
      "Performing training 126 out of 320\n",
      "[[ 1 15 15  1]]\n",
      "\n",
      "Configuration: {'neurons_architecture': matrix([[ 1, 15, 15,  1]]), 'activation': 'swish', 'n_epochs': 2000.0, 'lr': 0.01, 'en_decay': True, 'lr_final': 0.0001, 'lr_decay': True, 'regularization': 'L2', 'penalty': 0.001, 'grad_clipping': True, 'clip_norm': 20}\n"
     ]
    },
    {
     "name": "stderr",
     "output_type": "stream",
     "text": [
      "\r",
      " 40%|██████████████████████████████▏                                             | 127/320 [1:11:39<1:34:30, 29.38s/it]"
     ]
    },
    {
     "name": "stdout",
     "output_type": "stream",
     "text": [
      "______________________________________________________\n",
      "AVERAGE VALIDATION ERROR 2.194 ± 1.463\n",
      "______________________________________________________\n",
      "\n",
      "Performing training 127 out of 320\n",
      "[[ 1 15 15  1]]\n",
      "\n",
      "Configuration: {'neurons_architecture': matrix([[ 1, 15, 15,  1]]), 'activation': 'swish', 'n_epochs': 2000.0, 'lr': 0.01, 'en_decay': True, 'lr_final': 0.0001, 'lr_decay': True, 'regularization': 'L2', 'penalty': 0.0005, 'grad_clipping': True, 'clip_norm': 20}\n"
     ]
    },
    {
     "name": "stderr",
     "output_type": "stream",
     "text": [
      "\r",
      " 40%|██████████████████████████████▍                                             | 128/320 [1:12:05<1:30:40, 28.34s/it]"
     ]
    },
    {
     "name": "stdout",
     "output_type": "stream",
     "text": [
      "______________________________________________________\n",
      "AVERAGE VALIDATION ERROR 2.757 ± 1.805\n",
      "______________________________________________________\n",
      "\n",
      "Performing training 128 out of 320\n",
      "[[ 1 20 10  1]]\n",
      "\n",
      "Configuration: {'neurons_architecture': matrix([[ 1, 20, 10,  1]]), 'activation': 'relu', 'n_epochs': 2000.0, 'lr': 0.01, 'en_decay': True, 'lr_final': 0.001, 'lr_decay': True, 'regularization': 'L1', 'penalty': 0.001, 'grad_clipping': True, 'clip_norm': 20}\n"
     ]
    },
    {
     "name": "stderr",
     "output_type": "stream",
     "text": [
      "\r",
      " 40%|██████████████████████████████▋                                             | 129/320 [1:12:28<1:25:22, 26.82s/it]"
     ]
    },
    {
     "name": "stdout",
     "output_type": "stream",
     "text": [
      "______________________________________________________\n",
      "AVERAGE VALIDATION ERROR 1.165 ± 0.587\n",
      "______________________________________________________\n",
      "\n",
      "Performing training 129 out of 320\n",
      "[[ 1 20 10  1]]\n",
      "\n",
      "Configuration: {'neurons_architecture': matrix([[ 1, 20, 10,  1]]), 'activation': 'relu', 'n_epochs': 2000.0, 'lr': 0.01, 'en_decay': True, 'lr_final': 0.001, 'lr_decay': True, 'regularization': 'L1', 'penalty': 0.0005, 'grad_clipping': True, 'clip_norm': 20}\n"
     ]
    },
    {
     "name": "stderr",
     "output_type": "stream",
     "text": [
      "\r",
      " 41%|██████████████████████████████▉                                             | 130/320 [1:12:50<1:20:17, 25.36s/it]"
     ]
    },
    {
     "name": "stdout",
     "output_type": "stream",
     "text": [
      "______________________________________________________\n",
      "AVERAGE VALIDATION ERROR 1.4 ± 0.64\n",
      "______________________________________________________\n",
      "\n",
      "Performing training 130 out of 320\n",
      "[[ 1 20 10  1]]\n",
      "\n",
      "Configuration: {'neurons_architecture': matrix([[ 1, 20, 10,  1]]), 'activation': 'relu', 'n_epochs': 2000.0, 'lr': 0.01, 'en_decay': True, 'lr_final': 0.001, 'lr_decay': True, 'regularization': 'L2', 'penalty': 0.001, 'grad_clipping': True, 'clip_norm': 20}\n"
     ]
    },
    {
     "name": "stderr",
     "output_type": "stream",
     "text": [
      "\r",
      " 41%|███████████████████████████████                                             | 131/320 [1:13:22<1:26:10, 27.36s/it]"
     ]
    },
    {
     "name": "stdout",
     "output_type": "stream",
     "text": [
      "______________________________________________________\n",
      "AVERAGE VALIDATION ERROR 1.151 ± 1.064\n",
      "______________________________________________________\n",
      "\n",
      "Performing training 131 out of 320\n",
      "[[ 1 20 10  1]]\n",
      "\n",
      "Configuration: {'neurons_architecture': matrix([[ 1, 20, 10,  1]]), 'activation': 'relu', 'n_epochs': 2000.0, 'lr': 0.01, 'en_decay': True, 'lr_final': 0.001, 'lr_decay': True, 'regularization': 'L2', 'penalty': 0.0005, 'grad_clipping': True, 'clip_norm': 20}\n"
     ]
    },
    {
     "name": "stderr",
     "output_type": "stream",
     "text": [
      "\r",
      " 41%|███████████████████████████████▎                                            | 132/320 [1:13:38<1:15:26, 24.08s/it]"
     ]
    },
    {
     "name": "stdout",
     "output_type": "stream",
     "text": [
      "______________________________________________________\n",
      "AVERAGE VALIDATION ERROR 2.183 ± 1.987\n",
      "______________________________________________________\n",
      "\n",
      "Performing training 132 out of 320\n",
      "[[ 1 20 10  1]]\n",
      "\n",
      "Configuration: {'neurons_architecture': matrix([[ 1, 20, 10,  1]]), 'activation': 'relu', 'n_epochs': 2000.0, 'lr': 0.01, 'en_decay': True, 'lr_final': 0.0001, 'lr_decay': True, 'regularization': 'L1', 'penalty': 0.001, 'grad_clipping': True, 'clip_norm': 20}\n"
     ]
    },
    {
     "name": "stderr",
     "output_type": "stream",
     "text": [
      "\r",
      " 42%|███████████████████████████████▌                                            | 133/320 [1:14:18<1:30:01, 28.89s/it]"
     ]
    },
    {
     "name": "stdout",
     "output_type": "stream",
     "text": [
      "______________________________________________________\n",
      "AVERAGE VALIDATION ERROR 0.944 ± 0.455\n",
      "______________________________________________________\n",
      "\n",
      "Performing training 133 out of 320\n",
      "[[ 1 20 10  1]]\n",
      "\n",
      "Configuration: {'neurons_architecture': matrix([[ 1, 20, 10,  1]]), 'activation': 'relu', 'n_epochs': 2000.0, 'lr': 0.01, 'en_decay': True, 'lr_final': 0.0001, 'lr_decay': True, 'regularization': 'L1', 'penalty': 0.0005, 'grad_clipping': True, 'clip_norm': 20}\n"
     ]
    },
    {
     "name": "stderr",
     "output_type": "stream",
     "text": [
      "\r",
      " 42%|███████████████████████████████▊                                            | 134/320 [1:14:42<1:24:33, 27.28s/it]"
     ]
    },
    {
     "name": "stdout",
     "output_type": "stream",
     "text": [
      "______________________________________________________\n",
      "AVERAGE VALIDATION ERROR 0.955 ± 0.236\n",
      "______________________________________________________\n",
      "\n",
      "Performing training 134 out of 320\n",
      "[[ 1 20 10  1]]\n",
      "\n",
      "Configuration: {'neurons_architecture': matrix([[ 1, 20, 10,  1]]), 'activation': 'relu', 'n_epochs': 2000.0, 'lr': 0.01, 'en_decay': True, 'lr_final': 0.0001, 'lr_decay': True, 'regularization': 'L2', 'penalty': 0.001, 'grad_clipping': True, 'clip_norm': 20}\n"
     ]
    },
    {
     "name": "stderr",
     "output_type": "stream",
     "text": [
      "\r",
      " 42%|████████████████████████████████                                            | 135/320 [1:15:10<1:24:38, 27.45s/it]"
     ]
    },
    {
     "name": "stdout",
     "output_type": "stream",
     "text": [
      "______________________________________________________\n",
      "AVERAGE VALIDATION ERROR 0.945 ± 0.344\n",
      "______________________________________________________\n",
      "\n",
      "Performing training 135 out of 320\n",
      "[[ 1 20 10  1]]\n",
      "\n",
      "Configuration: {'neurons_architecture': matrix([[ 1, 20, 10,  1]]), 'activation': 'relu', 'n_epochs': 2000.0, 'lr': 0.01, 'en_decay': True, 'lr_final': 0.0001, 'lr_decay': True, 'regularization': 'L2', 'penalty': 0.0005, 'grad_clipping': True, 'clip_norm': 20}\n"
     ]
    },
    {
     "name": "stderr",
     "output_type": "stream",
     "text": [
      "\r",
      " 42%|████████████████████████████████▎                                           | 136/320 [1:15:36<1:22:55, 27.04s/it]"
     ]
    },
    {
     "name": "stdout",
     "output_type": "stream",
     "text": [
      "______________________________________________________\n",
      "AVERAGE VALIDATION ERROR 0.803 ± 0.185\n",
      "______________________________________________________\n",
      "\n",
      "Performing training 136 out of 320\n",
      "[[ 1 20 10  1]]\n",
      "\n",
      "Configuration: {'neurons_architecture': matrix([[ 1, 20, 10,  1]]), 'activation': 'leaky_relu', 'n_epochs': 2000.0, 'lr': 0.01, 'en_decay': True, 'lr_final': 0.001, 'lr_decay': True, 'regularization': 'L1', 'penalty': 0.001, 'grad_clipping': True, 'clip_norm': 20}\n"
     ]
    },
    {
     "name": "stderr",
     "output_type": "stream",
     "text": [
      "\r",
      " 43%|████████████████████████████████▌                                           | 137/320 [1:16:03<1:22:54, 27.18s/it]"
     ]
    },
    {
     "name": "stdout",
     "output_type": "stream",
     "text": [
      "______________________________________________________\n",
      "AVERAGE VALIDATION ERROR 1.405 ± 0.66\n",
      "______________________________________________________\n",
      "\n",
      "Performing training 137 out of 320\n",
      "[[ 1 20 10  1]]\n",
      "\n",
      "Configuration: {'neurons_architecture': matrix([[ 1, 20, 10,  1]]), 'activation': 'leaky_relu', 'n_epochs': 2000.0, 'lr': 0.01, 'en_decay': True, 'lr_final': 0.001, 'lr_decay': True, 'regularization': 'L1', 'penalty': 0.0005, 'grad_clipping': True, 'clip_norm': 20}\n"
     ]
    },
    {
     "name": "stderr",
     "output_type": "stream",
     "text": [
      "\r",
      " 43%|████████████████████████████████▊                                           | 138/320 [1:16:25<1:17:09, 25.43s/it]"
     ]
    },
    {
     "name": "stdout",
     "output_type": "stream",
     "text": [
      "______________________________________________________\n",
      "AVERAGE VALIDATION ERROR 2.84 ± 1.561\n",
      "______________________________________________________\n",
      "\n",
      "Performing training 138 out of 320\n",
      "[[ 1 20 10  1]]\n",
      "\n",
      "Configuration: {'neurons_architecture': matrix([[ 1, 20, 10,  1]]), 'activation': 'leaky_relu', 'n_epochs': 2000.0, 'lr': 0.01, 'en_decay': True, 'lr_final': 0.001, 'lr_decay': True, 'regularization': 'L2', 'penalty': 0.001, 'grad_clipping': True, 'clip_norm': 20}\n"
     ]
    },
    {
     "name": "stderr",
     "output_type": "stream",
     "text": [
      "\r",
      " 43%|█████████████████████████████████                                           | 139/320 [1:16:59<1:24:44, 28.09s/it]"
     ]
    },
    {
     "name": "stdout",
     "output_type": "stream",
     "text": [
      "______________________________________________________\n",
      "AVERAGE VALIDATION ERROR 0.964 ± 0.316\n",
      "______________________________________________________\n",
      "\n",
      "Performing training 139 out of 320\n",
      "[[ 1 20 10  1]]\n",
      "\n",
      "Configuration: {'neurons_architecture': matrix([[ 1, 20, 10,  1]]), 'activation': 'leaky_relu', 'n_epochs': 2000.0, 'lr': 0.01, 'en_decay': True, 'lr_final': 0.001, 'lr_decay': True, 'regularization': 'L2', 'penalty': 0.0005, 'grad_clipping': True, 'clip_norm': 20}\n"
     ]
    },
    {
     "name": "stderr",
     "output_type": "stream",
     "text": [
      "\r",
      " 44%|█████████████████████████████████▎                                          | 140/320 [1:17:25<1:22:40, 27.56s/it]"
     ]
    },
    {
     "name": "stdout",
     "output_type": "stream",
     "text": [
      "______________________________________________________\n",
      "AVERAGE VALIDATION ERROR 1.283 ± 0.488\n",
      "______________________________________________________\n",
      "\n",
      "Performing training 140 out of 320\n",
      "[[ 1 20 10  1]]\n",
      "\n",
      "Configuration: {'neurons_architecture': matrix([[ 1, 20, 10,  1]]), 'activation': 'leaky_relu', 'n_epochs': 2000.0, 'lr': 0.01, 'en_decay': True, 'lr_final': 0.0001, 'lr_decay': True, 'regularization': 'L1', 'penalty': 0.001, 'grad_clipping': True, 'clip_norm': 20}\n"
     ]
    },
    {
     "name": "stderr",
     "output_type": "stream",
     "text": [
      "\r",
      " 44%|█████████████████████████████████▍                                          | 141/320 [1:18:08<1:35:28, 32.00s/it]"
     ]
    },
    {
     "name": "stdout",
     "output_type": "stream",
     "text": [
      "______________________________________________________\n",
      "AVERAGE VALIDATION ERROR 0.903 ± 0.329\n",
      "______________________________________________________\n",
      "\n",
      "Performing training 141 out of 320\n",
      "[[ 1 20 10  1]]\n",
      "\n",
      "Configuration: {'neurons_architecture': matrix([[ 1, 20, 10,  1]]), 'activation': 'leaky_relu', 'n_epochs': 2000.0, 'lr': 0.01, 'en_decay': True, 'lr_final': 0.0001, 'lr_decay': True, 'regularization': 'L1', 'penalty': 0.0005, 'grad_clipping': True, 'clip_norm': 20}\n"
     ]
    },
    {
     "name": "stderr",
     "output_type": "stream",
     "text": [
      "\r",
      " 44%|█████████████████████████████████▋                                          | 142/320 [1:18:49<1:43:02, 34.73s/it]"
     ]
    },
    {
     "name": "stdout",
     "output_type": "stream",
     "text": [
      "______________________________________________________\n",
      "AVERAGE VALIDATION ERROR 0.945 ± 0.233\n",
      "______________________________________________________\n",
      "\n",
      "Performing training 142 out of 320\n",
      "[[ 1 20 10  1]]\n",
      "\n",
      "Configuration: {'neurons_architecture': matrix([[ 1, 20, 10,  1]]), 'activation': 'leaky_relu', 'n_epochs': 2000.0, 'lr': 0.01, 'en_decay': True, 'lr_final': 0.0001, 'lr_decay': True, 'regularization': 'L2', 'penalty': 0.001, 'grad_clipping': True, 'clip_norm': 20}\n"
     ]
    },
    {
     "name": "stderr",
     "output_type": "stream",
     "text": [
      "\r",
      " 45%|█████████████████████████████████▉                                          | 143/320 [1:19:12<1:31:56, 31.17s/it]"
     ]
    },
    {
     "name": "stdout",
     "output_type": "stream",
     "text": [
      "______________________________________________________\n",
      "AVERAGE VALIDATION ERROR 1.012 ± 0.316\n",
      "______________________________________________________\n",
      "\n",
      "Performing training 143 out of 320\n",
      "[[ 1 20 10  1]]\n",
      "\n",
      "Configuration: {'neurons_architecture': matrix([[ 1, 20, 10,  1]]), 'activation': 'leaky_relu', 'n_epochs': 2000.0, 'lr': 0.01, 'en_decay': True, 'lr_final': 0.0001, 'lr_decay': True, 'regularization': 'L2', 'penalty': 0.0005, 'grad_clipping': True, 'clip_norm': 20}\n"
     ]
    },
    {
     "name": "stderr",
     "output_type": "stream",
     "text": [
      "\r",
      " 45%|██████████████████████████████████▏                                         | 144/320 [1:19:50<1:38:05, 33.44s/it]"
     ]
    },
    {
     "name": "stdout",
     "output_type": "stream",
     "text": [
      "______________________________________________________\n",
      "AVERAGE VALIDATION ERROR 0.821 ± 0.275\n",
      "______________________________________________________\n",
      "\n",
      "Performing training 144 out of 320\n",
      "[[ 1 20 10  1]]\n",
      "\n",
      "Configuration: {'neurons_architecture': matrix([[ 1, 20, 10,  1]]), 'activation': 'elu', 'n_epochs': 2000.0, 'lr': 0.01, 'en_decay': True, 'lr_final': 0.001, 'lr_decay': True, 'regularization': 'L1', 'penalty': 0.001, 'grad_clipping': True, 'clip_norm': 20}\n"
     ]
    },
    {
     "name": "stderr",
     "output_type": "stream",
     "text": [
      "\r",
      " 45%|██████████████████████████████████▍                                         | 145/320 [1:20:27<1:40:36, 34.49s/it]"
     ]
    },
    {
     "name": "stdout",
     "output_type": "stream",
     "text": [
      "______________________________________________________\n",
      "AVERAGE VALIDATION ERROR 1.091 ± 0.288\n",
      "______________________________________________________\n",
      "\n",
      "Performing training 145 out of 320\n",
      "[[ 1 20 10  1]]\n",
      "\n",
      "Configuration: {'neurons_architecture': matrix([[ 1, 20, 10,  1]]), 'activation': 'elu', 'n_epochs': 2000.0, 'lr': 0.01, 'en_decay': True, 'lr_final': 0.001, 'lr_decay': True, 'regularization': 'L1', 'penalty': 0.0005, 'grad_clipping': True, 'clip_norm': 20}\n"
     ]
    },
    {
     "name": "stderr",
     "output_type": "stream",
     "text": [
      "\r",
      " 46%|██████████████████████████████████▋                                         | 146/320 [1:21:04<1:42:14, 35.25s/it]"
     ]
    },
    {
     "name": "stdout",
     "output_type": "stream",
     "text": [
      "______________________________________________________\n",
      "AVERAGE VALIDATION ERROR 1.312 ± 0.705\n",
      "______________________________________________________\n",
      "\n",
      "Performing training 146 out of 320\n",
      "[[ 1 20 10  1]]\n",
      "\n",
      "Configuration: {'neurons_architecture': matrix([[ 1, 20, 10,  1]]), 'activation': 'elu', 'n_epochs': 2000.0, 'lr': 0.01, 'en_decay': True, 'lr_final': 0.001, 'lr_decay': True, 'regularization': 'L2', 'penalty': 0.001, 'grad_clipping': True, 'clip_norm': 20}\n"
     ]
    },
    {
     "name": "stderr",
     "output_type": "stream",
     "text": [
      "\r",
      " 46%|██████████████████████████████████▉                                         | 147/320 [1:21:41<1:43:03, 35.74s/it]"
     ]
    },
    {
     "name": "stdout",
     "output_type": "stream",
     "text": [
      "______________________________________________________\n",
      "AVERAGE VALIDATION ERROR 0.983 ± 0.469\n",
      "______________________________________________________\n",
      "\n",
      "Performing training 147 out of 320\n",
      "[[ 1 20 10  1]]\n",
      "\n",
      "Configuration: {'neurons_architecture': matrix([[ 1, 20, 10,  1]]), 'activation': 'elu', 'n_epochs': 2000.0, 'lr': 0.01, 'en_decay': True, 'lr_final': 0.001, 'lr_decay': True, 'regularization': 'L2', 'penalty': 0.0005, 'grad_clipping': True, 'clip_norm': 20}\n"
     ]
    },
    {
     "name": "stderr",
     "output_type": "stream",
     "text": [
      "\r",
      " 46%|███████████████████████████████████▏                                        | 148/320 [1:22:16<1:41:55, 35.55s/it]"
     ]
    },
    {
     "name": "stdout",
     "output_type": "stream",
     "text": [
      "______________________________________________________\n",
      "AVERAGE VALIDATION ERROR 1.073 ± 0.173\n",
      "______________________________________________________\n",
      "\n",
      "Performing training 148 out of 320\n",
      "[[ 1 20 10  1]]\n",
      "\n",
      "Configuration: {'neurons_architecture': matrix([[ 1, 20, 10,  1]]), 'activation': 'elu', 'n_epochs': 2000.0, 'lr': 0.01, 'en_decay': True, 'lr_final': 0.0001, 'lr_decay': True, 'regularization': 'L1', 'penalty': 0.001, 'grad_clipping': True, 'clip_norm': 20}\n"
     ]
    },
    {
     "name": "stderr",
     "output_type": "stream",
     "text": [
      "\r",
      " 47%|███████████████████████████████████▍                                        | 149/320 [1:23:00<1:47:55, 37.87s/it]"
     ]
    },
    {
     "name": "stdout",
     "output_type": "stream",
     "text": [
      "______________________________________________________\n",
      "AVERAGE VALIDATION ERROR 1.063 ± 0.337\n",
      "______________________________________________________\n",
      "\n",
      "Performing training 149 out of 320\n",
      "[[ 1 20 10  1]]\n",
      "\n",
      "Configuration: {'neurons_architecture': matrix([[ 1, 20, 10,  1]]), 'activation': 'elu', 'n_epochs': 2000.0, 'lr': 0.01, 'en_decay': True, 'lr_final': 0.0001, 'lr_decay': True, 'regularization': 'L1', 'penalty': 0.0005, 'grad_clipping': True, 'clip_norm': 20}\n"
     ]
    },
    {
     "name": "stderr",
     "output_type": "stream",
     "text": [
      "\r",
      " 47%|███████████████████████████████████▋                                        | 150/320 [1:23:46<1:54:54, 40.56s/it]"
     ]
    },
    {
     "name": "stdout",
     "output_type": "stream",
     "text": [
      "______________________________________________________\n",
      "AVERAGE VALIDATION ERROR 0.902 ± 0.226\n",
      "______________________________________________________\n",
      "\n",
      "Performing training 150 out of 320\n",
      "[[ 1 20 10  1]]\n",
      "\n",
      "Configuration: {'neurons_architecture': matrix([[ 1, 20, 10,  1]]), 'activation': 'elu', 'n_epochs': 2000.0, 'lr': 0.01, 'en_decay': True, 'lr_final': 0.0001, 'lr_decay': True, 'regularization': 'L2', 'penalty': 0.001, 'grad_clipping': True, 'clip_norm': 20}\n"
     ]
    },
    {
     "name": "stderr",
     "output_type": "stream",
     "text": [
      "\r",
      " 47%|███████████████████████████████████▊                                        | 151/320 [1:24:31<1:58:02, 41.91s/it]"
     ]
    },
    {
     "name": "stdout",
     "output_type": "stream",
     "text": [
      "______________________________________________________\n",
      "AVERAGE VALIDATION ERROR 0.913 ± 0.416\n",
      "______________________________________________________\n",
      "\n",
      "Performing training 151 out of 320\n",
      "[[ 1 20 10  1]]\n",
      "\n",
      "Configuration: {'neurons_architecture': matrix([[ 1, 20, 10,  1]]), 'activation': 'elu', 'n_epochs': 2000.0, 'lr': 0.01, 'en_decay': True, 'lr_final': 0.0001, 'lr_decay': True, 'regularization': 'L2', 'penalty': 0.0005, 'grad_clipping': True, 'clip_norm': 20}\n"
     ]
    },
    {
     "name": "stderr",
     "output_type": "stream",
     "text": [
      "\r",
      " 48%|████████████████████████████████████                                        | 152/320 [1:25:20<2:02:50, 43.87s/it]"
     ]
    },
    {
     "name": "stdout",
     "output_type": "stream",
     "text": [
      "______________________________________________________\n",
      "AVERAGE VALIDATION ERROR 1.314 ± 0.953\n",
      "______________________________________________________\n",
      "\n",
      "Performing training 152 out of 320\n",
      "[[ 1 20 10  1]]\n",
      "\n",
      "Configuration: {'neurons_architecture': matrix([[ 1, 20, 10,  1]]), 'activation': 'swish', 'n_epochs': 2000.0, 'lr': 0.01, 'en_decay': True, 'lr_final': 0.001, 'lr_decay': True, 'regularization': 'L1', 'penalty': 0.001, 'grad_clipping': True, 'clip_norm': 20}\n"
     ]
    },
    {
     "name": "stderr",
     "output_type": "stream",
     "text": [
      "\r",
      " 48%|████████████████████████████████████▎                                       | 153/320 [1:25:42<1:44:13, 37.45s/it]"
     ]
    },
    {
     "name": "stdout",
     "output_type": "stream",
     "text": [
      "______________________________________________________\n",
      "AVERAGE VALIDATION ERROR 1.851 ± 0.536\n",
      "______________________________________________________\n",
      "\n",
      "Performing training 153 out of 320\n",
      "[[ 1 20 10  1]]\n",
      "\n",
      "Configuration: {'neurons_architecture': matrix([[ 1, 20, 10,  1]]), 'activation': 'swish', 'n_epochs': 2000.0, 'lr': 0.01, 'en_decay': True, 'lr_final': 0.001, 'lr_decay': True, 'regularization': 'L1', 'penalty': 0.0005, 'grad_clipping': True, 'clip_norm': 20}\n"
     ]
    },
    {
     "name": "stderr",
     "output_type": "stream",
     "text": [
      "\r",
      " 48%|████████████████████████████████████▌                                       | 154/320 [1:26:34<1:55:09, 41.62s/it]"
     ]
    },
    {
     "name": "stdout",
     "output_type": "stream",
     "text": [
      "______________________________________________________\n",
      "AVERAGE VALIDATION ERROR 4.684 ± 7.279\n",
      "______________________________________________________\n",
      "\n",
      "Performing training 154 out of 320\n",
      "[[ 1 20 10  1]]\n",
      "\n",
      "Configuration: {'neurons_architecture': matrix([[ 1, 20, 10,  1]]), 'activation': 'swish', 'n_epochs': 2000.0, 'lr': 0.01, 'en_decay': True, 'lr_final': 0.001, 'lr_decay': True, 'regularization': 'L2', 'penalty': 0.001, 'grad_clipping': True, 'clip_norm': 20}\n"
     ]
    },
    {
     "name": "stderr",
     "output_type": "stream",
     "text": [
      "\r",
      " 48%|████████████████████████████████████▊                                       | 155/320 [1:27:00<1:42:03, 37.11s/it]"
     ]
    },
    {
     "name": "stdout",
     "output_type": "stream",
     "text": [
      "______________________________________________________\n",
      "AVERAGE VALIDATION ERROR 1.673 ± 0.596\n",
      "______________________________________________________\n",
      "\n",
      "Performing training 155 out of 320\n",
      "[[ 1 20 10  1]]\n",
      "\n",
      "Configuration: {'neurons_architecture': matrix([[ 1, 20, 10,  1]]), 'activation': 'swish', 'n_epochs': 2000.0, 'lr': 0.01, 'en_decay': True, 'lr_final': 0.001, 'lr_decay': True, 'regularization': 'L2', 'penalty': 0.0005, 'grad_clipping': True, 'clip_norm': 20}\n"
     ]
    },
    {
     "name": "stderr",
     "output_type": "stream",
     "text": [
      "\r",
      " 49%|█████████████████████████████████████                                       | 156/320 [1:27:27<1:32:35, 33.87s/it]"
     ]
    },
    {
     "name": "stdout",
     "output_type": "stream",
     "text": [
      "______________________________________________________\n",
      "AVERAGE VALIDATION ERROR 6.617 ± 6.243\n",
      "______________________________________________________\n",
      "\n",
      "Performing training 156 out of 320\n",
      "[[ 1 20 10  1]]\n",
      "\n",
      "Configuration: {'neurons_architecture': matrix([[ 1, 20, 10,  1]]), 'activation': 'swish', 'n_epochs': 2000.0, 'lr': 0.01, 'en_decay': True, 'lr_final': 0.0001, 'lr_decay': True, 'regularization': 'L1', 'penalty': 0.001, 'grad_clipping': True, 'clip_norm': 20}\n"
     ]
    },
    {
     "name": "stderr",
     "output_type": "stream",
     "text": [
      "\r",
      " 49%|█████████████████████████████████████▎                                      | 157/320 [1:27:56<1:28:21, 32.53s/it]"
     ]
    },
    {
     "name": "stdout",
     "output_type": "stream",
     "text": [
      "______________________________________________________\n",
      "AVERAGE VALIDATION ERROR 1.248 ± 0.623\n",
      "______________________________________________________\n",
      "\n",
      "Performing training 157 out of 320\n",
      "[[ 1 20 10  1]]\n",
      "\n",
      "Configuration: {'neurons_architecture': matrix([[ 1, 20, 10,  1]]), 'activation': 'swish', 'n_epochs': 2000.0, 'lr': 0.01, 'en_decay': True, 'lr_final': 0.0001, 'lr_decay': True, 'regularization': 'L1', 'penalty': 0.0005, 'grad_clipping': True, 'clip_norm': 20}\n"
     ]
    },
    {
     "name": "stderr",
     "output_type": "stream",
     "text": [
      "\r",
      " 49%|█████████████████████████████████████▌                                      | 158/320 [1:29:07<1:59:00, 44.08s/it]"
     ]
    },
    {
     "name": "stdout",
     "output_type": "stream",
     "text": [
      "______________________________________________________\n",
      "AVERAGE VALIDATION ERROR 0.849 ± 0.345\n",
      "______________________________________________________\n",
      "\n",
      "Performing training 158 out of 320\n",
      "[[ 1 20 10  1]]\n",
      "\n",
      "Configuration: {'neurons_architecture': matrix([[ 1, 20, 10,  1]]), 'activation': 'swish', 'n_epochs': 2000.0, 'lr': 0.01, 'en_decay': True, 'lr_final': 0.0001, 'lr_decay': True, 'regularization': 'L2', 'penalty': 0.001, 'grad_clipping': True, 'clip_norm': 20}\n"
     ]
    },
    {
     "name": "stderr",
     "output_type": "stream",
     "text": [
      "\r",
      " 50%|█████████████████████████████████████▊                                      | 159/320 [1:29:44<1:52:13, 41.83s/it]"
     ]
    },
    {
     "name": "stdout",
     "output_type": "stream",
     "text": [
      "______________________________________________________\n",
      "AVERAGE VALIDATION ERROR 1.498 ± 0.859\n",
      "______________________________________________________\n",
      "\n",
      "Performing training 159 out of 320\n",
      "[[ 1 20 10  1]]\n",
      "\n",
      "Configuration: {'neurons_architecture': matrix([[ 1, 20, 10,  1]]), 'activation': 'swish', 'n_epochs': 2000.0, 'lr': 0.01, 'en_decay': True, 'lr_final': 0.0001, 'lr_decay': True, 'regularization': 'L2', 'penalty': 0.0005, 'grad_clipping': True, 'clip_norm': 20}\n"
     ]
    },
    {
     "name": "stderr",
     "output_type": "stream",
     "text": [
      "\r",
      " 50%|██████████████████████████████████████                                      | 160/320 [1:30:10<1:39:32, 37.33s/it]"
     ]
    },
    {
     "name": "stdout",
     "output_type": "stream",
     "text": [
      "______________________________________________________\n",
      "AVERAGE VALIDATION ERROR 1.121 ± 0.546\n",
      "______________________________________________________\n",
      "\n",
      "Performing training 160 out of 320\n",
      "[[ 1 10 20  1]]\n",
      "\n",
      "Configuration: {'neurons_architecture': matrix([[ 1, 10, 20,  1]]), 'activation': 'relu', 'n_epochs': 2000.0, 'lr': 0.01, 'en_decay': True, 'lr_final': 0.001, 'lr_decay': True, 'regularization': 'L1', 'penalty': 0.001, 'grad_clipping': True, 'clip_norm': 20}\n"
     ]
    },
    {
     "name": "stderr",
     "output_type": "stream",
     "text": [
      "\r",
      " 50%|██████████████████████████████████████▏                                     | 161/320 [1:30:34<1:28:20, 33.34s/it]"
     ]
    },
    {
     "name": "stdout",
     "output_type": "stream",
     "text": [
      "______________________________________________________\n",
      "AVERAGE VALIDATION ERROR 1.234 ± 0.764\n",
      "______________________________________________________\n",
      "\n",
      "Performing training 161 out of 320\n",
      "[[ 1 10 20  1]]\n",
      "\n",
      "Configuration: {'neurons_architecture': matrix([[ 1, 10, 20,  1]]), 'activation': 'relu', 'n_epochs': 2000.0, 'lr': 0.01, 'en_decay': True, 'lr_final': 0.001, 'lr_decay': True, 'regularization': 'L1', 'penalty': 0.0005, 'grad_clipping': True, 'clip_norm': 20}\n"
     ]
    },
    {
     "name": "stderr",
     "output_type": "stream",
     "text": [
      "\r",
      " 51%|██████████████████████████████████████▍                                     | 162/320 [1:30:54<1:17:11, 29.31s/it]"
     ]
    },
    {
     "name": "stdout",
     "output_type": "stream",
     "text": [
      "______________________________________________________\n",
      "AVERAGE VALIDATION ERROR 1.055 ± 0.313\n",
      "______________________________________________________\n",
      "\n",
      "Performing training 162 out of 320\n",
      "[[ 1 10 20  1]]\n",
      "\n",
      "Configuration: {'neurons_architecture': matrix([[ 1, 10, 20,  1]]), 'activation': 'relu', 'n_epochs': 2000.0, 'lr': 0.01, 'en_decay': True, 'lr_final': 0.001, 'lr_decay': True, 'regularization': 'L2', 'penalty': 0.001, 'grad_clipping': True, 'clip_norm': 20}\n"
     ]
    },
    {
     "name": "stderr",
     "output_type": "stream",
     "text": [
      "\r",
      " 51%|██████████████████████████████████████▋                                     | 163/320 [1:31:27<1:19:02, 30.21s/it]"
     ]
    },
    {
     "name": "stdout",
     "output_type": "stream",
     "text": [
      "______________________________________________________\n",
      "AVERAGE VALIDATION ERROR 0.93 ± 0.336\n",
      "______________________________________________________\n",
      "\n",
      "Performing training 163 out of 320\n",
      "[[ 1 10 20  1]]\n",
      "\n",
      "Configuration: {'neurons_architecture': matrix([[ 1, 10, 20,  1]]), 'activation': 'relu', 'n_epochs': 2000.0, 'lr': 0.01, 'en_decay': True, 'lr_final': 0.001, 'lr_decay': True, 'regularization': 'L2', 'penalty': 0.0005, 'grad_clipping': True, 'clip_norm': 20}\n"
     ]
    },
    {
     "name": "stderr",
     "output_type": "stream",
     "text": [
      "\r",
      " 51%|██████████████████████████████████████▉                                     | 164/320 [1:31:50<1:12:46, 27.99s/it]"
     ]
    },
    {
     "name": "stdout",
     "output_type": "stream",
     "text": [
      "______________________________________________________\n",
      "AVERAGE VALIDATION ERROR 1.139 ± 0.437\n",
      "______________________________________________________\n",
      "\n",
      "Performing training 164 out of 320\n",
      "[[ 1 10 20  1]]\n",
      "\n",
      "Configuration: {'neurons_architecture': matrix([[ 1, 10, 20,  1]]), 'activation': 'relu', 'n_epochs': 2000.0, 'lr': 0.01, 'en_decay': True, 'lr_final': 0.0001, 'lr_decay': True, 'regularization': 'L1', 'penalty': 0.001, 'grad_clipping': True, 'clip_norm': 20}\n"
     ]
    },
    {
     "name": "stderr",
     "output_type": "stream",
     "text": [
      "\r",
      " 52%|███████████████████████████████████████▏                                    | 165/320 [1:32:26<1:18:43, 30.48s/it]"
     ]
    },
    {
     "name": "stdout",
     "output_type": "stream",
     "text": [
      "______________________________________________________\n",
      "AVERAGE VALIDATION ERROR 4.116 ± 7.054\n",
      "______________________________________________________\n",
      "\n",
      "Performing training 165 out of 320\n",
      "[[ 1 10 20  1]]\n",
      "\n",
      "Configuration: {'neurons_architecture': matrix([[ 1, 10, 20,  1]]), 'activation': 'relu', 'n_epochs': 2000.0, 'lr': 0.01, 'en_decay': True, 'lr_final': 0.0001, 'lr_decay': True, 'regularization': 'L1', 'penalty': 0.0005, 'grad_clipping': True, 'clip_norm': 20}\n"
     ]
    },
    {
     "name": "stderr",
     "output_type": "stream",
     "text": [
      "\r",
      " 52%|███████████████████████████████████████▍                                    | 166/320 [1:33:02<1:22:59, 32.33s/it]"
     ]
    },
    {
     "name": "stdout",
     "output_type": "stream",
     "text": [
      "______________________________________________________\n",
      "AVERAGE VALIDATION ERROR 0.805 ± 0.124\n",
      "______________________________________________________\n",
      "\n",
      "Performing training 166 out of 320\n",
      "[[ 1 10 20  1]]\n",
      "\n",
      "Configuration: {'neurons_architecture': matrix([[ 1, 10, 20,  1]]), 'activation': 'relu', 'n_epochs': 2000.0, 'lr': 0.01, 'en_decay': True, 'lr_final': 0.0001, 'lr_decay': True, 'regularization': 'L2', 'penalty': 0.001, 'grad_clipping': True, 'clip_norm': 20}\n"
     ]
    },
    {
     "name": "stderr",
     "output_type": "stream",
     "text": [
      "\r",
      " 52%|███████████████████████████████████████▋                                    | 167/320 [1:33:29<1:17:43, 30.48s/it]"
     ]
    },
    {
     "name": "stdout",
     "output_type": "stream",
     "text": [
      "______________________________________________________\n",
      "AVERAGE VALIDATION ERROR 0.939 ± 0.489\n",
      "______________________________________________________\n",
      "\n",
      "Performing training 167 out of 320\n",
      "[[ 1 10 20  1]]\n",
      "\n",
      "Configuration: {'neurons_architecture': matrix([[ 1, 10, 20,  1]]), 'activation': 'relu', 'n_epochs': 2000.0, 'lr': 0.01, 'en_decay': True, 'lr_final': 0.0001, 'lr_decay': True, 'regularization': 'L2', 'penalty': 0.0005, 'grad_clipping': True, 'clip_norm': 20}\n"
     ]
    },
    {
     "name": "stderr",
     "output_type": "stream",
     "text": [
      "\r",
      " 52%|███████████████████████████████████████▉                                    | 168/320 [1:33:55<1:14:12, 29.29s/it]"
     ]
    },
    {
     "name": "stdout",
     "output_type": "stream",
     "text": [
      "______________________________________________________\n",
      "AVERAGE VALIDATION ERROR 0.91 ± 0.211\n",
      "______________________________________________________\n",
      "\n",
      "Performing training 168 out of 320\n",
      "[[ 1 10 20  1]]\n",
      "\n",
      "Configuration: {'neurons_architecture': matrix([[ 1, 10, 20,  1]]), 'activation': 'leaky_relu', 'n_epochs': 2000.0, 'lr': 0.01, 'en_decay': True, 'lr_final': 0.001, 'lr_decay': True, 'regularization': 'L1', 'penalty': 0.001, 'grad_clipping': True, 'clip_norm': 20}\n"
     ]
    },
    {
     "name": "stderr",
     "output_type": "stream",
     "text": [
      "\r",
      " 53%|████████████████████████████████████████▏                                   | 169/320 [1:34:32<1:19:41, 31.66s/it]"
     ]
    },
    {
     "name": "stdout",
     "output_type": "stream",
     "text": [
      "______________________________________________________\n",
      "AVERAGE VALIDATION ERROR 0.932 ± 0.13\n",
      "______________________________________________________\n",
      "\n",
      "Performing training 169 out of 320\n",
      "[[ 1 10 20  1]]\n",
      "\n",
      "Configuration: {'neurons_architecture': matrix([[ 1, 10, 20,  1]]), 'activation': 'leaky_relu', 'n_epochs': 2000.0, 'lr': 0.01, 'en_decay': True, 'lr_final': 0.001, 'lr_decay': True, 'regularization': 'L1', 'penalty': 0.0005, 'grad_clipping': True, 'clip_norm': 20}\n"
     ]
    },
    {
     "name": "stderr",
     "output_type": "stream",
     "text": [
      "\r",
      " 53%|████████████████████████████████████████▍                                   | 170/320 [1:35:01<1:16:33, 30.63s/it]"
     ]
    },
    {
     "name": "stdout",
     "output_type": "stream",
     "text": [
      "______________________________________________________\n",
      "AVERAGE VALIDATION ERROR 1.109 ± 0.407\n",
      "______________________________________________________\n",
      "\n",
      "Performing training 170 out of 320\n",
      "[[ 1 10 20  1]]\n",
      "\n",
      "Configuration: {'neurons_architecture': matrix([[ 1, 10, 20,  1]]), 'activation': 'leaky_relu', 'n_epochs': 2000.0, 'lr': 0.01, 'en_decay': True, 'lr_final': 0.001, 'lr_decay': True, 'regularization': 'L2', 'penalty': 0.001, 'grad_clipping': True, 'clip_norm': 20}\n"
     ]
    },
    {
     "name": "stderr",
     "output_type": "stream",
     "text": [
      "\r",
      " 53%|████████████████████████████████████████▌                                   | 171/320 [1:35:32<1:16:23, 30.76s/it]"
     ]
    },
    {
     "name": "stdout",
     "output_type": "stream",
     "text": [
      "______________________________________________________\n",
      "AVERAGE VALIDATION ERROR 0.706 ± 0.182\n",
      "______________________________________________________\n",
      "\n",
      "Performing training 171 out of 320\n",
      "[[ 1 10 20  1]]\n",
      "\n",
      "Configuration: {'neurons_architecture': matrix([[ 1, 10, 20,  1]]), 'activation': 'leaky_relu', 'n_epochs': 2000.0, 'lr': 0.01, 'en_decay': True, 'lr_final': 0.001, 'lr_decay': True, 'regularization': 'L2', 'penalty': 0.0005, 'grad_clipping': True, 'clip_norm': 20}\n"
     ]
    },
    {
     "name": "stderr",
     "output_type": "stream",
     "text": [
      "\r",
      " 54%|████████████████████████████████████████▊                                   | 172/320 [1:36:01<1:15:08, 30.47s/it]"
     ]
    },
    {
     "name": "stdout",
     "output_type": "stream",
     "text": [
      "______________________________________________________\n",
      "AVERAGE VALIDATION ERROR 1.003 ± 0.351\n",
      "______________________________________________________\n",
      "\n",
      "Performing training 172 out of 320\n",
      "[[ 1 10 20  1]]\n",
      "\n",
      "Configuration: {'neurons_architecture': matrix([[ 1, 10, 20,  1]]), 'activation': 'leaky_relu', 'n_epochs': 2000.0, 'lr': 0.01, 'en_decay': True, 'lr_final': 0.0001, 'lr_decay': True, 'regularization': 'L1', 'penalty': 0.001, 'grad_clipping': True, 'clip_norm': 20}\n"
     ]
    },
    {
     "name": "stderr",
     "output_type": "stream",
     "text": [
      "\r",
      " 54%|█████████████████████████████████████████                                   | 173/320 [1:36:36<1:17:53, 31.79s/it]"
     ]
    },
    {
     "name": "stdout",
     "output_type": "stream",
     "text": [
      "______________________________________________________\n",
      "AVERAGE VALIDATION ERROR 0.869 ± 0.292\n",
      "______________________________________________________\n",
      "\n",
      "Performing training 173 out of 320\n",
      "[[ 1 10 20  1]]\n",
      "\n",
      "Configuration: {'neurons_architecture': matrix([[ 1, 10, 20,  1]]), 'activation': 'leaky_relu', 'n_epochs': 2000.0, 'lr': 0.01, 'en_decay': True, 'lr_final': 0.0001, 'lr_decay': True, 'regularization': 'L1', 'penalty': 0.0005, 'grad_clipping': True, 'clip_norm': 20}\n"
     ]
    },
    {
     "name": "stderr",
     "output_type": "stream",
     "text": [
      "\r",
      " 54%|█████████████████████████████████████████▎                                  | 174/320 [1:37:07<1:16:34, 31.47s/it]"
     ]
    },
    {
     "name": "stdout",
     "output_type": "stream",
     "text": [
      "______________________________________________________\n",
      "AVERAGE VALIDATION ERROR 1.538 ± 1.573\n",
      "______________________________________________________\n",
      "\n",
      "Performing training 174 out of 320\n",
      "[[ 1 10 20  1]]\n",
      "\n",
      "Configuration: {'neurons_architecture': matrix([[ 1, 10, 20,  1]]), 'activation': 'leaky_relu', 'n_epochs': 2000.0, 'lr': 0.01, 'en_decay': True, 'lr_final': 0.0001, 'lr_decay': True, 'regularization': 'L2', 'penalty': 0.001, 'grad_clipping': True, 'clip_norm': 20}\n"
     ]
    },
    {
     "name": "stderr",
     "output_type": "stream",
     "text": [
      "\r",
      " 55%|█████████████████████████████████████████▌                                  | 175/320 [1:37:36<1:14:22, 30.78s/it]"
     ]
    },
    {
     "name": "stdout",
     "output_type": "stream",
     "text": [
      "______________________________________________________\n",
      "AVERAGE VALIDATION ERROR 0.819 ± 0.251\n",
      "______________________________________________________\n",
      "\n",
      "Performing training 175 out of 320\n",
      "[[ 1 10 20  1]]\n",
      "\n",
      "Configuration: {'neurons_architecture': matrix([[ 1, 10, 20,  1]]), 'activation': 'leaky_relu', 'n_epochs': 2000.0, 'lr': 0.01, 'en_decay': True, 'lr_final': 0.0001, 'lr_decay': True, 'regularization': 'L2', 'penalty': 0.0005, 'grad_clipping': True, 'clip_norm': 20}\n"
     ]
    },
    {
     "name": "stderr",
     "output_type": "stream",
     "text": [
      "\r",
      " 55%|█████████████████████████████████████████▊                                  | 176/320 [1:38:09<1:15:34, 31.49s/it]"
     ]
    },
    {
     "name": "stdout",
     "output_type": "stream",
     "text": [
      "______________________________________________________\n",
      "AVERAGE VALIDATION ERROR 0.81 ± 0.175\n",
      "______________________________________________________\n",
      "\n",
      "Performing training 176 out of 320\n",
      "[[ 1 10 20  1]]\n",
      "\n",
      "Configuration: {'neurons_architecture': matrix([[ 1, 10, 20,  1]]), 'activation': 'elu', 'n_epochs': 2000.0, 'lr': 0.01, 'en_decay': True, 'lr_final': 0.001, 'lr_decay': True, 'regularization': 'L1', 'penalty': 0.001, 'grad_clipping': True, 'clip_norm': 20}\n"
     ]
    },
    {
     "name": "stderr",
     "output_type": "stream",
     "text": [
      "\r",
      " 55%|██████████████████████████████████████████                                  | 177/320 [1:38:37<1:12:08, 30.27s/it]"
     ]
    },
    {
     "name": "stdout",
     "output_type": "stream",
     "text": [
      "______________________________________________________\n",
      "AVERAGE VALIDATION ERROR 2.193 ± 1.679\n",
      "______________________________________________________\n",
      "\n",
      "Performing training 177 out of 320\n",
      "[[ 1 10 20  1]]\n",
      "\n",
      "Configuration: {'neurons_architecture': matrix([[ 1, 10, 20,  1]]), 'activation': 'elu', 'n_epochs': 2000.0, 'lr': 0.01, 'en_decay': True, 'lr_final': 0.001, 'lr_decay': True, 'regularization': 'L1', 'penalty': 0.0005, 'grad_clipping': True, 'clip_norm': 20}\n"
     ]
    },
    {
     "name": "stderr",
     "output_type": "stream",
     "text": [
      "\r",
      " 56%|██████████████████████████████████████████▎                                 | 178/320 [1:39:28<1:26:16, 36.45s/it]"
     ]
    },
    {
     "name": "stdout",
     "output_type": "stream",
     "text": [
      "______________________________________________________\n",
      "AVERAGE VALIDATION ERROR 1.972 ± 2.069\n",
      "______________________________________________________\n",
      "\n",
      "Performing training 178 out of 320\n",
      "[[ 1 10 20  1]]\n",
      "\n",
      "Configuration: {'neurons_architecture': matrix([[ 1, 10, 20,  1]]), 'activation': 'elu', 'n_epochs': 2000.0, 'lr': 0.01, 'en_decay': True, 'lr_final': 0.001, 'lr_decay': True, 'regularization': 'L2', 'penalty': 0.001, 'grad_clipping': True, 'clip_norm': 20}\n"
     ]
    },
    {
     "name": "stderr",
     "output_type": "stream",
     "text": [
      "\r",
      " 56%|██████████████████████████████████████████▌                                 | 179/320 [1:39:56<1:19:54, 34.01s/it]"
     ]
    },
    {
     "name": "stdout",
     "output_type": "stream",
     "text": [
      "______________________________________________________\n",
      "AVERAGE VALIDATION ERROR 5.231 ± 6.49\n",
      "______________________________________________________\n",
      "\n",
      "Performing training 179 out of 320\n",
      "[[ 1 10 20  1]]\n",
      "\n",
      "Configuration: {'neurons_architecture': matrix([[ 1, 10, 20,  1]]), 'activation': 'elu', 'n_epochs': 2000.0, 'lr': 0.01, 'en_decay': True, 'lr_final': 0.001, 'lr_decay': True, 'regularization': 'L2', 'penalty': 0.0005, 'grad_clipping': True, 'clip_norm': 20}\n"
     ]
    },
    {
     "name": "stderr",
     "output_type": "stream",
     "text": [
      "\r",
      " 56%|██████████████████████████████████████████▊                                 | 180/320 [1:40:33<1:21:51, 35.08s/it]"
     ]
    },
    {
     "name": "stdout",
     "output_type": "stream",
     "text": [
      "______________________________________________________\n",
      "AVERAGE VALIDATION ERROR 3.033 ± 1.493\n",
      "______________________________________________________\n",
      "\n",
      "Performing training 180 out of 320\n",
      "[[ 1 10 20  1]]\n",
      "\n",
      "Configuration: {'neurons_architecture': matrix([[ 1, 10, 20,  1]]), 'activation': 'elu', 'n_epochs': 2000.0, 'lr': 0.01, 'en_decay': True, 'lr_final': 0.0001, 'lr_decay': True, 'regularization': 'L1', 'penalty': 0.001, 'grad_clipping': True, 'clip_norm': 20}\n"
     ]
    },
    {
     "name": "stderr",
     "output_type": "stream",
     "text": [
      "\r",
      " 57%|██████████████████████████████████████████▉                                 | 181/320 [1:41:24<1:32:01, 39.73s/it]"
     ]
    },
    {
     "name": "stdout",
     "output_type": "stream",
     "text": [
      "______________________________________________________\n",
      "AVERAGE VALIDATION ERROR 2.005 ± 2.301\n",
      "______________________________________________________\n",
      "\n",
      "Performing training 181 out of 320\n",
      "[[ 1 10 20  1]]\n",
      "\n",
      "Configuration: {'neurons_architecture': matrix([[ 1, 10, 20,  1]]), 'activation': 'elu', 'n_epochs': 2000.0, 'lr': 0.01, 'en_decay': True, 'lr_final': 0.0001, 'lr_decay': True, 'regularization': 'L1', 'penalty': 0.0005, 'grad_clipping': True, 'clip_norm': 20}\n"
     ]
    },
    {
     "name": "stderr",
     "output_type": "stream",
     "text": [
      "\r",
      " 57%|███████████████████████████████████████████▏                                | 182/320 [1:42:19<1:41:52, 44.29s/it]"
     ]
    },
    {
     "name": "stdout",
     "output_type": "stream",
     "text": [
      "______________________________________________________\n",
      "AVERAGE VALIDATION ERROR 1.832 ± 1.289\n",
      "______________________________________________________\n",
      "\n",
      "Performing training 182 out of 320\n",
      "[[ 1 10 20  1]]\n",
      "\n",
      "Configuration: {'neurons_architecture': matrix([[ 1, 10, 20,  1]]), 'activation': 'elu', 'n_epochs': 2000.0, 'lr': 0.01, 'en_decay': True, 'lr_final': 0.0001, 'lr_decay': True, 'regularization': 'L2', 'penalty': 0.001, 'grad_clipping': True, 'clip_norm': 20}\n"
     ]
    },
    {
     "name": "stderr",
     "output_type": "stream",
     "text": [
      "\r",
      " 57%|███████████████████████████████████████████▍                                | 183/320 [1:43:08<1:44:32, 45.79s/it]"
     ]
    },
    {
     "name": "stdout",
     "output_type": "stream",
     "text": [
      "______________________________________________________\n",
      "AVERAGE VALIDATION ERROR 1.172 ± 0.497\n",
      "______________________________________________________\n",
      "\n",
      "Performing training 183 out of 320\n",
      "[[ 1 10 20  1]]\n",
      "\n",
      "Configuration: {'neurons_architecture': matrix([[ 1, 10, 20,  1]]), 'activation': 'elu', 'n_epochs': 2000.0, 'lr': 0.01, 'en_decay': True, 'lr_final': 0.0001, 'lr_decay': True, 'regularization': 'L2', 'penalty': 0.0005, 'grad_clipping': True, 'clip_norm': 20}\n"
     ]
    },
    {
     "name": "stderr",
     "output_type": "stream",
     "text": [
      "\r",
      " 57%|███████████████████████████████████████████▋                                | 184/320 [1:43:47<1:38:50, 43.61s/it]"
     ]
    },
    {
     "name": "stdout",
     "output_type": "stream",
     "text": [
      "______________________________________________________\n",
      "AVERAGE VALIDATION ERROR 1.994 ± 1.613\n",
      "______________________________________________________\n",
      "\n",
      "Performing training 184 out of 320\n",
      "[[ 1 10 20  1]]\n",
      "\n",
      "Configuration: {'neurons_architecture': matrix([[ 1, 10, 20,  1]]), 'activation': 'swish', 'n_epochs': 2000.0, 'lr': 0.01, 'en_decay': True, 'lr_final': 0.001, 'lr_decay': True, 'regularization': 'L1', 'penalty': 0.001, 'grad_clipping': True, 'clip_norm': 20}\n"
     ]
    },
    {
     "name": "stderr",
     "output_type": "stream",
     "text": [
      "\r",
      " 58%|███████████████████████████████████████████▉                                | 185/320 [1:44:30<1:38:08, 43.62s/it]"
     ]
    },
    {
     "name": "stdout",
     "output_type": "stream",
     "text": [
      "______________________________________________________\n",
      "AVERAGE VALIDATION ERROR 0.845 ± 0.127\n",
      "______________________________________________________\n",
      "\n",
      "Performing training 185 out of 320\n",
      "[[ 1 10 20  1]]\n",
      "\n",
      "Configuration: {'neurons_architecture': matrix([[ 1, 10, 20,  1]]), 'activation': 'swish', 'n_epochs': 2000.0, 'lr': 0.01, 'en_decay': True, 'lr_final': 0.001, 'lr_decay': True, 'regularization': 'L1', 'penalty': 0.0005, 'grad_clipping': True, 'clip_norm': 20}\n"
     ]
    },
    {
     "name": "stderr",
     "output_type": "stream",
     "text": [
      "\r",
      " 58%|████████████████████████████████████████████▏                               | 186/320 [1:45:07<1:32:41, 41.50s/it]"
     ]
    },
    {
     "name": "stdout",
     "output_type": "stream",
     "text": [
      "______________________________________________________\n",
      "AVERAGE VALIDATION ERROR 1.418 ± 0.43\n",
      "______________________________________________________\n",
      "\n",
      "Performing training 186 out of 320\n",
      "[[ 1 10 20  1]]\n",
      "\n",
      "Configuration: {'neurons_architecture': matrix([[ 1, 10, 20,  1]]), 'activation': 'swish', 'n_epochs': 2000.0, 'lr': 0.01, 'en_decay': True, 'lr_final': 0.001, 'lr_decay': True, 'regularization': 'L2', 'penalty': 0.001, 'grad_clipping': True, 'clip_norm': 20}\n"
     ]
    },
    {
     "name": "stderr",
     "output_type": "stream",
     "text": [
      "\r",
      " 58%|████████████████████████████████████████████▍                               | 187/320 [1:45:41<1:27:09, 39.32s/it]"
     ]
    },
    {
     "name": "stdout",
     "output_type": "stream",
     "text": [
      "______________________________________________________\n",
      "AVERAGE VALIDATION ERROR 1.329 ± 1.023\n",
      "______________________________________________________\n",
      "\n",
      "Performing training 187 out of 320\n",
      "[[ 1 10 20  1]]\n",
      "\n",
      "Configuration: {'neurons_architecture': matrix([[ 1, 10, 20,  1]]), 'activation': 'swish', 'n_epochs': 2000.0, 'lr': 0.01, 'en_decay': True, 'lr_final': 0.001, 'lr_decay': True, 'regularization': 'L2', 'penalty': 0.0005, 'grad_clipping': True, 'clip_norm': 20}\n"
     ]
    },
    {
     "name": "stderr",
     "output_type": "stream",
     "text": [
      "\r",
      " 59%|████████████████████████████████████████████▋                               | 188/320 [1:46:13<1:21:46, 37.17s/it]"
     ]
    },
    {
     "name": "stdout",
     "output_type": "stream",
     "text": [
      "______________________________________________________\n",
      "AVERAGE VALIDATION ERROR 1.454 ± 0.21\n",
      "______________________________________________________\n",
      "\n",
      "Performing training 188 out of 320\n",
      "[[ 1 10 20  1]]\n",
      "\n",
      "Configuration: {'neurons_architecture': matrix([[ 1, 10, 20,  1]]), 'activation': 'swish', 'n_epochs': 2000.0, 'lr': 0.01, 'en_decay': True, 'lr_final': 0.0001, 'lr_decay': True, 'regularization': 'L1', 'penalty': 0.001, 'grad_clipping': True, 'clip_norm': 20}\n"
     ]
    },
    {
     "name": "stderr",
     "output_type": "stream",
     "text": [
      "\r",
      " 59%|████████████████████████████████████████████▉                               | 189/320 [1:46:49<1:20:20, 36.80s/it]"
     ]
    },
    {
     "name": "stdout",
     "output_type": "stream",
     "text": [
      "______________________________________________________\n",
      "AVERAGE VALIDATION ERROR 0.821 ± 0.141\n",
      "______________________________________________________\n",
      "\n",
      "Performing training 189 out of 320\n",
      "[[ 1 10 20  1]]\n",
      "\n",
      "Configuration: {'neurons_architecture': matrix([[ 1, 10, 20,  1]]), 'activation': 'swish', 'n_epochs': 2000.0, 'lr': 0.01, 'en_decay': True, 'lr_final': 0.0001, 'lr_decay': True, 'regularization': 'L1', 'penalty': 0.0005, 'grad_clipping': True, 'clip_norm': 20}\n"
     ]
    },
    {
     "name": "stderr",
     "output_type": "stream",
     "text": [
      "\r",
      " 59%|█████████████████████████████████████████████▏                              | 190/320 [1:47:27<1:20:04, 36.96s/it]"
     ]
    },
    {
     "name": "stdout",
     "output_type": "stream",
     "text": [
      "______________________________________________________\n",
      "AVERAGE VALIDATION ERROR 0.968 ± 0.396\n",
      "______________________________________________________\n",
      "\n",
      "Performing training 190 out of 320\n",
      "[[ 1 10 20  1]]\n",
      "\n",
      "Configuration: {'neurons_architecture': matrix([[ 1, 10, 20,  1]]), 'activation': 'swish', 'n_epochs': 2000.0, 'lr': 0.01, 'en_decay': True, 'lr_final': 0.0001, 'lr_decay': True, 'regularization': 'L2', 'penalty': 0.001, 'grad_clipping': True, 'clip_norm': 20}\n"
     ]
    },
    {
     "name": "stderr",
     "output_type": "stream",
     "text": [
      "\r",
      " 60%|█████████████████████████████████████████████▎                              | 191/320 [1:47:58<1:15:51, 35.28s/it]"
     ]
    },
    {
     "name": "stdout",
     "output_type": "stream",
     "text": [
      "______________________________________________________\n",
      "AVERAGE VALIDATION ERROR 0.846 ± 0.206\n",
      "______________________________________________________\n",
      "\n",
      "Performing training 191 out of 320\n",
      "[[ 1 10 20  1]]\n",
      "\n",
      "Configuration: {'neurons_architecture': matrix([[ 1, 10, 20,  1]]), 'activation': 'swish', 'n_epochs': 2000.0, 'lr': 0.01, 'en_decay': True, 'lr_final': 0.0001, 'lr_decay': True, 'regularization': 'L2', 'penalty': 0.0005, 'grad_clipping': True, 'clip_norm': 20}\n"
     ]
    },
    {
     "name": "stderr",
     "output_type": "stream",
     "text": [
      "\r",
      " 60%|█████████████████████████████████████████████▌                              | 192/320 [1:48:30<1:12:57, 34.20s/it]"
     ]
    },
    {
     "name": "stdout",
     "output_type": "stream",
     "text": [
      "______________________________________________________\n",
      "AVERAGE VALIDATION ERROR 1.046 ± 0.548\n",
      "______________________________________________________\n",
      "\n",
      "Performing training 192 out of 320\n",
      "[[ 1 20 20  1]]\n",
      "\n",
      "Configuration: {'neurons_architecture': matrix([[ 1, 20, 20,  1]]), 'activation': 'relu', 'n_epochs': 2000.0, 'lr': 0.01, 'en_decay': True, 'lr_final': 0.001, 'lr_decay': True, 'regularization': 'L1', 'penalty': 0.001, 'grad_clipping': True, 'clip_norm': 20}\n"
     ]
    },
    {
     "name": "stderr",
     "output_type": "stream",
     "text": [
      "\r",
      " 60%|█████████████████████████████████████████████▊                              | 193/320 [1:48:56<1:07:15, 31.78s/it]"
     ]
    },
    {
     "name": "stdout",
     "output_type": "stream",
     "text": [
      "______________________________________________________\n",
      "AVERAGE VALIDATION ERROR 1.2 ± 0.508\n",
      "______________________________________________________\n",
      "\n",
      "Performing training 193 out of 320\n",
      "[[ 1 20 20  1]]\n",
      "\n",
      "Configuration: {'neurons_architecture': matrix([[ 1, 20, 20,  1]]), 'activation': 'relu', 'n_epochs': 2000.0, 'lr': 0.01, 'en_decay': True, 'lr_final': 0.001, 'lr_decay': True, 'regularization': 'L1', 'penalty': 0.0005, 'grad_clipping': True, 'clip_norm': 20}\n"
     ]
    },
    {
     "name": "stderr",
     "output_type": "stream",
     "text": [
      "\r",
      " 61%|██████████████████████████████████████████████                              | 194/320 [1:49:22<1:03:27, 30.22s/it]"
     ]
    },
    {
     "name": "stdout",
     "output_type": "stream",
     "text": [
      "______________________________________________________\n",
      "AVERAGE VALIDATION ERROR 1.032 ± 0.366\n",
      "______________________________________________________\n",
      "\n",
      "Performing training 194 out of 320\n",
      "[[ 1 20 20  1]]\n",
      "\n",
      "Configuration: {'neurons_architecture': matrix([[ 1, 20, 20,  1]]), 'activation': 'relu', 'n_epochs': 2000.0, 'lr': 0.01, 'en_decay': True, 'lr_final': 0.001, 'lr_decay': True, 'regularization': 'L2', 'penalty': 0.001, 'grad_clipping': True, 'clip_norm': 20}\n"
     ]
    },
    {
     "name": "stderr",
     "output_type": "stream",
     "text": [
      "\r",
      " 61%|███████████████████████████████████████████████▌                              | 195/320 [1:49:48<59:50, 28.73s/it]"
     ]
    },
    {
     "name": "stdout",
     "output_type": "stream",
     "text": [
      "______________________________________________________\n",
      "AVERAGE VALIDATION ERROR 1.157 ± 0.476\n",
      "______________________________________________________\n",
      "\n",
      "Performing training 195 out of 320\n",
      "[[ 1 20 20  1]]\n",
      "\n",
      "Configuration: {'neurons_architecture': matrix([[ 1, 20, 20,  1]]), 'activation': 'relu', 'n_epochs': 2000.0, 'lr': 0.01, 'en_decay': True, 'lr_final': 0.001, 'lr_decay': True, 'regularization': 'L2', 'penalty': 0.0005, 'grad_clipping': True, 'clip_norm': 20}\n"
     ]
    },
    {
     "name": "stderr",
     "output_type": "stream",
     "text": [
      "\r",
      " 61%|███████████████████████████████████████████████▊                              | 196/320 [1:50:15<58:39, 28.38s/it]"
     ]
    },
    {
     "name": "stdout",
     "output_type": "stream",
     "text": [
      "______________________________________________________\n",
      "AVERAGE VALIDATION ERROR 1.063 ± 0.443\n",
      "______________________________________________________\n",
      "\n",
      "Performing training 196 out of 320\n",
      "[[ 1 20 20  1]]\n",
      "\n",
      "Configuration: {'neurons_architecture': matrix([[ 1, 20, 20,  1]]), 'activation': 'relu', 'n_epochs': 2000.0, 'lr': 0.01, 'en_decay': True, 'lr_final': 0.0001, 'lr_decay': True, 'regularization': 'L1', 'penalty': 0.001, 'grad_clipping': True, 'clip_norm': 20}\n"
     ]
    },
    {
     "name": "stderr",
     "output_type": "stream",
     "text": [
      "\r",
      " 62%|██████████████████████████████████████████████▊                             | 197/320 [1:50:50<1:01:57, 30.22s/it]"
     ]
    },
    {
     "name": "stdout",
     "output_type": "stream",
     "text": [
      "______________________________________________________\n",
      "AVERAGE VALIDATION ERROR 1.371 ± 0.63\n",
      "______________________________________________________\n",
      "\n",
      "Performing training 197 out of 320\n",
      "[[ 1 20 20  1]]\n",
      "\n",
      "Configuration: {'neurons_architecture': matrix([[ 1, 20, 20,  1]]), 'activation': 'relu', 'n_epochs': 2000.0, 'lr': 0.01, 'en_decay': True, 'lr_final': 0.0001, 'lr_decay': True, 'regularization': 'L1', 'penalty': 0.0005, 'grad_clipping': True, 'clip_norm': 20}\n"
     ]
    },
    {
     "name": "stderr",
     "output_type": "stream",
     "text": [
      "\r",
      " 62%|████████████████████████████████████████████████▎                             | 198/320 [1:51:15<58:32, 28.79s/it]"
     ]
    },
    {
     "name": "stdout",
     "output_type": "stream",
     "text": [
      "______________________________________________________\n",
      "AVERAGE VALIDATION ERROR 0.937 ± 0.456\n",
      "______________________________________________________\n",
      "\n",
      "Performing training 198 out of 320\n",
      "[[ 1 20 20  1]]\n",
      "\n",
      "Configuration: {'neurons_architecture': matrix([[ 1, 20, 20,  1]]), 'activation': 'relu', 'n_epochs': 2000.0, 'lr': 0.01, 'en_decay': True, 'lr_final': 0.0001, 'lr_decay': True, 'regularization': 'L2', 'penalty': 0.001, 'grad_clipping': True, 'clip_norm': 20}\n"
     ]
    },
    {
     "name": "stderr",
     "output_type": "stream",
     "text": [
      "\r",
      " 62%|███████████████████████████████████████████████▎                            | 199/320 [1:51:53<1:03:19, 31.40s/it]"
     ]
    },
    {
     "name": "stdout",
     "output_type": "stream",
     "text": [
      "______________________________________________________\n",
      "AVERAGE VALIDATION ERROR 1.102 ± 0.336\n",
      "______________________________________________________\n",
      "\n",
      "Performing training 199 out of 320\n",
      "[[ 1 20 20  1]]\n",
      "\n",
      "Configuration: {'neurons_architecture': matrix([[ 1, 20, 20,  1]]), 'activation': 'relu', 'n_epochs': 2000.0, 'lr': 0.01, 'en_decay': True, 'lr_final': 0.0001, 'lr_decay': True, 'regularization': 'L2', 'penalty': 0.0005, 'grad_clipping': True, 'clip_norm': 20}\n"
     ]
    },
    {
     "name": "stderr",
     "output_type": "stream",
     "text": [
      "\r",
      " 62%|███████████████████████████████████████████████▌                            | 200/320 [1:52:25<1:03:20, 31.67s/it]"
     ]
    },
    {
     "name": "stdout",
     "output_type": "stream",
     "text": [
      "______________________________________________________\n",
      "AVERAGE VALIDATION ERROR 1.013 ± 0.366\n",
      "______________________________________________________\n",
      "\n",
      "Performing training 200 out of 320\n",
      "[[ 1 20 20  1]]\n",
      "\n",
      "Configuration: {'neurons_architecture': matrix([[ 1, 20, 20,  1]]), 'activation': 'leaky_relu', 'n_epochs': 2000.0, 'lr': 0.01, 'en_decay': True, 'lr_final': 0.001, 'lr_decay': True, 'regularization': 'L1', 'penalty': 0.001, 'grad_clipping': True, 'clip_norm': 20}\n"
     ]
    },
    {
     "name": "stderr",
     "output_type": "stream",
     "text": [
      "\r",
      " 63%|████████████████████████████████████████████████▉                             | 201/320 [1:52:51<59:19, 29.91s/it]"
     ]
    },
    {
     "name": "stdout",
     "output_type": "stream",
     "text": [
      "______________________________________________________\n",
      "AVERAGE VALIDATION ERROR 1.072 ± 0.314\n",
      "______________________________________________________\n",
      "\n",
      "Performing training 201 out of 320\n",
      "[[ 1 20 20  1]]\n",
      "\n",
      "Configuration: {'neurons_architecture': matrix([[ 1, 20, 20,  1]]), 'activation': 'leaky_relu', 'n_epochs': 2000.0, 'lr': 0.01, 'en_decay': True, 'lr_final': 0.001, 'lr_decay': True, 'regularization': 'L1', 'penalty': 0.0005, 'grad_clipping': True, 'clip_norm': 20}\n"
     ]
    },
    {
     "name": "stderr",
     "output_type": "stream",
     "text": [
      "\r",
      " 63%|█████████████████████████████████████████████████▏                            | 202/320 [1:53:18<57:02, 29.00s/it]"
     ]
    },
    {
     "name": "stdout",
     "output_type": "stream",
     "text": [
      "______________________________________________________\n",
      "AVERAGE VALIDATION ERROR 1.254 ± 0.933\n",
      "______________________________________________________\n",
      "\n",
      "Performing training 202 out of 320\n",
      "[[ 1 20 20  1]]\n",
      "\n",
      "Configuration: {'neurons_architecture': matrix([[ 1, 20, 20,  1]]), 'activation': 'leaky_relu', 'n_epochs': 2000.0, 'lr': 0.01, 'en_decay': True, 'lr_final': 0.001, 'lr_decay': True, 'regularization': 'L2', 'penalty': 0.001, 'grad_clipping': True, 'clip_norm': 20}\n"
     ]
    },
    {
     "name": "stderr",
     "output_type": "stream",
     "text": [
      "\r",
      " 63%|█████████████████████████████████████████████████▍                            | 203/320 [1:53:47<56:58, 29.22s/it]"
     ]
    },
    {
     "name": "stdout",
     "output_type": "stream",
     "text": [
      "______________________________________________________\n",
      "AVERAGE VALIDATION ERROR 0.881 ± 0.104\n",
      "______________________________________________________\n",
      "\n",
      "Performing training 203 out of 320\n",
      "[[ 1 20 20  1]]\n",
      "\n",
      "Configuration: {'neurons_architecture': matrix([[ 1, 20, 20,  1]]), 'activation': 'leaky_relu', 'n_epochs': 2000.0, 'lr': 0.01, 'en_decay': True, 'lr_final': 0.001, 'lr_decay': True, 'regularization': 'L2', 'penalty': 0.0005, 'grad_clipping': True, 'clip_norm': 20}\n"
     ]
    },
    {
     "name": "stderr",
     "output_type": "stream",
     "text": [
      "\r",
      " 64%|█████████████████████████████████████████████████▋                            | 204/320 [1:54:07<50:39, 26.20s/it]"
     ]
    },
    {
     "name": "stdout",
     "output_type": "stream",
     "text": [
      "______________________________________________________\n",
      "AVERAGE VALIDATION ERROR 1.657 ± 0.485\n",
      "______________________________________________________\n",
      "\n",
      "Performing training 204 out of 320\n",
      "[[ 1 20 20  1]]\n",
      "\n",
      "Configuration: {'neurons_architecture': matrix([[ 1, 20, 20,  1]]), 'activation': 'leaky_relu', 'n_epochs': 2000.0, 'lr': 0.01, 'en_decay': True, 'lr_final': 0.0001, 'lr_decay': True, 'regularization': 'L1', 'penalty': 0.001, 'grad_clipping': True, 'clip_norm': 20}\n"
     ]
    },
    {
     "name": "stderr",
     "output_type": "stream",
     "text": [
      "\r",
      " 64%|█████████████████████████████████████████████████▉                            | 205/320 [1:54:34<50:58, 26.59s/it]"
     ]
    },
    {
     "name": "stdout",
     "output_type": "stream",
     "text": [
      "______________________________________________________\n",
      "AVERAGE VALIDATION ERROR 0.929 ± 0.353\n",
      "______________________________________________________\n",
      "\n",
      "Performing training 205 out of 320\n",
      "[[ 1 20 20  1]]\n",
      "\n",
      "Configuration: {'neurons_architecture': matrix([[ 1, 20, 20,  1]]), 'activation': 'leaky_relu', 'n_epochs': 2000.0, 'lr': 0.01, 'en_decay': True, 'lr_final': 0.0001, 'lr_decay': True, 'regularization': 'L1', 'penalty': 0.0005, 'grad_clipping': True, 'clip_norm': 20}\n"
     ]
    },
    {
     "name": "stderr",
     "output_type": "stream",
     "text": [
      "\r",
      " 64%|██████████████████████████████████████████████████▏                           | 206/320 [1:55:02<51:09, 26.93s/it]"
     ]
    },
    {
     "name": "stdout",
     "output_type": "stream",
     "text": [
      "______________________________________________________\n",
      "AVERAGE VALIDATION ERROR 1.007 ± 0.366\n",
      "______________________________________________________\n",
      "\n",
      "Performing training 206 out of 320\n",
      "[[ 1 20 20  1]]\n",
      "\n",
      "Configuration: {'neurons_architecture': matrix([[ 1, 20, 20,  1]]), 'activation': 'leaky_relu', 'n_epochs': 2000.0, 'lr': 0.01, 'en_decay': True, 'lr_final': 0.0001, 'lr_decay': True, 'regularization': 'L2', 'penalty': 0.001, 'grad_clipping': True, 'clip_norm': 20}\n"
     ]
    },
    {
     "name": "stderr",
     "output_type": "stream",
     "text": [
      "\r",
      " 65%|██████████████████████████████████████████████████▍                           | 207/320 [1:55:27<49:42, 26.40s/it]"
     ]
    },
    {
     "name": "stdout",
     "output_type": "stream",
     "text": [
      "______________________________________________________\n",
      "AVERAGE VALIDATION ERROR 1.085 ± 0.513\n",
      "______________________________________________________\n",
      "\n",
      "Performing training 207 out of 320\n",
      "[[ 1 20 20  1]]\n",
      "\n",
      "Configuration: {'neurons_architecture': matrix([[ 1, 20, 20,  1]]), 'activation': 'leaky_relu', 'n_epochs': 2000.0, 'lr': 0.01, 'en_decay': True, 'lr_final': 0.0001, 'lr_decay': True, 'regularization': 'L2', 'penalty': 0.0005, 'grad_clipping': True, 'clip_norm': 20}\n"
     ]
    },
    {
     "name": "stderr",
     "output_type": "stream",
     "text": [
      "\r",
      " 65%|██████████████████████████████████████████████████▋                           | 208/320 [1:56:01<53:31, 28.67s/it]"
     ]
    },
    {
     "name": "stdout",
     "output_type": "stream",
     "text": [
      "______________________________________________________\n",
      "AVERAGE VALIDATION ERROR 1.001 ± 0.064\n",
      "______________________________________________________\n",
      "\n",
      "Performing training 208 out of 320\n",
      "[[ 1 20 20  1]]\n",
      "\n",
      "Configuration: {'neurons_architecture': matrix([[ 1, 20, 20,  1]]), 'activation': 'elu', 'n_epochs': 2000.0, 'lr': 0.01, 'en_decay': True, 'lr_final': 0.001, 'lr_decay': True, 'regularization': 'L1', 'penalty': 0.001, 'grad_clipping': True, 'clip_norm': 20}\n"
     ]
    },
    {
     "name": "stderr",
     "output_type": "stream",
     "text": [
      "\r",
      " 65%|██████████████████████████████████████████████████▉                           | 209/320 [1:56:36<56:43, 30.67s/it]"
     ]
    },
    {
     "name": "stdout",
     "output_type": "stream",
     "text": [
      "______________________________________________________\n",
      "AVERAGE VALIDATION ERROR 1.679 ± 0.871\n",
      "______________________________________________________\n",
      "\n",
      "Performing training 209 out of 320\n",
      "[[ 1 20 20  1]]\n",
      "\n",
      "Configuration: {'neurons_architecture': matrix([[ 1, 20, 20,  1]]), 'activation': 'elu', 'n_epochs': 2000.0, 'lr': 0.01, 'en_decay': True, 'lr_final': 0.001, 'lr_decay': True, 'regularization': 'L1', 'penalty': 0.0005, 'grad_clipping': True, 'clip_norm': 20}\n"
     ]
    },
    {
     "name": "stderr",
     "output_type": "stream",
     "text": [
      "\r",
      " 66%|█████████████████████████████████████████████████▉                          | 210/320 [1:57:25<1:06:11, 36.11s/it]"
     ]
    },
    {
     "name": "stdout",
     "output_type": "stream",
     "text": [
      "______________________________________________________\n",
      "AVERAGE VALIDATION ERROR 5.321 ± 9.904\n",
      "______________________________________________________\n",
      "\n",
      "Performing training 210 out of 320\n",
      "[[ 1 20 20  1]]\n",
      "\n",
      "Configuration: {'neurons_architecture': matrix([[ 1, 20, 20,  1]]), 'activation': 'elu', 'n_epochs': 2000.0, 'lr': 0.01, 'en_decay': True, 'lr_final': 0.001, 'lr_decay': True, 'regularization': 'L2', 'penalty': 0.001, 'grad_clipping': True, 'clip_norm': 20}\n"
     ]
    },
    {
     "name": "stderr",
     "output_type": "stream",
     "text": [
      "\r",
      " 66%|██████████████████████████████████████████████████                          | 211/320 [1:57:53<1:01:04, 33.62s/it]"
     ]
    },
    {
     "name": "stdout",
     "output_type": "stream",
     "text": [
      "______________________________________________________\n",
      "AVERAGE VALIDATION ERROR 2.92 ± 2.267\n",
      "______________________________________________________\n",
      "\n",
      "Performing training 211 out of 320\n",
      "[[ 1 20 20  1]]\n",
      "\n",
      "Configuration: {'neurons_architecture': matrix([[ 1, 20, 20,  1]]), 'activation': 'elu', 'n_epochs': 2000.0, 'lr': 0.01, 'en_decay': True, 'lr_final': 0.001, 'lr_decay': True, 'regularization': 'L2', 'penalty': 0.0005, 'grad_clipping': True, 'clip_norm': 20}\n"
     ]
    },
    {
     "name": "stderr",
     "output_type": "stream",
     "text": [
      "\r",
      " 66%|███████████████████████████████████████████████████▋                          | 212/320 [1:58:20<56:54, 31.62s/it]"
     ]
    },
    {
     "name": "stdout",
     "output_type": "stream",
     "text": [
      "______________________________________________________\n",
      "AVERAGE VALIDATION ERROR 4.51 ± 3.207\n",
      "______________________________________________________\n",
      "\n",
      "Performing training 212 out of 320\n",
      "[[ 1 20 20  1]]\n",
      "\n",
      "Configuration: {'neurons_architecture': matrix([[ 1, 20, 20,  1]]), 'activation': 'elu', 'n_epochs': 2000.0, 'lr': 0.01, 'en_decay': True, 'lr_final': 0.0001, 'lr_decay': True, 'regularization': 'L1', 'penalty': 0.001, 'grad_clipping': True, 'clip_norm': 20}\n"
     ]
    },
    {
     "name": "stderr",
     "output_type": "stream",
     "text": [
      "\r",
      " 67%|██████████████████████████████████████████████████▌                         | 213/320 [1:59:18<1:10:47, 39.70s/it]"
     ]
    },
    {
     "name": "stdout",
     "output_type": "stream",
     "text": [
      "______________________________________________________\n",
      "AVERAGE VALIDATION ERROR 1.022 ± 0.297\n",
      "______________________________________________________\n",
      "\n",
      "Performing training 213 out of 320\n",
      "[[ 1 20 20  1]]\n",
      "\n",
      "Configuration: {'neurons_architecture': matrix([[ 1, 20, 20,  1]]), 'activation': 'elu', 'n_epochs': 2000.0, 'lr': 0.01, 'en_decay': True, 'lr_final': 0.0001, 'lr_decay': True, 'regularization': 'L1', 'penalty': 0.0005, 'grad_clipping': True, 'clip_norm': 20}\n"
     ]
    },
    {
     "name": "stderr",
     "output_type": "stream",
     "text": [
      "\r",
      " 67%|██████████████████████████████████████████████████▊                         | 214/320 [1:59:57<1:09:50, 39.53s/it]"
     ]
    },
    {
     "name": "stdout",
     "output_type": "stream",
     "text": [
      "______________________________________________________\n",
      "AVERAGE VALIDATION ERROR 2.703 ± 4.293\n",
      "______________________________________________________\n",
      "\n",
      "Performing training 214 out of 320\n",
      "[[ 1 20 20  1]]\n",
      "\n",
      "Configuration: {'neurons_architecture': matrix([[ 1, 20, 20,  1]]), 'activation': 'elu', 'n_epochs': 2000.0, 'lr': 0.01, 'en_decay': True, 'lr_final': 0.0001, 'lr_decay': True, 'regularization': 'L2', 'penalty': 0.001, 'grad_clipping': True, 'clip_norm': 20}\n"
     ]
    },
    {
     "name": "stderr",
     "output_type": "stream",
     "text": [
      "\r",
      " 67%|███████████████████████████████████████████████████                         | 215/320 [2:00:53<1:17:30, 44.29s/it]"
     ]
    },
    {
     "name": "stdout",
     "output_type": "stream",
     "text": [
      "______________________________________________________\n",
      "AVERAGE VALIDATION ERROR 1.484 ± 1.052\n",
      "______________________________________________________\n",
      "\n",
      "Performing training 215 out of 320\n",
      "[[ 1 20 20  1]]\n",
      "\n",
      "Configuration: {'neurons_architecture': matrix([[ 1, 20, 20,  1]]), 'activation': 'elu', 'n_epochs': 2000.0, 'lr': 0.01, 'en_decay': True, 'lr_final': 0.0001, 'lr_decay': True, 'regularization': 'L2', 'penalty': 0.0005, 'grad_clipping': True, 'clip_norm': 20}\n"
     ]
    },
    {
     "name": "stderr",
     "output_type": "stream",
     "text": [
      "\r",
      " 68%|███████████████████████████████████████████████████▎                        | 216/320 [2:01:58<1:27:24, 50.43s/it]"
     ]
    },
    {
     "name": "stdout",
     "output_type": "stream",
     "text": [
      "______________________________________________________\n",
      "AVERAGE VALIDATION ERROR 1.068 ± 0.357\n",
      "______________________________________________________\n",
      "\n",
      "Performing training 216 out of 320\n",
      "[[ 1 20 20  1]]\n",
      "\n",
      "Configuration: {'neurons_architecture': matrix([[ 1, 20, 20,  1]]), 'activation': 'swish', 'n_epochs': 2000.0, 'lr': 0.01, 'en_decay': True, 'lr_final': 0.001, 'lr_decay': True, 'regularization': 'L1', 'penalty': 0.001, 'grad_clipping': True, 'clip_norm': 20}\n"
     ]
    },
    {
     "name": "stderr",
     "output_type": "stream",
     "text": [
      "\r",
      " 68%|███████████████████████████████████████████████████▌                        | 217/320 [2:02:34<1:19:30, 46.31s/it]"
     ]
    },
    {
     "name": "stdout",
     "output_type": "stream",
     "text": [
      "______________________________________________________\n",
      "AVERAGE VALIDATION ERROR 2.245 ± 1.68\n",
      "______________________________________________________\n",
      "\n",
      "Performing training 217 out of 320\n",
      "[[ 1 20 20  1]]\n",
      "\n",
      "Configuration: {'neurons_architecture': matrix([[ 1, 20, 20,  1]]), 'activation': 'swish', 'n_epochs': 2000.0, 'lr': 0.01, 'en_decay': True, 'lr_final': 0.001, 'lr_decay': True, 'regularization': 'L1', 'penalty': 0.0005, 'grad_clipping': True, 'clip_norm': 20}\n"
     ]
    },
    {
     "name": "stderr",
     "output_type": "stream",
     "text": [
      "\r",
      " 68%|███████████████████████████████████████████████████▊                        | 218/320 [2:03:09<1:12:56, 42.91s/it]"
     ]
    },
    {
     "name": "stdout",
     "output_type": "stream",
     "text": [
      "______________________________________________________\n",
      "AVERAGE VALIDATION ERROR 1.343 ± 0.483\n",
      "______________________________________________________\n",
      "\n",
      "Performing training 218 out of 320\n",
      "[[ 1 20 20  1]]\n",
      "\n",
      "Configuration: {'neurons_architecture': matrix([[ 1, 20, 20,  1]]), 'activation': 'swish', 'n_epochs': 2000.0, 'lr': 0.01, 'en_decay': True, 'lr_final': 0.001, 'lr_decay': True, 'regularization': 'L2', 'penalty': 0.001, 'grad_clipping': True, 'clip_norm': 20}\n"
     ]
    },
    {
     "name": "stderr",
     "output_type": "stream",
     "text": [
      "\r",
      " 68%|████████████████████████████████████████████████████                        | 219/320 [2:03:30<1:00:46, 36.11s/it]"
     ]
    },
    {
     "name": "stdout",
     "output_type": "stream",
     "text": [
      "______________________________________________________\n",
      "AVERAGE VALIDATION ERROR 2.033 ± 0.929\n",
      "______________________________________________________\n",
      "\n",
      "Performing training 219 out of 320\n",
      "[[ 1 20 20  1]]\n",
      "\n",
      "Configuration: {'neurons_architecture': matrix([[ 1, 20, 20,  1]]), 'activation': 'swish', 'n_epochs': 2000.0, 'lr': 0.01, 'en_decay': True, 'lr_final': 0.001, 'lr_decay': True, 'regularization': 'L2', 'penalty': 0.0005, 'grad_clipping': True, 'clip_norm': 20}\n"
     ]
    },
    {
     "name": "stderr",
     "output_type": "stream",
     "text": [
      "\r",
      " 69%|█████████████████████████████████████████████████████▋                        | 220/320 [2:03:51<52:55, 31.76s/it]"
     ]
    },
    {
     "name": "stdout",
     "output_type": "stream",
     "text": [
      "______________________________________________________\n",
      "AVERAGE VALIDATION ERROR 1.786 ± 0.494\n",
      "______________________________________________________\n",
      "\n",
      "Performing training 220 out of 320\n",
      "[[ 1 20 20  1]]\n",
      "\n",
      "Configuration: {'neurons_architecture': matrix([[ 1, 20, 20,  1]]), 'activation': 'swish', 'n_epochs': 2000.0, 'lr': 0.01, 'en_decay': True, 'lr_final': 0.0001, 'lr_decay': True, 'regularization': 'L1', 'penalty': 0.001, 'grad_clipping': True, 'clip_norm': 20}\n"
     ]
    },
    {
     "name": "stderr",
     "output_type": "stream",
     "text": [
      "\r",
      " 69%|█████████████████████████████████████████████████████▊                        | 221/320 [2:04:32<57:02, 34.57s/it]"
     ]
    },
    {
     "name": "stdout",
     "output_type": "stream",
     "text": [
      "______________________________________________________\n",
      "AVERAGE VALIDATION ERROR 2.06 ± 2.674\n",
      "______________________________________________________\n",
      "\n",
      "Performing training 221 out of 320\n",
      "[[ 1 20 20  1]]\n",
      "\n",
      "Configuration: {'neurons_architecture': matrix([[ 1, 20, 20,  1]]), 'activation': 'swish', 'n_epochs': 2000.0, 'lr': 0.01, 'en_decay': True, 'lr_final': 0.0001, 'lr_decay': True, 'regularization': 'L1', 'penalty': 0.0005, 'grad_clipping': True, 'clip_norm': 20}\n"
     ]
    },
    {
     "name": "stderr",
     "output_type": "stream",
     "text": [
      "\r",
      " 69%|████████████████████████████████████████████████████▋                       | 222/320 [2:05:21<1:03:28, 38.86s/it]"
     ]
    },
    {
     "name": "stdout",
     "output_type": "stream",
     "text": [
      "______________________________________________________\n",
      "AVERAGE VALIDATION ERROR 1.143 ± 0.534\n",
      "______________________________________________________\n",
      "\n",
      "Performing training 222 out of 320\n",
      "[[ 1 20 20  1]]\n",
      "\n",
      "Configuration: {'neurons_architecture': matrix([[ 1, 20, 20,  1]]), 'activation': 'swish', 'n_epochs': 2000.0, 'lr': 0.01, 'en_decay': True, 'lr_final': 0.0001, 'lr_decay': True, 'regularization': 'L2', 'penalty': 0.001, 'grad_clipping': True, 'clip_norm': 20}\n"
     ]
    },
    {
     "name": "stderr",
     "output_type": "stream",
     "text": [
      "\r",
      " 70%|████████████████████████████████████████████████████▉                       | 223/320 [2:05:58<1:01:56, 38.32s/it]"
     ]
    },
    {
     "name": "stdout",
     "output_type": "stream",
     "text": [
      "______________________________________________________\n",
      "AVERAGE VALIDATION ERROR 1.312 ± 0.487\n",
      "______________________________________________________\n",
      "\n",
      "Performing training 223 out of 320\n",
      "[[ 1 20 20  1]]\n",
      "\n",
      "Configuration: {'neurons_architecture': matrix([[ 1, 20, 20,  1]]), 'activation': 'swish', 'n_epochs': 2000.0, 'lr': 0.01, 'en_decay': True, 'lr_final': 0.0001, 'lr_decay': True, 'regularization': 'L2', 'penalty': 0.0005, 'grad_clipping': True, 'clip_norm': 20}\n"
     ]
    },
    {
     "name": "stderr",
     "output_type": "stream",
     "text": [
      "\r",
      " 70%|██████████████████████████████████████████████████████▌                       | 224/320 [2:06:28<57:04, 35.67s/it]"
     ]
    },
    {
     "name": "stdout",
     "output_type": "stream",
     "text": [
      "______________________________________________________\n",
      "AVERAGE VALIDATION ERROR 1.692 ± 0.908\n",
      "______________________________________________________\n",
      "\n",
      "Performing training 224 out of 320\n",
      "[[ 1 50 20  1]]\n",
      "\n",
      "Configuration: {'neurons_architecture': matrix([[ 1, 50, 20,  1]]), 'activation': 'relu', 'n_epochs': 2000.0, 'lr': 0.01, 'en_decay': True, 'lr_final': 0.001, 'lr_decay': True, 'regularization': 'L1', 'penalty': 0.001, 'grad_clipping': True, 'clip_norm': 20}\n"
     ]
    },
    {
     "name": "stderr",
     "output_type": "stream",
     "text": [
      "\r",
      " 70%|██████████████████████████████████████████████████████▊                       | 225/320 [2:06:58<54:05, 34.16s/it]"
     ]
    },
    {
     "name": "stdout",
     "output_type": "stream",
     "text": [
      "______________________________________________________\n",
      "AVERAGE VALIDATION ERROR 0.908 ± 0.145\n",
      "______________________________________________________\n",
      "\n",
      "Performing training 225 out of 320\n",
      "[[ 1 50 20  1]]\n",
      "\n",
      "Configuration: {'neurons_architecture': matrix([[ 1, 50, 20,  1]]), 'activation': 'relu', 'n_epochs': 2000.0, 'lr': 0.01, 'en_decay': True, 'lr_final': 0.001, 'lr_decay': True, 'regularization': 'L1', 'penalty': 0.0005, 'grad_clipping': True, 'clip_norm': 20}\n"
     ]
    },
    {
     "name": "stderr",
     "output_type": "stream",
     "text": [
      "\r",
      " 71%|███████████████████████████████████████████████████████                       | 226/320 [2:07:28<51:26, 32.84s/it]"
     ]
    },
    {
     "name": "stdout",
     "output_type": "stream",
     "text": [
      "______________________________________________________\n",
      "AVERAGE VALIDATION ERROR 1.3 ± 0.934\n",
      "______________________________________________________\n",
      "\n",
      "Performing training 226 out of 320\n",
      "[[ 1 50 20  1]]\n",
      "\n",
      "Configuration: {'neurons_architecture': matrix([[ 1, 50, 20,  1]]), 'activation': 'relu', 'n_epochs': 2000.0, 'lr': 0.01, 'en_decay': True, 'lr_final': 0.001, 'lr_decay': True, 'regularization': 'L2', 'penalty': 0.001, 'grad_clipping': True, 'clip_norm': 20}\n"
     ]
    },
    {
     "name": "stderr",
     "output_type": "stream",
     "text": [
      "\r",
      " 71%|███████████████████████████████████████████████████████▎                      | 227/320 [2:07:53<47:22, 30.57s/it]"
     ]
    },
    {
     "name": "stdout",
     "output_type": "stream",
     "text": [
      "______________________________________________________\n",
      "AVERAGE VALIDATION ERROR 1.154 ± 0.527\n",
      "______________________________________________________\n",
      "\n",
      "Performing training 227 out of 320\n",
      "[[ 1 50 20  1]]\n",
      "\n",
      "Configuration: {'neurons_architecture': matrix([[ 1, 50, 20,  1]]), 'activation': 'relu', 'n_epochs': 2000.0, 'lr': 0.01, 'en_decay': True, 'lr_final': 0.001, 'lr_decay': True, 'regularization': 'L2', 'penalty': 0.0005, 'grad_clipping': True, 'clip_norm': 20}\n"
     ]
    },
    {
     "name": "stderr",
     "output_type": "stream",
     "text": [
      "\r",
      " 71%|███████████████████████████████████████████████████████▌                      | 228/320 [2:08:32<50:30, 32.94s/it]"
     ]
    },
    {
     "name": "stdout",
     "output_type": "stream",
     "text": [
      "______________________________________________________\n",
      "AVERAGE VALIDATION ERROR 0.812 ± 0.239\n",
      "______________________________________________________\n",
      "\n",
      "Performing training 228 out of 320\n",
      "[[ 1 50 20  1]]\n",
      "\n",
      "Configuration: {'neurons_architecture': matrix([[ 1, 50, 20,  1]]), 'activation': 'relu', 'n_epochs': 2000.0, 'lr': 0.01, 'en_decay': True, 'lr_final': 0.0001, 'lr_decay': True, 'regularization': 'L1', 'penalty': 0.001, 'grad_clipping': True, 'clip_norm': 20}\n"
     ]
    },
    {
     "name": "stderr",
     "output_type": "stream",
     "text": [
      "\r",
      " 72%|███████████████████████████████████████████████████████▊                      | 229/320 [2:09:06<50:27, 33.27s/it]"
     ]
    },
    {
     "name": "stdout",
     "output_type": "stream",
     "text": [
      "______________________________________________________\n",
      "AVERAGE VALIDATION ERROR 0.993 ± 0.386\n",
      "______________________________________________________\n",
      "\n",
      "Performing training 229 out of 320\n",
      "[[ 1 50 20  1]]\n",
      "\n",
      "Configuration: {'neurons_architecture': matrix([[ 1, 50, 20,  1]]), 'activation': 'relu', 'n_epochs': 2000.0, 'lr': 0.01, 'en_decay': True, 'lr_final': 0.0001, 'lr_decay': True, 'regularization': 'L1', 'penalty': 0.0005, 'grad_clipping': True, 'clip_norm': 20}\n"
     ]
    },
    {
     "name": "stderr",
     "output_type": "stream",
     "text": [
      "\r",
      " 72%|████████████████████████████████████████████████████████                      | 230/320 [2:10:00<59:13, 39.49s/it]"
     ]
    },
    {
     "name": "stdout",
     "output_type": "stream",
     "text": [
      "______________________________________________________\n",
      "AVERAGE VALIDATION ERROR 0.845 ± 0.213\n",
      "______________________________________________________\n",
      "\n",
      "Performing training 230 out of 320\n",
      "[[ 1 50 20  1]]\n",
      "\n",
      "Configuration: {'neurons_architecture': matrix([[ 1, 50, 20,  1]]), 'activation': 'relu', 'n_epochs': 2000.0, 'lr': 0.01, 'en_decay': True, 'lr_final': 0.0001, 'lr_decay': True, 'regularization': 'L2', 'penalty': 0.001, 'grad_clipping': True, 'clip_norm': 20}\n"
     ]
    },
    {
     "name": "stderr",
     "output_type": "stream",
     "text": [
      "\r",
      " 72%|████████████████████████████████████████████████████████▎                     | 231/320 [2:10:29<53:47, 36.27s/it]"
     ]
    },
    {
     "name": "stdout",
     "output_type": "stream",
     "text": [
      "______________________________________________________\n",
      "AVERAGE VALIDATION ERROR 1.235 ± 0.691\n",
      "______________________________________________________\n",
      "\n",
      "Performing training 231 out of 320\n",
      "[[ 1 50 20  1]]\n",
      "\n",
      "Configuration: {'neurons_architecture': matrix([[ 1, 50, 20,  1]]), 'activation': 'relu', 'n_epochs': 2000.0, 'lr': 0.01, 'en_decay': True, 'lr_final': 0.0001, 'lr_decay': True, 'regularization': 'L2', 'penalty': 0.0005, 'grad_clipping': True, 'clip_norm': 20}\n"
     ]
    },
    {
     "name": "stderr",
     "output_type": "stream",
     "text": [
      "\r",
      " 72%|████████████████████████████████████████████████████████▌                     | 232/320 [2:11:17<58:31, 39.90s/it]"
     ]
    },
    {
     "name": "stdout",
     "output_type": "stream",
     "text": [
      "______________________________________________________\n",
      "AVERAGE VALIDATION ERROR 1.21 ± 0.673\n",
      "______________________________________________________\n",
      "\n",
      "Performing training 232 out of 320\n",
      "[[ 1 50 20  1]]\n",
      "\n",
      "Configuration: {'neurons_architecture': matrix([[ 1, 50, 20,  1]]), 'activation': 'leaky_relu', 'n_epochs': 2000.0, 'lr': 0.01, 'en_decay': True, 'lr_final': 0.001, 'lr_decay': True, 'regularization': 'L1', 'penalty': 0.001, 'grad_clipping': True, 'clip_norm': 20}\n"
     ]
    },
    {
     "name": "stderr",
     "output_type": "stream",
     "text": [
      "\r",
      " 73%|████████████████████████████████████████████████████████▊                     | 233/320 [2:11:49<54:28, 37.57s/it]"
     ]
    },
    {
     "name": "stdout",
     "output_type": "stream",
     "text": [
      "______________________________________________________\n",
      "AVERAGE VALIDATION ERROR 1.103 ± 0.512\n",
      "______________________________________________________\n",
      "\n",
      "Performing training 233 out of 320\n",
      "[[ 1 50 20  1]]\n",
      "\n",
      "Configuration: {'neurons_architecture': matrix([[ 1, 50, 20,  1]]), 'activation': 'leaky_relu', 'n_epochs': 2000.0, 'lr': 0.01, 'en_decay': True, 'lr_final': 0.001, 'lr_decay': True, 'regularization': 'L1', 'penalty': 0.0005, 'grad_clipping': True, 'clip_norm': 20}\n"
     ]
    },
    {
     "name": "stderr",
     "output_type": "stream",
     "text": [
      "\r",
      " 73%|█████████████████████████████████████████████████████████                     | 234/320 [2:12:26<53:37, 37.42s/it]"
     ]
    },
    {
     "name": "stdout",
     "output_type": "stream",
     "text": [
      "______________________________________________________\n",
      "AVERAGE VALIDATION ERROR 0.78 ± 0.234\n",
      "______________________________________________________\n",
      "\n",
      "Performing training 234 out of 320\n",
      "[[ 1 50 20  1]]\n",
      "\n",
      "Configuration: {'neurons_architecture': matrix([[ 1, 50, 20,  1]]), 'activation': 'leaky_relu', 'n_epochs': 2000.0, 'lr': 0.01, 'en_decay': True, 'lr_final': 0.001, 'lr_decay': True, 'regularization': 'L2', 'penalty': 0.001, 'grad_clipping': True, 'clip_norm': 20}\n"
     ]
    },
    {
     "name": "stderr",
     "output_type": "stream",
     "text": [
      "\r",
      " 73%|█████████████████████████████████████████████████████████▎                    | 235/320 [2:12:49<46:57, 33.15s/it]"
     ]
    },
    {
     "name": "stdout",
     "output_type": "stream",
     "text": [
      "______________________________________________________\n",
      "AVERAGE VALIDATION ERROR 0.89 ± 0.337\n",
      "______________________________________________________\n",
      "\n",
      "Performing training 235 out of 320\n",
      "[[ 1 50 20  1]]\n",
      "\n",
      "Configuration: {'neurons_architecture': matrix([[ 1, 50, 20,  1]]), 'activation': 'leaky_relu', 'n_epochs': 2000.0, 'lr': 0.01, 'en_decay': True, 'lr_final': 0.001, 'lr_decay': True, 'regularization': 'L2', 'penalty': 0.0005, 'grad_clipping': True, 'clip_norm': 20}\n"
     ]
    },
    {
     "name": "stderr",
     "output_type": "stream",
     "text": [
      "\r",
      " 74%|█████████████████████████████████████████████████████████▌                    | 236/320 [2:13:21<45:52, 32.77s/it]"
     ]
    },
    {
     "name": "stdout",
     "output_type": "stream",
     "text": [
      "______________________________________________________\n",
      "AVERAGE VALIDATION ERROR 0.795 ± 0.145\n",
      "______________________________________________________\n",
      "\n",
      "Performing training 236 out of 320\n",
      "[[ 1 50 20  1]]\n",
      "\n",
      "Configuration: {'neurons_architecture': matrix([[ 1, 50, 20,  1]]), 'activation': 'leaky_relu', 'n_epochs': 2000.0, 'lr': 0.01, 'en_decay': True, 'lr_final': 0.0001, 'lr_decay': True, 'regularization': 'L1', 'penalty': 0.001, 'grad_clipping': True, 'clip_norm': 20}\n"
     ]
    },
    {
     "name": "stderr",
     "output_type": "stream",
     "text": [
      "\r",
      " 74%|█████████████████████████████████████████████████████████▊                    | 237/320 [2:14:08<50:58, 36.85s/it]"
     ]
    },
    {
     "name": "stdout",
     "output_type": "stream",
     "text": [
      "______________________________________________________\n",
      "AVERAGE VALIDATION ERROR 1.545 ± 0.871\n",
      "______________________________________________________\n",
      "\n",
      "Performing training 237 out of 320\n",
      "[[ 1 50 20  1]]\n",
      "\n",
      "Configuration: {'neurons_architecture': matrix([[ 1, 50, 20,  1]]), 'activation': 'leaky_relu', 'n_epochs': 2000.0, 'lr': 0.01, 'en_decay': True, 'lr_final': 0.0001, 'lr_decay': True, 'regularization': 'L1', 'penalty': 0.0005, 'grad_clipping': True, 'clip_norm': 20}\n"
     ]
    },
    {
     "name": "stderr",
     "output_type": "stream",
     "text": [
      "\r",
      " 74%|██████████████████████████████████████████████████████████                    | 238/320 [2:14:42<49:22, 36.13s/it]"
     ]
    },
    {
     "name": "stdout",
     "output_type": "stream",
     "text": [
      "______________________________________________________\n",
      "AVERAGE VALIDATION ERROR 0.783 ± 0.211\n",
      "______________________________________________________\n",
      "\n",
      "Performing training 238 out of 320\n",
      "[[ 1 50 20  1]]\n",
      "\n",
      "Configuration: {'neurons_architecture': matrix([[ 1, 50, 20,  1]]), 'activation': 'leaky_relu', 'n_epochs': 2000.0, 'lr': 0.01, 'en_decay': True, 'lr_final': 0.0001, 'lr_decay': True, 'regularization': 'L2', 'penalty': 0.001, 'grad_clipping': True, 'clip_norm': 20}\n"
     ]
    },
    {
     "name": "stderr",
     "output_type": "stream",
     "text": [
      "\r",
      " 75%|██████████████████████████████████████████████████████████▎                   | 239/320 [2:15:22<50:16, 37.25s/it]"
     ]
    },
    {
     "name": "stdout",
     "output_type": "stream",
     "text": [
      "______________________________________________________\n",
      "AVERAGE VALIDATION ERROR 1.544 ± 1.524\n",
      "______________________________________________________\n",
      "\n",
      "Performing training 239 out of 320\n",
      "[[ 1 50 20  1]]\n",
      "\n",
      "Configuration: {'neurons_architecture': matrix([[ 1, 50, 20,  1]]), 'activation': 'leaky_relu', 'n_epochs': 2000.0, 'lr': 0.01, 'en_decay': True, 'lr_final': 0.0001, 'lr_decay': True, 'regularization': 'L2', 'penalty': 0.0005, 'grad_clipping': True, 'clip_norm': 20}\n"
     ]
    },
    {
     "name": "stderr",
     "output_type": "stream",
     "text": [
      "\r",
      " 75%|██████████████████████████████████████████████████████████▌                   | 240/320 [2:15:56<48:14, 36.18s/it]"
     ]
    },
    {
     "name": "stdout",
     "output_type": "stream",
     "text": [
      "______________________________________________________\n",
      "AVERAGE VALIDATION ERROR 0.843 ± 0.295\n",
      "______________________________________________________\n",
      "\n",
      "Performing training 240 out of 320\n",
      "[[ 1 50 20  1]]\n",
      "\n",
      "Configuration: {'neurons_architecture': matrix([[ 1, 50, 20,  1]]), 'activation': 'elu', 'n_epochs': 2000.0, 'lr': 0.01, 'en_decay': True, 'lr_final': 0.001, 'lr_decay': True, 'regularization': 'L1', 'penalty': 0.001, 'grad_clipping': True, 'clip_norm': 20}\n"
     ]
    },
    {
     "name": "stderr",
     "output_type": "stream",
     "text": [
      "\r",
      " 75%|██████████████████████████████████████████████████████████▋                   | 241/320 [2:16:44<52:33, 39.92s/it]"
     ]
    },
    {
     "name": "stdout",
     "output_type": "stream",
     "text": [
      "______________________________________________________\n",
      "AVERAGE VALIDATION ERROR 3.085 ± 2.532\n",
      "______________________________________________________\n",
      "\n",
      "Performing training 241 out of 320\n",
      "[[ 1 50 20  1]]\n",
      "\n",
      "Configuration: {'neurons_architecture': matrix([[ 1, 50, 20,  1]]), 'activation': 'elu', 'n_epochs': 2000.0, 'lr': 0.01, 'en_decay': True, 'lr_final': 0.001, 'lr_decay': True, 'regularization': 'L1', 'penalty': 0.0005, 'grad_clipping': True, 'clip_norm': 20}\n"
     ]
    },
    {
     "name": "stderr",
     "output_type": "stream",
     "text": [
      "\r",
      " 76%|██████████████████████████████████████████████████████████▉                   | 242/320 [2:17:21<50:47, 39.07s/it]"
     ]
    },
    {
     "name": "stdout",
     "output_type": "stream",
     "text": [
      "______________________________________________________\n",
      "AVERAGE VALIDATION ERROR 2.141 ± 1.407\n",
      "______________________________________________________\n",
      "\n",
      "Performing training 242 out of 320\n",
      "[[ 1 50 20  1]]\n",
      "\n",
      "Configuration: {'neurons_architecture': matrix([[ 1, 50, 20,  1]]), 'activation': 'elu', 'n_epochs': 2000.0, 'lr': 0.01, 'en_decay': True, 'lr_final': 0.001, 'lr_decay': True, 'regularization': 'L2', 'penalty': 0.001, 'grad_clipping': True, 'clip_norm': 20}\n"
     ]
    },
    {
     "name": "stderr",
     "output_type": "stream",
     "text": [
      "\r",
      " 76%|███████████████████████████████████████████████████████████▏                  | 243/320 [2:18:06<52:23, 40.82s/it]"
     ]
    },
    {
     "name": "stdout",
     "output_type": "stream",
     "text": [
      "______________________________________________________\n",
      "AVERAGE VALIDATION ERROR 1.661 ± 1.71\n",
      "______________________________________________________\n",
      "\n",
      "Performing training 243 out of 320\n",
      "[[ 1 50 20  1]]\n",
      "\n",
      "Configuration: {'neurons_architecture': matrix([[ 1, 50, 20,  1]]), 'activation': 'elu', 'n_epochs': 2000.0, 'lr': 0.01, 'en_decay': True, 'lr_final': 0.001, 'lr_decay': True, 'regularization': 'L2', 'penalty': 0.0005, 'grad_clipping': True, 'clip_norm': 20}\n"
     ]
    },
    {
     "name": "stderr",
     "output_type": "stream",
     "text": [
      "\r",
      " 76%|███████████████████████████████████████████████████████████▍                  | 244/320 [2:19:02<57:18, 45.24s/it]"
     ]
    },
    {
     "name": "stdout",
     "output_type": "stream",
     "text": [
      "______________________________________________________\n",
      "AVERAGE VALIDATION ERROR 1.855 ± 1.292\n",
      "______________________________________________________\n",
      "\n",
      "Performing training 244 out of 320\n",
      "[[ 1 50 20  1]]\n",
      "\n",
      "Configuration: {'neurons_architecture': matrix([[ 1, 50, 20,  1]]), 'activation': 'elu', 'n_epochs': 2000.0, 'lr': 0.01, 'en_decay': True, 'lr_final': 0.0001, 'lr_decay': True, 'regularization': 'L1', 'penalty': 0.001, 'grad_clipping': True, 'clip_norm': 20}\n"
     ]
    },
    {
     "name": "stderr",
     "output_type": "stream",
     "text": [
      "\r",
      " 77%|███████████████████████████████████████████████████████████▋                  | 245/320 [2:19:47<56:25, 45.14s/it]"
     ]
    },
    {
     "name": "stdout",
     "output_type": "stream",
     "text": [
      "______________________________________________________\n",
      "AVERAGE VALIDATION ERROR 1.632 ± 1.016\n",
      "______________________________________________________\n",
      "\n",
      "Performing training 245 out of 320\n",
      "[[ 1 50 20  1]]\n",
      "\n",
      "Configuration: {'neurons_architecture': matrix([[ 1, 50, 20,  1]]), 'activation': 'elu', 'n_epochs': 2000.0, 'lr': 0.01, 'en_decay': True, 'lr_final': 0.0001, 'lr_decay': True, 'regularization': 'L1', 'penalty': 0.0005, 'grad_clipping': True, 'clip_norm': 20}\n"
     ]
    },
    {
     "name": "stderr",
     "output_type": "stream",
     "text": [
      "\r",
      " 77%|███████████████████████████████████████████████████████████▉                  | 246/320 [2:20:25<53:00, 42.98s/it]"
     ]
    },
    {
     "name": "stdout",
     "output_type": "stream",
     "text": [
      "______________________________________________________\n",
      "AVERAGE VALIDATION ERROR 1.677 ± 0.958\n",
      "______________________________________________________\n",
      "\n",
      "Performing training 246 out of 320\n",
      "[[ 1 50 20  1]]\n",
      "\n",
      "Configuration: {'neurons_architecture': matrix([[ 1, 50, 20,  1]]), 'activation': 'elu', 'n_epochs': 2000.0, 'lr': 0.01, 'en_decay': True, 'lr_final': 0.0001, 'lr_decay': True, 'regularization': 'L2', 'penalty': 0.001, 'grad_clipping': True, 'clip_norm': 20}\n"
     ]
    },
    {
     "name": "stderr",
     "output_type": "stream",
     "text": [
      "\r",
      " 77%|████████████████████████████████████████████████████████████▏                 | 247/320 [2:21:03<50:42, 41.67s/it]"
     ]
    },
    {
     "name": "stdout",
     "output_type": "stream",
     "text": [
      "______________________________________________________\n",
      "AVERAGE VALIDATION ERROR 1.855 ± 1.265\n",
      "______________________________________________________\n",
      "\n",
      "Performing training 247 out of 320\n",
      "[[ 1 50 20  1]]\n",
      "\n",
      "Configuration: {'neurons_architecture': matrix([[ 1, 50, 20,  1]]), 'activation': 'elu', 'n_epochs': 2000.0, 'lr': 0.01, 'en_decay': True, 'lr_final': 0.0001, 'lr_decay': True, 'regularization': 'L2', 'penalty': 0.0005, 'grad_clipping': True, 'clip_norm': 20}\n"
     ]
    },
    {
     "name": "stderr",
     "output_type": "stream",
     "text": [
      "\r",
      " 78%|████████████████████████████████████████████████████████████▍                 | 248/320 [2:21:53<52:48, 44.00s/it]"
     ]
    },
    {
     "name": "stdout",
     "output_type": "stream",
     "text": [
      "______________________________________________________\n",
      "AVERAGE VALIDATION ERROR 1.058 ± 0.336\n",
      "______________________________________________________\n",
      "\n",
      "Performing training 248 out of 320\n",
      "[[ 1 50 20  1]]\n",
      "\n",
      "Configuration: {'neurons_architecture': matrix([[ 1, 50, 20,  1]]), 'activation': 'swish', 'n_epochs': 2000.0, 'lr': 0.01, 'en_decay': True, 'lr_final': 0.001, 'lr_decay': True, 'regularization': 'L1', 'penalty': 0.001, 'grad_clipping': True, 'clip_norm': 20}\n"
     ]
    },
    {
     "name": "stderr",
     "output_type": "stream",
     "text": [
      "\r",
      " 78%|████████████████████████████████████████████████████████████▋                 | 249/320 [2:22:17<45:12, 38.20s/it]"
     ]
    },
    {
     "name": "stdout",
     "output_type": "stream",
     "text": [
      "______________________________________________________\n",
      "AVERAGE VALIDATION ERROR 1.769 ± 1.105\n",
      "______________________________________________________\n",
      "\n",
      "Performing training 249 out of 320\n",
      "[[ 1 50 20  1]]\n",
      "\n",
      "Configuration: {'neurons_architecture': matrix([[ 1, 50, 20,  1]]), 'activation': 'swish', 'n_epochs': 2000.0, 'lr': 0.01, 'en_decay': True, 'lr_final': 0.001, 'lr_decay': True, 'regularization': 'L1', 'penalty': 0.0005, 'grad_clipping': True, 'clip_norm': 20}\n"
     ]
    },
    {
     "name": "stderr",
     "output_type": "stream",
     "text": [
      "\r",
      " 78%|████████████████████████████████████████████████████████████▉                 | 250/320 [2:22:52<43:08, 36.98s/it]"
     ]
    },
    {
     "name": "stdout",
     "output_type": "stream",
     "text": [
      "______________________________________________________\n",
      "AVERAGE VALIDATION ERROR 2.432 ± 2.323\n",
      "______________________________________________________\n",
      "\n",
      "Performing training 250 out of 320\n",
      "[[ 1 50 20  1]]\n",
      "\n",
      "Configuration: {'neurons_architecture': matrix([[ 1, 50, 20,  1]]), 'activation': 'swish', 'n_epochs': 2000.0, 'lr': 0.01, 'en_decay': True, 'lr_final': 0.001, 'lr_decay': True, 'regularization': 'L2', 'penalty': 0.001, 'grad_clipping': True, 'clip_norm': 20}\n"
     ]
    },
    {
     "name": "stderr",
     "output_type": "stream",
     "text": [
      "\r",
      " 78%|█████████████████████████████████████████████████████████████▏                | 251/320 [2:23:23<40:28, 35.19s/it]"
     ]
    },
    {
     "name": "stdout",
     "output_type": "stream",
     "text": [
      "______________________________________________________\n",
      "AVERAGE VALIDATION ERROR 1.993 ± 1.131\n",
      "______________________________________________________\n",
      "\n",
      "Performing training 251 out of 320\n",
      "[[ 1 50 20  1]]\n",
      "\n",
      "Configuration: {'neurons_architecture': matrix([[ 1, 50, 20,  1]]), 'activation': 'swish', 'n_epochs': 2000.0, 'lr': 0.01, 'en_decay': True, 'lr_final': 0.001, 'lr_decay': True, 'regularization': 'L2', 'penalty': 0.0005, 'grad_clipping': True, 'clip_norm': 20}\n"
     ]
    },
    {
     "name": "stderr",
     "output_type": "stream",
     "text": [
      "\r",
      " 79%|█████████████████████████████████████████████████████████████▍                | 252/320 [2:23:55<38:57, 34.37s/it]"
     ]
    },
    {
     "name": "stdout",
     "output_type": "stream",
     "text": [
      "______________________________________________________\n",
      "AVERAGE VALIDATION ERROR 1.146 ± 0.647\n",
      "______________________________________________________\n",
      "\n",
      "Performing training 252 out of 320\n",
      "[[ 1 50 20  1]]\n",
      "\n",
      "Configuration: {'neurons_architecture': matrix([[ 1, 50, 20,  1]]), 'activation': 'swish', 'n_epochs': 2000.0, 'lr': 0.01, 'en_decay': True, 'lr_final': 0.0001, 'lr_decay': True, 'regularization': 'L1', 'penalty': 0.001, 'grad_clipping': True, 'clip_norm': 20}\n"
     ]
    },
    {
     "name": "stderr",
     "output_type": "stream",
     "text": [
      "\r",
      " 79%|█████████████████████████████████████████████████████████████▋                | 253/320 [2:24:27<37:27, 33.55s/it]"
     ]
    },
    {
     "name": "stdout",
     "output_type": "stream",
     "text": [
      "______________________________________________________\n",
      "AVERAGE VALIDATION ERROR 1.49 ± 0.831\n",
      "______________________________________________________\n",
      "\n",
      "Performing training 253 out of 320\n",
      "[[ 1 50 20  1]]\n",
      "\n",
      "Configuration: {'neurons_architecture': matrix([[ 1, 50, 20,  1]]), 'activation': 'swish', 'n_epochs': 2000.0, 'lr': 0.01, 'en_decay': True, 'lr_final': 0.0001, 'lr_decay': True, 'regularization': 'L1', 'penalty': 0.0005, 'grad_clipping': True, 'clip_norm': 20}\n"
     ]
    },
    {
     "name": "stderr",
     "output_type": "stream",
     "text": [
      "\r",
      " 79%|█████████████████████████████████████████████████████████████▉                | 254/320 [2:25:09<39:57, 36.32s/it]"
     ]
    },
    {
     "name": "stdout",
     "output_type": "stream",
     "text": [
      "______________________________________________________\n",
      "AVERAGE VALIDATION ERROR 1.275 ± 0.808\n",
      "______________________________________________________\n",
      "\n",
      "Performing training 254 out of 320\n",
      "[[ 1 50 20  1]]\n",
      "\n",
      "Configuration: {'neurons_architecture': matrix([[ 1, 50, 20,  1]]), 'activation': 'swish', 'n_epochs': 2000.0, 'lr': 0.01, 'en_decay': True, 'lr_final': 0.0001, 'lr_decay': True, 'regularization': 'L2', 'penalty': 0.001, 'grad_clipping': True, 'clip_norm': 20}\n"
     ]
    },
    {
     "name": "stderr",
     "output_type": "stream",
     "text": [
      "\r",
      " 80%|██████████████████████████████████████████████████████████████▏               | 255/320 [2:25:49<40:25, 37.31s/it]"
     ]
    },
    {
     "name": "stdout",
     "output_type": "stream",
     "text": [
      "______________________________________________________\n",
      "AVERAGE VALIDATION ERROR 0.901 ± 0.176\n",
      "______________________________________________________\n",
      "\n",
      "Performing training 255 out of 320\n",
      "[[ 1 50 20  1]]\n",
      "\n",
      "Configuration: {'neurons_architecture': matrix([[ 1, 50, 20,  1]]), 'activation': 'swish', 'n_epochs': 2000.0, 'lr': 0.01, 'en_decay': True, 'lr_final': 0.0001, 'lr_decay': True, 'regularization': 'L2', 'penalty': 0.0005, 'grad_clipping': True, 'clip_norm': 20}\n"
     ]
    },
    {
     "name": "stderr",
     "output_type": "stream",
     "text": [
      "\r",
      " 80%|██████████████████████████████████████████████████████████████▍               | 256/320 [2:26:16<36:24, 34.13s/it]"
     ]
    },
    {
     "name": "stdout",
     "output_type": "stream",
     "text": [
      "______________________________________________________\n",
      "AVERAGE VALIDATION ERROR 1.216 ± 0.58\n",
      "______________________________________________________\n",
      "\n",
      "Performing training 256 out of 320\n",
      "[[ 1 20 50  1]]\n",
      "\n",
      "Configuration: {'neurons_architecture': matrix([[ 1, 20, 50,  1]]), 'activation': 'relu', 'n_epochs': 2000.0, 'lr': 0.01, 'en_decay': True, 'lr_final': 0.001, 'lr_decay': True, 'regularization': 'L1', 'penalty': 0.001, 'grad_clipping': True, 'clip_norm': 20}\n"
     ]
    },
    {
     "name": "stderr",
     "output_type": "stream",
     "text": [
      "\r",
      " 80%|██████████████████████████████████████████████████████████████▋               | 257/320 [2:26:45<34:14, 32.60s/it]"
     ]
    },
    {
     "name": "stdout",
     "output_type": "stream",
     "text": [
      "______________________________________________________\n",
      "AVERAGE VALIDATION ERROR 1.103 ± 0.504\n",
      "______________________________________________________\n",
      "\n",
      "Performing training 257 out of 320\n",
      "[[ 1 20 50  1]]\n",
      "\n",
      "Configuration: {'neurons_architecture': matrix([[ 1, 20, 50,  1]]), 'activation': 'relu', 'n_epochs': 2000.0, 'lr': 0.01, 'en_decay': True, 'lr_final': 0.001, 'lr_decay': True, 'regularization': 'L1', 'penalty': 0.0005, 'grad_clipping': True, 'clip_norm': 20}\n"
     ]
    },
    {
     "name": "stderr",
     "output_type": "stream",
     "text": [
      "\r",
      " 81%|██████████████████████████████████████████████████████████████▉               | 258/320 [2:27:12<32:06, 31.06s/it]"
     ]
    },
    {
     "name": "stdout",
     "output_type": "stream",
     "text": [
      "______________________________________________________\n",
      "AVERAGE VALIDATION ERROR 1.733 ± 0.904\n",
      "______________________________________________________\n",
      "\n",
      "Performing training 258 out of 320\n",
      "[[ 1 20 50  1]]\n",
      "\n",
      "Configuration: {'neurons_architecture': matrix([[ 1, 20, 50,  1]]), 'activation': 'relu', 'n_epochs': 2000.0, 'lr': 0.01, 'en_decay': True, 'lr_final': 0.001, 'lr_decay': True, 'regularization': 'L2', 'penalty': 0.001, 'grad_clipping': True, 'clip_norm': 20}\n"
     ]
    },
    {
     "name": "stderr",
     "output_type": "stream",
     "text": [
      "\r",
      " 81%|███████████████████████████████████████████████████████████████▏              | 259/320 [2:27:40<30:29, 30.00s/it]"
     ]
    },
    {
     "name": "stdout",
     "output_type": "stream",
     "text": [
      "______________________________________________________\n",
      "AVERAGE VALIDATION ERROR 1.061 ± 0.456\n",
      "______________________________________________________\n",
      "\n",
      "Performing training 259 out of 320\n",
      "[[ 1 20 50  1]]\n",
      "\n",
      "Configuration: {'neurons_architecture': matrix([[ 1, 20, 50,  1]]), 'activation': 'relu', 'n_epochs': 2000.0, 'lr': 0.01, 'en_decay': True, 'lr_final': 0.001, 'lr_decay': True, 'regularization': 'L2', 'penalty': 0.0005, 'grad_clipping': True, 'clip_norm': 20}\n"
     ]
    },
    {
     "name": "stderr",
     "output_type": "stream",
     "text": [
      "\r",
      " 81%|███████████████████████████████████████████████████████████████▍              | 260/320 [2:28:03<27:51, 27.86s/it]"
     ]
    },
    {
     "name": "stdout",
     "output_type": "stream",
     "text": [
      "______________________________________________________\n",
      "AVERAGE VALIDATION ERROR 1.901 ± 0.846\n",
      "______________________________________________________\n",
      "\n",
      "Performing training 260 out of 320\n",
      "[[ 1 20 50  1]]\n",
      "\n",
      "Configuration: {'neurons_architecture': matrix([[ 1, 20, 50,  1]]), 'activation': 'relu', 'n_epochs': 2000.0, 'lr': 0.01, 'en_decay': True, 'lr_final': 0.0001, 'lr_decay': True, 'regularization': 'L1', 'penalty': 0.001, 'grad_clipping': True, 'clip_norm': 20}\n"
     ]
    },
    {
     "name": "stderr",
     "output_type": "stream",
     "text": [
      "\r",
      " 82%|███████████████████████████████████████████████████████████████▌              | 261/320 [2:28:46<31:58, 32.52s/it]"
     ]
    },
    {
     "name": "stdout",
     "output_type": "stream",
     "text": [
      "______________________________________________________\n",
      "AVERAGE VALIDATION ERROR 1.016 ± 0.408\n",
      "______________________________________________________\n",
      "\n",
      "Performing training 261 out of 320\n",
      "[[ 1 20 50  1]]\n",
      "\n",
      "Configuration: {'neurons_architecture': matrix([[ 1, 20, 50,  1]]), 'activation': 'relu', 'n_epochs': 2000.0, 'lr': 0.01, 'en_decay': True, 'lr_final': 0.0001, 'lr_decay': True, 'regularization': 'L1', 'penalty': 0.0005, 'grad_clipping': True, 'clip_norm': 20}\n"
     ]
    },
    {
     "name": "stderr",
     "output_type": "stream",
     "text": [
      "\r",
      " 82%|███████████████████████████████████████████████████████████████▊              | 262/320 [2:29:21<32:07, 33.23s/it]"
     ]
    },
    {
     "name": "stdout",
     "output_type": "stream",
     "text": [
      "______________________________________________________\n",
      "AVERAGE VALIDATION ERROR 0.808 ± 0.167\n",
      "______________________________________________________\n",
      "\n",
      "Performing training 262 out of 320\n",
      "[[ 1 20 50  1]]\n",
      "\n",
      "Configuration: {'neurons_architecture': matrix([[ 1, 20, 50,  1]]), 'activation': 'relu', 'n_epochs': 2000.0, 'lr': 0.01, 'en_decay': True, 'lr_final': 0.0001, 'lr_decay': True, 'regularization': 'L2', 'penalty': 0.001, 'grad_clipping': True, 'clip_norm': 20}\n"
     ]
    },
    {
     "name": "stderr",
     "output_type": "stream",
     "text": [
      "\r",
      " 82%|████████████████████████████████████████████████████████████████              | 263/320 [2:29:42<28:07, 29.60s/it]"
     ]
    },
    {
     "name": "stdout",
     "output_type": "stream",
     "text": [
      "______________________________________________________\n",
      "AVERAGE VALIDATION ERROR 1.41 ± 0.613\n",
      "______________________________________________________\n",
      "\n",
      "Performing training 263 out of 320\n",
      "[[ 1 20 50  1]]\n",
      "\n",
      "Configuration: {'neurons_architecture': matrix([[ 1, 20, 50,  1]]), 'activation': 'relu', 'n_epochs': 2000.0, 'lr': 0.01, 'en_decay': True, 'lr_final': 0.0001, 'lr_decay': True, 'regularization': 'L2', 'penalty': 0.0005, 'grad_clipping': True, 'clip_norm': 20}\n"
     ]
    },
    {
     "name": "stderr",
     "output_type": "stream",
     "text": [
      "\r",
      " 82%|████████████████████████████████████████████████████████████████▎             | 264/320 [2:30:06<26:03, 27.92s/it]"
     ]
    },
    {
     "name": "stdout",
     "output_type": "stream",
     "text": [
      "______________________________________________________\n",
      "AVERAGE VALIDATION ERROR 1.185 ± 0.785\n",
      "______________________________________________________\n",
      "\n",
      "Performing training 264 out of 320\n",
      "[[ 1 20 50  1]]\n",
      "\n",
      "Configuration: {'neurons_architecture': matrix([[ 1, 20, 50,  1]]), 'activation': 'leaky_relu', 'n_epochs': 2000.0, 'lr': 0.01, 'en_decay': True, 'lr_final': 0.001, 'lr_decay': True, 'regularization': 'L1', 'penalty': 0.001, 'grad_clipping': True, 'clip_norm': 20}\n"
     ]
    },
    {
     "name": "stderr",
     "output_type": "stream",
     "text": [
      "\r",
      " 83%|████████████████████████████████████████████████████████████████▌             | 265/320 [2:30:40<27:07, 29.59s/it]"
     ]
    },
    {
     "name": "stdout",
     "output_type": "stream",
     "text": [
      "______________________________________________________\n",
      "AVERAGE VALIDATION ERROR 0.991 ± 0.374\n",
      "______________________________________________________\n",
      "\n",
      "Performing training 265 out of 320\n",
      "[[ 1 20 50  1]]\n",
      "\n",
      "Configuration: {'neurons_architecture': matrix([[ 1, 20, 50,  1]]), 'activation': 'leaky_relu', 'n_epochs': 2000.0, 'lr': 0.01, 'en_decay': True, 'lr_final': 0.001, 'lr_decay': True, 'regularization': 'L1', 'penalty': 0.0005, 'grad_clipping': True, 'clip_norm': 20}\n"
     ]
    },
    {
     "name": "stderr",
     "output_type": "stream",
     "text": [
      "\r",
      " 83%|████████████████████████████████████████████████████████████████▊             | 266/320 [2:31:25<30:59, 34.43s/it]"
     ]
    },
    {
     "name": "stdout",
     "output_type": "stream",
     "text": [
      "______________________________________________________\n",
      "AVERAGE VALIDATION ERROR 0.937 ± 0.368\n",
      "______________________________________________________\n",
      "\n",
      "Performing training 266 out of 320\n",
      "[[ 1 20 50  1]]\n",
      "\n",
      "Configuration: {'neurons_architecture': matrix([[ 1, 20, 50,  1]]), 'activation': 'leaky_relu', 'n_epochs': 2000.0, 'lr': 0.01, 'en_decay': True, 'lr_final': 0.001, 'lr_decay': True, 'regularization': 'L2', 'penalty': 0.001, 'grad_clipping': True, 'clip_norm': 20}\n"
     ]
    },
    {
     "name": "stderr",
     "output_type": "stream",
     "text": [
      "\r",
      " 83%|█████████████████████████████████████████████████████████████████             | 267/320 [2:31:51<27:59, 31.69s/it]"
     ]
    },
    {
     "name": "stdout",
     "output_type": "stream",
     "text": [
      "______________________________________________________\n",
      "AVERAGE VALIDATION ERROR 1.086 ± 0.511\n",
      "______________________________________________________\n",
      "\n",
      "Performing training 267 out of 320\n",
      "[[ 1 20 50  1]]\n",
      "\n",
      "Configuration: {'neurons_architecture': matrix([[ 1, 20, 50,  1]]), 'activation': 'leaky_relu', 'n_epochs': 2000.0, 'lr': 0.01, 'en_decay': True, 'lr_final': 0.001, 'lr_decay': True, 'regularization': 'L2', 'penalty': 0.0005, 'grad_clipping': True, 'clip_norm': 20}\n"
     ]
    },
    {
     "name": "stderr",
     "output_type": "stream",
     "text": [
      "\r",
      " 84%|█████████████████████████████████████████████████████████████████▎            | 268/320 [2:32:21<27:04, 31.23s/it]"
     ]
    },
    {
     "name": "stdout",
     "output_type": "stream",
     "text": [
      "______________________________________________________\n",
      "AVERAGE VALIDATION ERROR 2.942 ± 2.14\n",
      "______________________________________________________\n",
      "\n",
      "Performing training 268 out of 320\n",
      "[[ 1 20 50  1]]\n",
      "\n",
      "Configuration: {'neurons_architecture': matrix([[ 1, 20, 50,  1]]), 'activation': 'leaky_relu', 'n_epochs': 2000.0, 'lr': 0.01, 'en_decay': True, 'lr_final': 0.0001, 'lr_decay': True, 'regularization': 'L1', 'penalty': 0.001, 'grad_clipping': True, 'clip_norm': 20}\n"
     ]
    },
    {
     "name": "stderr",
     "output_type": "stream",
     "text": [
      "\r",
      " 84%|█████████████████████████████████████████████████████████████████▌            | 269/320 [2:32:55<27:21, 32.18s/it]"
     ]
    },
    {
     "name": "stdout",
     "output_type": "stream",
     "text": [
      "______________________________________________________\n",
      "AVERAGE VALIDATION ERROR 0.986 ± 0.286\n",
      "______________________________________________________\n",
      "\n",
      "Performing training 269 out of 320\n",
      "[[ 1 20 50  1]]\n",
      "\n",
      "Configuration: {'neurons_architecture': matrix([[ 1, 20, 50,  1]]), 'activation': 'leaky_relu', 'n_epochs': 2000.0, 'lr': 0.01, 'en_decay': True, 'lr_final': 0.0001, 'lr_decay': True, 'regularization': 'L1', 'penalty': 0.0005, 'grad_clipping': True, 'clip_norm': 20}\n"
     ]
    },
    {
     "name": "stderr",
     "output_type": "stream",
     "text": [
      "\r",
      " 84%|█████████████████████████████████████████████████████████████████▊            | 270/320 [2:33:35<28:45, 34.50s/it]"
     ]
    },
    {
     "name": "stdout",
     "output_type": "stream",
     "text": [
      "______________________________________________________\n",
      "AVERAGE VALIDATION ERROR 1.503 ± 1.051\n",
      "______________________________________________________\n",
      "\n",
      "Performing training 270 out of 320\n",
      "[[ 1 20 50  1]]\n",
      "\n",
      "Configuration: {'neurons_architecture': matrix([[ 1, 20, 50,  1]]), 'activation': 'leaky_relu', 'n_epochs': 2000.0, 'lr': 0.01, 'en_decay': True, 'lr_final': 0.0001, 'lr_decay': True, 'regularization': 'L2', 'penalty': 0.001, 'grad_clipping': True, 'clip_norm': 20}\n"
     ]
    },
    {
     "name": "stderr",
     "output_type": "stream",
     "text": [
      "\r",
      " 85%|██████████████████████████████████████████████████████████████████            | 271/320 [2:34:04<26:52, 32.90s/it]"
     ]
    },
    {
     "name": "stdout",
     "output_type": "stream",
     "text": [
      "______________________________________________________\n",
      "AVERAGE VALIDATION ERROR 0.861 ± 0.329\n",
      "______________________________________________________\n",
      "\n",
      "Performing training 271 out of 320\n",
      "[[ 1 20 50  1]]\n",
      "\n",
      "Configuration: {'neurons_architecture': matrix([[ 1, 20, 50,  1]]), 'activation': 'leaky_relu', 'n_epochs': 2000.0, 'lr': 0.01, 'en_decay': True, 'lr_final': 0.0001, 'lr_decay': True, 'regularization': 'L2', 'penalty': 0.0005, 'grad_clipping': True, 'clip_norm': 20}\n"
     ]
    },
    {
     "name": "stderr",
     "output_type": "stream",
     "text": [
      "\r",
      " 85%|██████████████████████████████████████████████████████████████████▎           | 272/320 [2:34:34<25:35, 31.99s/it]"
     ]
    },
    {
     "name": "stdout",
     "output_type": "stream",
     "text": [
      "______________________________________________________\n",
      "AVERAGE VALIDATION ERROR 0.896 ± 0.23\n",
      "______________________________________________________\n",
      "\n",
      "Performing training 272 out of 320\n",
      "[[ 1 20 50  1]]\n",
      "\n",
      "Configuration: {'neurons_architecture': matrix([[ 1, 20, 50,  1]]), 'activation': 'elu', 'n_epochs': 2000.0, 'lr': 0.01, 'en_decay': True, 'lr_final': 0.001, 'lr_decay': True, 'regularization': 'L1', 'penalty': 0.001, 'grad_clipping': True, 'clip_norm': 20}\n"
     ]
    },
    {
     "name": "stderr",
     "output_type": "stream",
     "text": [
      "\r",
      " 85%|██████████████████████████████████████████████████████████████████▌           | 273/320 [2:35:16<27:29, 35.10s/it]"
     ]
    },
    {
     "name": "stdout",
     "output_type": "stream",
     "text": [
      "______________________________________________________\n",
      "AVERAGE VALIDATION ERROR 2.286 ± 1.785\n",
      "______________________________________________________\n",
      "\n",
      "Performing training 273 out of 320\n",
      "[[ 1 20 50  1]]\n",
      "\n",
      "Configuration: {'neurons_architecture': matrix([[ 1, 20, 50,  1]]), 'activation': 'elu', 'n_epochs': 2000.0, 'lr': 0.01, 'en_decay': True, 'lr_final': 0.001, 'lr_decay': True, 'regularization': 'L1', 'penalty': 0.0005, 'grad_clipping': True, 'clip_norm': 20}\n"
     ]
    },
    {
     "name": "stderr",
     "output_type": "stream",
     "text": [
      "\r",
      " 86%|██████████████████████████████████████████████████████████████████▊           | 274/320 [2:36:01<29:10, 38.06s/it]"
     ]
    },
    {
     "name": "stdout",
     "output_type": "stream",
     "text": [
      "______________________________________________________\n",
      "AVERAGE VALIDATION ERROR 1.649 ± 0.853\n",
      "______________________________________________________\n",
      "\n",
      "Performing training 274 out of 320\n",
      "[[ 1 20 50  1]]\n",
      "\n",
      "Configuration: {'neurons_architecture': matrix([[ 1, 20, 50,  1]]), 'activation': 'elu', 'n_epochs': 2000.0, 'lr': 0.01, 'en_decay': True, 'lr_final': 0.001, 'lr_decay': True, 'regularization': 'L2', 'penalty': 0.001, 'grad_clipping': True, 'clip_norm': 20}\n"
     ]
    },
    {
     "name": "stderr",
     "output_type": "stream",
     "text": [
      "\r",
      " 86%|███████████████████████████████████████████████████████████████████           | 275/320 [2:36:40<28:44, 38.32s/it]"
     ]
    },
    {
     "name": "stdout",
     "output_type": "stream",
     "text": [
      "______________________________________________________\n",
      "AVERAGE VALIDATION ERROR 2.329 ± 1.576\n",
      "______________________________________________________\n",
      "\n",
      "Performing training 275 out of 320\n",
      "[[ 1 20 50  1]]\n",
      "\n",
      "Configuration: {'neurons_architecture': matrix([[ 1, 20, 50,  1]]), 'activation': 'elu', 'n_epochs': 2000.0, 'lr': 0.01, 'en_decay': True, 'lr_final': 0.001, 'lr_decay': True, 'regularization': 'L2', 'penalty': 0.0005, 'grad_clipping': True, 'clip_norm': 20}\n"
     ]
    },
    {
     "name": "stderr",
     "output_type": "stream",
     "text": [
      "\r",
      " 86%|███████████████████████████████████████████████████████████████████▎          | 276/320 [2:37:28<30:12, 41.19s/it]"
     ]
    },
    {
     "name": "stdout",
     "output_type": "stream",
     "text": [
      "______________________________________________________\n",
      "AVERAGE VALIDATION ERROR 1.46 ± 0.568\n",
      "______________________________________________________\n",
      "\n",
      "Performing training 276 out of 320\n",
      "[[ 1 20 50  1]]\n",
      "\n",
      "Configuration: {'neurons_architecture': matrix([[ 1, 20, 50,  1]]), 'activation': 'elu', 'n_epochs': 2000.0, 'lr': 0.01, 'en_decay': True, 'lr_final': 0.0001, 'lr_decay': True, 'regularization': 'L1', 'penalty': 0.001, 'grad_clipping': True, 'clip_norm': 20}\n"
     ]
    },
    {
     "name": "stderr",
     "output_type": "stream",
     "text": [
      "\r",
      " 87%|███████████████████████████████████████████████████████████████████▌          | 277/320 [2:38:10<29:39, 41.37s/it]"
     ]
    },
    {
     "name": "stdout",
     "output_type": "stream",
     "text": [
      "______________________________________________________\n",
      "AVERAGE VALIDATION ERROR 3.022 ± 2.125\n",
      "______________________________________________________\n",
      "\n",
      "Performing training 277 out of 320\n",
      "[[ 1 20 50  1]]\n",
      "\n",
      "Configuration: {'neurons_architecture': matrix([[ 1, 20, 50,  1]]), 'activation': 'elu', 'n_epochs': 2000.0, 'lr': 0.01, 'en_decay': True, 'lr_final': 0.0001, 'lr_decay': True, 'regularization': 'L1', 'penalty': 0.0005, 'grad_clipping': True, 'clip_norm': 20}\n"
     ]
    },
    {
     "name": "stderr",
     "output_type": "stream",
     "text": [
      "\r",
      " 87%|███████████████████████████████████████████████████████████████████▊          | 278/320 [2:38:53<29:15, 41.79s/it]"
     ]
    },
    {
     "name": "stdout",
     "output_type": "stream",
     "text": [
      "______________________________________________________\n",
      "AVERAGE VALIDATION ERROR 1.4 ± 0.567\n",
      "______________________________________________________\n",
      "\n",
      "Performing training 278 out of 320\n",
      "[[ 1 20 50  1]]\n",
      "\n",
      "Configuration: {'neurons_architecture': matrix([[ 1, 20, 50,  1]]), 'activation': 'elu', 'n_epochs': 2000.0, 'lr': 0.01, 'en_decay': True, 'lr_final': 0.0001, 'lr_decay': True, 'regularization': 'L2', 'penalty': 0.001, 'grad_clipping': True, 'clip_norm': 20}\n"
     ]
    },
    {
     "name": "stderr",
     "output_type": "stream",
     "text": [
      "\r",
      " 87%|████████████████████████████████████████████████████████████████████          | 279/320 [2:39:26<26:47, 39.20s/it]"
     ]
    },
    {
     "name": "stdout",
     "output_type": "stream",
     "text": [
      "______________________________________________________\n",
      "AVERAGE VALIDATION ERROR 1.861 ± 0.661\n",
      "______________________________________________________\n",
      "\n",
      "Performing training 279 out of 320\n",
      "[[ 1 20 50  1]]\n",
      "\n",
      "Configuration: {'neurons_architecture': matrix([[ 1, 20, 50,  1]]), 'activation': 'elu', 'n_epochs': 2000.0, 'lr': 0.01, 'en_decay': True, 'lr_final': 0.0001, 'lr_decay': True, 'regularization': 'L2', 'penalty': 0.0005, 'grad_clipping': True, 'clip_norm': 20}\n"
     ]
    },
    {
     "name": "stderr",
     "output_type": "stream",
     "text": [
      "\r",
      " 88%|████████████████████████████████████████████████████████████████████▎         | 280/320 [2:40:26<30:22, 45.56s/it]"
     ]
    },
    {
     "name": "stdout",
     "output_type": "stream",
     "text": [
      "______________________________________________________\n",
      "AVERAGE VALIDATION ERROR 0.964 ± 0.43\n",
      "______________________________________________________\n",
      "\n",
      "Performing training 280 out of 320\n",
      "[[ 1 20 50  1]]\n",
      "\n",
      "Configuration: {'neurons_architecture': matrix([[ 1, 20, 50,  1]]), 'activation': 'swish', 'n_epochs': 2000.0, 'lr': 0.01, 'en_decay': True, 'lr_final': 0.001, 'lr_decay': True, 'regularization': 'L1', 'penalty': 0.001, 'grad_clipping': True, 'clip_norm': 20}\n"
     ]
    },
    {
     "name": "stderr",
     "output_type": "stream",
     "text": [
      "\r",
      " 88%|████████████████████████████████████████████████████████████████████▍         | 281/320 [2:41:01<27:24, 42.16s/it]"
     ]
    },
    {
     "name": "stdout",
     "output_type": "stream",
     "text": [
      "______________________________________________________\n",
      "AVERAGE VALIDATION ERROR 0.952 ± 0.26\n",
      "______________________________________________________\n",
      "\n",
      "Performing training 281 out of 320\n",
      "[[ 1 20 50  1]]\n",
      "\n",
      "Configuration: {'neurons_architecture': matrix([[ 1, 20, 50,  1]]), 'activation': 'swish', 'n_epochs': 2000.0, 'lr': 0.01, 'en_decay': True, 'lr_final': 0.001, 'lr_decay': True, 'regularization': 'L1', 'penalty': 0.0005, 'grad_clipping': True, 'clip_norm': 20}\n"
     ]
    },
    {
     "name": "stderr",
     "output_type": "stream",
     "text": [
      "\r",
      " 88%|████████████████████████████████████████████████████████████████████▋         | 282/320 [2:41:45<27:10, 42.90s/it]"
     ]
    },
    {
     "name": "stdout",
     "output_type": "stream",
     "text": [
      "______________________________________________________\n",
      "AVERAGE VALIDATION ERROR 0.984 ± 0.509\n",
      "______________________________________________________\n",
      "\n",
      "Performing training 282 out of 320\n",
      "[[ 1 20 50  1]]\n",
      "\n",
      "Configuration: {'neurons_architecture': matrix([[ 1, 20, 50,  1]]), 'activation': 'swish', 'n_epochs': 2000.0, 'lr': 0.01, 'en_decay': True, 'lr_final': 0.001, 'lr_decay': True, 'regularization': 'L2', 'penalty': 0.001, 'grad_clipping': True, 'clip_norm': 20}\n"
     ]
    },
    {
     "name": "stderr",
     "output_type": "stream",
     "text": [
      "\r",
      " 88%|████████████████████████████████████████████████████████████████████▉         | 283/320 [2:42:17<24:20, 39.47s/it]"
     ]
    },
    {
     "name": "stdout",
     "output_type": "stream",
     "text": [
      "______________________________________________________\n",
      "AVERAGE VALIDATION ERROR 4.083 ± 6.708\n",
      "______________________________________________________\n",
      "\n",
      "Performing training 283 out of 320\n",
      "[[ 1 20 50  1]]\n",
      "\n",
      "Configuration: {'neurons_architecture': matrix([[ 1, 20, 50,  1]]), 'activation': 'swish', 'n_epochs': 2000.0, 'lr': 0.01, 'en_decay': True, 'lr_final': 0.001, 'lr_decay': True, 'regularization': 'L2', 'penalty': 0.0005, 'grad_clipping': True, 'clip_norm': 20}\n"
     ]
    },
    {
     "name": "stderr",
     "output_type": "stream",
     "text": [
      "\r",
      " 89%|█████████████████████████████████████████████████████████████████████▏        | 284/320 [2:42:58<23:58, 39.97s/it]"
     ]
    },
    {
     "name": "stdout",
     "output_type": "stream",
     "text": [
      "______________________________________________________\n",
      "AVERAGE VALIDATION ERROR 1.646 ± 1.195\n",
      "______________________________________________________\n",
      "\n",
      "Performing training 284 out of 320\n",
      "[[ 1 20 50  1]]\n",
      "\n",
      "Configuration: {'neurons_architecture': matrix([[ 1, 20, 50,  1]]), 'activation': 'swish', 'n_epochs': 2000.0, 'lr': 0.01, 'en_decay': True, 'lr_final': 0.0001, 'lr_decay': True, 'regularization': 'L1', 'penalty': 0.001, 'grad_clipping': True, 'clip_norm': 20}\n"
     ]
    },
    {
     "name": "stderr",
     "output_type": "stream",
     "text": [
      "\r",
      " 89%|█████████████████████████████████████████████████████████████████████▍        | 285/320 [2:43:55<26:18, 45.11s/it]"
     ]
    },
    {
     "name": "stdout",
     "output_type": "stream",
     "text": [
      "______________________________________________________\n",
      "AVERAGE VALIDATION ERROR 1.138 ± 0.717\n",
      "______________________________________________________\n",
      "\n",
      "Performing training 285 out of 320\n",
      "[[ 1 20 50  1]]\n",
      "\n",
      "Configuration: {'neurons_architecture': matrix([[ 1, 20, 50,  1]]), 'activation': 'swish', 'n_epochs': 2000.0, 'lr': 0.01, 'en_decay': True, 'lr_final': 0.0001, 'lr_decay': True, 'regularization': 'L1', 'penalty': 0.0005, 'grad_clipping': True, 'clip_norm': 20}\n"
     ]
    },
    {
     "name": "stderr",
     "output_type": "stream",
     "text": [
      "\r",
      " 89%|█████████████████████████████████████████████████████████████████████▋        | 286/320 [2:44:42<25:54, 45.73s/it]"
     ]
    },
    {
     "name": "stdout",
     "output_type": "stream",
     "text": [
      "______________________________________________________\n",
      "AVERAGE VALIDATION ERROR 2.137 ± 2.232\n",
      "______________________________________________________\n",
      "\n",
      "Performing training 286 out of 320\n",
      "[[ 1 20 50  1]]\n",
      "\n",
      "Configuration: {'neurons_architecture': matrix([[ 1, 20, 50,  1]]), 'activation': 'swish', 'n_epochs': 2000.0, 'lr': 0.01, 'en_decay': True, 'lr_final': 0.0001, 'lr_decay': True, 'regularization': 'L2', 'penalty': 0.001, 'grad_clipping': True, 'clip_norm': 20}\n"
     ]
    },
    {
     "name": "stderr",
     "output_type": "stream",
     "text": [
      "\r",
      " 90%|█████████████████████████████████████████████████████████████████████▉        | 287/320 [2:45:12<22:37, 41.13s/it]"
     ]
    },
    {
     "name": "stdout",
     "output_type": "stream",
     "text": [
      "______________________________________________________\n",
      "AVERAGE VALIDATION ERROR 1.375 ± 0.568\n",
      "______________________________________________________\n",
      "\n",
      "Performing training 287 out of 320\n",
      "[[ 1 20 50  1]]\n",
      "\n",
      "Configuration: {'neurons_architecture': matrix([[ 1, 20, 50,  1]]), 'activation': 'swish', 'n_epochs': 2000.0, 'lr': 0.01, 'en_decay': True, 'lr_final': 0.0001, 'lr_decay': True, 'regularization': 'L2', 'penalty': 0.0005, 'grad_clipping': True, 'clip_norm': 20}\n"
     ]
    },
    {
     "name": "stderr",
     "output_type": "stream",
     "text": [
      "\r",
      " 90%|██████████████████████████████████████████████████████████████████████▏       | 288/320 [2:45:55<22:09, 41.54s/it]"
     ]
    },
    {
     "name": "stdout",
     "output_type": "stream",
     "text": [
      "______________________________________________________\n",
      "AVERAGE VALIDATION ERROR 2.359 ± 1.522\n",
      "______________________________________________________\n",
      "\n",
      "Performing training 288 out of 320\n",
      "[[ 1 50 50  1]]\n",
      "\n",
      "Configuration: {'neurons_architecture': matrix([[ 1, 50, 50,  1]]), 'activation': 'relu', 'n_epochs': 2000.0, 'lr': 0.01, 'en_decay': True, 'lr_final': 0.001, 'lr_decay': True, 'regularization': 'L1', 'penalty': 0.001, 'grad_clipping': True, 'clip_norm': 20}\n"
     ]
    },
    {
     "name": "stderr",
     "output_type": "stream",
     "text": [
      "\r",
      " 90%|██████████████████████████████████████████████████████████████████████▍       | 289/320 [2:46:50<23:34, 45.62s/it]"
     ]
    },
    {
     "name": "stdout",
     "output_type": "stream",
     "text": [
      "______________________________________________________\n",
      "AVERAGE VALIDATION ERROR 0.945 ± 0.121\n",
      "______________________________________________________\n",
      "\n",
      "Performing training 289 out of 320\n",
      "[[ 1 50 50  1]]\n",
      "\n",
      "Configuration: {'neurons_architecture': matrix([[ 1, 50, 50,  1]]), 'activation': 'relu', 'n_epochs': 2000.0, 'lr': 0.01, 'en_decay': True, 'lr_final': 0.001, 'lr_decay': True, 'regularization': 'L1', 'penalty': 0.0005, 'grad_clipping': True, 'clip_norm': 20}\n"
     ]
    },
    {
     "name": "stderr",
     "output_type": "stream",
     "text": [
      "\r",
      " 91%|██████████████████████████████████████████████████████████████████████▋       | 290/320 [2:47:18<20:04, 40.16s/it]"
     ]
    },
    {
     "name": "stdout",
     "output_type": "stream",
     "text": [
      "______________________________________________________\n",
      "AVERAGE VALIDATION ERROR 1.455 ± 0.857\n",
      "______________________________________________________\n",
      "\n",
      "Performing training 290 out of 320\n",
      "[[ 1 50 50  1]]\n",
      "\n",
      "Configuration: {'neurons_architecture': matrix([[ 1, 50, 50,  1]]), 'activation': 'relu', 'n_epochs': 2000.0, 'lr': 0.01, 'en_decay': True, 'lr_final': 0.001, 'lr_decay': True, 'regularization': 'L2', 'penalty': 0.001, 'grad_clipping': True, 'clip_norm': 20}\n"
     ]
    },
    {
     "name": "stderr",
     "output_type": "stream",
     "text": [
      "\r",
      " 91%|██████████████████████████████████████████████████████████████████████▉       | 291/320 [2:47:47<17:48, 36.86s/it]"
     ]
    },
    {
     "name": "stdout",
     "output_type": "stream",
     "text": [
      "______________________________________________________\n",
      "AVERAGE VALIDATION ERROR 1.26 ± 0.463\n",
      "______________________________________________________\n",
      "\n",
      "Performing training 291 out of 320\n",
      "[[ 1 50 50  1]]\n",
      "\n",
      "Configuration: {'neurons_architecture': matrix([[ 1, 50, 50,  1]]), 'activation': 'relu', 'n_epochs': 2000.0, 'lr': 0.01, 'en_decay': True, 'lr_final': 0.001, 'lr_decay': True, 'regularization': 'L2', 'penalty': 0.0005, 'grad_clipping': True, 'clip_norm': 20}\n"
     ]
    },
    {
     "name": "stderr",
     "output_type": "stream",
     "text": [
      "\r",
      " 91%|███████████████████████████████████████████████████████████████████████▏      | 292/320 [2:48:13<15:42, 33.66s/it]"
     ]
    },
    {
     "name": "stdout",
     "output_type": "stream",
     "text": [
      "______________________________________________________\n",
      "AVERAGE VALIDATION ERROR 0.852 ± 0.265\n",
      "______________________________________________________\n",
      "\n",
      "Performing training 292 out of 320\n",
      "[[ 1 50 50  1]]\n",
      "\n",
      "Configuration: {'neurons_architecture': matrix([[ 1, 50, 50,  1]]), 'activation': 'relu', 'n_epochs': 2000.0, 'lr': 0.01, 'en_decay': True, 'lr_final': 0.0001, 'lr_decay': True, 'regularization': 'L1', 'penalty': 0.001, 'grad_clipping': True, 'clip_norm': 20}\n"
     ]
    },
    {
     "name": "stderr",
     "output_type": "stream",
     "text": [
      "\r",
      " 92%|███████████████████████████████████████████████████████████████████████▍      | 293/320 [2:48:54<16:07, 35.84s/it]"
     ]
    },
    {
     "name": "stdout",
     "output_type": "stream",
     "text": [
      "______________________________________________________\n",
      "AVERAGE VALIDATION ERROR 0.833 ± 0.246\n",
      "______________________________________________________\n",
      "\n",
      "Performing training 293 out of 320\n",
      "[[ 1 50 50  1]]\n",
      "\n",
      "Configuration: {'neurons_architecture': matrix([[ 1, 50, 50,  1]]), 'activation': 'relu', 'n_epochs': 2000.0, 'lr': 0.01, 'en_decay': True, 'lr_final': 0.0001, 'lr_decay': True, 'regularization': 'L1', 'penalty': 0.0005, 'grad_clipping': True, 'clip_norm': 20}\n"
     ]
    },
    {
     "name": "stderr",
     "output_type": "stream",
     "text": [
      "\r",
      " 92%|███████████████████████████████████████████████████████████████████████▋      | 294/320 [2:49:39<16:45, 38.67s/it]"
     ]
    },
    {
     "name": "stdout",
     "output_type": "stream",
     "text": [
      "______________________________________________________\n",
      "AVERAGE VALIDATION ERROR 0.853 ± 0.321\n",
      "______________________________________________________\n",
      "\n",
      "Performing training 294 out of 320\n",
      "[[ 1 50 50  1]]\n",
      "\n",
      "Configuration: {'neurons_architecture': matrix([[ 1, 50, 50,  1]]), 'activation': 'relu', 'n_epochs': 2000.0, 'lr': 0.01, 'en_decay': True, 'lr_final': 0.0001, 'lr_decay': True, 'regularization': 'L2', 'penalty': 0.001, 'grad_clipping': True, 'clip_norm': 20}\n"
     ]
    },
    {
     "name": "stderr",
     "output_type": "stream",
     "text": [
      "\r",
      " 92%|███████████████████████████████████████████████████████████████████████▉      | 295/320 [2:50:21<16:28, 39.53s/it]"
     ]
    },
    {
     "name": "stdout",
     "output_type": "stream",
     "text": [
      "______________________________________________________\n",
      "AVERAGE VALIDATION ERROR 0.923 ± 0.391\n",
      "______________________________________________________\n",
      "\n",
      "Performing training 295 out of 320\n",
      "[[ 1 50 50  1]]\n",
      "\n",
      "Configuration: {'neurons_architecture': matrix([[ 1, 50, 50,  1]]), 'activation': 'relu', 'n_epochs': 2000.0, 'lr': 0.01, 'en_decay': True, 'lr_final': 0.0001, 'lr_decay': True, 'regularization': 'L2', 'penalty': 0.0005, 'grad_clipping': True, 'clip_norm': 20}\n"
     ]
    },
    {
     "name": "stderr",
     "output_type": "stream",
     "text": [
      "\r",
      " 92%|████████████████████████████████████████████████████████████████████████▏     | 296/320 [2:51:03<16:09, 40.40s/it]"
     ]
    },
    {
     "name": "stdout",
     "output_type": "stream",
     "text": [
      "______________________________________________________\n",
      "AVERAGE VALIDATION ERROR 0.927 ± 0.392\n",
      "______________________________________________________\n",
      "\n",
      "Performing training 296 out of 320\n",
      "[[ 1 50 50  1]]\n",
      "\n",
      "Configuration: {'neurons_architecture': matrix([[ 1, 50, 50,  1]]), 'activation': 'leaky_relu', 'n_epochs': 2000.0, 'lr': 0.01, 'en_decay': True, 'lr_final': 0.001, 'lr_decay': True, 'regularization': 'L1', 'penalty': 0.001, 'grad_clipping': True, 'clip_norm': 20}\n"
     ]
    },
    {
     "name": "stderr",
     "output_type": "stream",
     "text": [
      "\r",
      " 93%|████████████████████████████████████████████████████████████████████████▍     | 297/320 [2:51:36<14:36, 38.09s/it]"
     ]
    },
    {
     "name": "stdout",
     "output_type": "stream",
     "text": [
      "______________________________________________________\n",
      "AVERAGE VALIDATION ERROR 1.287 ± 0.86\n",
      "______________________________________________________\n",
      "\n",
      "Performing training 297 out of 320\n",
      "[[ 1 50 50  1]]\n",
      "\n",
      "Configuration: {'neurons_architecture': matrix([[ 1, 50, 50,  1]]), 'activation': 'leaky_relu', 'n_epochs': 2000.0, 'lr': 0.01, 'en_decay': True, 'lr_final': 0.001, 'lr_decay': True, 'regularization': 'L1', 'penalty': 0.0005, 'grad_clipping': True, 'clip_norm': 20}\n"
     ]
    },
    {
     "name": "stderr",
     "output_type": "stream",
     "text": [
      "\r",
      " 93%|████████████████████████████████████████████████████████████████████████▋     | 298/320 [2:52:14<14:01, 38.24s/it]"
     ]
    },
    {
     "name": "stdout",
     "output_type": "stream",
     "text": [
      "______________________________________________________\n",
      "AVERAGE VALIDATION ERROR 1.147 ± 0.452\n",
      "______________________________________________________\n",
      "\n",
      "Performing training 298 out of 320\n",
      "[[ 1 50 50  1]]\n",
      "\n",
      "Configuration: {'neurons_architecture': matrix([[ 1, 50, 50,  1]]), 'activation': 'leaky_relu', 'n_epochs': 2000.0, 'lr': 0.01, 'en_decay': True, 'lr_final': 0.001, 'lr_decay': True, 'regularization': 'L2', 'penalty': 0.001, 'grad_clipping': True, 'clip_norm': 20}\n"
     ]
    },
    {
     "name": "stderr",
     "output_type": "stream",
     "text": [
      "\r",
      " 93%|████████████████████████████████████████████████████████████████████████▉     | 299/320 [2:52:49<12:58, 37.06s/it]"
     ]
    },
    {
     "name": "stdout",
     "output_type": "stream",
     "text": [
      "______________________________________________________\n",
      "AVERAGE VALIDATION ERROR 0.964 ± 0.376\n",
      "______________________________________________________\n",
      "\n",
      "Performing training 299 out of 320\n",
      "[[ 1 50 50  1]]\n",
      "\n",
      "Configuration: {'neurons_architecture': matrix([[ 1, 50, 50,  1]]), 'activation': 'leaky_relu', 'n_epochs': 2000.0, 'lr': 0.01, 'en_decay': True, 'lr_final': 0.001, 'lr_decay': True, 'regularization': 'L2', 'penalty': 0.0005, 'grad_clipping': True, 'clip_norm': 20}\n"
     ]
    },
    {
     "name": "stderr",
     "output_type": "stream",
     "text": [
      "\r",
      " 94%|█████████████████████████████████████████████████████████████████████████▏    | 300/320 [2:53:23<12:05, 36.28s/it]"
     ]
    },
    {
     "name": "stdout",
     "output_type": "stream",
     "text": [
      "______________________________________________________\n",
      "AVERAGE VALIDATION ERROR 0.719 ± 0.372\n",
      "______________________________________________________\n",
      "\n",
      "Performing training 300 out of 320\n",
      "[[ 1 50 50  1]]\n",
      "\n",
      "Configuration: {'neurons_architecture': matrix([[ 1, 50, 50,  1]]), 'activation': 'leaky_relu', 'n_epochs': 2000.0, 'lr': 0.01, 'en_decay': True, 'lr_final': 0.0001, 'lr_decay': True, 'regularization': 'L1', 'penalty': 0.001, 'grad_clipping': True, 'clip_norm': 20}\n"
     ]
    },
    {
     "name": "stderr",
     "output_type": "stream",
     "text": [
      "\r",
      " 94%|█████████████████████████████████████████████████████████████████████████▎    | 301/320 [2:54:13<12:48, 40.42s/it]"
     ]
    },
    {
     "name": "stdout",
     "output_type": "stream",
     "text": [
      "______________________________________________________\n",
      "AVERAGE VALIDATION ERROR 1.056 ± 0.337\n",
      "______________________________________________________\n",
      "\n",
      "Performing training 301 out of 320\n",
      "[[ 1 50 50  1]]\n",
      "\n",
      "Configuration: {'neurons_architecture': matrix([[ 1, 50, 50,  1]]), 'activation': 'leaky_relu', 'n_epochs': 2000.0, 'lr': 0.01, 'en_decay': True, 'lr_final': 0.0001, 'lr_decay': True, 'regularization': 'L1', 'penalty': 0.0005, 'grad_clipping': True, 'clip_norm': 20}\n"
     ]
    },
    {
     "name": "stderr",
     "output_type": "stream",
     "text": [
      "\r",
      " 94%|█████████████████████████████████████████████████████████████████████████▌    | 302/320 [2:55:13<13:50, 46.12s/it]"
     ]
    },
    {
     "name": "stdout",
     "output_type": "stream",
     "text": [
      "______________________________________________________\n",
      "AVERAGE VALIDATION ERROR 0.95 ± 0.29\n",
      "______________________________________________________\n",
      "\n",
      "Performing training 302 out of 320\n",
      "[[ 1 50 50  1]]\n",
      "\n",
      "Configuration: {'neurons_architecture': matrix([[ 1, 50, 50,  1]]), 'activation': 'leaky_relu', 'n_epochs': 2000.0, 'lr': 0.01, 'en_decay': True, 'lr_final': 0.0001, 'lr_decay': True, 'regularization': 'L2', 'penalty': 0.001, 'grad_clipping': True, 'clip_norm': 20}\n"
     ]
    },
    {
     "name": "stderr",
     "output_type": "stream",
     "text": [
      "\r",
      " 95%|█████████████████████████████████████████████████████████████████████████▊    | 303/320 [2:56:00<13:08, 46.41s/it]"
     ]
    },
    {
     "name": "stdout",
     "output_type": "stream",
     "text": [
      "______________________________________________________\n",
      "AVERAGE VALIDATION ERROR 0.814 ± 0.2\n",
      "______________________________________________________\n",
      "\n",
      "Performing training 303 out of 320\n",
      "[[ 1 50 50  1]]\n",
      "\n",
      "Configuration: {'neurons_architecture': matrix([[ 1, 50, 50,  1]]), 'activation': 'leaky_relu', 'n_epochs': 2000.0, 'lr': 0.01, 'en_decay': True, 'lr_final': 0.0001, 'lr_decay': True, 'regularization': 'L2', 'penalty': 0.0005, 'grad_clipping': True, 'clip_norm': 20}\n"
     ]
    },
    {
     "name": "stderr",
     "output_type": "stream",
     "text": [
      "\r",
      " 95%|██████████████████████████████████████████████████████████████████████████    | 304/320 [2:56:45<12:16, 46.04s/it]"
     ]
    },
    {
     "name": "stdout",
     "output_type": "stream",
     "text": [
      "______________________________________________________\n",
      "AVERAGE VALIDATION ERROR 0.95 ± 0.271\n",
      "______________________________________________________\n",
      "\n",
      "Performing training 304 out of 320\n",
      "[[ 1 50 50  1]]\n",
      "\n",
      "Configuration: {'neurons_architecture': matrix([[ 1, 50, 50,  1]]), 'activation': 'elu', 'n_epochs': 2000.0, 'lr': 0.01, 'en_decay': True, 'lr_final': 0.001, 'lr_decay': True, 'regularization': 'L1', 'penalty': 0.001, 'grad_clipping': True, 'clip_norm': 20}\n"
     ]
    },
    {
     "name": "stderr",
     "output_type": "stream",
     "text": [
      "\r",
      " 95%|██████████████████████████████████████████████████████████████████████████▎   | 305/320 [2:57:43<12:24, 49.61s/it]"
     ]
    },
    {
     "name": "stdout",
     "output_type": "stream",
     "text": [
      "______________________________________________________\n",
      "AVERAGE VALIDATION ERROR 2.01 ± 2.534\n",
      "______________________________________________________\n",
      "\n",
      "Performing training 305 out of 320\n",
      "[[ 1 50 50  1]]\n",
      "\n",
      "Configuration: {'neurons_architecture': matrix([[ 1, 50, 50,  1]]), 'activation': 'elu', 'n_epochs': 2000.0, 'lr': 0.01, 'en_decay': True, 'lr_final': 0.001, 'lr_decay': True, 'regularization': 'L1', 'penalty': 0.0005, 'grad_clipping': True, 'clip_norm': 20}\n"
     ]
    },
    {
     "name": "stderr",
     "output_type": "stream",
     "text": [
      "\r",
      " 96%|██████████████████████████████████████████████████████████████████████████▌   | 306/320 [2:58:43<12:19, 52.80s/it]"
     ]
    },
    {
     "name": "stdout",
     "output_type": "stream",
     "text": [
      "______________________________________________________\n",
      "AVERAGE VALIDATION ERROR 1.718 ± 1.126\n",
      "______________________________________________________\n",
      "\n",
      "Performing training 306 out of 320\n",
      "[[ 1 50 50  1]]\n",
      "\n",
      "Configuration: {'neurons_architecture': matrix([[ 1, 50, 50,  1]]), 'activation': 'elu', 'n_epochs': 2000.0, 'lr': 0.01, 'en_decay': True, 'lr_final': 0.001, 'lr_decay': True, 'regularization': 'L2', 'penalty': 0.001, 'grad_clipping': True, 'clip_norm': 20}\n"
     ]
    },
    {
     "name": "stderr",
     "output_type": "stream",
     "text": [
      "\r",
      " 96%|██████████████████████████████████████████████████████████████████████████▊   | 307/320 [2:59:30<11:01, 50.90s/it]"
     ]
    },
    {
     "name": "stdout",
     "output_type": "stream",
     "text": [
      "______________________________________________________\n",
      "AVERAGE VALIDATION ERROR 3.541 ± 3.513\n",
      "______________________________________________________\n",
      "\n",
      "Performing training 307 out of 320\n",
      "[[ 1 50 50  1]]\n",
      "\n",
      "Configuration: {'neurons_architecture': matrix([[ 1, 50, 50,  1]]), 'activation': 'elu', 'n_epochs': 2000.0, 'lr': 0.01, 'en_decay': True, 'lr_final': 0.001, 'lr_decay': True, 'regularization': 'L2', 'penalty': 0.0005, 'grad_clipping': True, 'clip_norm': 20}\n"
     ]
    },
    {
     "name": "stderr",
     "output_type": "stream",
     "text": [
      "\r",
      " 96%|███████████████████████████████████████████████████████████████████████████   | 308/320 [3:00:27<10:33, 52.80s/it]"
     ]
    },
    {
     "name": "stdout",
     "output_type": "stream",
     "text": [
      "______________________________________________________\n",
      "AVERAGE VALIDATION ERROR 1.063 ± 0.521\n",
      "______________________________________________________\n",
      "\n",
      "Performing training 308 out of 320\n",
      "[[ 1 50 50  1]]\n",
      "\n",
      "Configuration: {'neurons_architecture': matrix([[ 1, 50, 50,  1]]), 'activation': 'elu', 'n_epochs': 2000.0, 'lr': 0.01, 'en_decay': True, 'lr_final': 0.0001, 'lr_decay': True, 'regularization': 'L1', 'penalty': 0.001, 'grad_clipping': True, 'clip_norm': 20}\n"
     ]
    },
    {
     "name": "stderr",
     "output_type": "stream",
     "text": [
      "\r",
      " 97%|███████████████████████████████████████████████████████████████████████████▎  | 309/320 [3:01:40<10:47, 58.82s/it]"
     ]
    },
    {
     "name": "stdout",
     "output_type": "stream",
     "text": [
      "______________________________________________________\n",
      "AVERAGE VALIDATION ERROR 1.269 ± 0.658\n",
      "______________________________________________________\n",
      "\n",
      "Performing training 309 out of 320\n",
      "[[ 1 50 50  1]]\n",
      "\n",
      "Configuration: {'neurons_architecture': matrix([[ 1, 50, 50,  1]]), 'activation': 'elu', 'n_epochs': 2000.0, 'lr': 0.01, 'en_decay': True, 'lr_final': 0.0001, 'lr_decay': True, 'regularization': 'L1', 'penalty': 0.0005, 'grad_clipping': True, 'clip_norm': 20}\n"
     ]
    },
    {
     "name": "stderr",
     "output_type": "stream",
     "text": [
      "\r",
      " 97%|███████████████████████████████████████████████████████████████████████████▌  | 310/320 [3:02:43<10:01, 60.17s/it]"
     ]
    },
    {
     "name": "stdout",
     "output_type": "stream",
     "text": [
      "______________________________________________________\n",
      "AVERAGE VALIDATION ERROR 0.926 ± 0.189\n",
      "______________________________________________________\n",
      "\n",
      "Performing training 310 out of 320\n",
      "[[ 1 50 50  1]]\n",
      "\n",
      "Configuration: {'neurons_architecture': matrix([[ 1, 50, 50,  1]]), 'activation': 'elu', 'n_epochs': 2000.0, 'lr': 0.01, 'en_decay': True, 'lr_final': 0.0001, 'lr_decay': True, 'regularization': 'L2', 'penalty': 0.001, 'grad_clipping': True, 'clip_norm': 20}\n"
     ]
    },
    {
     "name": "stderr",
     "output_type": "stream",
     "text": [
      "\r",
      " 97%|███████████████████████████████████████████████████████████████████████████▊  | 311/320 [3:03:46<09:08, 60.96s/it]"
     ]
    },
    {
     "name": "stdout",
     "output_type": "stream",
     "text": [
      "______________________________________________________\n",
      "AVERAGE VALIDATION ERROR 1.566 ± 0.49\n",
      "______________________________________________________\n",
      "\n",
      "Performing training 311 out of 320\n",
      "[[ 1 50 50  1]]\n",
      "\n",
      "Configuration: {'neurons_architecture': matrix([[ 1, 50, 50,  1]]), 'activation': 'elu', 'n_epochs': 2000.0, 'lr': 0.01, 'en_decay': True, 'lr_final': 0.0001, 'lr_decay': True, 'regularization': 'L2', 'penalty': 0.0005, 'grad_clipping': True, 'clip_norm': 20}\n"
     ]
    },
    {
     "name": "stderr",
     "output_type": "stream",
     "text": [
      "\r",
      " 98%|████████████████████████████████████████████████████████████████████████████  | 312/320 [3:04:53<08:21, 62.73s/it]"
     ]
    },
    {
     "name": "stdout",
     "output_type": "stream",
     "text": [
      "______________________________________________________\n",
      "AVERAGE VALIDATION ERROR 1.288 ± 0.616\n",
      "______________________________________________________\n",
      "\n",
      "Performing training 312 out of 320\n",
      "[[ 1 50 50  1]]\n",
      "\n",
      "Configuration: {'neurons_architecture': matrix([[ 1, 50, 50,  1]]), 'activation': 'swish', 'n_epochs': 2000.0, 'lr': 0.01, 'en_decay': True, 'lr_final': 0.001, 'lr_decay': True, 'regularization': 'L1', 'penalty': 0.001, 'grad_clipping': True, 'clip_norm': 20}\n"
     ]
    },
    {
     "name": "stderr",
     "output_type": "stream",
     "text": [
      "\r",
      " 98%|████████████████████████████████████████████████████████████████████████████▎ | 313/320 [3:05:31<06:28, 55.56s/it]"
     ]
    },
    {
     "name": "stdout",
     "output_type": "stream",
     "text": [
      "______________________________________________________\n",
      "AVERAGE VALIDATION ERROR 3.385 ± 3.111\n",
      "______________________________________________________\n",
      "\n",
      "Performing training 313 out of 320\n",
      "[[ 1 50 50  1]]\n",
      "\n",
      "Configuration: {'neurons_architecture': matrix([[ 1, 50, 50,  1]]), 'activation': 'swish', 'n_epochs': 2000.0, 'lr': 0.01, 'en_decay': True, 'lr_final': 0.001, 'lr_decay': True, 'regularization': 'L1', 'penalty': 0.0005, 'grad_clipping': True, 'clip_norm': 20}\n"
     ]
    },
    {
     "name": "stderr",
     "output_type": "stream",
     "text": [
      "\r",
      " 98%|████████████████████████████████████████████████████████████████████████████▌ | 314/320 [3:06:21<05:21, 53.63s/it]"
     ]
    },
    {
     "name": "stdout",
     "output_type": "stream",
     "text": [
      "______________________________________________________\n",
      "AVERAGE VALIDATION ERROR 2.192 ± 1.861\n",
      "______________________________________________________\n",
      "\n",
      "Performing training 314 out of 320\n",
      "[[ 1 50 50  1]]\n",
      "\n",
      "Configuration: {'neurons_architecture': matrix([[ 1, 50, 50,  1]]), 'activation': 'swish', 'n_epochs': 2000.0, 'lr': 0.01, 'en_decay': True, 'lr_final': 0.001, 'lr_decay': True, 'regularization': 'L2', 'penalty': 0.001, 'grad_clipping': True, 'clip_norm': 20}\n"
     ]
    },
    {
     "name": "stderr",
     "output_type": "stream",
     "text": [
      "\r",
      " 98%|████████████████████████████████████████████████████████████████████████████▊ | 315/320 [3:06:44<03:42, 44.53s/it]"
     ]
    },
    {
     "name": "stdout",
     "output_type": "stream",
     "text": [
      "______________________________________________________\n",
      "AVERAGE VALIDATION ERROR 1.724 ± 0.917\n",
      "______________________________________________________\n",
      "\n",
      "Performing training 315 out of 320\n",
      "[[ 1 50 50  1]]\n",
      "\n",
      "Configuration: {'neurons_architecture': matrix([[ 1, 50, 50,  1]]), 'activation': 'swish', 'n_epochs': 2000.0, 'lr': 0.01, 'en_decay': True, 'lr_final': 0.001, 'lr_decay': True, 'regularization': 'L2', 'penalty': 0.0005, 'grad_clipping': True, 'clip_norm': 20}\n"
     ]
    },
    {
     "name": "stderr",
     "output_type": "stream",
     "text": [
      "\r",
      " 99%|█████████████████████████████████████████████████████████████████████████████ | 316/320 [3:07:22<02:50, 42.73s/it]"
     ]
    },
    {
     "name": "stdout",
     "output_type": "stream",
     "text": [
      "______________________________________________________\n",
      "AVERAGE VALIDATION ERROR 3.163 ± 3.254\n",
      "______________________________________________________\n",
      "\n",
      "Performing training 316 out of 320\n",
      "[[ 1 50 50  1]]\n",
      "\n",
      "Configuration: {'neurons_architecture': matrix([[ 1, 50, 50,  1]]), 'activation': 'swish', 'n_epochs': 2000.0, 'lr': 0.01, 'en_decay': True, 'lr_final': 0.0001, 'lr_decay': True, 'regularization': 'L1', 'penalty': 0.001, 'grad_clipping': True, 'clip_norm': 20}\n"
     ]
    },
    {
     "name": "stderr",
     "output_type": "stream",
     "text": [
      "\r",
      " 99%|█████████████████████████████████████████████████████████████████████████████▎| 317/320 [3:08:18<02:19, 46.54s/it]"
     ]
    },
    {
     "name": "stdout",
     "output_type": "stream",
     "text": [
      "______________________________________________________\n",
      "AVERAGE VALIDATION ERROR 0.984 ± 0.417\n",
      "______________________________________________________\n",
      "\n",
      "Performing training 317 out of 320\n",
      "[[ 1 50 50  1]]\n",
      "\n",
      "Configuration: {'neurons_architecture': matrix([[ 1, 50, 50,  1]]), 'activation': 'swish', 'n_epochs': 2000.0, 'lr': 0.01, 'en_decay': True, 'lr_final': 0.0001, 'lr_decay': True, 'regularization': 'L1', 'penalty': 0.0005, 'grad_clipping': True, 'clip_norm': 20}\n"
     ]
    },
    {
     "name": "stderr",
     "output_type": "stream",
     "text": [
      "\r",
      " 99%|█████████████████████████████████████████████████████████████████████████████▌| 318/320 [3:09:05<01:33, 46.61s/it]"
     ]
    },
    {
     "name": "stdout",
     "output_type": "stream",
     "text": [
      "______________________________________________________\n",
      "AVERAGE VALIDATION ERROR 1.321 ± 0.412\n",
      "______________________________________________________\n",
      "\n",
      "Performing training 318 out of 320\n",
      "[[ 1 50 50  1]]\n",
      "\n",
      "Configuration: {'neurons_architecture': matrix([[ 1, 50, 50,  1]]), 'activation': 'swish', 'n_epochs': 2000.0, 'lr': 0.01, 'en_decay': True, 'lr_final': 0.0001, 'lr_decay': True, 'regularization': 'L2', 'penalty': 0.001, 'grad_clipping': True, 'clip_norm': 20}\n"
     ]
    },
    {
     "name": "stderr",
     "output_type": "stream",
     "text": [
      "\r",
      "100%|█████████████████████████████████████████████████████████████████████████████▊| 319/320 [3:09:41<00:43, 43.65s/it]"
     ]
    },
    {
     "name": "stdout",
     "output_type": "stream",
     "text": [
      "______________________________________________________\n",
      "AVERAGE VALIDATION ERROR 1.825 ± 1.067\n",
      "______________________________________________________\n",
      "\n",
      "Performing training 319 out of 320\n",
      "[[ 1 50 50  1]]\n",
      "\n",
      "Configuration: {'neurons_architecture': matrix([[ 1, 50, 50,  1]]), 'activation': 'swish', 'n_epochs': 2000.0, 'lr': 0.01, 'en_decay': True, 'lr_final': 0.0001, 'lr_decay': True, 'regularization': 'L2', 'penalty': 0.0005, 'grad_clipping': True, 'clip_norm': 20}\n"
     ]
    },
    {
     "name": "stderr",
     "output_type": "stream",
     "text": [
      "100%|██████████████████████████████████████████████████████████████████████████████| 320/320 [3:10:15<00:00, 35.67s/it]"
     ]
    },
    {
     "name": "stdout",
     "output_type": "stream",
     "text": [
      "______________________________________________________\n",
      "AVERAGE VALIDATION ERROR 1.236 ± 0.348\n",
      "______________________________________________________\n"
     ]
    },
    {
     "name": "stderr",
     "output_type": "stream",
     "text": [
      "\n"
     ]
    }
   ],
   "source": [
    "params_dict = {\"neurons_architecture\":np.matrix([[1,10,10,1],[1,15,10,1], [1,10,15,1], [1,15,15,1],[1,20,10,1], [1,10,20,1],\n",
    "                                                 [1,20,20,1],[1,50,20,1],[1,20,50,1],[1,50,50,1]]),\n",
    "               \"activation\":  [\"relu\",\"leaky_relu\",\"elu\",\"swish\"],\n",
    "               \"n_epochs\":  [2e3],\n",
    "               \"lr\" : [0.01],\n",
    "               \"en_decay\" : [True],\n",
    "               \"lr_final\" : [1e-3,1e-4],\n",
    "               \"lr_decay\" : [True],\n",
    "               'regularization':  [\"L1\",\"L2\"],\n",
    "               \"penalty\":  [1e-3,5e-4],\n",
    "               \"grad_clipping\" : [True], \n",
    "               \"clip_norm\" : [20]\n",
    "                 }\n",
    "\n",
    "net = Network(params_dict=params_dict)\n",
    "combinations, list_avg_val_losses, list_std_val_losses  = net.grid_search(x_data = x_train,params_dict=params_dict, label=y_train)\n",
    "with open('train_results.data', 'wb') as filehandle:\n",
    "            pickle.dump(list(zip(*sorted(zip(list_avg_val_losses,list_std_val_losses,combinations)))), filehandle)"
   ]
  },
  {
   "cell_type": "code",
   "execution_count": 4,
   "metadata": {
    "ExecuteTime": {
     "end_time": "2020-12-17T04:39:13.186062Z",
     "start_time": "2020-12-17T04:39:13.179080Z"
    }
   },
   "outputs": [
    {
     "name": "stdout",
     "output_type": "stream",
     "text": [
      "AVERAGE VALIDATION ERROR BEST HP: 0.71  ±  0.18\n",
      "\n",
      "BEST FOUND HP CLASS: \n",
      " {'neurons_architecture': matrix([[ 1, 10, 20,  1]]), 'activation': 'leaky_relu', 'n_epochs': 2000.0, 'lr': 0.01, 'en_decay': True, 'lr_final': 0.001, 'lr_decay': True, 'regularization': 'L2', 'penalty': 0.001, 'grad_clipping': True, 'clip_norm': 20}\n"
     ]
    }
   ],
   "source": [
    "with open('train_results.data', \"rb\") as input_file:\n",
    "    load_results = pickle.load(input_file)\n",
    "load_results = list(zip(*load_results))\n",
    "best_combination = load_results[0][2]\n",
    "print(\"AVERAGE VALIDATION ERROR BEST HP:\", round(load_results[0][0],2), \" ± \", round(load_results[0][1],2) )\n",
    "print(\"\")\n",
    "print(\"BEST FOUND HP CLASS: \\n\",best_combination)"
   ]
  },
  {
   "cell_type": "code",
   "execution_count": 5,
   "metadata": {
    "ExecuteTime": {
     "end_time": "2020-12-17T04:39:13.190052Z",
     "start_time": "2020-12-17T04:39:13.187059Z"
    }
   },
   "outputs": [],
   "source": [
    "for key, value in best_combination.items():\n",
    "    if key == \"neurons_architecture\":\n",
    "        continue\n",
    "    best_combination[key] = [value]"
   ]
  },
  {
   "cell_type": "code",
   "execution_count": 6,
   "metadata": {
    "ExecuteTime": {
     "end_time": "2020-12-17T04:39:30.266656Z",
     "start_time": "2020-12-17T04:39:13.191049Z"
    }
   },
   "outputs": [
    {
     "name": "stdout",
     "output_type": "stream",
     "text": [
      "Epoch 1 - Train loss: 7.49004 - Val loss: 13.73079\n",
      "Epoch 2 - Train loss: 5.93743 - Val loss: 7.09915\n",
      "Epoch 3 - Train loss: 4.80552 - Val loss: 6.42260\n",
      "Epoch 4 - Train loss: 4.08537 - Val loss: 5.36938\n",
      "Epoch 5 - Train loss: 3.37647 - Val loss: 3.18210\n",
      "Epoch 6 - Train loss: 3.40580 - Val loss: 4.92222\n",
      "Epoch 7 - Train loss: 2.97396 - Val loss: 11.31291\n",
      "Epoch 8 - Train loss: 2.93586 - Val loss: 5.93608\n",
      "Epoch 9 - Train loss: 2.77936 - Val loss: 10.02027\n",
      "Epoch 10 - Train loss: 3.11182 - Val loss: 9.18513\n",
      "Epoch 11 - Train loss: 3.31594 - Val loss: 9.92233\n",
      "Epoch 12 - Train loss: 3.73999 - Val loss: 2.88099\n",
      "Epoch 13 - Train loss: 2.99621 - Val loss: 8.45686\n",
      "Epoch 14 - Train loss: 3.03172 - Val loss: 1.59010\n",
      "Epoch 15 - Train loss: 2.25048 - Val loss: 7.35351\n",
      "Epoch 16 - Train loss: 2.76015 - Val loss: 9.60252\n",
      "Epoch 17 - Train loss: 2.49329 - Val loss: 9.20603\n",
      "Epoch 18 - Train loss: 1.84590 - Val loss: 9.50054\n",
      "Epoch 19 - Train loss: 2.52204 - Val loss: 2.05939\n",
      "Epoch 20 - Train loss: 1.85243 - Val loss: 8.91196\n",
      "Epoch 21 - Train loss: 1.92309 - Val loss: 8.41514\n",
      "Epoch 22 - Train loss: 2.43061 - Val loss: 2.80297\n",
      "Epoch 23 - Train loss: 2.29813 - Val loss: 7.85884\n",
      "Epoch 24 - Train loss: 1.89906 - Val loss: 8.21681\n",
      "Epoch 25 - Train loss: 1.87756 - Val loss: 6.08146\n",
      "Epoch 26 - Train loss: 1.84352 - Val loss: 3.98474\n",
      "Epoch 27 - Train loss: 1.81789 - Val loss: 3.34008\n",
      "Epoch 28 - Train loss: 1.80049 - Val loss: 3.33532\n",
      "Epoch 29 - Train loss: 1.80060 - Val loss: 3.35864\n",
      "Epoch 30 - Train loss: 1.78853 - Val loss: 3.59712\n",
      "Epoch 31 - Train loss: 1.77711 - Val loss: 3.91835\n",
      "Epoch 32 - Train loss: 1.77469 - Val loss: 4.07295\n",
      "Epoch 33 - Train loss: 1.79289 - Val loss: 3.77729\n",
      "Epoch 34 - Train loss: 1.79692 - Val loss: 3.60067\n",
      "Epoch 35 - Train loss: 1.82865 - Val loss: 7.31577\n",
      "Epoch 36 - Train loss: 1.82373 - Val loss: 3.23211\n",
      "Epoch 37 - Train loss: 1.78381 - Val loss: 3.25995\n",
      "Epoch 38 - Train loss: 1.78249 - Val loss: 3.38378\n",
      "Epoch 39 - Train loss: 1.80364 - Val loss: 7.15579\n",
      "Epoch 40 - Train loss: 1.76070 - Val loss: 4.82513\n",
      "Epoch 41 - Train loss: 1.77710 - Val loss: 7.11993\n",
      "Epoch 42 - Train loss: 1.78595 - Val loss: 5.40676\n",
      "Epoch 43 - Train loss: 1.56371 - Val loss: 4.71216\n",
      "Epoch 44 - Train loss: 1.95097 - Val loss: 2.07892\n",
      "Epoch 45 - Train loss: 2.08459 - Val loss: 5.76352\n",
      "Epoch 46 - Train loss: 1.78064 - Val loss: 6.76732\n",
      "Epoch 47 - Train loss: 1.74441 - Val loss: 4.19912\n",
      "Epoch 48 - Train loss: 2.04930 - Val loss: 6.86253\n",
      "Epoch 49 - Train loss: 1.72295 - Val loss: 6.57861\n",
      "Epoch 50 - Train loss: 1.67773 - Val loss: 6.54828\n",
      "Epoch 51 - Train loss: 1.67327 - Val loss: 6.45239\n",
      "Epoch 52 - Train loss: 1.47836 - Val loss: 4.33280\n",
      "Epoch 53 - Train loss: 2.07368 - Val loss: 2.90653\n",
      "Epoch 54 - Train loss: 2.09308 - Val loss: 2.23615\n",
      "Epoch 55 - Train loss: 1.84972 - Val loss: 1.93593\n",
      "Epoch 56 - Train loss: 1.48082 - Val loss: 6.18523\n",
      "Epoch 57 - Train loss: 1.49360 - Val loss: 2.48415\n",
      "Epoch 58 - Train loss: 1.52995 - Val loss: 6.17299\n",
      "Epoch 59 - Train loss: 1.56299 - Val loss: 6.28862\n",
      "Epoch 60 - Train loss: 1.41483 - Val loss: 5.01134\n",
      "Epoch 61 - Train loss: 1.44153 - Val loss: 3.15864\n",
      "Epoch 62 - Train loss: 1.76507 - Val loss: 4.67905\n",
      "Epoch 63 - Train loss: 1.49947 - Val loss: 5.49181\n",
      "Epoch 64 - Train loss: 1.61147 - Val loss: 4.28202\n",
      "Epoch 65 - Train loss: 1.65253 - Val loss: 6.14542\n",
      "Epoch 66 - Train loss: 1.49771 - Val loss: 5.28248\n",
      "Epoch 67 - Train loss: 1.49999 - Val loss: 5.01056\n",
      "Epoch 68 - Train loss: 1.50751 - Val loss: 4.84307\n",
      "Epoch 69 - Train loss: 1.57362 - Val loss: 6.09832\n",
      "Epoch 70 - Train loss: 1.48971 - Val loss: 4.70272\n",
      "Epoch 71 - Train loss: 1.39574 - Val loss: 5.95411\n",
      "Epoch 72 - Train loss: 1.48343 - Val loss: 4.84432\n",
      "Epoch 73 - Train loss: 1.39066 - Val loss: 6.08425\n",
      "Epoch 74 - Train loss: 1.48466 - Val loss: 5.07549\n",
      "Epoch 75 - Train loss: 1.57033 - Val loss: 5.79147\n",
      "Epoch 76 - Train loss: 1.47968 - Val loss: 4.99907\n",
      "Epoch 77 - Train loss: 1.46923 - Val loss: 5.31881\n",
      "Epoch 78 - Train loss: 1.57799 - Val loss: 6.07416\n",
      "Epoch 79 - Train loss: 1.42286 - Val loss: 5.39812\n",
      "Epoch 80 - Train loss: 1.14792 - Val loss: 4.49438\n",
      "Epoch 81 - Train loss: 1.64685 - Val loss: 4.96837\n",
      "Epoch 82 - Train loss: 1.64883 - Val loss: 4.73113\n",
      "Epoch 83 - Train loss: 1.62869 - Val loss: 5.22231\n",
      "Epoch 84 - Train loss: 1.56843 - Val loss: 5.53845\n",
      "Epoch 85 - Train loss: 1.30805 - Val loss: 5.07605\n",
      "Epoch 86 - Train loss: 1.46237 - Val loss: 4.88826\n",
      "Epoch 87 - Train loss: 1.45185 - Val loss: 4.91950\n",
      "Epoch 88 - Train loss: 1.33292 - Val loss: 5.50216\n",
      "Epoch 89 - Train loss: 1.50014 - Val loss: 4.94097\n",
      "Epoch 90 - Train loss: 1.45536 - Val loss: 5.54967\n",
      "Epoch 91 - Train loss: 1.46602 - Val loss: 5.54357\n",
      "Epoch 92 - Train loss: 1.49689 - Val loss: 5.00081\n",
      "Epoch 93 - Train loss: 1.43928 - Val loss: 4.84384\n",
      "Epoch 94 - Train loss: 1.54114 - Val loss: 4.57681\n",
      "Epoch 95 - Train loss: 1.53581 - Val loss: 4.46674\n",
      "Epoch 96 - Train loss: 1.48152 - Val loss: 4.83443\n",
      "Epoch 97 - Train loss: 1.43144 - Val loss: 4.81885\n",
      "Epoch 98 - Train loss: 1.25839 - Val loss: 5.63949\n",
      "Epoch 99 - Train loss: 1.45384 - Val loss: 4.70279\n",
      "Epoch 100 - Train loss: 1.40390 - Val loss: 5.14481\n",
      "Epoch 101 - Train loss: 1.48041 - Val loss: 4.60415\n",
      "Epoch 102 - Train loss: 1.44627 - Val loss: 4.60833\n",
      "Epoch 103 - Train loss: 1.23546 - Val loss: 5.31783\n",
      "Epoch 104 - Train loss: 1.44293 - Val loss: 4.61677\n",
      "Epoch 105 - Train loss: 1.21494 - Val loss: 4.30815\n",
      "Epoch 106 - Train loss: 1.55966 - Val loss: 4.34745\n",
      "Epoch 107 - Train loss: 1.44105 - Val loss: 4.74527\n",
      "Epoch 108 - Train loss: 1.42840 - Val loss: 4.60088\n",
      "Epoch 109 - Train loss: 1.42207 - Val loss: 4.55428\n",
      "Epoch 110 - Train loss: 1.41470 - Val loss: 4.12467\n",
      "Epoch 111 - Train loss: 1.38217 - Val loss: 4.64096\n",
      "Epoch 112 - Train loss: 1.25777 - Val loss: 5.42085\n",
      "Epoch 113 - Train loss: 1.27048 - Val loss: 4.88977\n",
      "Epoch 114 - Train loss: 1.32417 - Val loss: 5.35544\n",
      "Epoch 115 - Train loss: 1.22014 - Val loss: 4.55465\n",
      "Epoch 116 - Train loss: 1.20746 - Val loss: 4.56782\n",
      "Epoch 117 - Train loss: 1.21169 - Val loss: 4.84712\n",
      "Epoch 118 - Train loss: 1.31297 - Val loss: 3.47506\n",
      "Epoch 119 - Train loss: 1.48728 - Val loss: 3.81184\n",
      "Epoch 120 - Train loss: 1.56036 - Val loss: 3.65456\n",
      "Epoch 121 - Train loss: 1.25162 - Val loss: 3.83809\n",
      "Epoch 122 - Train loss: 1.23125 - Val loss: 4.22637\n",
      "Epoch 123 - Train loss: 1.23923 - Val loss: 4.00953\n",
      "Epoch 124 - Train loss: 1.19451 - Val loss: 4.58447\n",
      "Epoch 125 - Train loss: 1.19888 - Val loss: 4.81492\n",
      "Epoch 126 - Train loss: 1.46431 - Val loss: 3.63811\n",
      "Epoch 127 - Train loss: 1.19208 - Val loss: 4.17392\n",
      "Epoch 128 - Train loss: 1.45847 - Val loss: 3.73144\n",
      "Epoch 129 - Train loss: 1.24191 - Val loss: 4.58184\n",
      "Epoch 130 - Train loss: 1.49317 - Val loss: 4.18232\n",
      "Epoch 131 - Train loss: 1.47299 - Val loss: 4.52504\n",
      "Epoch 132 - Train loss: 1.57531 - Val loss: 3.45821\n",
      "Epoch 133 - Train loss: 1.31016 - Val loss: 3.48717\n",
      "Epoch 134 - Train loss: 1.39598 - Val loss: 3.63685\n",
      "Epoch 135 - Train loss: 1.42926 - Val loss: 3.66528\n",
      "Epoch 136 - Train loss: 1.50345 - Val loss: 2.95131\n",
      "Epoch 137 - Train loss: 1.37126 - Val loss: 3.81185\n",
      "Epoch 138 - Train loss: 1.49241 - Val loss: 3.09006\n",
      "Epoch 139 - Train loss: 1.53947 - Val loss: 2.79466\n",
      "Epoch 140 - Train loss: 1.41773 - Val loss: 3.97984\n",
      "Epoch 141 - Train loss: 1.54344 - Val loss: 2.77228\n",
      "Epoch 142 - Train loss: 1.45443 - Val loss: 3.90032\n",
      "Epoch 143 - Train loss: 1.53344 - Val loss: 2.98193\n",
      "Epoch 144 - Train loss: 1.50901 - Val loss: 3.00687\n",
      "Epoch 145 - Train loss: 1.45112 - Val loss: 4.02809\n",
      "Epoch 146 - Train loss: 1.45156 - Val loss: 3.64220\n",
      "Epoch 147 - Train loss: 1.45704 - Val loss: 3.78227\n",
      "Epoch 148 - Train loss: 1.45353 - Val loss: 3.76288\n",
      "Epoch 149 - Train loss: 1.33906 - Val loss: 4.02530\n",
      "Epoch 150 - Train loss: 1.49672 - Val loss: 4.24833\n",
      "Epoch 151 - Train loss: 1.64810 - Val loss: 4.49260\n",
      "Epoch 152 - Train loss: 1.59047 - Val loss: 3.79984\n",
      "Epoch 153 - Train loss: 1.69385 - Val loss: 4.52326\n",
      "Epoch 154 - Train loss: 1.70190 - Val loss: 4.44374\n",
      "Epoch 155 - Train loss: 1.65719 - Val loss: 3.71719\n",
      "Epoch 156 - Train loss: 1.76256 - Val loss: 4.57000\n",
      "Epoch 157 - Train loss: 1.74461 - Val loss: 4.54858\n",
      "Epoch 158 - Train loss: 1.75114 - Val loss: 4.52655\n",
      "Epoch 159 - Train loss: 1.74275 - Val loss: 4.50248\n",
      "Epoch 160 - Train loss: 1.72847 - Val loss: 4.36760\n",
      "Epoch 161 - Train loss: 1.78089 - Val loss: 4.48647\n"
     ]
    },
    {
     "name": "stdout",
     "output_type": "stream",
     "text": [
      "Epoch 162 - Train loss: 1.73041 - Val loss: 4.46717\n",
      "Epoch 163 - Train loss: 1.72625 - Val loss: 4.41992\n",
      "Epoch 164 - Train loss: 1.76709 - Val loss: 4.44588\n",
      "Epoch 165 - Train loss: 1.68891 - Val loss: 4.20724\n",
      "Epoch 166 - Train loss: 1.74108 - Val loss: 4.41316\n",
      "Epoch 167 - Train loss: 1.61505 - Val loss: 3.99733\n",
      "Epoch 168 - Train loss: 1.79159 - Val loss: 4.27254\n",
      "Epoch 169 - Train loss: 1.61194 - Val loss: 4.08680\n",
      "Epoch 170 - Train loss: 1.75871 - Val loss: 3.16185\n",
      "Epoch 171 - Train loss: 1.51761 - Val loss: 3.34506\n",
      "Epoch 172 - Train loss: 1.51310 - Val loss: 3.65171\n",
      "Epoch 173 - Train loss: 1.29518 - Val loss: 4.21512\n",
      "Epoch 174 - Train loss: 1.70848 - Val loss: 4.32656\n",
      "Epoch 175 - Train loss: 1.65388 - Val loss: 4.06121\n",
      "Epoch 176 - Train loss: 1.59934 - Val loss: 4.26241\n",
      "Epoch 177 - Train loss: 1.62677 - Val loss: 4.06919\n",
      "Epoch 178 - Train loss: 1.64366 - Val loss: 4.10067\n",
      "Epoch 179 - Train loss: 1.66276 - Val loss: 3.77238\n",
      "Epoch 180 - Train loss: 1.68525 - Val loss: 3.68512\n",
      "Epoch 181 - Train loss: 1.47453 - Val loss: 4.03660\n",
      "Epoch 182 - Train loss: 1.68870 - Val loss: 4.13308\n",
      "Epoch 183 - Train loss: 1.49965 - Val loss: 3.21499\n",
      "Epoch 184 - Train loss: 1.64436 - Val loss: 4.09536\n",
      "Epoch 185 - Train loss: 1.64209 - Val loss: 3.84123\n",
      "Epoch 186 - Train loss: 1.47689 - Val loss: 3.44309\n",
      "Epoch 187 - Train loss: 1.69740 - Val loss: 4.11710\n",
      "Epoch 188 - Train loss: 1.59645 - Val loss: 3.95386\n",
      "Epoch 189 - Train loss: 1.49966 - Val loss: 2.98390\n",
      "Epoch 190 - Train loss: 1.60495 - Val loss: 3.96045\n",
      "Epoch 191 - Train loss: 1.46539 - Val loss: 3.86418\n",
      "Epoch 192 - Train loss: 1.67637 - Val loss: 3.97848\n",
      "Epoch 193 - Train loss: 1.46836 - Val loss: 3.70775\n",
      "Epoch 194 - Train loss: 1.68665 - Val loss: 3.61840\n",
      "Epoch 195 - Train loss: 1.39550 - Val loss: 3.97223\n",
      "Epoch 196 - Train loss: 1.49187 - Val loss: 2.57797\n",
      "Epoch 197 - Train loss: 1.48348 - Val loss: 2.48221\n",
      "Epoch 198 - Train loss: 1.29749 - Val loss: 3.90419\n",
      "Epoch 199 - Train loss: 1.50438 - Val loss: 4.03510\n",
      "Epoch 200 - Train loss: 1.56299 - Val loss: 3.91362\n",
      "Epoch 201 - Train loss: 1.52752 - Val loss: 4.00029\n",
      "Epoch 202 - Train loss: 1.55435 - Val loss: 3.83350\n",
      "Epoch 203 - Train loss: 1.50441 - Val loss: 3.60068\n",
      "Epoch 204 - Train loss: 1.27035 - Val loss: 3.79009\n",
      "Epoch 205 - Train loss: 1.58129 - Val loss: 3.81016\n",
      "Epoch 206 - Train loss: 1.63491 - Val loss: 3.82096\n",
      "Epoch 207 - Train loss: 1.44172 - Val loss: 3.54228\n",
      "Epoch 208 - Train loss: 1.41253 - Val loss: 3.63907\n",
      "Epoch 209 - Train loss: 1.63405 - Val loss: 3.79974\n",
      "Epoch 210 - Train loss: 1.43432 - Val loss: 3.52000\n",
      "Epoch 211 - Train loss: 1.61074 - Val loss: 3.84884\n",
      "Epoch 212 - Train loss: 1.42725 - Val loss: 3.17053\n",
      "Epoch 213 - Train loss: 1.59359 - Val loss: 3.87976\n",
      "Epoch 214 - Train loss: 1.55293 - Val loss: 3.82903\n",
      "Epoch 215 - Train loss: 1.54038 - Val loss: 3.69448\n",
      "Epoch 216 - Train loss: 1.42459 - Val loss: 3.36129\n",
      "Epoch 217 - Train loss: 1.32718 - Val loss: 2.82515\n",
      "Epoch 218 - Train loss: 1.47036 - Val loss: 2.12348\n",
      "Epoch 219 - Train loss: 1.20427 - Val loss: 3.72923\n",
      "Epoch 220 - Train loss: 1.41439 - Val loss: 3.46555\n",
      "Epoch 221 - Train loss: 1.41140 - Val loss: 3.51457\n",
      "Epoch 222 - Train loss: 1.65117 - Val loss: 3.52360\n",
      "Epoch 223 - Train loss: 1.34514 - Val loss: 3.46674\n",
      "Epoch 224 - Train loss: 1.39728 - Val loss: 3.57423\n",
      "Epoch 225 - Train loss: 1.42211 - Val loss: 2.21586\n",
      "Epoch 226 - Train loss: 1.29579 - Val loss: 3.66790\n",
      "Epoch 227 - Train loss: 1.39440 - Val loss: 3.60891\n",
      "Epoch 228 - Train loss: 1.42167 - Val loss: 2.21042\n",
      "Epoch 229 - Train loss: 1.29319 - Val loss: 3.66193\n",
      "Epoch 230 - Train loss: 1.40503 - Val loss: 3.38698\n",
      "Epoch 231 - Train loss: 1.37943 - Val loss: 3.48238\n",
      "Epoch 232 - Train loss: 1.64755 - Val loss: 3.68733\n",
      "Epoch 233 - Train loss: 1.41482 - Val loss: 3.00420\n",
      "Epoch 234 - Train loss: 1.28464 - Val loss: 3.62342\n",
      "Epoch 235 - Train loss: 1.39725 - Val loss: 3.40060\n",
      "Epoch 236 - Train loss: 1.39687 - Val loss: 3.30605\n",
      "Epoch 237 - Train loss: 1.32529 - Val loss: 3.04357\n",
      "Epoch 238 - Train loss: 1.59024 - Val loss: 3.51820\n",
      "Epoch 239 - Train loss: 1.35835 - Val loss: 3.41827\n",
      "Epoch 240 - Train loss: 1.39616 - Val loss: 2.65413\n",
      "Epoch 241 - Train loss: 1.46534 - Val loss: 3.39562\n",
      "Epoch 242 - Train loss: 1.28564 - Val loss: 3.58739\n",
      "Epoch 243 - Train loss: 1.42384 - Val loss: 3.24323\n",
      "Epoch 244 - Train loss: 1.62036 - Val loss: 3.41936\n",
      "Epoch 245 - Train loss: 1.32684 - Val loss: 3.34770\n",
      "Epoch 246 - Train loss: 1.38413 - Val loss: 3.19118\n",
      "Epoch 247 - Train loss: 1.22968 - Val loss: 1.86846\n",
      "Epoch 248 - Train loss: 1.24162 - Val loss: 3.56879\n",
      "Epoch 249 - Train loss: 1.39390 - Val loss: 2.82955\n",
      "Epoch 250 - Train loss: 1.53279 - Val loss: 2.89747\n",
      "Epoch 251 - Train loss: 1.38671 - Val loss: 3.26750\n",
      "Epoch 252 - Train loss: 1.27877 - Val loss: 3.55728\n",
      "Epoch 253 - Train loss: 1.37784 - Val loss: 3.26361\n",
      "Epoch 254 - Train loss: 1.35555 - Val loss: 3.25509\n",
      "Epoch 255 - Train loss: 1.37257 - Val loss: 3.15783\n",
      "Epoch 256 - Train loss: 1.29781 - Val loss: 2.58859\n",
      "Epoch 257 - Train loss: 1.39304 - Val loss: 2.03497\n",
      "Epoch 258 - Train loss: 1.20182 - Val loss: 3.41169\n",
      "Epoch 259 - Train loss: 1.38402 - Val loss: 2.31939\n",
      "Epoch 260 - Train loss: 1.03775 - Val loss: 2.71425\n",
      "Epoch 261 - Train loss: 1.24006 - Val loss: 3.47634\n",
      "Epoch 262 - Train loss: 1.38541 - Val loss: 3.08336\n",
      "Epoch 263 - Train loss: 1.27704 - Val loss: 1.59999\n",
      "Epoch 264 - Train loss: 1.21955 - Val loss: 3.39491\n",
      "Epoch 265 - Train loss: 1.38028 - Val loss: 2.83758\n",
      "Epoch 266 - Train loss: 1.45566 - Val loss: 3.15000\n",
      "Epoch 267 - Train loss: 1.36303 - Val loss: 2.96053\n",
      "Epoch 268 - Train loss: 1.20689 - Val loss: 3.19291\n",
      "Epoch 269 - Train loss: 1.35131 - Val loss: 3.12778\n",
      "Epoch 270 - Train loss: 1.34018 - Val loss: 3.14260\n",
      "Epoch 271 - Train loss: 1.35804 - Val loss: 3.06011\n",
      "Epoch 272 - Train loss: 1.21626 - Val loss: 2.20571\n",
      "Epoch 273 - Train loss: 1.24543 - Val loss: 3.39407\n",
      "Epoch 274 - Train loss: 1.36754 - Val loss: 2.57671\n",
      "Epoch 275 - Train loss: 1.37810 - Val loss: 2.45972\n",
      "Epoch 276 - Train loss: 1.21390 - Val loss: 3.42388\n",
      "Epoch 277 - Train loss: 1.38447 - Val loss: 3.09813\n",
      "Epoch 278 - Train loss: 1.32047 - Val loss: 3.08919\n",
      "Epoch 279 - Train loss: 1.34342 - Val loss: 3.06416\n",
      "Epoch 280 - Train loss: 1.33224 - Val loss: 3.08202\n",
      "Epoch 281 - Train loss: 1.34536 - Val loss: 3.05026\n",
      "Epoch 282 - Train loss: 1.29873 - Val loss: 3.05456\n",
      "Epoch 283 - Train loss: 1.51813 - Val loss: 3.05713\n",
      "Epoch 284 - Train loss: 1.34260 - Val loss: 3.01209\n",
      "Epoch 285 - Train loss: 1.49798 - Val loss: 3.16921\n",
      "Epoch 286 - Train loss: 1.36982 - Val loss: 2.25048\n",
      "Epoch 287 - Train loss: 1.24633 - Val loss: 3.15685\n",
      "Epoch 288 - Train loss: 1.36351 - Val loss: 2.10973\n",
      "Epoch 289 - Train loss: 1.23536 - Val loss: 3.11123\n",
      "Epoch 290 - Train loss: 1.35855 - Val loss: 2.10071\n",
      "Epoch 291 - Train loss: 1.23525 - Val loss: 3.01865\n",
      "Epoch 292 - Train loss: 1.34064 - Val loss: 2.12760\n",
      "Epoch 293 - Train loss: 1.23385 - Val loss: 3.02586\n",
      "Epoch 294 - Train loss: 1.34045 - Val loss: 1.96376\n",
      "Epoch 295 - Train loss: 1.18428 - Val loss: 2.87006\n",
      "Epoch 296 - Train loss: 1.49091 - Val loss: 3.00391\n",
      "Epoch 297 - Train loss: 1.33394 - Val loss: 2.45608\n",
      "Epoch 298 - Train loss: 1.40093 - Val loss: 2.96166\n",
      "Epoch 299 - Train loss: 1.23663 - Val loss: 1.36344\n",
      "Epoch 300 - Train loss: 1.18513 - Val loss: 2.41499\n",
      "Epoch 301 - Train loss: 1.19458 - Val loss: 3.05236\n",
      "Epoch 302 - Train loss: 1.50708 - Val loss: 3.16286\n",
      "Epoch 303 - Train loss: 1.37260 - Val loss: 3.08374\n",
      "Epoch 304 - Train loss: 1.35604 - Val loss: 2.91035\n",
      "Epoch 305 - Train loss: 1.31965 - Val loss: 2.81687\n",
      "Epoch 306 - Train loss: 1.18372 - Val loss: 1.36920\n",
      "Epoch 307 - Train loss: 1.13629 - Val loss: 3.22421\n",
      "Epoch 308 - Train loss: 1.32869 - Val loss: 2.45744\n",
      "Epoch 309 - Train loss: 1.19777 - Val loss: 2.87909\n",
      "Epoch 310 - Train loss: 1.46570 - Val loss: 2.98470\n",
      "Epoch 311 - Train loss: 1.31368 - Val loss: 2.12476\n",
      "Epoch 312 - Train loss: 1.29108 - Val loss: 2.25703\n",
      "Epoch 313 - Train loss: 1.16541 - Val loss: 2.99531\n",
      "Epoch 314 - Train loss: 1.32261 - Val loss: 2.84206\n",
      "Epoch 315 - Train loss: 1.47585 - Val loss: 3.00629\n",
      "Epoch 316 - Train loss: 1.33400 - Val loss: 2.83295\n",
      "Epoch 317 - Train loss: 1.26213 - Val loss: 2.84897\n",
      "Epoch 318 - Train loss: 1.28916 - Val loss: 2.85708\n",
      "Epoch 319 - Train loss: 1.28739 - Val loss: 2.87322\n",
      "Epoch 320 - Train loss: 1.29605 - Val loss: 2.85808\n",
      "Epoch 321 - Train loss: 1.29630 - Val loss: 2.87874\n",
      "Epoch 322 - Train loss: 1.30918 - Val loss: 2.77378\n",
      "Epoch 323 - Train loss: 1.18212 - Val loss: 2.87835\n",
      "Epoch 324 - Train loss: 1.48120 - Val loss: 3.07419\n",
      "Epoch 325 - Train loss: 1.39038 - Val loss: 3.08129\n",
      "Epoch 326 - Train loss: 1.40339 - Val loss: 3.10705\n",
      "Epoch 327 - Train loss: 1.41309 - Val loss: 3.02187\n"
     ]
    },
    {
     "name": "stdout",
     "output_type": "stream",
     "text": [
      "Epoch 328 - Train loss: 1.36568 - Val loss: 3.01297\n",
      "Epoch 329 - Train loss: 1.36939 - Val loss: 3.00337\n",
      "Epoch 330 - Train loss: 1.37427 - Val loss: 2.98223\n",
      "Epoch 331 - Train loss: 1.53116 - Val loss: 3.12752\n",
      "Epoch 332 - Train loss: 1.37153 - Val loss: 3.06957\n",
      "Epoch 333 - Train loss: 1.41662 - Val loss: 3.06855\n",
      "Epoch 334 - Train loss: 1.41856 - Val loss: 2.95624\n",
      "Epoch 335 - Train loss: 1.37186 - Val loss: 3.01225\n",
      "Epoch 336 - Train loss: 1.53034 - Val loss: 3.06268\n",
      "Epoch 337 - Train loss: 1.36721 - Val loss: 3.07755\n",
      "Epoch 338 - Train loss: 1.42625 - Val loss: 2.98984\n",
      "Epoch 339 - Train loss: 1.40734 - Val loss: 2.97988\n",
      "Epoch 340 - Train loss: 1.38162 - Val loss: 2.83740\n",
      "Epoch 341 - Train loss: 1.48030 - Val loss: 2.96386\n",
      "Epoch 342 - Train loss: 1.39804 - Val loss: 2.91161\n",
      "Epoch 343 - Train loss: 1.36354 - Val loss: 2.95283\n",
      "Epoch 344 - Train loss: 1.38128 - Val loss: 2.80748\n",
      "Epoch 345 - Train loss: 1.48333 - Val loss: 2.93624\n",
      "Epoch 346 - Train loss: 1.39114 - Val loss: 2.94417\n",
      "Epoch 347 - Train loss: 1.37483 - Val loss: 2.80669\n",
      "Epoch 348 - Train loss: 1.47862 - Val loss: 3.01840\n",
      "Epoch 349 - Train loss: 1.41057 - Val loss: 2.89077\n",
      "Epoch 350 - Train loss: 1.36287 - Val loss: 2.84604\n",
      "Epoch 351 - Train loss: 1.48402 - Val loss: 2.97151\n",
      "Epoch 352 - Train loss: 1.40133 - Val loss: 2.87788\n",
      "Epoch 353 - Train loss: 1.35933 - Val loss: 2.83085\n",
      "Epoch 354 - Train loss: 1.35517 - Val loss: 2.79519\n",
      "Epoch 355 - Train loss: 1.46821 - Val loss: 2.91342\n",
      "Epoch 356 - Train loss: 1.38441 - Val loss: 2.90752\n",
      "Epoch 357 - Train loss: 1.36654 - Val loss: 2.84732\n",
      "Epoch 358 - Train loss: 1.46469 - Val loss: 2.89436\n",
      "Epoch 359 - Train loss: 1.38743 - Val loss: 2.82616\n",
      "Epoch 360 - Train loss: 1.35003 - Val loss: 2.78014\n",
      "Epoch 361 - Train loss: 1.46966 - Val loss: 2.91672\n",
      "Epoch 362 - Train loss: 1.39300 - Val loss: 2.82874\n",
      "Epoch 363 - Train loss: 1.37341 - Val loss: 2.73930\n",
      "Epoch 364 - Train loss: 1.45668 - Val loss: 2.87300\n",
      "Epoch 365 - Train loss: 1.38042 - Val loss: 2.79112\n",
      "Epoch 366 - Train loss: 1.34114 - Val loss: 2.80405\n",
      "Epoch 367 - Train loss: 1.35012 - Val loss: 2.69769\n",
      "Epoch 368 - Train loss: 1.44686 - Val loss: 2.81735\n",
      "Epoch 369 - Train loss: 1.36557 - Val loss: 2.76524\n",
      "Epoch 370 - Train loss: 1.33653 - Val loss: 2.73685\n",
      "Epoch 371 - Train loss: 1.44937 - Val loss: 2.86006\n",
      "Epoch 372 - Train loss: 1.37816 - Val loss: 2.77792\n",
      "Epoch 373 - Train loss: 1.36140 - Val loss: 2.71405\n",
      "Epoch 374 - Train loss: 1.32639 - Val loss: 2.68733\n",
      "Epoch 375 - Train loss: 1.42809 - Val loss: 2.78290\n",
      "Epoch 376 - Train loss: 1.35312 - Val loss: 2.72027\n",
      "Epoch 377 - Train loss: 1.32470 - Val loss: 2.73856\n",
      "Epoch 378 - Train loss: 1.44884 - Val loss: 2.81883\n",
      "Epoch 379 - Train loss: 1.36761 - Val loss: 2.74102\n",
      "Epoch 380 - Train loss: 1.34697 - Val loss: 2.67747\n",
      "Epoch 381 - Train loss: 1.32162 - Val loss: 2.69804\n",
      "Epoch 382 - Train loss: 1.42893 - Val loss: 2.75123\n",
      "Epoch 383 - Train loss: 1.34816 - Val loss: 2.69959\n",
      "Epoch 384 - Train loss: 1.32001 - Val loss: 2.67129\n",
      "Epoch 385 - Train loss: 1.30686 - Val loss: 2.65562\n",
      "Epoch 386 - Train loss: 1.42678 - Val loss: 2.76076\n",
      "Epoch 387 - Train loss: 1.35155 - Val loss: 2.69216\n",
      "Epoch 388 - Train loss: 1.32261 - Val loss: 2.65535\n",
      "Epoch 389 - Train loss: 1.42731 - Val loss: 2.76297\n",
      "Epoch 390 - Train loss: 1.35370 - Val loss: 2.69076\n",
      "Epoch 391 - Train loss: 1.33693 - Val loss: 2.62574\n",
      "Epoch 392 - Train loss: 1.41774 - Val loss: 2.73436\n",
      "Epoch 393 - Train loss: 1.34259 - Val loss: 2.67209\n",
      "Epoch 394 - Train loss: 1.32891 - Val loss: 2.62565\n",
      "Epoch 395 - Train loss: 1.30429 - Val loss: 2.59634\n",
      "Epoch 396 - Train loss: 1.39806 - Val loss: 2.67581\n",
      "Epoch 397 - Train loss: 1.32403 - Val loss: 2.62447\n",
      "Epoch 398 - Train loss: 1.30218 - Val loss: 2.59675\n",
      "Epoch 399 - Train loss: 1.39410 - Val loss: 2.66018\n",
      "Epoch 400 - Train loss: 1.32186 - Val loss: 2.61894\n",
      "Epoch 401 - Train loss: 1.29966 - Val loss: 2.58338\n",
      "Epoch 402 - Train loss: 1.40234 - Val loss: 2.65633\n",
      "Epoch 403 - Train loss: 1.32085 - Val loss: 2.62641\n",
      "Epoch 404 - Train loss: 1.31424 - Val loss: 2.58447\n",
      "Epoch 405 - Train loss: 1.29449 - Val loss: 2.54366\n",
      "Epoch 406 - Train loss: 1.38294 - Val loss: 2.60629\n",
      "Epoch 407 - Train loss: 1.30788 - Val loss: 2.57616\n",
      "Epoch 408 - Train loss: 1.28955 - Val loss: 2.53070\n",
      "Epoch 409 - Train loss: 1.38621 - Val loss: 2.60083\n",
      "Epoch 410 - Train loss: 1.30620 - Val loss: 2.57120\n",
      "Epoch 411 - Train loss: 1.29945 - Val loss: 2.53566\n",
      "Epoch 412 - Train loss: 1.28246 - Val loss: 2.49560\n",
      "Epoch 413 - Train loss: 1.36827 - Val loss: 2.55248\n",
      "Epoch 414 - Train loss: 1.27515 - Val loss: 2.50740\n",
      "Epoch 415 - Train loss: 1.27333 - Val loss: 2.47887\n",
      "Epoch 416 - Train loss: 1.37198 - Val loss: 2.53986\n",
      "Epoch 417 - Train loss: 1.29019 - Val loss: 2.51567\n",
      "Epoch 418 - Train loss: 1.26728 - Val loss: 2.46425\n",
      "Epoch 419 - Train loss: 1.26093 - Val loss: 2.43949\n",
      "Epoch 420 - Train loss: 1.35867 - Val loss: 2.48425\n",
      "Epoch 421 - Train loss: 1.25767 - Val loss: 2.44226\n",
      "Epoch 422 - Train loss: 1.25488 - Val loss: 2.42472\n",
      "Epoch 423 - Train loss: 1.36004 - Val loss: 2.47444\n",
      "Epoch 424 - Train loss: 1.24957 - Val loss: 2.42711\n",
      "Epoch 425 - Train loss: 1.24481 - Val loss: 2.07748\n",
      "Epoch 426 - Train loss: 1.13878 - Val loss: 2.41397\n",
      "Epoch 427 - Train loss: 1.35335 - Val loss: 2.42950\n",
      "Epoch 428 - Train loss: 1.24603 - Val loss: 2.38069\n",
      "Epoch 429 - Train loss: 1.33878 - Val loss: 2.40806\n",
      "Epoch 430 - Train loss: 1.23930 - Val loss: 2.35003\n",
      "Epoch 431 - Train loss: 1.33922 - Val loss: 2.38379\n",
      "Epoch 432 - Train loss: 1.22667 - Val loss: 2.03527\n",
      "Epoch 433 - Train loss: 1.12937 - Val loss: 2.35614\n",
      "Epoch 434 - Train loss: 1.33167 - Val loss: 2.37173\n",
      "Epoch 435 - Train loss: 1.23013 - Val loss: 2.31799\n",
      "Epoch 436 - Train loss: 1.32779 - Val loss: 2.36013\n",
      "Epoch 437 - Train loss: 1.21831 - Val loss: 2.07415\n",
      "Epoch 438 - Train loss: 1.12796 - Val loss: 2.32740\n",
      "Epoch 439 - Train loss: 1.32859 - Val loss: 2.35496\n",
      "Epoch 440 - Train loss: 1.21727 - Val loss: 2.31164\n",
      "Epoch 441 - Train loss: 1.20333 - Val loss: 2.28963\n",
      "Epoch 442 - Train loss: 1.19387 - Val loss: 2.30555\n",
      "Epoch 443 - Train loss: 1.31158 - Val loss: 2.33035\n",
      "Epoch 444 - Train loss: 1.21949 - Val loss: 1.91642\n",
      "Epoch 445 - Train loss: 1.11656 - Val loss: 2.28871\n",
      "Epoch 446 - Train loss: 1.32212 - Val loss: 2.29866\n",
      "Epoch 447 - Train loss: 1.31714 - Val loss: 2.31036\n",
      "Epoch 448 - Train loss: 1.20744 - Val loss: 2.25827\n",
      "Epoch 449 - Train loss: 1.19714 - Val loss: 1.99372\n",
      "Epoch 450 - Train loss: 1.11834 - Val loss: 2.25689\n",
      "Epoch 451 - Train loss: 1.30563 - Val loss: 2.26273\n",
      "Epoch 452 - Train loss: 1.20250 - Val loss: 1.95875\n",
      "Epoch 453 - Train loss: 1.22202 - Val loss: 1.06211\n",
      "Epoch 454 - Train loss: 1.06249 - Val loss: 2.29064\n",
      "Epoch 455 - Train loss: 1.20635 - Val loss: 1.66895\n",
      "Epoch 456 - Train loss: 1.09437 - Val loss: 2.23715\n",
      "Epoch 457 - Train loss: 1.30089 - Val loss: 2.24275\n",
      "Epoch 458 - Train loss: 1.19828 - Val loss: 2.20507\n",
      "Epoch 459 - Train loss: 1.29200 - Val loss: 2.23756\n",
      "Epoch 460 - Train loss: 1.18966 - Val loss: 1.91214\n",
      "Epoch 461 - Train loss: 1.10346 - Val loss: 2.19990\n",
      "Epoch 462 - Train loss: 1.26739 - Val loss: 2.21302\n",
      "Epoch 463 - Train loss: 1.18550 - Val loss: 2.00089\n",
      "Epoch 464 - Train loss: 1.11493 - Val loss: 2.19131\n",
      "Epoch 465 - Train loss: 1.27899 - Val loss: 2.20134\n",
      "Epoch 466 - Train loss: 1.18597 - Val loss: 2.17539\n",
      "Epoch 467 - Train loss: 1.16604 - Val loss: 1.94312\n",
      "Epoch 468 - Train loss: 1.21226 - Val loss: 1.27757\n",
      "Epoch 469 - Train loss: 1.06083 - Val loss: 2.20140\n",
      "Epoch 470 - Train loss: 1.18623 - Val loss: 1.97484\n",
      "Epoch 471 - Train loss: 1.11023 - Val loss: 2.15490\n",
      "Epoch 472 - Train loss: 1.27435 - Val loss: 2.14919\n",
      "Epoch 473 - Train loss: 1.26535 - Val loss: 2.14386\n",
      "Epoch 474 - Train loss: 1.17233 - Val loss: 2.11252\n",
      "Epoch 475 - Train loss: 1.26543 - Val loss: 2.14210\n",
      "Epoch 476 - Train loss: 1.16477 - Val loss: 2.11896\n",
      "Epoch 477 - Train loss: 1.13509 - Val loss: 2.07804\n",
      "Epoch 478 - Train loss: 1.24835 - Val loss: 2.11503\n",
      "Epoch 479 - Train loss: 1.15194 - Val loss: 2.10377\n",
      "Epoch 480 - Train loss: 1.14245 - Val loss: 2.08310\n",
      "Epoch 481 - Train loss: 1.24028 - Val loss: 2.11774\n",
      "Epoch 482 - Train loss: 1.15165 - Val loss: 2.10402\n",
      "Epoch 483 - Train loss: 1.14346 - Val loss: 2.08371\n",
      "Epoch 484 - Train loss: 1.23838 - Val loss: 2.11567\n",
      "Epoch 485 - Train loss: 1.15468 - Val loss: 2.03125\n",
      "Epoch 486 - Train loss: 1.10226 - Val loss: 1.30895\n",
      "Epoch 487 - Train loss: 1.05343 - Val loss: 2.06982\n",
      "Epoch 488 - Train loss: 1.26372 - Val loss: 2.08109\n",
      "Epoch 489 - Train loss: 1.24215 - Val loss: 2.09127\n",
      "Epoch 490 - Train loss: 1.15414 - Val loss: 2.05217\n",
      "Epoch 491 - Train loss: 1.14431 - Val loss: 2.04139\n",
      "Epoch 492 - Train loss: 1.12164 - Val loss: 1.80147\n",
      "Epoch 493 - Train loss: 1.18401 - Val loss: 1.37176\n",
      "Epoch 494 - Train loss: 1.05205 - Val loss: 2.04473\n",
      "Epoch 495 - Train loss: 1.23531 - Val loss: 2.03702\n"
     ]
    },
    {
     "name": "stdout",
     "output_type": "stream",
     "text": [
      "Epoch 496 - Train loss: 1.14631 - Val loss: 2.01492\n",
      "Epoch 497 - Train loss: 1.22748 - Val loss: 2.05771\n",
      "Epoch 498 - Train loss: 1.15470 - Val loss: 1.81275\n",
      "Epoch 499 - Train loss: 1.07805 - Val loss: 2.01474\n",
      "Epoch 500 - Train loss: 1.23211 - Val loss: 2.03181\n",
      "Epoch 501 - Train loss: 1.13850 - Val loss: 2.00973\n",
      "Epoch 502 - Train loss: 1.12441 - Val loss: 2.00261\n",
      "Epoch 503 - Train loss: 1.22038 - Val loss: 2.04369\n",
      "Epoch 504 - Train loss: 1.15115 - Val loss: 1.63910\n",
      "Epoch 505 - Train loss: 1.07236 - Val loss: 2.02606\n",
      "Epoch 506 - Train loss: 1.14217 - Val loss: 1.93596\n",
      "Epoch 507 - Train loss: 1.06784 - Val loss: 2.00612\n",
      "Epoch 508 - Train loss: 1.21328 - Val loss: 2.03063\n",
      "Epoch 509 - Train loss: 1.14099 - Val loss: 1.95733\n",
      "Epoch 510 - Train loss: 1.08577 - Val loss: 1.23397\n",
      "Epoch 511 - Train loss: 1.06819 - Val loss: 2.08047\n",
      "Epoch 512 - Train loss: 1.16050 - Val loss: 2.03942\n",
      "Epoch 513 - Train loss: 1.15456 - Val loss: 1.43513\n",
      "Epoch 514 - Train loss: 1.05356 - Val loss: 1.98458\n",
      "Epoch 515 - Train loss: 1.21812 - Val loss: 1.97531\n",
      "Epoch 516 - Train loss: 1.12773 - Val loss: 1.96803\n",
      "Epoch 517 - Train loss: 1.20661 - Val loss: 1.99722\n",
      "Epoch 518 - Train loss: 1.12996 - Val loss: 1.98919\n",
      "Epoch 519 - Train loss: 1.10565 - Val loss: 1.90886\n",
      "Epoch 520 - Train loss: 1.18317 - Val loss: 1.68996\n",
      "Epoch 521 - Train loss: 1.06449 - Val loss: 1.94143\n",
      "Epoch 522 - Train loss: 1.20025 - Val loss: 1.95584\n",
      "Epoch 523 - Train loss: 1.12170 - Val loss: 1.92665\n",
      "Epoch 524 - Train loss: 1.09527 - Val loss: 1.79906\n",
      "Epoch 525 - Train loss: 1.17038 - Val loss: 1.85201\n",
      "Epoch 526 - Train loss: 1.06127 - Val loss: 1.71081\n",
      "Epoch 527 - Train loss: 1.06979 - Val loss: 1.92607\n",
      "Epoch 528 - Train loss: 1.19567 - Val loss: 1.94530\n",
      "Epoch 529 - Train loss: 1.12177 - Val loss: 1.92767\n",
      "Epoch 530 - Train loss: 1.19343 - Val loss: 1.96030\n",
      "Epoch 531 - Train loss: 1.12968 - Val loss: 1.65124\n",
      "Epoch 532 - Train loss: 1.05819 - Val loss: 1.90711\n",
      "Epoch 533 - Train loss: 1.18901 - Val loss: 1.91944\n",
      "Epoch 534 - Train loss: 1.11303 - Val loss: 1.89237\n",
      "Epoch 535 - Train loss: 1.10337 - Val loss: 1.72886\n",
      "Epoch 536 - Train loss: 1.14203 - Val loss: 1.62405\n",
      "Epoch 537 - Train loss: 1.06165 - Val loss: 1.94132\n",
      "Epoch 538 - Train loss: 1.11798 - Val loss: 1.84426\n",
      "Epoch 539 - Train loss: 0.99423 - Val loss: 1.47948\n",
      "Epoch 540 - Train loss: 1.07749 - Val loss: 1.98812\n",
      "Epoch 541 - Train loss: 1.13489 - Val loss: 1.95072\n",
      "Epoch 542 - Train loss: 1.12568 - Val loss: 1.57754\n",
      "Epoch 543 - Train loss: 1.05723 - Val loss: 1.93295\n",
      "Epoch 544 - Train loss: 1.11828 - Val loss: 1.59818\n",
      "Epoch 545 - Train loss: 1.08678 - Val loss: 1.97812\n",
      "Epoch 546 - Train loss: 1.13212 - Val loss: 1.42063\n",
      "Epoch 547 - Train loss: 1.04330 - Val loss: 1.92961\n",
      "Epoch 548 - Train loss: 1.11542 - Val loss: 1.90167\n",
      "Epoch 549 - Train loss: 1.10014 - Val loss: 1.60717\n",
      "Epoch 550 - Train loss: 1.09616 - Val loss: 1.85054\n",
      "Epoch 551 - Train loss: 1.06001 - Val loss: 1.65310\n",
      "Epoch 552 - Train loss: 1.11842 - Val loss: 1.63691\n",
      "Epoch 553 - Train loss: 1.05713 - Val loss: 1.92172\n",
      "Epoch 554 - Train loss: 1.10828 - Val loss: 1.85204\n",
      "Epoch 555 - Train loss: 1.06697 - Val loss: 1.73761\n",
      "Epoch 556 - Train loss: 1.13629 - Val loss: 1.42221\n",
      "Epoch 557 - Train loss: 1.03674 - Val loss: 1.87338\n",
      "Epoch 558 - Train loss: 1.10811 - Val loss: 1.85134\n",
      "Epoch 559 - Train loss: 1.17069 - Val loss: 1.88593\n",
      "Epoch 560 - Train loss: 1.09214 - Val loss: 1.66432\n",
      "Epoch 561 - Train loss: 1.04607 - Val loss: 1.83614\n",
      "Epoch 562 - Train loss: 1.16906 - Val loss: 1.84346\n",
      "Epoch 563 - Train loss: 1.09913 - Val loss: 1.81374\n",
      "Epoch 564 - Train loss: 1.16419 - Val loss: 1.84397\n",
      "Epoch 565 - Train loss: 1.08984 - Val loss: 1.73777\n",
      "Epoch 566 - Train loss: 1.04555 - Val loss: 1.58465\n",
      "Epoch 567 - Train loss: 1.09887 - Val loss: 1.80517\n",
      "Epoch 568 - Train loss: 1.07160 - Val loss: 1.74724\n",
      "Epoch 569 - Train loss: 1.02237 - Val loss: 1.24375\n",
      "Epoch 570 - Train loss: 1.03500 - Val loss: 1.84343\n",
      "Epoch 571 - Train loss: 1.08911 - Val loss: 1.83143\n",
      "Epoch 572 - Train loss: 1.07611 - Val loss: 1.70128\n",
      "Epoch 573 - Train loss: 1.13254 - Val loss: 1.71112\n",
      "Epoch 574 - Train loss: 1.00907 - Val loss: 1.14689\n",
      "Epoch 575 - Train loss: 0.99903 - Val loss: 1.77697\n",
      "Epoch 576 - Train loss: 1.15013 - Val loss: 1.78661\n",
      "Epoch 577 - Train loss: 1.07768 - Val loss: 1.76763\n",
      "Epoch 578 - Train loss: 1.13423 - Val loss: 1.79828\n",
      "Epoch 579 - Train loss: 1.07110 - Val loss: 1.67870\n",
      "Epoch 580 - Train loss: 1.03074 - Val loss: 1.49513\n",
      "Epoch 581 - Train loss: 1.05805 - Val loss: 1.58191\n",
      "Epoch 582 - Train loss: 1.02529 - Val loss: 1.75454\n",
      "Epoch 583 - Train loss: 1.13936 - Val loss: 1.76747\n",
      "Epoch 584 - Train loss: 1.06880 - Val loss: 1.74777\n",
      "Epoch 585 - Train loss: 1.06492 - Val loss: 1.62547\n",
      "Epoch 586 - Train loss: 1.10145 - Val loss: 1.47822\n",
      "Epoch 587 - Train loss: 1.02110 - Val loss: 1.45720\n",
      "Epoch 588 - Train loss: 1.00917 - Val loss: 1.74632\n",
      "Epoch 589 - Train loss: 1.07292 - Val loss: 1.73104\n",
      "Epoch 590 - Train loss: 1.13210 - Val loss: 1.76790\n",
      "Epoch 591 - Train loss: 1.07310 - Val loss: 1.75183\n",
      "Epoch 592 - Train loss: 1.05686 - Val loss: 1.73767\n",
      "Epoch 593 - Train loss: 1.12917 - Val loss: 1.78220\n",
      "Epoch 594 - Train loss: 1.06768 - Val loss: 1.77785\n",
      "Epoch 595 - Train loss: 1.06540 - Val loss: 1.41007\n",
      "Epoch 596 - Train loss: 1.04057 - Val loss: 1.81645\n",
      "Epoch 597 - Train loss: 1.08884 - Val loss: 1.79018\n",
      "Epoch 598 - Train loss: 1.07530 - Val loss: 1.60572\n",
      "Epoch 599 - Train loss: 1.03401 - Val loss: 1.75783\n",
      "Epoch 600 - Train loss: 1.14520 - Val loss: 1.75206\n",
      "Epoch 601 - Train loss: 1.06991 - Val loss: 1.70536\n",
      "Epoch 602 - Train loss: 1.10942 - Val loss: 1.76206\n",
      "Epoch 603 - Train loss: 1.06930 - Val loss: 1.61044\n",
      "Epoch 604 - Train loss: 1.02657 - Val loss: 1.73819\n",
      "Epoch 605 - Train loss: 1.12957 - Val loss: 1.74314\n",
      "Epoch 606 - Train loss: 1.06549 - Val loss: 1.74257\n",
      "Epoch 607 - Train loss: 1.06280 - Val loss: 1.59881\n",
      "Epoch 608 - Train loss: 1.09628 - Val loss: 1.38138\n",
      "Epoch 609 - Train loss: 1.01299 - Val loss: 1.77854\n",
      "Epoch 610 - Train loss: 1.07354 - Val loss: 1.74456\n",
      "Epoch 611 - Train loss: 1.06694 - Val loss: 1.44378\n",
      "Epoch 612 - Train loss: 1.03714 - Val loss: 1.81971\n",
      "Epoch 613 - Train loss: 1.08792 - Val loss: 1.78614\n",
      "Epoch 614 - Train loss: 1.08314 - Val loss: 1.33106\n",
      "Epoch 615 - Train loss: 0.99944 - Val loss: 1.71663\n",
      "Epoch 616 - Train loss: 1.13411 - Val loss: 1.67461\n",
      "Epoch 617 - Train loss: 1.05068 - Val loss: 1.68427\n",
      "Epoch 618 - Train loss: 1.11042 - Val loss: 1.72905\n",
      "Epoch 619 - Train loss: 1.05681 - Val loss: 1.53117\n",
      "Epoch 620 - Train loss: 0.93758 - Val loss: 1.66943\n",
      "Epoch 621 - Train loss: 1.10940 - Val loss: 1.72251\n",
      "Epoch 622 - Train loss: 1.05658 - Val loss: 1.64871\n",
      "Epoch 623 - Train loss: 1.02332 - Val loss: 1.35859\n",
      "Epoch 624 - Train loss: 1.00000 - Val loss: 1.49438\n",
      "Epoch 625 - Train loss: 1.01521 - Val loss: 1.73100\n",
      "Epoch 626 - Train loss: 1.05653 - Val loss: 1.63507\n",
      "Epoch 627 - Train loss: 1.02740 - Val loss: 1.55019\n",
      "Epoch 628 - Train loss: 1.07807 - Val loss: 1.34556\n",
      "Epoch 629 - Train loss: 0.99349 - Val loss: 1.67562\n",
      "Epoch 630 - Train loss: 1.11009 - Val loss: 1.67868\n",
      "Epoch 631 - Train loss: 1.04636 - Val loss: 1.54041\n",
      "Epoch 632 - Train loss: 1.06749 - Val loss: 1.38925\n",
      "Epoch 633 - Train loss: 0.99891 - Val loss: 1.70736\n",
      "Epoch 634 - Train loss: 1.04857 - Val loss: 1.69725\n",
      "Epoch 635 - Train loss: 1.05423 - Val loss: 1.27560\n",
      "Epoch 636 - Train loss: 0.98891 - Val loss: 1.65423\n",
      "Epoch 637 - Train loss: 1.11227 - Val loss: 1.64269\n",
      "Epoch 638 - Train loss: 1.09587 - Val loss: 1.65093\n",
      "Epoch 639 - Train loss: 1.03798 - Val loss: 1.64821\n",
      "Epoch 640 - Train loss: 1.04107 - Val loss: 1.45403\n",
      "Epoch 641 - Train loss: 0.99996 - Val loss: 1.63982\n",
      "Epoch 642 - Train loss: 1.09455 - Val loss: 1.66253\n",
      "Epoch 643 - Train loss: 1.04139 - Val loss: 1.64816\n",
      "Epoch 644 - Train loss: 1.09759 - Val loss: 1.68141\n",
      "Epoch 645 - Train loss: 1.03847 - Val loss: 1.53013\n",
      "Epoch 646 - Train loss: 0.97003 - Val loss: 1.10760\n",
      "Epoch 647 - Train loss: 0.98578 - Val loss: 1.65583\n",
      "Epoch 648 - Train loss: 1.03932 - Val loss: 1.64635\n",
      "Epoch 649 - Train loss: 1.03948 - Val loss: 1.27626\n",
      "Epoch 650 - Train loss: 0.97730 - Val loss: 1.59633\n",
      "Epoch 651 - Train loss: 1.09635 - Val loss: 1.59954\n",
      "Epoch 652 - Train loss: 1.07072 - Val loss: 1.61344\n",
      "Epoch 653 - Train loss: 1.02913 - Val loss: 1.61945\n",
      "Epoch 654 - Train loss: 1.07804 - Val loss: 1.60269\n",
      "Epoch 655 - Train loss: 1.03234 - Val loss: 1.52567\n",
      "Epoch 656 - Train loss: 0.99963 - Val loss: 1.49400\n",
      "Epoch 657 - Train loss: 0.98144 - Val loss: 1.59564\n",
      "Epoch 658 - Train loss: 1.08393 - Val loss: 1.61588\n",
      "Epoch 659 - Train loss: 1.02993 - Val loss: 1.59721\n",
      "Epoch 660 - Train loss: 1.02665 - Val loss: 1.32497\n",
      "Epoch 661 - Train loss: 0.97917 - Val loss: 0.98159\n",
      "Epoch 662 - Train loss: 0.95723 - Val loss: 1.64841\n",
      "Epoch 663 - Train loss: 1.03149 - Val loss: 1.55137\n",
      "Epoch 664 - Train loss: 1.00173 - Val loss: 1.44985\n"
     ]
    },
    {
     "name": "stdout",
     "output_type": "stream",
     "text": [
      "Epoch 665 - Train loss: 1.04423 - Val loss: 1.21032\n",
      "Epoch 666 - Train loss: 0.97269 - Val loss: 1.63299\n",
      "Epoch 667 - Train loss: 1.03232 - Val loss: 1.55291\n",
      "Epoch 668 - Train loss: 1.07509 - Val loss: 1.56202\n",
      "Epoch 669 - Train loss: 1.02669 - Val loss: 1.22812\n",
      "Epoch 670 - Train loss: 0.97399 - Val loss: 1.63315\n",
      "Epoch 671 - Train loss: 1.03297 - Val loss: 1.62225\n",
      "Epoch 672 - Train loss: 1.08444 - Val loss: 1.57999\n",
      "Epoch 673 - Train loss: 1.02506 - Val loss: 1.51275\n",
      "Epoch 674 - Train loss: 0.99792 - Val loss: 1.42461\n",
      "Epoch 675 - Train loss: 1.03925 - Val loss: 1.21860\n",
      "Epoch 676 - Train loss: 0.97091 - Val loss: 1.62644\n",
      "Epoch 677 - Train loss: 1.02965 - Val loss: 1.55386\n",
      "Epoch 678 - Train loss: 1.06841 - Val loss: 1.64654\n",
      "Epoch 679 - Train loss: 1.03760 - Val loss: 1.26424\n",
      "Epoch 680 - Train loss: 0.96528 - Val loss: 1.56716\n",
      "Epoch 681 - Train loss: 1.07881 - Val loss: 1.45945\n",
      "Epoch 682 - Train loss: 0.99420 - Val loss: 1.57501\n",
      "Epoch 683 - Train loss: 1.01504 - Val loss: 1.32937\n",
      "Epoch 684 - Train loss: 1.00105 - Val loss: 1.34084\n",
      "Epoch 685 - Train loss: 0.97186 - Val loss: 1.54909\n",
      "Epoch 686 - Train loss: 1.06305 - Val loss: 1.56739\n",
      "Epoch 687 - Train loss: 1.01817 - Val loss: 1.55055\n",
      "Epoch 688 - Train loss: 1.06959 - Val loss: 1.57879\n",
      "Epoch 689 - Train loss: 1.01371 - Val loss: 1.55422\n",
      "Epoch 690 - Train loss: 1.00947 - Val loss: 1.25255\n",
      "Epoch 691 - Train loss: 0.94508 - Val loss: 1.04301\n",
      "Epoch 692 - Train loss: 0.94047 - Val loss: 1.49817\n",
      "Epoch 693 - Train loss: 1.05657 - Val loss: 1.55519\n",
      "Epoch 694 - Train loss: 1.01563 - Val loss: 1.52151\n",
      "Epoch 695 - Train loss: 1.04836 - Val loss: 1.55172\n",
      "Epoch 696 - Train loss: 1.01024 - Val loss: 1.52618\n",
      "Epoch 697 - Train loss: 1.04777 - Val loss: 1.56098\n",
      "Epoch 698 - Train loss: 1.01442 - Val loss: 1.53237\n",
      "Epoch 699 - Train loss: 1.04187 - Val loss: 1.43958\n",
      "Epoch 700 - Train loss: 0.97833 - Val loss: 1.29458\n",
      "Epoch 701 - Train loss: 0.98594 - Val loss: 1.58526\n",
      "Epoch 702 - Train loss: 1.01903 - Val loss: 1.36016\n",
      "Epoch 703 - Train loss: 0.96973 - Val loss: 1.56488\n",
      "Epoch 704 - Train loss: 1.00882 - Val loss: 1.42558\n",
      "Epoch 705 - Train loss: 0.97539 - Val loss: 1.20598\n",
      "Epoch 706 - Train loss: 0.95688 - Val loss: 1.06205\n",
      "Epoch 707 - Train loss: 0.94506 - Val loss: 1.55305\n",
      "Epoch 708 - Train loss: 1.01124 - Val loss: 1.55660\n",
      "Epoch 709 - Train loss: 1.05558 - Val loss: 1.47348\n",
      "Epoch 710 - Train loss: 0.99540 - Val loss: 1.38006\n",
      "Epoch 711 - Train loss: 0.95294 - Val loss: 1.11008\n",
      "Epoch 712 - Train loss: 0.94878 - Val loss: 1.51474\n",
      "Epoch 713 - Train loss: 1.04618 - Val loss: 1.51873\n",
      "Epoch 714 - Train loss: 1.05138 - Val loss: 1.53523\n",
      "Epoch 715 - Train loss: 1.01553 - Val loss: 1.49345\n",
      "Epoch 716 - Train loss: 1.04578 - Val loss: 1.52308\n",
      "Epoch 717 - Train loss: 1.00684 - Val loss: 1.40491\n",
      "Epoch 718 - Train loss: 1.01650 - Val loss: 1.32971\n",
      "Epoch 719 - Train loss: 0.94203 - Val loss: 1.14794\n",
      "Epoch 720 - Train loss: 0.96042 - Val loss: 1.53502\n",
      "Epoch 721 - Train loss: 1.00864 - Val loss: 1.45115\n",
      "Epoch 722 - Train loss: 0.98817 - Val loss: 1.33517\n",
      "Epoch 723 - Train loss: 0.96115 - Val loss: 1.50611\n",
      "Epoch 724 - Train loss: 1.04635 - Val loss: 1.53003\n",
      "Epoch 725 - Train loss: 1.00443 - Val loss: 1.37192\n",
      "Epoch 726 - Train loss: 1.01578 - Val loss: 1.33278\n",
      "Epoch 727 - Train loss: 0.94225 - Val loss: 1.24939\n",
      "Epoch 728 - Train loss: 0.95430 - Val loss: 1.49285\n",
      "Epoch 729 - Train loss: 1.04510 - Val loss: 1.52037\n",
      "Epoch 730 - Train loss: 1.00322 - Val loss: 1.47943\n",
      "Epoch 731 - Train loss: 1.02369 - Val loss: 1.34686\n",
      "Epoch 732 - Train loss: 1.00464 - Val loss: 1.30935\n",
      "Epoch 733 - Train loss: 0.91602 - Val loss: 1.19152\n",
      "Epoch 734 - Train loss: 0.94608 - Val loss: 1.47540\n",
      "Epoch 735 - Train loss: 1.04064 - Val loss: 1.50841\n",
      "Epoch 736 - Train loss: 0.99922 - Val loss: 1.46579\n",
      "Epoch 737 - Train loss: 1.01812 - Val loss: 1.33795\n",
      "Epoch 738 - Train loss: 1.00091 - Val loss: 1.29935\n",
      "Epoch 739 - Train loss: 0.92156 - Val loss: 1.11374\n",
      "Epoch 740 - Train loss: 0.95071 - Val loss: 1.50703\n",
      "Epoch 741 - Train loss: 1.00236 - Val loss: 1.52307\n",
      "Epoch 742 - Train loss: 0.99416 - Val loss: 1.31926\n",
      "Epoch 743 - Train loss: 0.99220 - Val loss: 1.14123\n",
      "Epoch 744 - Train loss: 0.94048 - Val loss: 1.51044\n",
      "Epoch 745 - Train loss: 0.99261 - Val loss: 1.41921\n",
      "Epoch 746 - Train loss: 0.98494 - Val loss: 1.12976\n",
      "Epoch 747 - Train loss: 0.95498 - Val loss: 1.53846\n",
      "Epoch 748 - Train loss: 1.01154 - Val loss: 1.52949\n",
      "Epoch 749 - Train loss: 0.99786 - Val loss: 1.35681\n",
      "Epoch 750 - Train loss: 0.99752 - Val loss: 1.22258\n",
      "Epoch 751 - Train loss: 0.94314 - Val loss: 1.45563\n",
      "Epoch 752 - Train loss: 1.03513 - Val loss: 1.48458\n",
      "Epoch 753 - Train loss: 0.99213 - Val loss: 1.43440\n",
      "Epoch 754 - Train loss: 1.01793 - Val loss: 1.40941\n",
      "Epoch 755 - Train loss: 0.99839 - Val loss: 1.36809\n",
      "Epoch 756 - Train loss: 1.00260 - Val loss: 1.38791\n",
      "Epoch 757 - Train loss: 0.96783 - Val loss: 1.20303\n",
      "Epoch 758 - Train loss: 0.95156 - Val loss: 1.25937\n",
      "Epoch 759 - Train loss: 0.92716 - Val loss: 1.09966\n",
      "Epoch 760 - Train loss: 0.92908 - Val loss: 1.27651\n",
      "Epoch 761 - Train loss: 0.90933 - Val loss: 1.07136\n",
      "Epoch 762 - Train loss: 0.92403 - Val loss: 1.39106\n",
      "Epoch 763 - Train loss: 1.01006 - Val loss: 1.46762\n",
      "Epoch 764 - Train loss: 0.98521 - Val loss: 1.42058\n",
      "Epoch 765 - Train loss: 1.02072 - Val loss: 1.40724\n",
      "Epoch 766 - Train loss: 1.00463 - Val loss: 1.41339\n",
      "Epoch 767 - Train loss: 0.97849 - Val loss: 1.37555\n",
      "Epoch 768 - Train loss: 0.98807 - Val loss: 1.38322\n",
      "Epoch 769 - Train loss: 1.00047 - Val loss: 1.32700\n",
      "Epoch 770 - Train loss: 0.95027 - Val loss: 1.33503\n",
      "Epoch 771 - Train loss: 0.98246 - Val loss: 1.31683\n",
      "Epoch 772 - Train loss: 0.94708 - Val loss: 1.18901\n",
      "Epoch 773 - Train loss: 0.88258 - Val loss: 1.06287\n",
      "Epoch 774 - Train loss: 0.93298 - Val loss: 1.41461\n",
      "Epoch 775 - Train loss: 0.96656 - Val loss: 1.34935\n",
      "Epoch 776 - Train loss: 0.99018 - Val loss: 1.21515\n",
      "Epoch 777 - Train loss: 0.91678 - Val loss: 1.06803\n",
      "Epoch 778 - Train loss: 0.92115 - Val loss: 1.32612\n",
      "Epoch 779 - Train loss: 0.96090 - Val loss: 1.41537\n",
      "Epoch 780 - Train loss: 0.97217 - Val loss: 1.16432\n",
      "Epoch 781 - Train loss: 0.93312 - Val loss: 1.41649\n",
      "Epoch 782 - Train loss: 1.00551 - Val loss: 1.44500\n",
      "Epoch 783 - Train loss: 1.00876 - Val loss: 1.40969\n",
      "Epoch 784 - Train loss: 0.99907 - Val loss: 1.39224\n",
      "Epoch 785 - Train loss: 1.00091 - Val loss: 1.36703\n",
      "Epoch 786 - Train loss: 0.99003 - Val loss: 1.35789\n",
      "Epoch 787 - Train loss: 0.98552 - Val loss: 1.35196\n",
      "Epoch 788 - Train loss: 0.99836 - Val loss: 1.37616\n",
      "Epoch 789 - Train loss: 0.95795 - Val loss: 1.31622\n",
      "Epoch 790 - Train loss: 0.98263 - Val loss: 1.33040\n",
      "Epoch 791 - Train loss: 0.96991 - Val loss: 1.33091\n",
      "Epoch 792 - Train loss: 0.96636 - Val loss: 1.32668\n",
      "Epoch 793 - Train loss: 0.97162 - Val loss: 1.32519\n",
      "Epoch 794 - Train loss: 0.97340 - Val loss: 1.34802\n",
      "Epoch 795 - Train loss: 0.94342 - Val loss: 1.24274\n",
      "Epoch 796 - Train loss: 0.95113 - Val loss: 1.31599\n",
      "Epoch 797 - Train loss: 0.96757 - Val loss: 1.19291\n",
      "Epoch 798 - Train loss: 0.91172 - Val loss: 1.01352\n",
      "Epoch 799 - Train loss: 0.88513 - Val loss: 1.28092\n",
      "Epoch 800 - Train loss: 0.95557 - Val loss: 1.15314\n",
      "Epoch 801 - Train loss: 0.87787 - Val loss: 1.06484\n",
      "Epoch 802 - Train loss: 0.90581 - Val loss: 1.30487\n",
      "Epoch 803 - Train loss: 0.93932 - Val loss: 1.35706\n",
      "Epoch 804 - Train loss: 0.95035 - Val loss: 1.27411\n",
      "Epoch 805 - Train loss: 0.95385 - Val loss: 1.21777\n",
      "Epoch 806 - Train loss: 0.94764 - Val loss: 1.14596\n",
      "Epoch 807 - Train loss: 0.91791 - Val loss: 1.36998\n",
      "Epoch 808 - Train loss: 0.95541 - Val loss: 1.18419\n",
      "Epoch 809 - Train loss: 0.89969 - Val loss: 1.14458\n",
      "Epoch 810 - Train loss: 0.91758 - Val loss: 1.32705\n",
      "Epoch 811 - Train loss: 0.96567 - Val loss: 1.17424\n",
      "Epoch 812 - Train loss: 0.93095 - Val loss: 1.08782\n",
      "Epoch 813 - Train loss: 0.89108 - Val loss: 1.05214\n",
      "Epoch 814 - Train loss: 0.90866 - Val loss: 1.36799\n",
      "Epoch 815 - Train loss: 0.95153 - Val loss: 1.31551\n",
      "Epoch 816 - Train loss: 0.97357 - Val loss: 1.25968\n",
      "Epoch 817 - Train loss: 0.94147 - Val loss: 1.11506\n",
      "Epoch 818 - Train loss: 0.91695 - Val loss: 1.37323\n",
      "Epoch 819 - Train loss: 0.96124 - Val loss: 1.26434\n",
      "Epoch 820 - Train loss: 0.93855 - Val loss: 1.20188\n",
      "Epoch 821 - Train loss: 0.90959 - Val loss: 1.11257\n",
      "Epoch 822 - Train loss: 0.87674 - Val loss: 0.94246\n",
      "Epoch 823 - Train loss: 0.90868 - Val loss: 1.37729\n",
      "Epoch 824 - Train loss: 0.96076 - Val loss: 1.39968\n",
      "Epoch 825 - Train loss: 0.95929 - Val loss: 1.27304\n",
      "Epoch 826 - Train loss: 0.96188 - Val loss: 1.12614\n",
      "Epoch 827 - Train loss: 0.91691 - Val loss: 1.24547\n",
      "Epoch 828 - Train loss: 0.94591 - Val loss: 1.15019\n",
      "Epoch 829 - Train loss: 0.88011 - Val loss: 1.05129\n",
      "Epoch 830 - Train loss: 0.91579 - Val loss: 1.31141\n",
      "Epoch 831 - Train loss: 0.96781 - Val loss: 1.21113\n",
      "Epoch 832 - Train loss: 0.94184 - Val loss: 1.24832\n"
     ]
    },
    {
     "name": "stdout",
     "output_type": "stream",
     "text": [
      "Epoch 833 - Train loss: 0.94413 - Val loss: 1.14217\n",
      "Epoch 834 - Train loss: 0.86734 - Val loss: 1.01357\n",
      "Epoch 835 - Train loss: 0.91022 - Val loss: 1.31974\n",
      "Epoch 836 - Train loss: 0.95943 - Val loss: 1.18830\n",
      "Epoch 837 - Train loss: 0.94393 - Val loss: 1.23950\n",
      "Epoch 838 - Train loss: 0.94293 - Val loss: 1.12881\n",
      "Epoch 839 - Train loss: 0.91210 - Val loss: 1.30661\n",
      "Epoch 840 - Train loss: 0.96565 - Val loss: 1.23486\n",
      "Epoch 841 - Train loss: 0.94804 - Val loss: 1.28316\n",
      "Epoch 842 - Train loss: 0.95343 - Val loss: 1.11482\n",
      "Epoch 843 - Train loss: 0.92562 - Val loss: 1.03446\n",
      "Epoch 844 - Train loss: 0.89890 - Val loss: 1.30977\n",
      "Epoch 845 - Train loss: 0.95581 - Val loss: 1.03703\n",
      "Epoch 846 - Train loss: 0.90948 - Val loss: 1.29241\n",
      "Epoch 847 - Train loss: 0.95081 - Val loss: 1.17717\n",
      "Epoch 848 - Train loss: 0.93629 - Val loss: 1.10543\n",
      "Epoch 849 - Train loss: 0.88684 - Val loss: 1.00950\n",
      "Epoch 850 - Train loss: 0.90666 - Val loss: 1.36430\n",
      "Epoch 851 - Train loss: 0.95364 - Val loss: 1.26684\n",
      "Epoch 852 - Train loss: 0.93030 - Val loss: 1.11616\n",
      "Epoch 853 - Train loss: 0.89716 - Val loss: 1.02714\n",
      "Epoch 854 - Train loss: 0.89881 - Val loss: 1.28400\n",
      "Epoch 855 - Train loss: 0.96943 - Val loss: 1.29993\n",
      "Epoch 856 - Train loss: 0.97431 - Val loss: 1.29077\n",
      "Epoch 857 - Train loss: 0.97194 - Val loss: 1.28359\n",
      "Epoch 858 - Train loss: 0.96656 - Val loss: 1.25741\n",
      "Epoch 859 - Train loss: 0.95630 - Val loss: 1.22750\n",
      "Epoch 860 - Train loss: 0.95598 - Val loss: 1.20875\n",
      "Epoch 861 - Train loss: 0.95164 - Val loss: 1.19543\n",
      "Epoch 862 - Train loss: 0.94617 - Val loss: 1.18403\n",
      "Epoch 863 - Train loss: 0.94362 - Val loss: 1.17191\n",
      "Epoch 864 - Train loss: 0.93182 - Val loss: 1.16107\n",
      "Epoch 865 - Train loss: 0.93384 - Val loss: 1.15052\n",
      "Epoch 866 - Train loss: 0.92997 - Val loss: 1.14009\n",
      "Epoch 867 - Train loss: 0.92723 - Val loss: 1.12477\n",
      "Epoch 868 - Train loss: 0.92167 - Val loss: 1.12837\n",
      "Epoch 869 - Train loss: 0.91803 - Val loss: 1.11176\n",
      "Epoch 870 - Train loss: 0.91160 - Val loss: 1.11209\n",
      "Epoch 871 - Train loss: 0.90545 - Val loss: 1.09995\n",
      "Epoch 872 - Train loss: 0.90051 - Val loss: 1.09394\n",
      "Epoch 873 - Train loss: 0.89339 - Val loss: 1.08467\n",
      "Epoch 874 - Train loss: 0.89149 - Val loss: 1.05346\n",
      "Epoch 875 - Train loss: 0.88456 - Val loss: 1.09042\n",
      "Epoch 876 - Train loss: 0.88895 - Val loss: 1.06359\n",
      "Epoch 877 - Train loss: 0.88396 - Val loss: 1.03798\n",
      "Epoch 878 - Train loss: 0.87645 - Val loss: 1.00004\n",
      "Epoch 879 - Train loss: 0.86810 - Val loss: 0.97049\n",
      "Epoch 880 - Train loss: 0.86442 - Val loss: 0.95112\n",
      "Epoch 881 - Train loss: 0.85979 - Val loss: 0.92772\n",
      "Epoch 882 - Train loss: 0.85416 - Val loss: 0.92398\n",
      "Epoch 883 - Train loss: 0.84904 - Val loss: 0.87862\n",
      "Epoch 884 - Train loss: 0.83758 - Val loss: 0.87958\n",
      "Epoch 885 - Train loss: 0.83748 - Val loss: 0.87485\n",
      "Epoch 886 - Train loss: 0.83672 - Val loss: 0.86692\n",
      "Epoch 887 - Train loss: 0.84129 - Val loss: 0.89742\n",
      "Epoch 888 - Train loss: 0.82942 - Val loss: 0.83935\n",
      "Epoch 889 - Train loss: 0.83560 - Val loss: 0.85299\n",
      "Epoch 890 - Train loss: 0.83628 - Val loss: 0.84330\n",
      "Epoch 891 - Train loss: 0.83938 - Val loss: 0.87936\n",
      "Epoch 892 - Train loss: 0.82871 - Val loss: 0.82441\n",
      "Epoch 893 - Train loss: 0.83536 - Val loss: 0.85820\n",
      "Epoch 894 - Train loss: 0.82853 - Val loss: 0.83794\n",
      "Epoch 895 - Train loss: 0.82384 - Val loss: 0.79697\n",
      "Epoch 896 - Train loss: 0.83201 - Val loss: 0.83940\n",
      "Epoch 897 - Train loss: 0.82624 - Val loss: 0.82365\n",
      "Epoch 898 - Train loss: 0.82173 - Val loss: 0.78829\n",
      "Epoch 899 - Train loss: 0.81881 - Val loss: 0.76197\n",
      "Epoch 900 - Train loss: 0.82854 - Val loss: 0.78556\n",
      "Epoch 901 - Train loss: 0.82870 - Val loss: 0.78523\n",
      "Epoch 902 - Train loss: 0.81753 - Val loss: 0.75473\n",
      "Epoch 903 - Train loss: 0.82513 - Val loss: 0.77731\n",
      "Epoch 904 - Train loss: 0.82457 - Val loss: 0.77508\n",
      "Epoch 905 - Train loss: 0.81331 - Val loss: 0.73885\n",
      "Epoch 906 - Train loss: 0.82325 - Val loss: 0.76685\n",
      "Epoch 907 - Train loss: 0.82359 - Val loss: 0.80961\n",
      "Epoch 908 - Train loss: 0.81618 - Val loss: 0.76781\n",
      "Epoch 909 - Train loss: 0.81218 - Val loss: 0.72765\n",
      "Epoch 910 - Train loss: 0.82065 - Val loss: 0.76281\n",
      "Epoch 911 - Train loss: 0.81063 - Val loss: 0.72625\n",
      "Epoch 912 - Train loss: 0.82118 - Val loss: 0.75234\n",
      "Epoch 913 - Train loss: 0.81973 - Val loss: 0.77290\n",
      "Epoch 914 - Train loss: 0.81184 - Val loss: 0.74465\n",
      "Epoch 915 - Train loss: 0.81899 - Val loss: 0.74901\n",
      "Epoch 916 - Train loss: 0.80930 - Val loss: 0.71717\n",
      "Epoch 917 - Train loss: 0.81892 - Val loss: 0.74868\n",
      "Epoch 918 - Train loss: 0.81838 - Val loss: 0.79236\n",
      "Epoch 919 - Train loss: 0.81192 - Val loss: 0.75457\n",
      "Epoch 920 - Train loss: 0.81053 - Val loss: 0.73236\n",
      "Epoch 921 - Train loss: 0.81625 - Val loss: 0.75778\n",
      "Epoch 922 - Train loss: 0.80782 - Val loss: 0.72651\n",
      "Epoch 923 - Train loss: 0.81594 - Val loss: 0.73843\n",
      "Epoch 924 - Train loss: 0.80616 - Val loss: 0.71257\n",
      "Epoch 925 - Train loss: 0.81568 - Val loss: 0.73826\n",
      "Epoch 926 - Train loss: 0.81491 - Val loss: 0.77887\n",
      "Epoch 927 - Train loss: 0.80969 - Val loss: 0.75042\n",
      "Epoch 928 - Train loss: 0.80727 - Val loss: 0.72500\n",
      "Epoch 929 - Train loss: 0.81391 - Val loss: 0.74465\n",
      "Epoch 930 - Train loss: 0.80593 - Val loss: 0.72431\n",
      "Epoch 931 - Train loss: 0.81215 - Val loss: 0.72955\n",
      "Epoch 932 - Train loss: 0.80380 - Val loss: 0.70113\n",
      "Epoch 933 - Train loss: 0.81448 - Val loss: 0.73531\n",
      "Epoch 934 - Train loss: 0.81165 - Val loss: 0.77147\n",
      "Epoch 935 - Train loss: 0.80735 - Val loss: 0.73948\n",
      "Epoch 936 - Train loss: 0.80561 - Val loss: 0.72306\n",
      "Epoch 937 - Train loss: 0.81314 - Val loss: 0.72832\n",
      "Epoch 938 - Train loss: 0.80268 - Val loss: 0.70013\n",
      "Epoch 939 - Train loss: 0.80943 - Val loss: 0.73343\n",
      "Epoch 940 - Train loss: 0.81014 - Val loss: 0.73038\n",
      "Epoch 941 - Train loss: 0.80213 - Val loss: 0.70036\n",
      "Epoch 942 - Train loss: 0.81283 - Val loss: 0.72986\n",
      "Epoch 943 - Train loss: 0.81203 - Val loss: 0.73260\n",
      "Epoch 944 - Train loss: 0.80211 - Val loss: 0.70212\n",
      "Epoch 945 - Train loss: 0.81284 - Val loss: 0.72962\n",
      "Epoch 946 - Train loss: 0.81178 - Val loss: 0.73196\n",
      "Epoch 947 - Train loss: 0.81272 - Val loss: 0.76914\n",
      "Epoch 948 - Train loss: 0.80523 - Val loss: 0.73858\n",
      "Epoch 949 - Train loss: 0.80458 - Val loss: 0.72561\n",
      "Epoch 950 - Train loss: 0.81026 - Val loss: 0.76947\n",
      "Epoch 951 - Train loss: 0.80667 - Val loss: 0.74055\n",
      "Epoch 952 - Train loss: 0.80416 - Val loss: 0.69775\n",
      "Epoch 953 - Train loss: 0.80679 - Val loss: 0.72575\n",
      "Epoch 954 - Train loss: 0.80808 - Val loss: 0.72498\n",
      "Epoch 955 - Train loss: 0.79975 - Val loss: 0.69864\n",
      "Epoch 956 - Train loss: 0.80571 - Val loss: 0.72328\n",
      "Epoch 957 - Train loss: 0.80735 - Val loss: 0.72267\n",
      "Epoch 958 - Train loss: 0.80608 - Val loss: 0.76544\n",
      "Epoch 959 - Train loss: 0.80213 - Val loss: 0.73021\n",
      "Epoch 960 - Train loss: 0.80090 - Val loss: 0.70957\n",
      "Epoch 961 - Train loss: 0.80835 - Val loss: 0.72674\n",
      "Epoch 962 - Train loss: 0.80514 - Val loss: 0.76092\n",
      "Epoch 963 - Train loss: 0.80170 - Val loss: 0.73007\n",
      "Epoch 964 - Train loss: 0.80028 - Val loss: 0.71001\n",
      "Epoch 965 - Train loss: 0.80753 - Val loss: 0.72371\n",
      "Epoch 966 - Train loss: 0.79728 - Val loss: 0.69027\n",
      "Epoch 967 - Train loss: 0.80747 - Val loss: 0.71493\n",
      "Epoch 968 - Train loss: 0.80727 - Val loss: 0.72044\n",
      "Epoch 969 - Train loss: 0.80410 - Val loss: 0.75996\n",
      "Epoch 970 - Train loss: 0.80054 - Val loss: 0.72939\n",
      "Epoch 971 - Train loss: 0.79886 - Val loss: 0.70534\n",
      "Epoch 972 - Train loss: 0.80598 - Val loss: 0.71784\n",
      "Epoch 973 - Train loss: 0.80304 - Val loss: 0.75609\n",
      "Epoch 974 - Train loss: 0.80005 - Val loss: 0.72939\n",
      "Epoch 975 - Train loss: 0.79815 - Val loss: 0.70428\n",
      "Epoch 976 - Train loss: 0.80534 - Val loss: 0.71593\n",
      "Epoch 977 - Train loss: 0.79577 - Val loss: 0.69077\n",
      "Epoch 978 - Train loss: 0.80523 - Val loss: 0.70946\n",
      "Epoch 979 - Train loss: 0.80499 - Val loss: 0.71614\n",
      "Epoch 980 - Train loss: 0.80242 - Val loss: 0.75263\n",
      "Epoch 981 - Train loss: 0.79854 - Val loss: 0.71994\n",
      "Epoch 982 - Train loss: 0.79575 - Val loss: 0.69472\n",
      "Epoch 983 - Train loss: 0.80469 - Val loss: 0.71145\n",
      "Epoch 984 - Train loss: 0.80456 - Val loss: 0.71604\n",
      "Epoch 985 - Train loss: 0.80143 - Val loss: 0.75115\n",
      "Epoch 986 - Train loss: 0.79839 - Val loss: 0.72396\n",
      "Epoch 987 - Train loss: 0.80026 - Val loss: 0.70008\n",
      "Epoch 988 - Train loss: 0.80330 - Val loss: 0.71378\n",
      "Epoch 989 - Train loss: 0.80077 - Val loss: 0.74876\n",
      "Epoch 990 - Train loss: 0.79762 - Val loss: 0.72205\n",
      "Epoch 991 - Train loss: 0.79443 - Val loss: 0.68878\n",
      "Epoch 992 - Train loss: 0.80294 - Val loss: 0.70855\n",
      "Epoch 993 - Train loss: 0.80308 - Val loss: 0.71452\n",
      "Epoch 994 - Train loss: 0.80017 - Val loss: 0.74669\n",
      "Epoch 995 - Train loss: 0.79687 - Val loss: 0.71955\n",
      "Epoch 996 - Train loss: 0.79381 - Val loss: 0.68732\n",
      "Epoch 997 - Train loss: 0.79839 - Val loss: 0.70859\n",
      "Epoch 998 - Train loss: 0.79990 - Val loss: 0.70515\n",
      "Epoch 999 - Train loss: 0.79871 - Val loss: 0.74894\n",
      "Epoch 1000 - Train loss: 0.79569 - Val loss: 0.71258\n",
      "Epoch 1001 - Train loss: 0.79275 - Val loss: 0.68455\n"
     ]
    },
    {
     "name": "stdout",
     "output_type": "stream",
     "text": [
      "Epoch 1002 - Train loss: 0.79764 - Val loss: 0.70734\n",
      "Epoch 1003 - Train loss: 0.80073 - Val loss: 0.71664\n",
      "Epoch 1004 - Train loss: 0.80057 - Val loss: 0.74915\n",
      "Epoch 1005 - Train loss: 0.79455 - Val loss: 0.71990\n",
      "Epoch 1006 - Train loss: 0.79216 - Val loss: 0.68432\n",
      "Epoch 1007 - Train loss: 0.80114 - Val loss: 0.70350\n",
      "Epoch 1008 - Train loss: 0.80081 - Val loss: 0.70730\n",
      "Epoch 1009 - Train loss: 0.80058 - Val loss: 0.71333\n",
      "Epoch 1010 - Train loss: 0.79737 - Val loss: 0.74123\n",
      "Epoch 1011 - Train loss: 0.79449 - Val loss: 0.71207\n",
      "Epoch 1012 - Train loss: 0.79319 - Val loss: 0.69718\n",
      "Epoch 1013 - Train loss: 0.79947 - Val loss: 0.70552\n",
      "Epoch 1014 - Train loss: 0.79927 - Val loss: 0.70921\n",
      "Epoch 1015 - Train loss: 0.79666 - Val loss: 0.70810\n",
      "Epoch 1016 - Train loss: 0.80036 - Val loss: 0.70626\n",
      "Epoch 1017 - Train loss: 0.79631 - Val loss: 0.74215\n",
      "Epoch 1018 - Train loss: 0.79406 - Val loss: 0.71444\n",
      "Epoch 1019 - Train loss: 0.79218 - Val loss: 0.69126\n",
      "Epoch 1020 - Train loss: 0.79838 - Val loss: 0.70346\n",
      "Epoch 1021 - Train loss: 0.79575 - Val loss: 0.70347\n",
      "Epoch 1022 - Train loss: 0.79918 - Val loss: 0.70253\n",
      "Epoch 1023 - Train loss: 0.79875 - Val loss: 0.70707\n",
      "Epoch 1024 - Train loss: 0.79552 - Val loss: 0.73972\n",
      "Epoch 1025 - Train loss: 0.79279 - Val loss: 0.71294\n",
      "Epoch 1026 - Train loss: 0.79365 - Val loss: 0.68507\n",
      "Epoch 1027 - Train loss: 0.79895 - Val loss: 0.70181\n",
      "Epoch 1028 - Train loss: 0.79801 - Val loss: 0.70372\n",
      "Epoch 1029 - Train loss: 0.79782 - Val loss: 0.70457\n",
      "Epoch 1030 - Train loss: 0.79369 - Val loss: 0.70585\n",
      "Epoch 1031 - Train loss: 0.79648 - Val loss: 0.71149\n",
      "Epoch 1032 - Train loss: 0.79116 - Val loss: 0.67686\n",
      "Epoch 1033 - Train loss: 0.79354 - Val loss: 0.69209\n",
      "Epoch 1034 - Train loss: 0.79794 - Val loss: 0.69990\n",
      "Epoch 1035 - Train loss: 0.79683 - Val loss: 0.70130\n",
      "Epoch 1036 - Train loss: 0.79671 - Val loss: 0.70264\n",
      "Epoch 1037 - Train loss: 0.79644 - Val loss: 0.70738\n",
      "Epoch 1038 - Train loss: 0.79334 - Val loss: 0.73223\n",
      "Epoch 1039 - Train loss: 0.79190 - Val loss: 0.71540\n",
      "Epoch 1040 - Train loss: 0.78766 - Val loss: 0.68627\n",
      "Epoch 1041 - Train loss: 0.79752 - Val loss: 0.69203\n",
      "Epoch 1042 - Train loss: 0.79619 - Val loss: 0.69875\n",
      "Epoch 1043 - Train loss: 0.79605 - Val loss: 0.70533\n",
      "Epoch 1044 - Train loss: 0.79183 - Val loss: 0.70167\n",
      "Epoch 1045 - Train loss: 0.79424 - Val loss: 0.70588\n",
      "Epoch 1046 - Train loss: 0.78588 - Val loss: 0.67564\n",
      "Epoch 1047 - Train loss: 0.79660 - Val loss: 0.69220\n",
      "Epoch 1048 - Train loss: 0.79438 - Val loss: 0.69656\n",
      "Epoch 1049 - Train loss: 0.79128 - Val loss: 0.70147\n",
      "Epoch 1050 - Train loss: 0.79387 - Val loss: 0.70571\n",
      "Epoch 1051 - Train loss: 0.79292 - Val loss: 0.71786\n",
      "Epoch 1052 - Train loss: 0.78800 - Val loss: 0.69133\n",
      "Epoch 1053 - Train loss: 0.79542 - Val loss: 0.70103\n",
      "Epoch 1054 - Train loss: 0.79453 - Val loss: 0.70122\n",
      "Epoch 1055 - Train loss: 0.79078 - Val loss: 0.70075\n",
      "Epoch 1056 - Train loss: 0.79287 - Val loss: 0.70753\n",
      "Epoch 1057 - Train loss: 0.78492 - Val loss: 0.67329\n",
      "Epoch 1058 - Train loss: 0.79487 - Val loss: 0.68846\n",
      "Epoch 1059 - Train loss: 0.79385 - Val loss: 0.69733\n",
      "Epoch 1060 - Train loss: 0.78998 - Val loss: 0.69595\n",
      "Epoch 1061 - Train loss: 0.79457 - Val loss: 0.69807\n",
      "Epoch 1062 - Train loss: 0.79352 - Val loss: 0.69898\n",
      "Epoch 1063 - Train loss: 0.79333 - Val loss: 0.70278\n",
      "Epoch 1064 - Train loss: 0.78879 - Val loss: 0.70801\n",
      "Epoch 1065 - Train loss: 0.78539 - Val loss: 0.67470\n",
      "Epoch 1066 - Train loss: 0.78944 - Val loss: 0.69555\n",
      "Epoch 1067 - Train loss: 0.79329 - Val loss: 0.69505\n",
      "Epoch 1068 - Train loss: 0.79312 - Val loss: 0.69934\n",
      "Epoch 1069 - Train loss: 0.78950 - Val loss: 0.70011\n",
      "Epoch 1070 - Train loss: 0.79425 - Val loss: 0.69839\n",
      "Epoch 1071 - Train loss: 0.79316 - Val loss: 0.70368\n",
      "Epoch 1072 - Train loss: 0.78832 - Val loss: 0.71122\n",
      "Epoch 1073 - Train loss: 0.78529 - Val loss: 0.67832\n",
      "Epoch 1074 - Train loss: 0.78864 - Val loss: 0.69172\n",
      "Epoch 1075 - Train loss: 0.79300 - Val loss: 0.69501\n",
      "Epoch 1076 - Train loss: 0.79255 - Val loss: 0.70029\n",
      "Epoch 1077 - Train loss: 0.78842 - Val loss: 0.69622\n",
      "Epoch 1078 - Train loss: 0.79280 - Val loss: 0.69618\n",
      "Epoch 1079 - Train loss: 0.79212 - Val loss: 0.70038\n",
      "Epoch 1080 - Train loss: 0.78755 - Val loss: 0.69904\n",
      "Epoch 1081 - Train loss: 0.79272 - Val loss: 0.69844\n",
      "Epoch 1082 - Train loss: 0.79197 - Val loss: 0.69994\n",
      "Epoch 1083 - Train loss: 0.79177 - Val loss: 0.70288\n",
      "Epoch 1084 - Train loss: 0.78728 - Val loss: 0.70521\n",
      "Epoch 1085 - Train loss: 0.78443 - Val loss: 0.68308\n",
      "Epoch 1086 - Train loss: 0.79030 - Val loss: 0.69616\n",
      "Epoch 1087 - Train loss: 0.78974 - Val loss: 0.69540\n",
      "Epoch 1088 - Train loss: 0.78959 - Val loss: 0.69818\n",
      "Epoch 1089 - Train loss: 0.78928 - Val loss: 0.69657\n",
      "Epoch 1090 - Train loss: 0.78900 - Val loss: 0.69943\n",
      "Epoch 1091 - Train loss: 0.78886 - Val loss: 0.69607\n",
      "Epoch 1092 - Train loss: 0.78883 - Val loss: 0.69896\n",
      "Epoch 1093 - Train loss: 0.78772 - Val loss: 0.69599\n",
      "Epoch 1094 - Train loss: 0.78827 - Val loss: 0.69629\n",
      "Epoch 1095 - Train loss: 0.78828 - Val loss: 0.69618\n",
      "Epoch 1096 - Train loss: 0.78810 - Val loss: 0.69876\n",
      "Epoch 1097 - Train loss: 0.78784 - Val loss: 0.69577\n",
      "Epoch 1098 - Train loss: 0.78771 - Val loss: 0.69623\n",
      "Epoch 1099 - Train loss: 0.78755 - Val loss: 0.69780\n",
      "Epoch 1100 - Train loss: 0.78724 - Val loss: 0.69508\n",
      "Epoch 1101 - Train loss: 0.78722 - Val loss: 0.69402\n",
      "Epoch 1102 - Train loss: 0.78722 - Val loss: 0.69674\n",
      "Epoch 1103 - Train loss: 0.78621 - Val loss: 0.69456\n",
      "Epoch 1104 - Train loss: 0.78667 - Val loss: 0.69479\n",
      "Epoch 1105 - Train loss: 0.78665 - Val loss: 0.69459\n",
      "Epoch 1106 - Train loss: 0.78661 - Val loss: 0.69601\n",
      "Epoch 1107 - Train loss: 0.78647 - Val loss: 0.69370\n",
      "Epoch 1108 - Train loss: 0.78626 - Val loss: 0.69535\n",
      "Epoch 1109 - Train loss: 0.78594 - Val loss: 0.69356\n",
      "Epoch 1110 - Train loss: 0.78578 - Val loss: 0.69417\n",
      "Epoch 1111 - Train loss: 0.78561 - Val loss: 0.69345\n",
      "Epoch 1112 - Train loss: 0.78567 - Val loss: 0.69451\n",
      "Epoch 1113 - Train loss: 0.78528 - Val loss: 0.69174\n",
      "Epoch 1114 - Train loss: 0.78525 - Val loss: 0.69337\n",
      "Epoch 1115 - Train loss: 0.78436 - Val loss: 0.69278\n",
      "Epoch 1116 - Train loss: 0.78480 - Val loss: 0.69220\n",
      "Epoch 1117 - Train loss: 0.78498 - Val loss: 0.69177\n",
      "Epoch 1118 - Train loss: 0.78472 - Val loss: 0.69175\n",
      "Epoch 1119 - Train loss: 0.78470 - Val loss: 0.69453\n",
      "Epoch 1120 - Train loss: 0.78446 - Val loss: 0.69006\n",
      "Epoch 1121 - Train loss: 0.78419 - Val loss: 0.69340\n",
      "Epoch 1122 - Train loss: 0.78421 - Val loss: 0.68963\n",
      "Epoch 1123 - Train loss: 0.78410 - Val loss: 0.69258\n",
      "Epoch 1124 - Train loss: 0.78297 - Val loss: 0.68995\n",
      "Epoch 1125 - Train loss: 0.78370 - Val loss: 0.69043\n",
      "Epoch 1126 - Train loss: 0.78357 - Val loss: 0.69013\n",
      "Epoch 1127 - Train loss: 0.78336 - Val loss: 0.69188\n",
      "Epoch 1128 - Train loss: 0.78316 - Val loss: 0.68892\n",
      "Epoch 1129 - Train loss: 0.78296 - Val loss: 0.69203\n",
      "Epoch 1130 - Train loss: 0.78287 - Val loss: 0.68762\n",
      "Epoch 1131 - Train loss: 0.78274 - Val loss: 0.69046\n",
      "Epoch 1132 - Train loss: 0.78239 - Val loss: 0.68784\n",
      "Epoch 1133 - Train loss: 0.78221 - Val loss: 0.68956\n",
      "Epoch 1134 - Train loss: 0.78148 - Val loss: 0.68734\n",
      "Epoch 1135 - Train loss: 0.78214 - Val loss: 0.68815\n",
      "Epoch 1136 - Train loss: 0.78210 - Val loss: 0.68826\n",
      "Epoch 1137 - Train loss: 0.78208 - Val loss: 0.68777\n",
      "Epoch 1138 - Train loss: 0.78192 - Val loss: 0.68932\n",
      "Epoch 1139 - Train loss: 0.78156 - Val loss: 0.68976\n",
      "Epoch 1140 - Train loss: 0.78140 - Val loss: 0.68550\n",
      "Epoch 1141 - Train loss: 0.78116 - Val loss: 0.68696\n",
      "Epoch 1142 - Train loss: 0.78119 - Val loss: 0.68763\n",
      "Epoch 1143 - Train loss: 0.78034 - Val loss: 0.68723\n",
      "Epoch 1144 - Train loss: 0.78095 - Val loss: 0.68593\n",
      "Epoch 1145 - Train loss: 0.78094 - Val loss: 0.68896\n",
      "Epoch 1146 - Train loss: 0.78080 - Val loss: 0.68622\n",
      "Epoch 1147 - Train loss: 0.78065 - Val loss: 0.68710\n",
      "Epoch 1148 - Train loss: 0.78048 - Val loss: 0.68704\n",
      "Epoch 1149 - Train loss: 0.78042 - Val loss: 0.68804\n",
      "Epoch 1150 - Train loss: 0.78010 - Val loss: 0.68402\n",
      "Epoch 1151 - Train loss: 0.77997 - Val loss: 0.68544\n",
      "Epoch 1152 - Train loss: 0.77995 - Val loss: 0.68649\n",
      "Epoch 1153 - Train loss: 0.77911 - Val loss: 0.68600\n",
      "Epoch 1154 - Train loss: 0.77973 - Val loss: 0.68472\n",
      "Epoch 1155 - Train loss: 0.77975 - Val loss: 0.68860\n",
      "Epoch 1156 - Train loss: 0.77963 - Val loss: 0.68433\n"
     ]
    },
    {
     "name": "stdout",
     "output_type": "stream",
     "text": [
      "Epoch 1157 - Train loss: 0.77944 - Val loss: 0.68582\n",
      "Epoch 1158 - Train loss: 0.77929 - Val loss: 0.68577\n",
      "Epoch 1159 - Train loss: 0.77918 - Val loss: 0.68704\n",
      "Epoch 1160 - Train loss: 0.77894 - Val loss: 0.68286\n",
      "Epoch 1161 - Train loss: 0.77875 - Val loss: 0.68469\n",
      "Epoch 1162 - Train loss: 0.77880 - Val loss: 0.68540\n",
      "Epoch 1163 - Train loss: 0.77791 - Val loss: 0.68509\n",
      "Epoch 1164 - Train loss: 0.77860 - Val loss: 0.68395\n",
      "Epoch 1165 - Train loss: 0.77849 - Val loss: 0.68696\n",
      "Epoch 1166 - Train loss: 0.77848 - Val loss: 0.68414\n",
      "Epoch 1167 - Train loss: 0.77841 - Val loss: 0.68545\n",
      "Epoch 1168 - Train loss: 0.77827 - Val loss: 0.68382\n",
      "Epoch 1169 - Train loss: 0.77794 - Val loss: 0.68507\n",
      "Epoch 1170 - Train loss: 0.77783 - Val loss: 0.68319\n",
      "Epoch 1171 - Train loss: 0.77779 - Val loss: 0.68378\n",
      "Epoch 1172 - Train loss: 0.77757 - Val loss: 0.68277\n",
      "Epoch 1173 - Train loss: 0.77739 - Val loss: 0.68445\n",
      "Epoch 1174 - Train loss: 0.77663 - Val loss: 0.68325\n",
      "Epoch 1175 - Train loss: 0.77744 - Val loss: 0.68389\n",
      "Epoch 1176 - Train loss: 0.77741 - Val loss: 0.68281\n",
      "Epoch 1177 - Train loss: 0.77743 - Val loss: 0.68606\n",
      "Epoch 1178 - Train loss: 0.77728 - Val loss: 0.68249\n",
      "Epoch 1179 - Train loss: 0.77684 - Val loss: 0.68574\n",
      "Epoch 1180 - Train loss: 0.77691 - Val loss: 0.68179\n",
      "Epoch 1181 - Train loss: 0.77684 - Val loss: 0.68334\n",
      "Epoch 1182 - Train loss: 0.77648 - Val loss: 0.68207\n",
      "Epoch 1183 - Train loss: 0.77620 - Val loss: 0.68357\n",
      "Epoch 1184 - Train loss: 0.77552 - Val loss: 0.68264\n",
      "Epoch 1185 - Train loss: 0.77608 - Val loss: 0.68246\n",
      "Epoch 1186 - Train loss: 0.77583 - Val loss: 0.68296\n",
      "Epoch 1187 - Train loss: 0.77611 - Val loss: 0.68370\n",
      "Epoch 1188 - Train loss: 0.77593 - Val loss: 0.68044\n",
      "Epoch 1189 - Train loss: 0.77553 - Val loss: 0.68400\n",
      "Epoch 1190 - Train loss: 0.77553 - Val loss: 0.67996\n",
      "Epoch 1191 - Train loss: 0.77559 - Val loss: 0.68200\n",
      "Epoch 1192 - Train loss: 0.77513 - Val loss: 0.68135\n",
      "Epoch 1193 - Train loss: 0.77510 - Val loss: 0.68123\n",
      "Epoch 1194 - Train loss: 0.77431 - Val loss: 0.68180\n",
      "Epoch 1195 - Train loss: 0.77503 - Val loss: 0.68039\n",
      "Epoch 1196 - Train loss: 0.77498 - Val loss: 0.68060\n",
      "Epoch 1197 - Train loss: 0.77508 - Val loss: 0.68240\n",
      "Epoch 1198 - Train loss: 0.77485 - Val loss: 0.68157\n",
      "Epoch 1199 - Train loss: 0.77439 - Val loss: 0.67994\n",
      "Epoch 1200 - Train loss: 0.77439 - Val loss: 0.68122\n",
      "Epoch 1201 - Train loss: 0.77450 - Val loss: 0.67842\n",
      "Epoch 1202 - Train loss: 0.77409 - Val loss: 0.68188\n",
      "Epoch 1203 - Train loss: 0.77416 - Val loss: 0.67828\n",
      "Epoch 1204 - Train loss: 0.77425 - Val loss: 0.68017\n",
      "Epoch 1205 - Train loss: 0.77330 - Val loss: 0.67946\n",
      "Epoch 1206 - Train loss: 0.77393 - Val loss: 0.67953\n",
      "Epoch 1207 - Train loss: 0.77384 - Val loss: 0.68210\n",
      "Epoch 1208 - Train loss: 0.77388 - Val loss: 0.67948\n",
      "Epoch 1209 - Train loss: 0.77387 - Val loss: 0.67815\n",
      "Epoch 1210 - Train loss: 0.77347 - Val loss: 0.68157\n",
      "Epoch 1211 - Train loss: 0.77369 - Val loss: 0.67904\n",
      "Epoch 1212 - Train loss: 0.77339 - Val loss: 0.67754\n",
      "Epoch 1213 - Train loss: 0.77317 - Val loss: 0.68083\n",
      "Epoch 1214 - Train loss: 0.77328 - Val loss: 0.67766\n",
      "Epoch 1215 - Train loss: 0.77303 - Val loss: 0.67938\n",
      "Epoch 1216 - Train loss: 0.77288 - Val loss: 0.67809\n",
      "Epoch 1217 - Train loss: 0.77307 - Val loss: 0.67976\n",
      "Epoch 1218 - Train loss: 0.77227 - Val loss: 0.67695\n",
      "Epoch 1219 - Train loss: 0.77270 - Val loss: 0.67947\n",
      "Epoch 1220 - Train loss: 0.77295 - Val loss: 0.67998\n",
      "Epoch 1221 - Train loss: 0.77277 - Val loss: 0.67784\n",
      "Epoch 1222 - Train loss: 0.77259 - Val loss: 0.68010\n",
      "Epoch 1223 - Train loss: 0.77261 - Val loss: 0.67830\n",
      "Epoch 1224 - Train loss: 0.77231 - Val loss: 0.67998\n",
      "Epoch 1225 - Train loss: 0.77225 - Val loss: 0.67741\n",
      "Epoch 1226 - Train loss: 0.77230 - Val loss: 0.67824\n",
      "Epoch 1227 - Train loss: 0.77187 - Val loss: 0.67964\n",
      "Epoch 1228 - Train loss: 0.77196 - Val loss: 0.67617\n",
      "Epoch 1229 - Train loss: 0.77206 - Val loss: 0.67808\n",
      "Epoch 1230 - Train loss: 0.77099 - Val loss: 0.67758\n",
      "Epoch 1231 - Train loss: 0.77181 - Val loss: 0.67758\n",
      "Epoch 1232 - Train loss: 0.77187 - Val loss: 0.67685\n",
      "Epoch 1233 - Train loss: 0.77185 - Val loss: 0.68054\n",
      "Epoch 1234 - Train loss: 0.77173 - Val loss: 0.67667\n",
      "Epoch 1235 - Train loss: 0.77158 - Val loss: 0.67818\n",
      "Epoch 1236 - Train loss: 0.77144 - Val loss: 0.67895\n",
      "Epoch 1237 - Train loss: 0.77132 - Val loss: 0.67658\n",
      "Epoch 1238 - Train loss: 0.77137 - Val loss: 0.67665\n",
      "Epoch 1239 - Train loss: 0.77097 - Val loss: 0.67891\n",
      "Epoch 1240 - Train loss: 0.77101 - Val loss: 0.67531\n",
      "Epoch 1241 - Train loss: 0.77088 - Val loss: 0.67694\n",
      "Epoch 1242 - Train loss: 0.77098 - Val loss: 0.67577\n",
      "Epoch 1243 - Train loss: 0.77087 - Val loss: 0.67793\n",
      "Epoch 1244 - Train loss: 0.77019 - Val loss: 0.67470\n",
      "Epoch 1245 - Train loss: 0.77116 - Val loss: 0.67641\n",
      "Epoch 1246 - Train loss: 0.77098 - Val loss: 0.68009\n",
      "Epoch 1247 - Train loss: 0.77115 - Val loss: 0.67658\n",
      "Epoch 1248 - Train loss: 0.77125 - Val loss: 0.67855\n",
      "Epoch 1249 - Train loss: 0.77085 - Val loss: 0.67771\n",
      "Epoch 1250 - Train loss: 0.77090 - Val loss: 0.67787\n",
      "Epoch 1251 - Train loss: 0.77100 - Val loss: 0.67810\n",
      "Epoch 1252 - Train loss: 0.77045 - Val loss: 0.67845\n",
      "Epoch 1253 - Train loss: 0.77067 - Val loss: 0.67803\n",
      "Epoch 1254 - Train loss: 0.77074 - Val loss: 0.67811\n",
      "Epoch 1255 - Train loss: 0.77057 - Val loss: 0.67547\n",
      "Epoch 1256 - Train loss: 0.77038 - Val loss: 0.67808\n",
      "Epoch 1257 - Train loss: 0.76999 - Val loss: 0.67771\n",
      "Epoch 1258 - Train loss: 0.77060 - Val loss: 0.67800\n",
      "Epoch 1259 - Train loss: 0.77046 - Val loss: 0.68047\n",
      "Epoch 1260 - Train loss: 0.77061 - Val loss: 0.67976\n",
      "Epoch 1261 - Train loss: 0.77042 - Val loss: 0.67672\n",
      "Epoch 1262 - Train loss: 0.77037 - Val loss: 0.67800\n",
      "Epoch 1263 - Train loss: 0.77016 - Val loss: 0.67940\n",
      "Epoch 1264 - Train loss: 0.76999 - Val loss: 0.67650\n",
      "Epoch 1265 - Train loss: 0.76996 - Val loss: 0.67718\n",
      "Epoch 1266 - Train loss: 0.76968 - Val loss: 0.67984\n",
      "Epoch 1267 - Train loss: 0.76977 - Val loss: 0.67637\n",
      "Epoch 1268 - Train loss: 0.76975 - Val loss: 0.67653\n",
      "Epoch 1269 - Train loss: 0.76969 - Val loss: 0.67712\n",
      "Epoch 1270 - Train loss: 0.76901 - Val loss: 0.67884\n",
      "Epoch 1271 - Train loss: 0.76967 - Val loss: 0.67740\n",
      "Epoch 1272 - Train loss: 0.76967 - Val loss: 0.67878\n",
      "Epoch 1273 - Train loss: 0.76942 - Val loss: 0.67993\n",
      "Epoch 1274 - Train loss: 0.76943 - Val loss: 0.67760\n"
     ]
    }
   ],
   "source": [
    "best_net = Network(params_dict=best_combination)\n",
    "train_loss_log, test_loss_log, avg_train_loss, avg_test_loss = best_net.train(x_train = x_train, y_train=y_train,early_stopping=True,\n",
    "                                                           x_val=x_test, y_val=y_test, params_dict=best_combination,out_log=True,return_log=True,save=True)"
   ]
  },
  {
   "cell_type": "code",
   "execution_count": 7,
   "metadata": {
    "ExecuteTime": {
     "end_time": "2020-12-17T04:39:31.079450Z",
     "start_time": "2020-12-17T04:39:30.267622Z"
    }
   },
   "outputs": [
    {
     "data": {
      "image/png": "[encoded data removed]",
      "text/plain": [
       "<Figure size 1440x432 with 2 Axes>"
      ]
     },
     "metadata": {
      "needs_background": "light"
     },
     "output_type": "display_data"
    }
   ],
   "source": [
    "fig, ax = plt.subplots(1,2, figsize=(20,6))\n",
    "ax[0].plot(train_loss_log, label='Train Loss')\n",
    "ax[0].plot(test_loss_log, label='Test Loss')\n",
    "ax[0].set_ylabel(\"Loss\",fontsize=20)\n",
    "ax[0].set_xlabel(\"Epoch\",fontsize=20)\n",
    "ax[0].set_title('Learning Curve',fontsize=20)\n",
    "ax[0].tick_params(labelsize=14)\n",
    "ax[0].legend(fontsize=14)\n",
    "ax[0].grid(alpha=0.2)\n",
    "\n",
    "ax[1].plot(train_loss_log, label='Train Loss')\n",
    "ax[1].plot(test_loss_log, label='Test Loss')\n",
    "ax[1].set_ylabel(\"Loss\",fontsize=20)\n",
    "ax[1].set_xlabel(\"Epoch\",fontsize=20)\n",
    "ax[1].set_title('Learning Curve',fontsize=20)\n",
    "ax[1].tick_params(labelsize=14)\n",
    "ax[1].legend(fontsize=14)\n",
    "ax[1].set_yscale('log')\n",
    "ax[1].grid(alpha=0.2)\n",
    "\n",
    "plt.savefig('learning_curve.png',bbox_inches=\"tight\")\n",
    "\n",
    "plt.show()"
   ]
  },
  {
   "cell_type": "code",
   "execution_count": 8,
   "metadata": {
    "ExecuteTime": {
     "end_time": "2020-12-17T04:39:31.088426Z",
     "start_time": "2020-12-17T04:39:31.080447Z"
    }
   },
   "outputs": [
    {
     "name": "stdout",
     "output_type": "stream",
     "text": [
      "TEST LOSS :  0.68 ± 0.74\n"
     ]
    }
   ],
   "source": [
    "WBh1 = np.load(\"WBh1.npy\")\n",
    "WBh2 = np.load(\"WBh2.npy\")\n",
    "WBo = np.load(\"WBo.npy\")\n",
    "best_net.load_model(WBh1=WBh1,WBh2=WBh2,WBo=WBo)\n",
    "y_test_est = np.array([best_net.forward(x) for x in x_test])\n",
    "test_loss = np.mean((y_test_est - y_test)**2/2)\n",
    "std_loss = np.std((y_test_est - y_test)**2/2)\n",
    "print(\"TEST LOSS : \",round(test_loss,2), \"±\", round(std_loss,2))"
   ]
  },
  {
   "cell_type": "code",
   "execution_count": 9,
   "metadata": {
    "ExecuteTime": {
     "end_time": "2020-12-17T04:39:31.636958Z",
     "start_time": "2020-12-17T04:39:31.090421Z"
    }
   },
   "outputs": [
    {
     "data": {
      "image/png": "[encoded data removed]",
      "text/plain": [
       "<Figure size 1440x432 with 3 Axes>"
      ]
     },
     "metadata": {
      "needs_background": "light"
     },
     "output_type": "display_data"
    }
   ],
   "source": [
    "fig, ax = plt.subplots(1,3, figsize=(20,6))\n",
    "ax[0].hist(WBh1.flatten(),bins='doane', density=True)\n",
    "ax[0].set_ylabel(r\"Density\",fontsize=20)\n",
    "ax[0].set_xlabel(\"Weight Value\",fontsize=20)\n",
    "ax[0].set_title(\"First hidden layer weights\",fontsize=20)\n",
    "ax[0].tick_params(labelsize=14)\n",
    "ax[0].grid(alpha=0.2)\n",
    "\n",
    "ax[1].hist(WBh2.flatten(), bins='doane',density=True)\n",
    "ax[1].set_ylabel(r\"Density\",fontsize=20)\n",
    "ax[1].set_xlabel(\"Weight Value\",fontsize=20)\n",
    "ax[1].set_title(\"Second hidden layer weights\",fontsize=20)\n",
    "ax[1].tick_params(labelsize=14)\n",
    "ax[1].yaxis.get_offset_text().set_fontsize(16)\n",
    "ax[1].grid(alpha=0.2)\n",
    "\n",
    "ax[2].grid(alpha=0.2)\n",
    "ax[2].hist(WBo.flatten(), bins='doane')\n",
    "ax[2].set_ylabel(r\"Density\",fontsize=20)\n",
    "ax[2].set_xlabel(\"Weight Value\",fontsize=20)\n",
    "ax[2].set_title(\"Output layer weights\",fontsize=20)\n",
    "ax[2].tick_params(labelsize=14)\n",
    "ax[2].yaxis.get_offset_text().set_fontsize(16)\n",
    "ax[2].grid(alpha=0.3)\n",
    "\n",
    "plt.savefig('weights_dist.png',bbox_inches=\"tight\")\n",
    "plt.show()"
   ]
  },
  {
   "cell_type": "code",
   "execution_count": 10,
   "metadata": {
    "ExecuteTime": {
     "end_time": "2020-12-17T04:39:31.925186Z",
     "start_time": "2020-12-17T04:39:31.637955Z"
    }
   },
   "outputs": [
    {
     "data": {
      "image/png": "[encoded data removed]",
      "text/plain": [
       "<Figure size 576x432 with 1 Axes>"
      ]
     },
     "metadata": {
      "needs_background": "light"
     },
     "output_type": "display_data"
    }
   ],
   "source": [
    "x_highres = np.linspace(-4,2,int(1e+3))\n",
    "net_output = np.array([best_net.forward(x) for x in x_highres])\n",
    "\n",
    "fig,ax = plt.subplots()\n",
    "fig.set_size_inches(8, 6)\n",
    "ax.plot(x_train, y_train, color='r', ls='', marker='.', label='Train Data')\n",
    "ax.plot(x_test, y_test, color='b', ls='', marker='.', label='Test Data')\n",
    "ax.plot(x_highres, net_output, color='g', ls='--', label='Best Network Predictions')\n",
    "ax.set_title('Output Visualization',fontsize=20)\n",
    "ax.set_xlabel(\"x [a.u.]\",fontsize=20)\n",
    "ax.set_ylabel(\"y [a.u.]\",fontsize=20)\n",
    "ax.tick_params(labelsize=14)\n",
    "plt.legend(fontsize=18)\n",
    "\n",
    "textstr = r'MSE TEST = {0:0.2f} $\\pm $ {1:0.2f}'.format(test_loss, std_loss,2)\n",
    "props = dict(boxstyle='round', facecolor='wheat', alpha=0.5)\n",
    "ax.text(0.52, 0.65, textstr, transform=ax.transAxes, fontsize=16, verticalalignment='top', bbox=props)\n",
    "\n",
    "plt.grid(alpha=0.2)\n",
    "plt.savefig('network_output.png',bbox_inches=\"tight\")\n",
    "plt.tight_layout()\n",
    "plt.show()"
   ]
  },
  {
   "cell_type": "code",
   "execution_count": null,
   "metadata": {},
   "outputs": [],
   "source": []
  }
 ],
 "metadata": {
  "kernelspec": {
   "display_name": "Python 3",
   "language": "python",
   "name": "python3"
  },
  "language_info": {
   "codemirror_mode": {
    "name": "ipython",
    "version": 3
   },
   "file_extension": ".py",
   "mimetype": "text/x-python",
   "name": "python",
   "nbconvert_exporter": "python",
   "pygments_lexer": "ipython3",
   "version": "3.8.3"
  },
  "varInspector": {
   "cols": {
    "lenName": 16,
    "lenType": 16,
    "lenVar": 40
   },
   "kernels_config": {
    "python": {
     "delete_cmd_postfix": "",
     "delete_cmd_prefix": "del ",
     "library": "var_list.py",
     "varRefreshCmd": "print(var_dic_list())"
    },
    "r": {
     "delete_cmd_postfix": ") ",
     "delete_cmd_prefix": "rm(",
     "library": "var_list.r",
     "varRefreshCmd": "cat(var_dic_list()) "
    }
   },
   "types_to_exclude": [
    "module",
    "function",
    "builtin_function_or_method",
    "instance",
    "_Feature"
   ],
   "window_display": false
  }
 },
 "nbformat": 4,
 "nbformat_minor": 4
}
