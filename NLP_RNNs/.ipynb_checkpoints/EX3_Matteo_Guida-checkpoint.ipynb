{
 "cells": [
  {
   "cell_type": "code",
   "execution_count": 7,
   "metadata": {
    "ExecuteTime": {
     "end_time": "2021-01-10T19:58:52.644924Z",
     "start_time": "2021-01-10T19:58:52.638929Z"
    }
   },
   "outputs": [],
   "source": [
    "import re,string,warnings,torch,random,os,dataset,network,itertools,pickle\n",
    "from tqdm import trange\n",
    "\n",
    "from torch import nn\n",
    "import torch.nn.functional as F\n",
    "import matplotlib.pyplot as plt\n",
    "from torch.utils.data import Dataset, DataLoader, SubsetRandomSampler, random_split\n",
    "from torch.nn.utils.rnn import pad_sequence, pack_padded_sequence, pad_packed_sequence\n",
    "    \n",
    "\n",
    "import numpy as np\n",
    "import preprocessing as prep\n",
    "from importlib import reload\n",
    "\n",
    "reload(prep),reload(dataset),reload(network); \n",
    "import preprocessing as prep\n",
    "import dataset,network\n",
    "\n",
    "warnings.filterwarnings(\"ignore\")\n",
    "device = torch.device(\"cuda:0\" if torch.cuda.is_available() else \"cpu\")"
   ]
  },
  {
   "cell_type": "markdown",
   "metadata": {},
   "source": [
    "## DATASET"
   ]
  },
  {
   "cell_type": "code",
   "execution_count": 8,
   "metadata": {
    "ExecuteTime": {
     "end_time": "2021-01-10T19:58:54.199438Z",
     "start_time": "2021-01-10T19:58:53.873283Z"
    },
    "code_folding": []
   },
   "outputs": [
    {
     "name": "stdout",
     "output_type": "stream",
     "text": [
      "Found letters: [' ', '0', '1', '2', '3', '4', '5', '7', '8', '9', ':', 'a', 'b', 'c', 'd', 'e', 'f', 'g', 'h', 'i', 'j', 'k', 'l', 'm', 'n', 'o', 'p', 'q', 'r', 's', 't', 'u', 'v', 'w', 'x', 'y', 'z']\n"
     ]
    }
   ],
   "source": [
    "titles = [\"the_chimes\",\"david_copperfield\",\"pickwick_papers\"]\n",
    "filepath = 'data/Dickens'\n",
    "\n",
    "# Load all the books.\n",
    "\n",
    "text = prep.loading(filepath=filepath,titles=titles)\n",
    "\n",
    "# Preprocess the loaded texts.\n",
    "cleared_text = prep.preprocessing(text)"
   ]
  },
  {
   "cell_type": "code",
   "execution_count": 9,
   "metadata": {
    "ExecuteTime": {
     "end_time": "2021-01-10T19:58:54.747442Z",
     "start_time": "2021-01-10T19:58:54.640347Z"
    }
   },
   "outputs": [],
   "source": [
    "dataset_final = dataset.Dataset(text=cleared_text,load=True)"
   ]
  },
  {
   "cell_type": "code",
   "execution_count": 10,
   "metadata": {
    "ExecuteTime": {
     "end_time": "2021-01-10T19:58:55.521948Z",
     "start_time": "2021-01-10T19:58:55.517973Z"
    },
    "scrolled": true
   },
   "outputs": [
    {
     "name": "stdout",
     "output_type": "stream",
     "text": [
      "Dimension Vocabolary :  19820\n"
     ]
    }
   ],
   "source": [
    "len_vocab = dataset_final.len_vocab()\n",
    "print(\"Dimension Vocabolary : \", len_vocab)"
   ]
  },
  {
   "cell_type": "code",
   "execution_count": 11,
   "metadata": {
    "ExecuteTime": {
     "end_time": "2021-01-10T19:59:02.811089Z",
     "start_time": "2021-01-10T19:59:02.781171Z"
    }
   },
   "outputs": [
    {
     "name": "stdout",
     "output_type": "stream",
     "text": [
      "Size full dataset :  41459\n",
      "_______________________________________________\n",
      "Size of training set: 33581\n",
      "Size of validation set: 3732\n",
      "Size of test set: 4146\n",
      "_______________________________________________\n"
     ]
    }
   ],
   "source": [
    "torch.manual_seed(1996)\n",
    "\n",
    "training_size = int(0.9 * len(dataset_final))\n",
    "test_size = len(dataset_final) - training_size\n",
    "train_size = int(0.9 * training_size)\n",
    "val_size = training_size - train_size\n",
    "\n",
    "train_dataset, val_dataset, test_dataset = random_split(dataset_final, [train_size, val_size, test_size])\n",
    "\n",
    "\n",
    "train_dataloader = DataLoader(train_dataset, batch_size = 512, drop_last=True,shuffle=True)\n",
    "val_dataloader = DataLoader(val_dataset, batch_size = 512, drop_last=False)\n",
    "test_dataloader = DataLoader(test_dataset, batch_size = 512, drop_last=False)\n",
    "\n",
    "print(\"Size full dataset : \", len(dataset_final))\n",
    "print('_______________________________________________')\n",
    "print('Size of training set:',len(train_dataset))\n",
    "print('Size of validation set:',len(val_dataset))\n",
    "print('Size of test set:',len(test_dataset))\n",
    "print('_______________________________________________')\n"
   ]
  },
  {
   "cell_type": "markdown",
   "metadata": {},
   "source": [
    "## NETWORK"
   ]
  },
  {
   "cell_type": "markdown",
   "metadata": {},
   "source": [
    "Because the following cells have a very long execution time I suggest you to skip them, without executing them. \n",
    "You can directly load the best found model going to the section 2.3"
   ]
  },
  {
   "cell_type": "markdown",
   "metadata": {
    "heading_collapsed": true
   },
   "source": [
    "### TRAINING: HYPERPARAMETER OPTIMIZATION "
   ]
  },
  {
   "cell_type": "code",
   "execution_count": null,
   "metadata": {
    "ExecuteTime": {
     "start_time": "2021-01-10T14:42:34.894Z"
    },
    "hidden": true
   },
   "outputs": [],
   "source": [
    "emb_dim=100\n",
    "params_dict = {\"hidden_units\": [128,256],\n",
    "               \"layers_num\":   [2,3],\n",
    "               \"optimizer\" : ['torch.optim.Adamax',\"torch.optim.AdamW\"],\n",
    "               \"dropout_prob\" : [0.2,0.3]\n",
    "              }              \n",
    "combinations = [dict(zip(params_dict.keys(), a)) for a in itertools.product(*params_dict.values())]\n",
    "val_losses = []\n",
    "\n",
    "for combination in trange(len(combinations)):\n",
    "    net = network.Network(vocab_size=len_vocab, emb_dim=100, \n",
    "        hidden_units= combinations[combination][\"hidden_units\"], layers_num= combinations[combination][\"layers_num\"], \n",
    "                          dropout_prob= combinations[combination][\"dropout_prob\"], linear_size=512)\n",
    "    net = net.to(device) \n",
    "    _,val_loss = net.trainin(train_dataloader=train_dataloader, test_dataloader=val_dataloader, \n",
    "        optimizer= combinations[combination][\"optimizer\"], n_epochs=200, early_stopping = [True,1], \n",
    "                             verbose = False, return_log=False)\n",
    "    val_losses.append(val_loss)\n",
    "ordered_list = sorted(zip(val_losses,combinations),reverse=False)\n",
    "with open('./model/grid_search.data', 'wb') as filehandle:\n",
    "    pickle.dump(ordered_list, filehandle)"
   ]
  },
  {
   "cell_type": "markdown",
   "metadata": {
    "heading_collapsed": true
   },
   "source": [
    "### TRAINING: SELECTED HP. CLASS"
   ]
  },
  {
   "cell_type": "code",
   "execution_count": 6,
   "metadata": {
    "ExecuteTime": {
     "end_time": "2021-01-10T15:32:40.068529Z",
     "start_time": "2021-01-10T15:32:40.064571Z"
    },
    "code_folding": [],
    "hidden": true
   },
   "outputs": [
    {
     "name": "stdout",
     "output_type": "stream",
     "text": [
      "BEST FOUND HP CLASS: \n",
      " {'hidden_units': 256, 'layers_num': 2, 'optimizer': 'torch.optim.Adamax', 'dropout_prob': 0.2}\n"
     ]
    }
   ],
   "source": [
    "with open('./model/grid_search.data', \"rb\") as input_file:\n",
    "    load_results = pickle.load(input_file)\n",
    "best_combination = load_results\n",
    "print(\"BEST FOUND HP CLASS: \\n\",best_combination[0][1])"
   ]
  },
  {
   "cell_type": "code",
   "execution_count": 7,
   "metadata": {
    "ExecuteTime": {
     "end_time": "2021-01-10T15:32:41.078240Z",
     "start_time": "2021-01-10T15:32:41.068267Z"
    },
    "hidden": true
   },
   "outputs": [
    {
     "name": "stdout",
     "output_type": "stream",
     "text": [
      "_______________________________________________\n",
      "Size of training set: 37313\n",
      "Size of test set: 4146\n",
      "_______________________________________________\n"
     ]
    }
   ],
   "source": [
    "torch.manual_seed(int(17))\n",
    "\n",
    "training_size_1 = int(0.9 * len(dataset_final))\n",
    "test_size_1 = len(dataset_final) - training_size_1\n",
    "\n",
    "train_dataset_1, test_dataset_1 = random_split(dataset_final, [training_size_1,test_size_1])\n",
    "\n",
    "train_dataloader_1 = DataLoader(train_dataset_1, batch_size = 512, drop_last=True,shuffle=True)\n",
    "test_dataloader_1 = DataLoader(test_dataset_1, batch_size = 512, drop_last=False)\n",
    "\n",
    "\n",
    "print('_______________________________________________')\n",
    "print('Size of training set:',len(train_dataset_1))\n",
    "print('Size of test set:',len(test_dataset_1))\n",
    "print('_______________________________________________')"
   ]
  },
  {
   "cell_type": "code",
   "execution_count": 17,
   "metadata": {
    "ExecuteTime": {
     "end_time": "2021-01-08T17:39:41.955652Z",
     "start_time": "2021-01-08T17:39:41.854916Z"
    },
    "code_folding": [
     0
    ],
    "hidden": true
   },
   "outputs": [],
   "source": [
    "final_net = network.Network(vocab_size=len_vocab, emb_dim=100, \n",
    "        hidden_units= best_combination[0][1][\"hidden_units\"], layers_num= best_combination[0][1][\"layers_num\"], \n",
    "                          dropout_prob= best_combination[0][1][\"dropout_prob\"], linear_size=512)\n",
    "final_net = final_net.to(device) "
   ]
  },
  {
   "cell_type": "code",
   "execution_count": 37,
   "metadata": {
    "ExecuteTime": {
     "end_time": "2021-01-08T11:30:59.464302Z",
     "start_time": "2021-01-08T10:53:34.192928Z"
    },
    "code_folding": [],
    "hidden": true
   },
   "outputs": [
    {
     "name": "stderr",
     "output_type": "stream",
     "text": [
      " 72%|██████████████████████████████████████████████████████████                      | 145/200 [37:24<14:11, 15.48s/it]"
     ]
    },
    {
     "name": "stdout",
     "output_type": "stream",
     "text": [
      "EARLY STOPPED AT EPOCH :  145\n"
     ]
    },
    {
     "name": "stderr",
     "output_type": "stream",
     "text": [
      "\n"
     ]
    }
   ],
   "source": [
    "train_loss_log,val_loss_log,_,val_loss = final_net.trainin(train_dataloader=train_dataloader_1, test_dataloader=test_dataloader_1,\n",
    "                                    optimizer=  best_combination[0][1][\"optimizer\"], n_epochs=200, early_stopping = [True,1], verbose = False, return_log=True)"
   ]
  },
  {
   "cell_type": "code",
   "execution_count": 39,
   "metadata": {
    "ExecuteTime": {
     "end_time": "2021-01-08T12:28:03.581434Z",
     "start_time": "2021-01-08T12:28:03.388379Z"
    },
    "hidden": true
   },
   "outputs": [
    {
     "data": {
      "image/png": "[encoded data removed]",
      "text/plain": [
       "<Figure size 432x432 with 1 Axes>"
      ]
     },
     "metadata": {
      "needs_background": "light"
     },
     "output_type": "display_data"
    }
   ],
   "source": [
    "fig, ax = plt.subplots(figsize=(6,6))\n",
    "ax.plot(train_loss_log, label='Train Loss')\n",
    "ax.plot(val_loss_log, label='Test Loss')\n",
    "ax.set_ylabel(\"Loss\",fontsize=22)\n",
    "ax.set_xlabel(\"Epoch\",fontsize=22)\n",
    "ax.set_title('Learning Curve',fontsize=25)\n",
    "ax.tick_params(labelsize=18)\n",
    "ax.legend(fontsize=18)\n",
    "ax.grid(alpha=0.2)\n",
    "\n",
    "plt.savefig('learning_curve.png',bbox_inches=\"tight\")\n",
    "\n",
    "plt.show()"
   ]
  },
  {
   "cell_type": "markdown",
   "metadata": {},
   "source": [
    "### LOADING AND PREDICTIONS"
   ]
  },
  {
   "cell_type": "code",
   "execution_count": 12,
   "metadata": {
    "ExecuteTime": {
     "end_time": "2021-01-10T19:59:08.788862Z",
     "start_time": "2021-01-10T19:59:06.579231Z"
    },
    "code_folding": [
     0
    ]
   },
   "outputs": [
    {
     "name": "stdout",
     "output_type": "stream",
     "text": [
      "Procrastination is the thief of time. Collar him. by three, that i my aunt, with me. micawber, dry, more there s a fire after hounds of ladies errands scrutinised, and that ere, said committed that an affectionate countenance wearing, having likened desirous to render the stage girlish of that i"
     ]
    }
   ],
   "source": [
    "loaded_net = torch.load('./model/best_network.dat')\n",
    "seed0 = 'Procrastination is the thief of time. Collar him.' # David Copperfield\n",
    "np.random.seed(1)\n",
    "loaded_net.generate_words(input_seed = seed0, n_words=50)"
   ]
  },
  {
   "cell_type": "code",
   "execution_count": 21,
   "metadata": {
    "ExecuteTime": {
     "end_time": "2021-01-10T20:04:13.831983Z",
     "start_time": "2021-01-10T20:04:13.692357Z"
    }
   },
   "outputs": [
    {
     "name": "stdout",
     "output_type": "stream",
     "text": [
      "So may the New Year be a happy one to you, happy to many more whose happiness depends on you. respond, when he called he. what mr. but he walked up tongs seeking your right of captain meekly untruth to say to be made me to be a son, that from which contagious winkle as we find there s odd a national informed mr. and"
     ]
    }
   ],
   "source": [
    "seed1 = 'So may the New Year be a happy one to you, happy to many more whose happiness depends on you.' # The Chimes\n",
    "loaded_net.generate_words(input_seed = seed1, n_words=50)\n",
    "np.random.seed(1)"
   ]
  }
 ],
 "metadata": {
  "kernelspec": {
   "display_name": "Python 3",
   "language": "python",
   "name": "python3"
  },
  "language_info": {
   "codemirror_mode": {
    "name": "ipython",
    "version": 3
   },
   "file_extension": ".py",
   "mimetype": "text/x-python",
   "name": "python",
   "nbconvert_exporter": "python",
   "pygments_lexer": "ipython3",
   "version": "3.8.3"
  },
  "latex_envs": {
   "LaTeX_envs_menu_present": true,
   "autoclose": false,
   "autocomplete": true,
   "bibliofile": "biblio.bib",
   "cite_by": "apalike",
   "current_citInitial": 1,
   "eqLabelWithNumbers": true,
   "eqNumInitial": 1,
   "hotkeys": {
    "equation": "Ctrl-E",
    "itemize": "Ctrl-I"
   },
   "labels_anchors": false,
   "latex_user_defs": false,
   "report_style_numbering": false,
   "user_envs_cfg": false
  },
  "toc": {
   "base_numbering": 1,
   "nav_menu": {},
   "number_sections": true,
   "sideBar": true,
   "skip_h1_title": false,
   "title_cell": "Table of Contents",
   "title_sidebar": "Contents",
   "toc_cell": false,
   "toc_position": {
    "height": "calc(100% - 180px)",
    "left": "10px",
    "top": "150px",
    "width": "460.8px"
   },
   "toc_section_display": true,
   "toc_window_display": true
  },
  "varInspector": {
   "cols": {
    "lenName": 16,
    "lenType": 16,
    "lenVar": 40
   },
   "kernels_config": {
    "python": {
     "delete_cmd_postfix": "",
     "delete_cmd_prefix": "del ",
     "library": "var_list.py",
     "varRefreshCmd": "print(var_dic_list())"
    },
    "r": {
     "delete_cmd_postfix": ") ",
     "delete_cmd_prefix": "rm(",
     "library": "var_list.r",
     "varRefreshCmd": "cat(var_dic_list()) "
    }
   },
   "types_to_exclude": [
    "module",
    "function",
    "builtin_function_or_method",
    "instance",
    "_Feature"
   ],
   "window_display": false
  }
 },
 "nbformat": 4,
 "nbformat_minor": 4
}
